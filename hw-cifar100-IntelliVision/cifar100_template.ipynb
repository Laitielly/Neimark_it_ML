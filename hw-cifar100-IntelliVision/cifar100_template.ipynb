{
 "cells": [
  {
   "cell_type": "markdown",
   "metadata": {
    "id": "CikMD1kz6KDr"
   },
   "source": [
    "**Классификация изображений с помощью сверточных нейронных сетей**\n",
    "\n",
    "В данном задании Вам необходимо разработать архитектуру сверточной ИНС, обеспечивающую наибольшую точность при ограничении на количество операций (FLOPs <= 0.707e6).\n",
    "Заготовка кода для выполнения задания приведена выше. Вашей задачей будет заполнить пропущеные места, которые отмечены ключевым словом *None*.\n",
    "Необходимая точность (accuracy) сети на датасете CIFAR100 - 30%\n",
    "Желаемая точность (accuracy) сети на датасете CIFAR100 - 45%"
   ]
  },
  {
   "cell_type": "code",
   "execution_count": null,
   "metadata": {
    "_kg_hide-output": true,
    "execution": {
     "iopub.execute_input": "2023-01-25T11:58:09.894282Z",
     "iopub.status.busy": "2023-01-25T11:58:09.893402Z",
     "iopub.status.idle": "2023-01-25T11:58:19.612791Z",
     "shell.execute_reply": "2023-01-25T11:58:19.611598Z",
     "shell.execute_reply.started": "2023-01-25T11:58:09.894244Z"
    },
    "id": "iTLqNOcH6KDy",
    "outputId": "b82be719-7b78-42ef-92e4-5a5a4bfcfa51"
   },
   "outputs": [
    {
     "name": "stdout",
     "output_type": "stream",
     "text": [
      "Requirement already satisfied: keras-flops in /opt/conda/lib/python3.7/site-packages (0.1.2)\n",
      "Requirement already satisfied: tensorflow<3.0,>=2.2 in /opt/conda/lib/python3.7/site-packages (from keras-flops) (2.6.4)\n",
      "Requirement already satisfied: protobuf>=3.9.2 in /opt/conda/lib/python3.7/site-packages (from tensorflow<3.0,>=2.2->keras-flops) (3.20.3)\n",
      "Requirement already satisfied: six~=1.15.0 in /opt/conda/lib/python3.7/site-packages (from tensorflow<3.0,>=2.2->keras-flops) (1.15.0)\n",
      "Requirement already satisfied: h5py~=3.1.0 in /opt/conda/lib/python3.7/site-packages (from tensorflow<3.0,>=2.2->keras-flops) (3.1.0)\n",
      "Requirement already satisfied: absl-py~=0.10 in /opt/conda/lib/python3.7/site-packages (from tensorflow<3.0,>=2.2->keras-flops) (0.15.0)\n",
      "Requirement already satisfied: clang~=5.0 in /opt/conda/lib/python3.7/site-packages (from tensorflow<3.0,>=2.2->keras-flops) (5.0)\n",
      "Requirement already satisfied: astunparse~=1.6.3 in /opt/conda/lib/python3.7/site-packages (from tensorflow<3.0,>=2.2->keras-flops) (1.6.3)\n",
      "Requirement already satisfied: tensorboard<2.7,>=2.6.0 in /opt/conda/lib/python3.7/site-packages (from tensorflow<3.0,>=2.2->keras-flops) (2.6.0)\n",
      "Requirement already satisfied: gast==0.4.0 in /opt/conda/lib/python3.7/site-packages (from tensorflow<3.0,>=2.2->keras-flops) (0.4.0)\n",
      "Requirement already satisfied: numpy~=1.19.2 in /opt/conda/lib/python3.7/site-packages (from tensorflow<3.0,>=2.2->keras-flops) (1.19.5)\n",
      "Requirement already satisfied: flatbuffers~=1.12.0 in /opt/conda/lib/python3.7/site-packages (from tensorflow<3.0,>=2.2->keras-flops) (1.12)\n",
      "Requirement already satisfied: google-pasta~=0.2 in /opt/conda/lib/python3.7/site-packages (from tensorflow<3.0,>=2.2->keras-flops) (0.2.0)\n",
      "Requirement already satisfied: keras-preprocessing~=1.1.2 in /opt/conda/lib/python3.7/site-packages (from tensorflow<3.0,>=2.2->keras-flops) (1.1.2)\n",
      "Requirement already satisfied: grpcio<2.0,>=1.37.0 in /opt/conda/lib/python3.7/site-packages (from tensorflow<3.0,>=2.2->keras-flops) (1.51.1)\n",
      "Requirement already satisfied: wheel~=0.35 in /opt/conda/lib/python3.7/site-packages (from tensorflow<3.0,>=2.2->keras-flops) (0.37.1)\n",
      "Requirement already satisfied: keras<2.7,>=2.6.0 in /opt/conda/lib/python3.7/site-packages (from tensorflow<3.0,>=2.2->keras-flops) (2.6.0)\n",
      "Requirement already satisfied: termcolor~=1.1.0 in /opt/conda/lib/python3.7/site-packages (from tensorflow<3.0,>=2.2->keras-flops) (1.1.0)\n",
      "Requirement already satisfied: typing-extensions<3.11,>=3.7 in /opt/conda/lib/python3.7/site-packages (from tensorflow<3.0,>=2.2->keras-flops) (3.10.0.2)\n",
      "Requirement already satisfied: wrapt~=1.12.1 in /opt/conda/lib/python3.7/site-packages (from tensorflow<3.0,>=2.2->keras-flops) (1.12.1)\n",
      "Requirement already satisfied: tensorflow-estimator<2.7,>=2.6.0 in /opt/conda/lib/python3.7/site-packages (from tensorflow<3.0,>=2.2->keras-flops) (2.6.0)\n",
      "Requirement already satisfied: opt-einsum~=3.3.0 in /opt/conda/lib/python3.7/site-packages (from tensorflow<3.0,>=2.2->keras-flops) (3.3.0)\n",
      "Requirement already satisfied: cached-property in /opt/conda/lib/python3.7/site-packages (from h5py~=3.1.0->tensorflow<3.0,>=2.2->keras-flops) (1.5.2)\n",
      "Requirement already satisfied: requests<3,>=2.21.0 in /opt/conda/lib/python3.7/site-packages (from tensorboard<2.7,>=2.6.0->tensorflow<3.0,>=2.2->keras-flops) (2.28.1)\n",
      "Requirement already satisfied: setuptools>=41.0.0 in /opt/conda/lib/python3.7/site-packages (from tensorboard<2.7,>=2.6.0->tensorflow<3.0,>=2.2->keras-flops) (59.8.0)\n",
      "Requirement already satisfied: werkzeug>=0.11.15 in /opt/conda/lib/python3.7/site-packages (from tensorboard<2.7,>=2.6.0->tensorflow<3.0,>=2.2->keras-flops) (2.2.2)\n",
      "Requirement already satisfied: markdown>=2.6.8 in /opt/conda/lib/python3.7/site-packages (from tensorboard<2.7,>=2.6.0->tensorflow<3.0,>=2.2->keras-flops) (3.3.7)\n",
      "Requirement already satisfied: tensorboard-data-server<0.7.0,>=0.6.0 in /opt/conda/lib/python3.7/site-packages (from tensorboard<2.7,>=2.6.0->tensorflow<3.0,>=2.2->keras-flops) (0.6.1)\n",
      "Requirement already satisfied: tensorboard-plugin-wit>=1.6.0 in /opt/conda/lib/python3.7/site-packages (from tensorboard<2.7,>=2.6.0->tensorflow<3.0,>=2.2->keras-flops) (1.8.1)\n",
      "Requirement already satisfied: google-auth<2,>=1.6.3 in /opt/conda/lib/python3.7/site-packages (from tensorboard<2.7,>=2.6.0->tensorflow<3.0,>=2.2->keras-flops) (1.35.0)\n",
      "Requirement already satisfied: google-auth-oauthlib<0.5,>=0.4.1 in /opt/conda/lib/python3.7/site-packages (from tensorboard<2.7,>=2.6.0->tensorflow<3.0,>=2.2->keras-flops) (0.4.6)\n",
      "Requirement already satisfied: rsa<5,>=3.1.4 in /opt/conda/lib/python3.7/site-packages (from google-auth<2,>=1.6.3->tensorboard<2.7,>=2.6.0->tensorflow<3.0,>=2.2->keras-flops) (4.8)\n",
      "Requirement already satisfied: pyasn1-modules>=0.2.1 in /opt/conda/lib/python3.7/site-packages (from google-auth<2,>=1.6.3->tensorboard<2.7,>=2.6.0->tensorflow<3.0,>=2.2->keras-flops) (0.2.7)\n",
      "Requirement already satisfied: cachetools<5.0,>=2.0.0 in /opt/conda/lib/python3.7/site-packages (from google-auth<2,>=1.6.3->tensorboard<2.7,>=2.6.0->tensorflow<3.0,>=2.2->keras-flops) (4.2.4)\n",
      "Requirement already satisfied: requests-oauthlib>=0.7.0 in /opt/conda/lib/python3.7/site-packages (from google-auth-oauthlib<0.5,>=0.4.1->tensorboard<2.7,>=2.6.0->tensorflow<3.0,>=2.2->keras-flops) (1.3.1)\n",
      "Requirement already satisfied: importlib-metadata>=4.4 in /opt/conda/lib/python3.7/site-packages (from markdown>=2.6.8->tensorboard<2.7,>=2.6.0->tensorflow<3.0,>=2.2->keras-flops) (4.13.0)\n",
      "Requirement already satisfied: urllib3<1.27,>=1.21.1 in /opt/conda/lib/python3.7/site-packages (from requests<3,>=2.21.0->tensorboard<2.7,>=2.6.0->tensorflow<3.0,>=2.2->keras-flops) (1.26.13)\n",
      "Requirement already satisfied: charset-normalizer<3,>=2 in /opt/conda/lib/python3.7/site-packages (from requests<3,>=2.21.0->tensorboard<2.7,>=2.6.0->tensorflow<3.0,>=2.2->keras-flops) (2.1.0)\n",
      "Requirement already satisfied: certifi>=2017.4.17 in /opt/conda/lib/python3.7/site-packages (from requests<3,>=2.21.0->tensorboard<2.7,>=2.6.0->tensorflow<3.0,>=2.2->keras-flops) (2022.12.7)\n",
      "Requirement already satisfied: idna<4,>=2.5 in /opt/conda/lib/python3.7/site-packages (from requests<3,>=2.21.0->tensorboard<2.7,>=2.6.0->tensorflow<3.0,>=2.2->keras-flops) (3.3)\n",
      "Requirement already satisfied: MarkupSafe>=2.1.1 in /opt/conda/lib/python3.7/site-packages (from werkzeug>=0.11.15->tensorboard<2.7,>=2.6.0->tensorflow<3.0,>=2.2->keras-flops) (2.1.1)\n",
      "Requirement already satisfied: zipp>=0.5 in /opt/conda/lib/python3.7/site-packages (from importlib-metadata>=4.4->markdown>=2.6.8->tensorboard<2.7,>=2.6.0->tensorflow<3.0,>=2.2->keras-flops) (3.8.0)\n",
      "Requirement already satisfied: pyasn1<0.5.0,>=0.4.6 in /opt/conda/lib/python3.7/site-packages (from pyasn1-modules>=0.2.1->google-auth<2,>=1.6.3->tensorboard<2.7,>=2.6.0->tensorflow<3.0,>=2.2->keras-flops) (0.4.8)\n",
      "Requirement already satisfied: oauthlib>=3.0.0 in /opt/conda/lib/python3.7/site-packages (from requests-oauthlib>=0.7.0->google-auth-oauthlib<0.5,>=0.4.1->tensorboard<2.7,>=2.6.0->tensorflow<3.0,>=2.2->keras-flops) (3.2.0)\n",
      "\u001b[33mWARNING: Running pip as the 'root' user can result in broken permissions and conflicting behaviour with the system package manager. It is recommended to use a virtual environment instead: https://pip.pypa.io/warnings/venv\u001b[0m\u001b[33m\n",
      "\u001b[0m"
     ]
    }
   ],
   "source": [
    "!pip install keras-flops"
   ]
  },
  {
   "cell_type": "code",
   "execution_count": null,
   "metadata": {
    "_cell_guid": "b1076dfc-b9ad-4769-8c92-a6c4dae69d19",
    "_uuid": "8f2839f25d086af736a60e9eeb907d3b93b6e0e5",
    "execution": {
     "iopub.execute_input": "2023-01-25T11:58:19.615452Z",
     "iopub.status.busy": "2023-01-25T11:58:19.614540Z",
     "iopub.status.idle": "2023-01-25T11:58:21.520939Z",
     "shell.execute_reply": "2023-01-25T11:58:21.519938Z",
     "shell.execute_reply.started": "2023-01-25T11:58:19.615415Z"
    },
    "id": "mKUcaYvQ6KDz"
   },
   "outputs": [],
   "source": [
    "# Импорт необходимых библиотек\n",
    "import numpy as np\n",
    "import pandas as pd\n",
    "import tensorflow as tf\n",
    "from keras_flops import get_flops\n",
    "from keras.utils import np_utils"
   ]
  },
  {
   "cell_type": "code",
   "execution_count": null,
   "metadata": {
    "execution": {
     "iopub.execute_input": "2023-01-25T11:58:21.523213Z",
     "iopub.status.busy": "2023-01-25T11:58:21.522559Z",
     "iopub.status.idle": "2023-01-25T11:58:21.528260Z",
     "shell.execute_reply": "2023-01-25T11:58:21.527049Z",
     "shell.execute_reply.started": "2023-01-25T11:58:21.523175Z"
    },
    "id": "g1c-nnn96KD0"
   },
   "outputs": [],
   "source": [
    "# Глобальные константы\n",
    "CLASSES       = 100\n",
    "BATCH_SIZE    = 128\n",
    "LEARNING_RATE = 1e-2"
   ]
  },
  {
   "cell_type": "code",
   "execution_count": null,
   "metadata": {
    "execution": {
     "iopub.execute_input": "2023-01-25T11:58:21.531780Z",
     "iopub.status.busy": "2023-01-25T11:58:21.531408Z",
     "iopub.status.idle": "2023-01-25T11:58:22.263111Z",
     "shell.execute_reply": "2023-01-25T11:58:22.262123Z",
     "shell.execute_reply.started": "2023-01-25T11:58:21.531743Z"
    },
    "id": "I8aW6GTL6KD0"
   },
   "outputs": [],
   "source": [
    "# Выполните загрузку модели\n",
    "(X_train, y_train), (X_val, y_val) = tf.keras.datasets.cifar100.load_data()"
   ]
  },
  {
   "cell_type": "code",
   "execution_count": null,
   "metadata": {
    "execution": {
     "iopub.execute_input": "2023-01-25T11:58:22.265146Z",
     "iopub.status.busy": "2023-01-25T11:58:22.264762Z",
     "iopub.status.idle": "2023-01-25T11:58:22.285815Z",
     "shell.execute_reply": "2023-01-25T11:58:22.284952Z",
     "shell.execute_reply.started": "2023-01-25T11:58:22.265107Z"
    },
    "id": "rQhZtb1U6KD0"
   },
   "outputs": [],
   "source": [
    "# Преобразуйте метки классов в one_hot формат\n",
    "y_train = np_utils.to_categorical(y_train, CLASSES)\n",
    "y_val = np_utils.to_categorical(y_val, CLASSES)"
   ]
  },
  {
   "cell_type": "code",
   "execution_count": null,
   "metadata": {
    "execution": {
     "iopub.execute_input": "2023-01-25T11:58:22.287585Z",
     "iopub.status.busy": "2023-01-25T11:58:22.287170Z",
     "iopub.status.idle": "2023-01-25T11:58:22.293209Z",
     "shell.execute_reply": "2023-01-25T11:58:22.292171Z",
     "shell.execute_reply.started": "2023-01-25T11:58:22.287548Z"
    },
    "id": "fLYe18U16KD0"
   },
   "outputs": [],
   "source": [
    "# убедитесь, что данная ячейка выполняется без ошибок\n",
    "assert X_train.shape == (50000, 32, 32, 3)\n",
    "assert X_val.shape == (10000, 32, 32, 3)\n",
    "assert y_train.shape == (50000, 100)\n",
    "assert y_val.shape == (10000, 100)"
   ]
  },
  {
   "cell_type": "code",
   "execution_count": null,
   "metadata": {
    "execution": {
     "iopub.execute_input": "2023-01-25T11:58:22.295427Z",
     "iopub.status.busy": "2023-01-25T11:58:22.294594Z",
     "iopub.status.idle": "2023-01-25T11:58:23.475533Z",
     "shell.execute_reply": "2023-01-25T11:58:23.473414Z",
     "shell.execute_reply.started": "2023-01-25T11:58:22.295392Z"
    },
    "id": "J4c-4B5b6KD1",
    "outputId": "3e503505-8947-423e-e3f9-2a7b47db4600"
   },
   "outputs": [
    {
     "name": "stderr",
     "output_type": "stream",
     "text": [
      "2023-01-25 11:58:22.363170: I tensorflow/stream_executor/cuda/cuda_gpu_executor.cc:937] successful NUMA node read from SysFS had negative value (-1), but there must be at least one NUMA node, so returning NUMA node zero\n",
      "2023-01-25 11:58:22.373991: I tensorflow/stream_executor/cuda/cuda_gpu_executor.cc:937] successful NUMA node read from SysFS had negative value (-1), but there must be at least one NUMA node, so returning NUMA node zero\n",
      "2023-01-25 11:58:22.374705: I tensorflow/stream_executor/cuda/cuda_gpu_executor.cc:937] successful NUMA node read from SysFS had negative value (-1), but there must be at least one NUMA node, so returning NUMA node zero\n",
      "2023-01-25 11:58:22.376528: I tensorflow/core/platform/cpu_feature_guard.cc:142] This TensorFlow binary is optimized with oneAPI Deep Neural Network Library (oneDNN) to use the following CPU instructions in performance-critical operations:  AVX2 AVX512F FMA\n",
      "To enable them in other operations, rebuild TensorFlow with the appropriate compiler flags.\n",
      "2023-01-25 11:58:22.376870: I tensorflow/stream_executor/cuda/cuda_gpu_executor.cc:937] successful NUMA node read from SysFS had negative value (-1), but there must be at least one NUMA node, so returning NUMA node zero\n",
      "2023-01-25 11:58:22.377589: I tensorflow/stream_executor/cuda/cuda_gpu_executor.cc:937] successful NUMA node read from SysFS had negative value (-1), but there must be at least one NUMA node, so returning NUMA node zero\n",
      "2023-01-25 11:58:22.378212: I tensorflow/stream_executor/cuda/cuda_gpu_executor.cc:937] successful NUMA node read from SysFS had negative value (-1), but there must be at least one NUMA node, so returning NUMA node zero\n",
      "2023-01-25 11:58:23.040397: I tensorflow/stream_executor/cuda/cuda_gpu_executor.cc:937] successful NUMA node read from SysFS had negative value (-1), but there must be at least one NUMA node, so returning NUMA node zero\n",
      "2023-01-25 11:58:23.041173: I tensorflow/stream_executor/cuda/cuda_gpu_executor.cc:937] successful NUMA node read from SysFS had negative value (-1), but there must be at least one NUMA node, so returning NUMA node zero\n",
      "2023-01-25 11:58:23.041865: I tensorflow/stream_executor/cuda/cuda_gpu_executor.cc:937] successful NUMA node read from SysFS had negative value (-1), but there must be at least one NUMA node, so returning NUMA node zero\n",
      "2023-01-25 11:58:23.042473: I tensorflow/core/common_runtime/gpu/gpu_device.cc:1510] Created device /job:localhost/replica:0/task:0/device:GPU:0 with 15401 MB memory:  -> device: 0, name: Tesla P100-PCIE-16GB, pci bus id: 0000:00:04.0, compute capability: 6.0\n"
     ]
    }
   ],
   "source": [
    "# Задайте архитектуру модели\n",
    "model = tf.keras.models.Sequential([\n",
    "    tf.keras.Input(shape=[32,32,3]),\n",
    "    \n",
    "    tf.keras.layers.Conv2D(12, kernel_size=(3,3),strides=(2,2), padding='same'),\n",
    "    tf.keras.layers.BatchNormalization(),\n",
    "    tf.keras.layers.Activation('relu'),\n",
    "    tf.keras.layers.MaxPooling2D(),\n",
    "    tf.keras.layers.Dropout(0.1),\n",
    "    \n",
    "    tf.keras.layers.Conv2D(16, kernel_size=(3,3),strides=(2,2),padding='same'),\n",
    "    tf.keras.layers.BatchNormalization(),\n",
    "    tf.keras.layers.Activation('relu'),\n",
    "    \n",
    "    tf.keras.layers.Flatten(),\n",
    "    tf.keras.layers.Dense(512),\n",
    "    tf.keras.layers.BatchNormalization(),\n",
    "    tf.keras.layers.Activation('relu'),\n",
    "    tf.keras.layers.Dropout(0.25),\n",
    "    \n",
    "    tf.keras.layers.Dense(CLASSES),\n",
    "    tf.keras.layers.Activation('softmax')\n",
    "])"
   ]
  },
  {
   "cell_type": "code",
   "execution_count": null,
   "metadata": {
    "execution": {
     "iopub.execute_input": "2023-01-25T11:58:23.477519Z",
     "iopub.status.busy": "2023-01-25T11:58:23.477153Z",
     "iopub.status.idle": "2023-01-25T11:58:24.131819Z",
     "shell.execute_reply": "2023-01-25T11:58:24.129304Z",
     "shell.execute_reply.started": "2023-01-25T11:58:23.477472Z"
    },
    "id": "BXS_oRC46KD2",
    "outputId": "3d5950bd-04de-4f5a-8e88-06b27be95e6f"
   },
   "outputs": [
    {
     "name": "stdout",
     "output_type": "stream",
     "text": [
      "\n",
      "=========================Options=============================\n",
      "-max_depth                  10000\n",
      "-min_bytes                  0\n",
      "-min_peak_bytes             0\n",
      "-min_residual_bytes         0\n",
      "-min_output_bytes           0\n",
      "-min_micros                 0\n",
      "-min_accelerator_micros     0\n",
      "-min_cpu_micros             0\n",
      "-min_params                 0\n",
      "-min_float_ops              1\n",
      "-min_occurrence             0\n",
      "-step                       -1\n",
      "-order_by                   float_ops\n",
      "-account_type_regexes       .*\n",
      "-start_name_regexes         .*\n",
      "-trim_name_regexes          \n",
      "-show_name_regexes          .*\n",
      "-hide_name_regexes          \n",
      "-account_displayed_op_only  true\n",
      "-select                     float_ops\n",
      "-output                     stdout:\n",
      "\n",
      "==================Model Analysis Report======================\n",
      "FLOPs: 0.6042e6\n"
     ]
    },
    {
     "name": "stderr",
     "output_type": "stream",
     "text": [
      "2023-01-25 11:58:24.049964: I tensorflow/stream_executor/cuda/cuda_gpu_executor.cc:937] successful NUMA node read from SysFS had negative value (-1), but there must be at least one NUMA node, so returning NUMA node zero\n",
      "2023-01-25 11:58:24.050339: I tensorflow/core/grappler/devices.cc:66] Number of eligible GPUs (core count >= 8, compute capability >= 0.0): 1\n",
      "2023-01-25 11:58:24.050526: I tensorflow/core/grappler/clusters/single_machine.cc:357] Starting new session\n",
      "2023-01-25 11:58:24.051016: I tensorflow/stream_executor/cuda/cuda_gpu_executor.cc:937] successful NUMA node read from SysFS had negative value (-1), but there must be at least one NUMA node, so returning NUMA node zero\n",
      "2023-01-25 11:58:24.051419: I tensorflow/stream_executor/cuda/cuda_gpu_executor.cc:937] successful NUMA node read from SysFS had negative value (-1), but there must be at least one NUMA node, so returning NUMA node zero\n",
      "2023-01-25 11:58:24.051745: I tensorflow/stream_executor/cuda/cuda_gpu_executor.cc:937] successful NUMA node read from SysFS had negative value (-1), but there must be at least one NUMA node, so returning NUMA node zero\n",
      "2023-01-25 11:58:24.052114: I tensorflow/stream_executor/cuda/cuda_gpu_executor.cc:937] successful NUMA node read from SysFS had negative value (-1), but there must be at least one NUMA node, so returning NUMA node zero\n",
      "2023-01-25 11:58:24.052484: I tensorflow/stream_executor/cuda/cuda_gpu_executor.cc:937] successful NUMA node read from SysFS had negative value (-1), but there must be at least one NUMA node, so returning NUMA node zero\n",
      "2023-01-25 11:58:24.052762: I tensorflow/core/common_runtime/gpu/gpu_device.cc:1510] Created device /job:localhost/replica:0/task:0/device:GPU:0 with 15401 MB memory:  -> device: 0, name: Tesla P100-PCIE-16GB, pci bus id: 0000:00:04.0, compute capability: 6.0\n",
      "2023-01-25 11:58:24.054514: I tensorflow/core/grappler/optimizers/meta_optimizer.cc:1137] Optimization results for grappler item: graph_to_optimize\n",
      "  function_optimizer: function_optimizer did nothing. time = 0.009ms.\n",
      "  function_optimizer: function_optimizer did nothing. time = 0.001ms.\n",
      "\n"
     ]
    },
    {
     "name": "stdout",
     "output_type": "stream",
     "text": [
      "\n",
      "Doc:\n",
      "scope: The nodes in the model graph are organized by their names, which is hierarchical like filesystem.\n",
      "flops: Number of float operations. Note: Please read the implementation for the math behind it.\n",
      "\n",
      "Profile:\n",
      "node name | # float_ops\n",
      "_TFProfRoot (--/604.16k flops)\n",
      "  sequential/dense/MatMul (262.14k/262.14k flops)\n",
      "  sequential/conv2d/Conv2D (165.89k/165.89k flops)\n",
      "  sequential/dense_1/MatMul (102.40k/102.40k flops)\n",
      "  sequential/conv2d_1/Conv2D (55.30k/55.30k flops)\n",
      "  sequential/batch_normalization/FusedBatchNormV3 (6.22k/6.22k flops)\n",
      "  sequential/max_pooling2d/MaxPool (3.07k/3.07k flops)\n",
      "  sequential/conv2d/BiasAdd (3.07k/3.07k flops)\n",
      "  sequential/batch_normalization_2/batchnorm/Rsqrt (1.02k/1.02k flops)\n",
      "  sequential/batch_normalization_1/FusedBatchNormV3 (608/608 flops)\n",
      "  sequential/batch_normalization_2/batchnorm/mul_1 (512/512 flops)\n",
      "  sequential/batch_normalization_2/batchnorm/mul_2 (512/512 flops)\n",
      "  sequential/batch_normalization_2/batchnorm/sub (512/512 flops)\n",
      "  sequential/batch_normalization_2/batchnorm/mul (512/512 flops)\n",
      "  sequential/batch_normalization_2/batchnorm/add_1 (512/512 flops)\n",
      "  sequential/batch_normalization_2/batchnorm/add (512/512 flops)\n",
      "  sequential/dense/BiasAdd (512/512 flops)\n",
      "  sequential/activation_3/Softmax (500/500 flops)\n",
      "  sequential/conv2d_1/BiasAdd (256/256 flops)\n",
      "  sequential/dense_1/BiasAdd (100/100 flops)\n",
      "\n",
      "======================End of Report==========================\n"
     ]
    }
   ],
   "source": [
    "# вычисление количества операций\n",
    "flops = get_flops(model, batch_size=1)\n",
    "print(f\"FLOPs: {(flops / 1e6):.4f}e6\")"
   ]
  },
  {
   "cell_type": "code",
   "execution_count": null,
   "metadata": {
    "execution": {
     "iopub.execute_input": "2023-01-25T11:58:24.134164Z",
     "iopub.status.busy": "2023-01-25T11:58:24.133499Z",
     "iopub.status.idle": "2023-01-25T11:58:24.142624Z",
     "shell.execute_reply": "2023-01-25T11:58:24.141543Z",
     "shell.execute_reply.started": "2023-01-25T11:58:24.134125Z"
    },
    "id": "hwpoWcnz6KD2",
    "outputId": "071b6948-d33c-43af-981b-4da38ccd2323"
   },
   "outputs": [
    {
     "name": "stdout",
     "output_type": "stream",
     "text": [
      "Model: \"sequential\"\n",
      "_________________________________________________________________\n",
      "Layer (type)                 Output Shape              Param #   \n",
      "=================================================================\n",
      "conv2d (Conv2D)              (None, 16, 16, 12)        336       \n",
      "_________________________________________________________________\n",
      "batch_normalization (BatchNo (None, 16, 16, 12)        48        \n",
      "_________________________________________________________________\n",
      "activation (Activation)      (None, 16, 16, 12)        0         \n",
      "_________________________________________________________________\n",
      "max_pooling2d (MaxPooling2D) (None, 8, 8, 12)          0         \n",
      "_________________________________________________________________\n",
      "dropout (Dropout)            (None, 8, 8, 12)          0         \n",
      "_________________________________________________________________\n",
      "conv2d_1 (Conv2D)            (None, 4, 4, 16)          1744      \n",
      "_________________________________________________________________\n",
      "batch_normalization_1 (Batch (None, 4, 4, 16)          64        \n",
      "_________________________________________________________________\n",
      "activation_1 (Activation)    (None, 4, 4, 16)          0         \n",
      "_________________________________________________________________\n",
      "flatten (Flatten)            (None, 256)               0         \n",
      "_________________________________________________________________\n",
      "dense (Dense)                (None, 512)               131584    \n",
      "_________________________________________________________________\n",
      "batch_normalization_2 (Batch (None, 512)               2048      \n",
      "_________________________________________________________________\n",
      "activation_2 (Activation)    (None, 512)               0         \n",
      "_________________________________________________________________\n",
      "dropout_1 (Dropout)          (None, 512)               0         \n",
      "_________________________________________________________________\n",
      "dense_1 (Dense)              (None, 100)               51300     \n",
      "_________________________________________________________________\n",
      "activation_3 (Activation)    (None, 100)               0         \n",
      "=================================================================\n",
      "Total params: 187,124\n",
      "Trainable params: 186,044\n",
      "Non-trainable params: 1,080\n",
      "_________________________________________________________________\n"
     ]
    }
   ],
   "source": [
    "# вывод краткой информации о модели\n",
    "model.summary()"
   ]
  },
  {
   "cell_type": "code",
   "execution_count": null,
   "metadata": {
    "execution": {
     "iopub.execute_input": "2023-01-25T11:58:24.144975Z",
     "iopub.status.busy": "2023-01-25T11:58:24.144623Z",
     "iopub.status.idle": "2023-01-25T11:58:24.159792Z",
     "shell.execute_reply": "2023-01-25T11:58:24.158818Z",
     "shell.execute_reply.started": "2023-01-25T11:58:24.144939Z"
    },
    "id": "d8X2-bk56KD3"
   },
   "outputs": [],
   "source": [
    "# параметры данной ячейки могут быть изменены для получения более высокой точности\n",
    "model.compile(\n",
    "    optimizer=tf.keras.optimizers.Adam(\n",
    "        learning_rate=tf.keras.optimizers.schedules.ExponentialDecay(initial_learning_rate=LEARNING_RATE, decay_steps=1000, decay_rate=0.5)\n",
    "    ),\n",
    "    loss=tf.keras.losses.CategoricalCrossentropy(),\n",
    "    metrics=['accuracy']\n",
    ")"
   ]
  },
  {
   "cell_type": "code",
   "execution_count": null,
   "metadata": {
    "execution": {
     "iopub.execute_input": "2023-01-25T11:58:24.161619Z",
     "iopub.status.busy": "2023-01-25T11:58:24.161246Z",
     "iopub.status.idle": "2023-01-25T11:59:47.403129Z",
     "shell.execute_reply": "2023-01-25T11:59:47.402185Z",
     "shell.execute_reply.started": "2023-01-25T11:58:24.161584Z"
    },
    "id": "Ol0hhwZc6KD3",
    "outputId": "45c781cd-7c41-462d-dee3-4b399f0afd35"
   },
   "outputs": [
    {
     "name": "stderr",
     "output_type": "stream",
     "text": [
      "2023-01-25 11:58:24.818903: I tensorflow/compiler/mlir/mlir_graph_optimization_pass.cc:185] None of the MLIR Optimization Passes are enabled (registered 2)\n"
     ]
    },
    {
     "name": "stdout",
     "output_type": "stream",
     "text": [
      "Epoch 1/40\n"
     ]
    },
    {
     "name": "stderr",
     "output_type": "stream",
     "text": [
      "2023-01-25 11:58:25.798142: I tensorflow/stream_executor/cuda/cuda_dnn.cc:369] Loaded cuDNN version 8005\n"
     ]
    },
    {
     "name": "stdout",
     "output_type": "stream",
     "text": [
      "391/391 [==============================] - 4s 6ms/step - loss: 3.5342 - accuracy: 0.1743 - val_loss: 3.2880 - val_accuracy: 0.2126\n",
      "Epoch 2/40\n",
      "391/391 [==============================] - 2s 5ms/step - loss: 2.9411 - accuracy: 0.2693 - val_loss: 2.8960 - val_accuracy: 0.2819\n",
      "Epoch 3/40\n",
      "391/391 [==============================] - 2s 5ms/step - loss: 2.6935 - accuracy: 0.3201 - val_loss: 2.6827 - val_accuracy: 0.3323\n",
      "Epoch 4/40\n",
      "391/391 [==============================] - 2s 5ms/step - loss: 2.5195 - accuracy: 0.3547 - val_loss: 2.6159 - val_accuracy: 0.3491\n",
      "Epoch 5/40\n",
      "391/391 [==============================] - 2s 5ms/step - loss: 2.3836 - accuracy: 0.3847 - val_loss: 2.5395 - val_accuracy: 0.3616\n",
      "Epoch 6/40\n",
      "391/391 [==============================] - 2s 5ms/step - loss: 2.2646 - accuracy: 0.4092 - val_loss: 2.5055 - val_accuracy: 0.3750\n",
      "Epoch 7/40\n",
      "391/391 [==============================] - 2s 6ms/step - loss: 2.1880 - accuracy: 0.4265 - val_loss: 2.4725 - val_accuracy: 0.3809\n",
      "Epoch 8/40\n",
      "391/391 [==============================] - 2s 5ms/step - loss: 2.1061 - accuracy: 0.4437 - val_loss: 2.4672 - val_accuracy: 0.3844\n",
      "Epoch 9/40\n",
      "391/391 [==============================] - 2s 5ms/step - loss: 2.0528 - accuracy: 0.4570 - val_loss: 2.4711 - val_accuracy: 0.3831\n",
      "Epoch 10/40\n",
      "391/391 [==============================] - 2s 5ms/step - loss: 2.0081 - accuracy: 0.4666 - val_loss: 2.4336 - val_accuracy: 0.3945\n",
      "Epoch 11/40\n",
      "391/391 [==============================] - 2s 5ms/step - loss: 1.9817 - accuracy: 0.4707 - val_loss: 2.4344 - val_accuracy: 0.3922\n",
      "Epoch 12/40\n",
      "391/391 [==============================] - 2s 5ms/step - loss: 1.9577 - accuracy: 0.4773 - val_loss: 2.4270 - val_accuracy: 0.3956\n",
      "Epoch 13/40\n",
      "391/391 [==============================] - 2s 5ms/step - loss: 1.9342 - accuracy: 0.4832 - val_loss: 2.4321 - val_accuracy: 0.3951\n",
      "Epoch 14/40\n",
      "391/391 [==============================] - 2s 5ms/step - loss: 1.9212 - accuracy: 0.4851 - val_loss: 2.4349 - val_accuracy: 0.3925\n",
      "Epoch 15/40\n",
      "391/391 [==============================] - 2s 5ms/step - loss: 1.9055 - accuracy: 0.4908 - val_loss: 2.4281 - val_accuracy: 0.3964\n",
      "Epoch 16/40\n",
      "391/391 [==============================] - 2s 5ms/step - loss: 1.8906 - accuracy: 0.4930 - val_loss: 2.4276 - val_accuracy: 0.3977\n",
      "Epoch 17/40\n",
      "391/391 [==============================] - 2s 5ms/step - loss: 1.8918 - accuracy: 0.4918 - val_loss: 2.4270 - val_accuracy: 0.3961\n",
      "Epoch 18/40\n",
      "391/391 [==============================] - 2s 5ms/step - loss: 1.8850 - accuracy: 0.4932 - val_loss: 2.4291 - val_accuracy: 0.3970\n",
      "Epoch 19/40\n",
      "391/391 [==============================] - 2s 5ms/step - loss: 1.8919 - accuracy: 0.4918 - val_loss: 2.4272 - val_accuracy: 0.3960\n",
      "Epoch 20/40\n",
      "391/391 [==============================] - 2s 5ms/step - loss: 1.8780 - accuracy: 0.4954 - val_loss: 2.4264 - val_accuracy: 0.3977\n",
      "Epoch 21/40\n",
      "391/391 [==============================] - 2s 5ms/step - loss: 1.8706 - accuracy: 0.4984 - val_loss: 2.4270 - val_accuracy: 0.3976\n",
      "Epoch 22/40\n",
      "391/391 [==============================] - 2s 5ms/step - loss: 1.8748 - accuracy: 0.4981 - val_loss: 2.4290 - val_accuracy: 0.3970\n",
      "Epoch 23/40\n",
      "391/391 [==============================] - 2s 5ms/step - loss: 1.8687 - accuracy: 0.4964 - val_loss: 2.4286 - val_accuracy: 0.3973\n",
      "Epoch 24/40\n",
      "391/391 [==============================] - 2s 6ms/step - loss: 1.8730 - accuracy: 0.4974 - val_loss: 2.4280 - val_accuracy: 0.3952\n",
      "Epoch 25/40\n",
      "391/391 [==============================] - 2s 5ms/step - loss: 1.8698 - accuracy: 0.4977 - val_loss: 2.4280 - val_accuracy: 0.3970\n",
      "Epoch 26/40\n",
      "391/391 [==============================] - 2s 4ms/step - loss: 1.8588 - accuracy: 0.5023 - val_loss: 2.4279 - val_accuracy: 0.3965\n",
      "Epoch 27/40\n",
      "391/391 [==============================] - 2s 5ms/step - loss: 1.8684 - accuracy: 0.5000 - val_loss: 2.4286 - val_accuracy: 0.3972\n",
      "Epoch 28/40\n",
      "391/391 [==============================] - 2s 5ms/step - loss: 1.8653 - accuracy: 0.4982 - val_loss: 2.4279 - val_accuracy: 0.3952\n",
      "Epoch 29/40\n",
      "391/391 [==============================] - 2s 5ms/step - loss: 1.8687 - accuracy: 0.4979 - val_loss: 2.4281 - val_accuracy: 0.3960\n",
      "Epoch 30/40\n",
      "391/391 [==============================] - 2s 5ms/step - loss: 1.8678 - accuracy: 0.4985 - val_loss: 2.4280 - val_accuracy: 0.3966\n",
      "Epoch 31/40\n",
      "391/391 [==============================] - 2s 5ms/step - loss: 1.8737 - accuracy: 0.4963 - val_loss: 2.4280 - val_accuracy: 0.3962\n",
      "Epoch 32/40\n",
      "391/391 [==============================] - 2s 5ms/step - loss: 1.8700 - accuracy: 0.4987 - val_loss: 2.4281 - val_accuracy: 0.3958\n",
      "Epoch 33/40\n",
      "391/391 [==============================] - 2s 5ms/step - loss: 1.8675 - accuracy: 0.4988 - val_loss: 2.4279 - val_accuracy: 0.3971\n",
      "Epoch 34/40\n",
      "391/391 [==============================] - 2s 5ms/step - loss: 1.8683 - accuracy: 0.4977 - val_loss: 2.4281 - val_accuracy: 0.3967\n",
      "Epoch 35/40\n",
      "391/391 [==============================] - 2s 5ms/step - loss: 1.8646 - accuracy: 0.4985 - val_loss: 2.4278 - val_accuracy: 0.3961\n",
      "Epoch 36/40\n",
      "391/391 [==============================] - 2s 5ms/step - loss: 1.8658 - accuracy: 0.4977 - val_loss: 2.4286 - val_accuracy: 0.3971\n",
      "Epoch 37/40\n",
      "391/391 [==============================] - 2s 5ms/step - loss: 1.8731 - accuracy: 0.4966 - val_loss: 2.4282 - val_accuracy: 0.3960\n",
      "Epoch 38/40\n",
      "391/391 [==============================] - 2s 5ms/step - loss: 1.8654 - accuracy: 0.4976 - val_loss: 2.4280 - val_accuracy: 0.3956\n",
      "Epoch 39/40\n",
      "391/391 [==============================] - 2s 5ms/step - loss: 1.8696 - accuracy: 0.4965 - val_loss: 2.4276 - val_accuracy: 0.3969\n",
      "Epoch 40/40\n",
      "391/391 [==============================] - 2s 5ms/step - loss: 1.8711 - accuracy: 0.4990 - val_loss: 2.4275 - val_accuracy: 0.3968\n"
     ]
    },
    {
     "data": {
      "text/plain": [
       "<keras.callbacks.History at 0x7f2fd4f9c510>"
      ]
     },
     "execution_count": 12,
     "metadata": {},
     "output_type": "execute_result"
    }
   ],
   "source": [
    "# обучения модели\n",
    "model.fit(\n",
    "    x=X_train,\n",
    "    y=y_train,\n",
    "    validation_data=(X_val, y_val),\n",
    "    batch_size=BATCH_SIZE,\n",
    "    callbacks=[\n",
    "        tf.keras.callbacks.ModelCheckpoint(filepath=\"{epoch:02d}-{val_accuracy:.2f}.hdf5\", save_best_only=True),\n",
    "        \n",
    "    ],\n",
    "    use_multiprocessing=True,\n",
    "    workers=8,\n",
    "    epochs=40\n",
    ")"
   ]
  }
 ],
 "metadata": {
  "colab": {
   "provenance": []
  },
  "kernelspec": {
   "display_name": "Python 3 (ipykernel)",
   "language": "python",
   "name": "python3"
  },
  "language_info": {
   "codemirror_mode": {
    "name": "ipython",
    "version": 3
   },
   "file_extension": ".py",
   "mimetype": "text/x-python",
   "name": "python",
   "nbconvert_exporter": "python",
   "pygments_lexer": "ipython3",
   "version": "3.9.12"
  }
 },
 "nbformat": 4,
 "nbformat_minor": 1
}
