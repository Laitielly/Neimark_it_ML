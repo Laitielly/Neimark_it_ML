{
 "cells": [
  {
   "cell_type": "markdown",
   "metadata": {},
   "source": [
    "**Классификация изображений с помощью сверточных нейронных сетей**\n",
    "\n",
    "В данном задании Вам необходимо разработать архитектуру сверточной ИНС, обеспечивающую наибольшую точность при ограничении на количество операций (FLOPs <= 0.707e6).\n",
    "Заготовка кода для выполнения задания приведена выше. Вашей задачей будет заполнить пропущеные места, которые отмечены ключевым словом *None*.\n",
    "Необходимая точность (accuracy) сети на датасете CIFAR100 - 30%\n",
    "Желаемая точность (accuracy) сети на датасете CIFAR100 - 45%"
   ]
  },
  {
   "cell_type": "code",
   "execution_count": 3,
   "metadata": {
    "_kg_hide-output": true,
    "execution": {
     "iopub.execute_input": "2023-01-25T18:46:52.184978Z",
     "iopub.status.busy": "2023-01-25T18:46:52.184354Z",
     "iopub.status.idle": "2023-01-25T18:47:01.875003Z",
     "shell.execute_reply": "2023-01-25T18:47:01.873619Z",
     "shell.execute_reply.started": "2023-01-25T18:46:52.184943Z"
    }
   },
   "outputs": [
    {
     "name": "stdout",
     "output_type": "stream",
     "text": [
      "Requirement already satisfied: keras-flops in /opt/conda/lib/python3.7/site-packages (0.1.2)\n",
      "Requirement already satisfied: tensorflow<3.0,>=2.2 in /opt/conda/lib/python3.7/site-packages (from keras-flops) (2.6.4)\n",
      "Requirement already satisfied: h5py~=3.1.0 in /opt/conda/lib/python3.7/site-packages (from tensorflow<3.0,>=2.2->keras-flops) (3.1.0)\n",
      "Requirement already satisfied: tensorflow-estimator<2.7,>=2.6.0 in /opt/conda/lib/python3.7/site-packages (from tensorflow<3.0,>=2.2->keras-flops) (2.6.0)\n",
      "Requirement already satisfied: opt-einsum~=3.3.0 in /opt/conda/lib/python3.7/site-packages (from tensorflow<3.0,>=2.2->keras-flops) (3.3.0)\n",
      "Requirement already satisfied: tensorboard<2.7,>=2.6.0 in /opt/conda/lib/python3.7/site-packages (from tensorflow<3.0,>=2.2->keras-flops) (2.6.0)\n",
      "Requirement already satisfied: wrapt~=1.12.1 in /opt/conda/lib/python3.7/site-packages (from tensorflow<3.0,>=2.2->keras-flops) (1.12.1)\n",
      "Requirement already satisfied: numpy~=1.19.2 in /opt/conda/lib/python3.7/site-packages (from tensorflow<3.0,>=2.2->keras-flops) (1.19.5)\n",
      "Requirement already satisfied: termcolor~=1.1.0 in /opt/conda/lib/python3.7/site-packages (from tensorflow<3.0,>=2.2->keras-flops) (1.1.0)\n",
      "Requirement already satisfied: keras-preprocessing~=1.1.2 in /opt/conda/lib/python3.7/site-packages (from tensorflow<3.0,>=2.2->keras-flops) (1.1.2)\n",
      "Requirement already satisfied: clang~=5.0 in /opt/conda/lib/python3.7/site-packages (from tensorflow<3.0,>=2.2->keras-flops) (5.0)\n",
      "Requirement already satisfied: gast==0.4.0 in /opt/conda/lib/python3.7/site-packages (from tensorflow<3.0,>=2.2->keras-flops) (0.4.0)\n",
      "Requirement already satisfied: flatbuffers~=1.12.0 in /opt/conda/lib/python3.7/site-packages (from tensorflow<3.0,>=2.2->keras-flops) (1.12)\n",
      "Requirement already satisfied: wheel~=0.35 in /opt/conda/lib/python3.7/site-packages (from tensorflow<3.0,>=2.2->keras-flops) (0.37.1)\n",
      "Requirement already satisfied: astunparse~=1.6.3 in /opt/conda/lib/python3.7/site-packages (from tensorflow<3.0,>=2.2->keras-flops) (1.6.3)\n",
      "Requirement already satisfied: typing-extensions<3.11,>=3.7 in /opt/conda/lib/python3.7/site-packages (from tensorflow<3.0,>=2.2->keras-flops) (3.10.0.2)\n",
      "Requirement already satisfied: absl-py~=0.10 in /opt/conda/lib/python3.7/site-packages (from tensorflow<3.0,>=2.2->keras-flops) (0.15.0)\n",
      "Requirement already satisfied: google-pasta~=0.2 in /opt/conda/lib/python3.7/site-packages (from tensorflow<3.0,>=2.2->keras-flops) (0.2.0)\n",
      "Requirement already satisfied: protobuf>=3.9.2 in /opt/conda/lib/python3.7/site-packages (from tensorflow<3.0,>=2.2->keras-flops) (3.20.3)\n",
      "Requirement already satisfied: keras<2.7,>=2.6.0 in /opt/conda/lib/python3.7/site-packages (from tensorflow<3.0,>=2.2->keras-flops) (2.6.0)\n",
      "Requirement already satisfied: grpcio<2.0,>=1.37.0 in /opt/conda/lib/python3.7/site-packages (from tensorflow<3.0,>=2.2->keras-flops) (1.51.1)\n",
      "Requirement already satisfied: six~=1.15.0 in /opt/conda/lib/python3.7/site-packages (from tensorflow<3.0,>=2.2->keras-flops) (1.15.0)\n",
      "Requirement already satisfied: cached-property in /opt/conda/lib/python3.7/site-packages (from h5py~=3.1.0->tensorflow<3.0,>=2.2->keras-flops) (1.5.2)\n",
      "Requirement already satisfied: tensorboard-data-server<0.7.0,>=0.6.0 in /opt/conda/lib/python3.7/site-packages (from tensorboard<2.7,>=2.6.0->tensorflow<3.0,>=2.2->keras-flops) (0.6.1)\n",
      "Requirement already satisfied: markdown>=2.6.8 in /opt/conda/lib/python3.7/site-packages (from tensorboard<2.7,>=2.6.0->tensorflow<3.0,>=2.2->keras-flops) (3.3.7)\n",
      "Requirement already satisfied: requests<3,>=2.21.0 in /opt/conda/lib/python3.7/site-packages (from tensorboard<2.7,>=2.6.0->tensorflow<3.0,>=2.2->keras-flops) (2.28.1)\n",
      "Requirement already satisfied: google-auth<2,>=1.6.3 in /opt/conda/lib/python3.7/site-packages (from tensorboard<2.7,>=2.6.0->tensorflow<3.0,>=2.2->keras-flops) (1.35.0)\n",
      "Requirement already satisfied: setuptools>=41.0.0 in /opt/conda/lib/python3.7/site-packages (from tensorboard<2.7,>=2.6.0->tensorflow<3.0,>=2.2->keras-flops) (59.8.0)\n",
      "Requirement already satisfied: google-auth-oauthlib<0.5,>=0.4.1 in /opt/conda/lib/python3.7/site-packages (from tensorboard<2.7,>=2.6.0->tensorflow<3.0,>=2.2->keras-flops) (0.4.6)\n",
      "Requirement already satisfied: tensorboard-plugin-wit>=1.6.0 in /opt/conda/lib/python3.7/site-packages (from tensorboard<2.7,>=2.6.0->tensorflow<3.0,>=2.2->keras-flops) (1.8.1)\n",
      "Requirement already satisfied: werkzeug>=0.11.15 in /opt/conda/lib/python3.7/site-packages (from tensorboard<2.7,>=2.6.0->tensorflow<3.0,>=2.2->keras-flops) (2.2.2)\n",
      "Requirement already satisfied: pyasn1-modules>=0.2.1 in /opt/conda/lib/python3.7/site-packages (from google-auth<2,>=1.6.3->tensorboard<2.7,>=2.6.0->tensorflow<3.0,>=2.2->keras-flops) (0.2.7)\n",
      "Requirement already satisfied: rsa<5,>=3.1.4 in /opt/conda/lib/python3.7/site-packages (from google-auth<2,>=1.6.3->tensorboard<2.7,>=2.6.0->tensorflow<3.0,>=2.2->keras-flops) (4.8)\n",
      "Requirement already satisfied: cachetools<5.0,>=2.0.0 in /opt/conda/lib/python3.7/site-packages (from google-auth<2,>=1.6.3->tensorboard<2.7,>=2.6.0->tensorflow<3.0,>=2.2->keras-flops) (4.2.4)\n",
      "Requirement already satisfied: requests-oauthlib>=0.7.0 in /opt/conda/lib/python3.7/site-packages (from google-auth-oauthlib<0.5,>=0.4.1->tensorboard<2.7,>=2.6.0->tensorflow<3.0,>=2.2->keras-flops) (1.3.1)\n",
      "Requirement already satisfied: importlib-metadata>=4.4 in /opt/conda/lib/python3.7/site-packages (from markdown>=2.6.8->tensorboard<2.7,>=2.6.0->tensorflow<3.0,>=2.2->keras-flops) (4.13.0)\n",
      "Requirement already satisfied: idna<4,>=2.5 in /opt/conda/lib/python3.7/site-packages (from requests<3,>=2.21.0->tensorboard<2.7,>=2.6.0->tensorflow<3.0,>=2.2->keras-flops) (3.3)\n",
      "Requirement already satisfied: charset-normalizer<3,>=2 in /opt/conda/lib/python3.7/site-packages (from requests<3,>=2.21.0->tensorboard<2.7,>=2.6.0->tensorflow<3.0,>=2.2->keras-flops) (2.1.0)\n",
      "Requirement already satisfied: certifi>=2017.4.17 in /opt/conda/lib/python3.7/site-packages (from requests<3,>=2.21.0->tensorboard<2.7,>=2.6.0->tensorflow<3.0,>=2.2->keras-flops) (2022.12.7)\n",
      "Requirement already satisfied: urllib3<1.27,>=1.21.1 in /opt/conda/lib/python3.7/site-packages (from requests<3,>=2.21.0->tensorboard<2.7,>=2.6.0->tensorflow<3.0,>=2.2->keras-flops) (1.26.13)\n",
      "Requirement already satisfied: MarkupSafe>=2.1.1 in /opt/conda/lib/python3.7/site-packages (from werkzeug>=0.11.15->tensorboard<2.7,>=2.6.0->tensorflow<3.0,>=2.2->keras-flops) (2.1.1)\n",
      "Requirement already satisfied: zipp>=0.5 in /opt/conda/lib/python3.7/site-packages (from importlib-metadata>=4.4->markdown>=2.6.8->tensorboard<2.7,>=2.6.0->tensorflow<3.0,>=2.2->keras-flops) (3.8.0)\n",
      "Requirement already satisfied: pyasn1<0.5.0,>=0.4.6 in /opt/conda/lib/python3.7/site-packages (from pyasn1-modules>=0.2.1->google-auth<2,>=1.6.3->tensorboard<2.7,>=2.6.0->tensorflow<3.0,>=2.2->keras-flops) (0.4.8)\n",
      "Requirement already satisfied: oauthlib>=3.0.0 in /opt/conda/lib/python3.7/site-packages (from requests-oauthlib>=0.7.0->google-auth-oauthlib<0.5,>=0.4.1->tensorboard<2.7,>=2.6.0->tensorflow<3.0,>=2.2->keras-flops) (3.2.0)\n",
      "\u001b[33mWARNING: Running pip as the 'root' user can result in broken permissions and conflicting behaviour with the system package manager. It is recommended to use a virtual environment instead: https://pip.pypa.io/warnings/venv\u001b[0m\u001b[33m\n",
      "\u001b[0m"
     ]
    }
   ],
   "source": [
    "!pip install keras-flops"
   ]
  },
  {
   "cell_type": "code",
   "execution_count": 4,
   "metadata": {
    "_cell_guid": "b1076dfc-b9ad-4769-8c92-a6c4dae69d19",
    "_uuid": "8f2839f25d086af736a60e9eeb907d3b93b6e0e5",
    "execution": {
     "iopub.execute_input": "2023-01-25T18:47:01.877957Z",
     "iopub.status.busy": "2023-01-25T18:47:01.877435Z",
     "iopub.status.idle": "2023-01-25T18:47:03.678159Z",
     "shell.execute_reply": "2023-01-25T18:47:03.677068Z",
     "shell.execute_reply.started": "2023-01-25T18:47:01.877878Z"
    }
   },
   "outputs": [],
   "source": [
    "# Импорт необходимых библиотек\n",
    "import numpy as np\n",
    "import pandas as pd\n",
    "import tensorflow as tf\n",
    "from keras_flops import get_flops\n",
    "from keras.utils import np_utils"
   ]
  },
  {
   "cell_type": "code",
   "execution_count": 5,
   "metadata": {
    "execution": {
     "iopub.execute_input": "2023-01-25T18:47:03.680669Z",
     "iopub.status.busy": "2023-01-25T18:47:03.679735Z",
     "iopub.status.idle": "2023-01-25T18:47:03.687507Z",
     "shell.execute_reply": "2023-01-25T18:47:03.686473Z",
     "shell.execute_reply.started": "2023-01-25T18:47:03.680596Z"
    }
   },
   "outputs": [],
   "source": [
    "# Глобальные константы\n",
    "CLASSES       = 100\n",
    "BATCH_SIZE    = 128\n",
    "LEARNING_RATE = 1e-2"
   ]
  },
  {
   "cell_type": "code",
   "execution_count": 6,
   "metadata": {
    "execution": {
     "iopub.execute_input": "2023-01-25T18:47:03.692153Z",
     "iopub.status.busy": "2023-01-25T18:47:03.690918Z",
     "iopub.status.idle": "2023-01-25T18:47:04.475743Z",
     "shell.execute_reply": "2023-01-25T18:47:04.474620Z",
     "shell.execute_reply.started": "2023-01-25T18:47:03.692105Z"
    }
   },
   "outputs": [],
   "source": [
    "# Выполните загрузку модели\n",
    "(X_train, y_train), (X_val, y_val) = tf.keras.datasets.cifar100.load_data()"
   ]
  },
  {
   "cell_type": "code",
   "execution_count": 7,
   "metadata": {
    "execution": {
     "iopub.execute_input": "2023-01-25T18:47:04.478001Z",
     "iopub.status.busy": "2023-01-25T18:47:04.477187Z",
     "iopub.status.idle": "2023-01-25T18:47:04.501364Z",
     "shell.execute_reply": "2023-01-25T18:47:04.499988Z",
     "shell.execute_reply.started": "2023-01-25T18:47:04.477960Z"
    }
   },
   "outputs": [],
   "source": [
    "# Преобразуйте метки классов в one_hot формат\n",
    "y_train = np_utils.to_categorical(y_train, CLASSES)\n",
    "y_val = np_utils.to_categorical(y_val, CLASSES)"
   ]
  },
  {
   "cell_type": "code",
   "execution_count": 8,
   "metadata": {
    "execution": {
     "iopub.execute_input": "2023-01-25T18:47:04.503693Z",
     "iopub.status.busy": "2023-01-25T18:47:04.503206Z",
     "iopub.status.idle": "2023-01-25T18:47:04.509841Z",
     "shell.execute_reply": "2023-01-25T18:47:04.508686Z",
     "shell.execute_reply.started": "2023-01-25T18:47:04.503635Z"
    }
   },
   "outputs": [],
   "source": [
    "# убедитесь, что данная ячейка выполняется без ошибок\n",
    "assert X_train.shape == (50000, 32, 32, 3)\n",
    "assert X_val.shape == (10000, 32, 32, 3)\n",
    "assert y_train.shape == (50000, 100)\n",
    "assert y_val.shape == (10000, 100)"
   ]
  },
  {
   "cell_type": "code",
   "execution_count": 9,
   "metadata": {
    "execution": {
     "iopub.execute_input": "2023-01-25T18:47:04.512421Z",
     "iopub.status.busy": "2023-01-25T18:47:04.511983Z",
     "iopub.status.idle": "2023-01-25T18:47:05.696101Z",
     "shell.execute_reply": "2023-01-25T18:47:05.695081Z",
     "shell.execute_reply.started": "2023-01-25T18:47:04.512379Z"
    }
   },
   "outputs": [
    {
     "name": "stderr",
     "output_type": "stream",
     "text": [
      "2023-01-25 18:47:04.583794: I tensorflow/stream_executor/cuda/cuda_gpu_executor.cc:937] successful NUMA node read from SysFS had negative value (-1), but there must be at least one NUMA node, so returning NUMA node zero\n",
      "2023-01-25 18:47:04.594486: I tensorflow/stream_executor/cuda/cuda_gpu_executor.cc:937] successful NUMA node read from SysFS had negative value (-1), but there must be at least one NUMA node, so returning NUMA node zero\n",
      "2023-01-25 18:47:04.595254: I tensorflow/stream_executor/cuda/cuda_gpu_executor.cc:937] successful NUMA node read from SysFS had negative value (-1), but there must be at least one NUMA node, so returning NUMA node zero\n",
      "2023-01-25 18:47:04.597062: I tensorflow/core/platform/cpu_feature_guard.cc:142] This TensorFlow binary is optimized with oneAPI Deep Neural Network Library (oneDNN) to use the following CPU instructions in performance-critical operations:  AVX2 AVX512F FMA\n",
      "To enable them in other operations, rebuild TensorFlow with the appropriate compiler flags.\n",
      "2023-01-25 18:47:04.597419: I tensorflow/stream_executor/cuda/cuda_gpu_executor.cc:937] successful NUMA node read from SysFS had negative value (-1), but there must be at least one NUMA node, so returning NUMA node zero\n",
      "2023-01-25 18:47:04.598168: I tensorflow/stream_executor/cuda/cuda_gpu_executor.cc:937] successful NUMA node read from SysFS had negative value (-1), but there must be at least one NUMA node, so returning NUMA node zero\n",
      "2023-01-25 18:47:04.598843: I tensorflow/stream_executor/cuda/cuda_gpu_executor.cc:937] successful NUMA node read from SysFS had negative value (-1), but there must be at least one NUMA node, so returning NUMA node zero\n",
      "2023-01-25 18:47:05.276820: I tensorflow/stream_executor/cuda/cuda_gpu_executor.cc:937] successful NUMA node read from SysFS had negative value (-1), but there must be at least one NUMA node, so returning NUMA node zero\n",
      "2023-01-25 18:47:05.277596: I tensorflow/stream_executor/cuda/cuda_gpu_executor.cc:937] successful NUMA node read from SysFS had negative value (-1), but there must be at least one NUMA node, so returning NUMA node zero\n",
      "2023-01-25 18:47:05.278315: I tensorflow/stream_executor/cuda/cuda_gpu_executor.cc:937] successful NUMA node read from SysFS had negative value (-1), but there must be at least one NUMA node, so returning NUMA node zero\n",
      "2023-01-25 18:47:05.278925: I tensorflow/core/common_runtime/gpu/gpu_device.cc:1510] Created device /job:localhost/replica:0/task:0/device:GPU:0 with 15401 MB memory:  -> device: 0, name: Tesla P100-PCIE-16GB, pci bus id: 0000:00:04.0, compute capability: 6.0\n"
     ]
    }
   ],
   "source": [
    "# Задайте архитектуру модели\n",
    "model = tf.keras.models.Sequential([\n",
    "    tf.keras.Input(shape=[32,32,3]),\n",
    "    \n",
    "    tf.keras.layers.Conv2D(16, kernel_size=(3,3),strides=(2,2), padding='same'),\n",
    "    tf.keras.layers.BatchNormalization(),\n",
    "    tf.keras.layers.Activation('relu'),\n",
    "    tf.keras.layers.MaxPooling2D(),\n",
    "    tf.keras.layers.Dropout(0.25),\n",
    "    \n",
    "    tf.keras.layers.Conv2D(16, kernel_size=(3,3),strides=(2,2),padding='same'),\n",
    "    tf.keras.layers.BatchNormalization(),\n",
    "    tf.keras.layers.Activation('relu'),\n",
    "    \n",
    "    tf.keras.layers.Flatten(),\n",
    "    tf.keras.layers.Dense(512),\n",
    "    tf.keras.layers.BatchNormalization(),\n",
    "    tf.keras.layers.Activation('relu'),\n",
    "    tf.keras.layers.Dropout(0.3),\n",
    "    \n",
    "    tf.keras.layers.Dense(CLASSES),\n",
    "    tf.keras.layers.Activation('softmax')\n",
    "])"
   ]
  },
  {
   "cell_type": "code",
   "execution_count": 10,
   "metadata": {
    "execution": {
     "iopub.execute_input": "2023-01-25T18:47:05.698552Z",
     "iopub.status.busy": "2023-01-25T18:47:05.697444Z",
     "iopub.status.idle": "2023-01-25T18:47:06.578965Z",
     "shell.execute_reply": "2023-01-25T18:47:06.577331Z",
     "shell.execute_reply.started": "2023-01-25T18:47:05.698514Z"
    }
   },
   "outputs": [
    {
     "name": "stdout",
     "output_type": "stream",
     "text": [
      "\n",
      "=========================Options=============================\n",
      "-max_depth                  10000\n",
      "-min_bytes                  0\n",
      "-min_peak_bytes             0\n",
      "-min_residual_bytes         0\n",
      "-min_output_bytes           0\n",
      "-min_micros                 0\n",
      "-min_accelerator_micros     0\n",
      "-min_cpu_micros             0\n",
      "-min_params                 0\n",
      "-min_float_ops              1\n",
      "-min_occurrence             0\n",
      "-step                       -1\n",
      "-order_by                   float_ops\n",
      "-account_type_regexes       .*\n",
      "-start_name_regexes         .*\n",
      "-trim_name_regexes          \n",
      "-show_name_regexes          .*\n",
      "-hide_name_regexes          \n",
      "-account_displayed_op_only  true\n",
      "-select                     float_ops\n",
      "-output                     stdout:\n",
      "\n",
      "==================Model Analysis Report======================\n",
      "\n",
      "Doc:\n",
      "scope: The nodes in the model graph are organized by their names, which is hierarchical like filesystem.\n",
      "flops: Number of float operations. Note: Please read the implementation for the math behind it.\n",
      "\n",
      "Profile:\n",
      "node name | # float_ops\n",
      "_TFProfRoot (--/682.01k flops)\n",
      "  sequential/dense/MatMul (262.14k/262.14k flops)\n",
      "  sequential/conv2d/Conv2D (221.18k/221.18k flops)\n",
      "  sequential/dense_1/MatMul (102.40k/102.40k flops)\n",
      "  sequential/conv2d_1/Conv2D (73.73k/73.73k flops)\n",
      "  sequential/batch_normalization/FusedBatchNormV3 (8.29k/8.29k flops)\n",
      "  sequential/max_pooling2d/MaxPool (4.10k/4.10k flops)\n",
      "  sequential/conv2d/BiasAdd (4.10k/4.10k flops)\n",
      "  sequential/batch_normalization_2/batchnorm/Rsqrt (1.02k/1.02k flops)\n",
      "  sequential/batch_normalization_1/FusedBatchNormV3 (608/608 flops)\n",
      "  sequential/batch_normalization_2/batchnorm/mul_1 (512/512 flops)\n",
      "  sequential/batch_normalization_2/batchnorm/mul_2 (512/512 flops)\n",
      "  sequential/batch_normalization_2/batchnorm/sub (512/512 flops)\n",
      "  sequential/FLOPs: 0.6820e6\n"
     ]
    },
    {
     "name": "stderr",
     "output_type": "stream",
     "text": [
      "2023-01-25 18:47:06.500304: I tensorflow/stream_executor/cuda/cuda_gpu_executor.cc:937] successful NUMA node read from SysFS had negative value (-1), but there must be at least one NUMA node, so returning NUMA node zero\n",
      "2023-01-25 18:47:06.500631: I tensorflow/core/grappler/devices.cc:66] Number of eligible GPUs (core count >= 8, compute capability >= 0.0): 1\n",
      "2023-01-25 18:47:06.500792: I tensorflow/core/grappler/clusters/single_machine.cc:357] Starting new session\n",
      "2023-01-25 18:47:06.501199: I tensorflow/stream_executor/cuda/cuda_gpu_executor.cc:937] successful NUMA node read from SysFS had negative value (-1), but there must be at least one NUMA node, so returning NUMA node zero\n",
      "2023-01-25 18:47:06.501575: I tensorflow/stream_executor/cuda/cuda_gpu_executor.cc:937] successful NUMA node read from SysFS had negative value (-1), but there must be at least one NUMA node, so returning NUMA node zero\n",
      "2023-01-25 18:47:06.501928: I tensorflow/stream_executor/cuda/cuda_gpu_executor.cc:937] successful NUMA node read from SysFS had negative value (-1), but there must be at least one NUMA node, so returning NUMA node zero\n",
      "2023-01-25 18:47:06.502295: I tensorflow/stream_executor/cuda/cuda_gpu_executor.cc:937] successful NUMA node read from SysFS had negative value (-1), but there must be at least one NUMA node, so returning NUMA node zero\n",
      "2023-01-25 18:47:06.502598: I tensorflow/stream_executor/cuda/cuda_gpu_executor.cc:937] successful NUMA node read from SysFS had negative value (-1), but there must be at least one NUMA node, so returning NUMA node zero\n",
      "2023-01-25 18:47:06.502879: I tensorflow/core/common_runtime/gpu/gpu_device.cc:1510] Created device /job:localhost/replica:0/task:0/device:GPU:0 with 15401 MB memory:  -> device: 0, name: Tesla P100-PCIE-16GB, pci bus id: 0000:00:04.0, compute capability: 6.0\n",
      "2023-01-25 18:47:06.504520: I tensorflow/core/grappler/optimizers/meta_optimizer.cc:1137] Optimization results for grappler item: graph_to_optimize\n",
      "  function_optimizer: function_optimizer did nothing. time = 0.009ms.\n",
      "  function_optimizer: function_optimizer did nothing. time = 0.001ms.\n",
      "\n"
     ]
    },
    {
     "name": "stdout",
     "output_type": "stream",
     "text": [
      "batch_normalization_2/batchnorm/mul (512/512 flops)\n",
      "  sequential/batch_normalization_2/batchnorm/add_1 (512/512 flops)\n",
      "  sequential/batch_normalization_2/batchnorm/add (512/512 flops)\n",
      "  sequential/dense/BiasAdd (512/512 flops)\n",
      "  sequential/activation_3/Softmax (500/500 flops)\n",
      "  sequential/conv2d_1/BiasAdd (256/256 flops)\n",
      "  sequential/dense_1/BiasAdd (100/100 flops)\n",
      "\n",
      "======================End of Report==========================\n"
     ]
    }
   ],
   "source": [
    "# вычисление количества операций\n",
    "flops = get_flops(model, batch_size=1)\n",
    "print(f\"FLOPs: {(flops / 1e6):.4f}e6\")"
   ]
  },
  {
   "cell_type": "code",
   "execution_count": 11,
   "metadata": {
    "execution": {
     "iopub.execute_input": "2023-01-25T18:47:06.581504Z",
     "iopub.status.busy": "2023-01-25T18:47:06.580795Z",
     "iopub.status.idle": "2023-01-25T18:47:06.590362Z",
     "shell.execute_reply": "2023-01-25T18:47:06.589089Z",
     "shell.execute_reply.started": "2023-01-25T18:47:06.581465Z"
    }
   },
   "outputs": [
    {
     "name": "stdout",
     "output_type": "stream",
     "text": [
      "Model: \"sequential\"\n",
      "_________________________________________________________________\n",
      "Layer (type)                 Output Shape              Param #   \n",
      "=================================================================\n",
      "conv2d (Conv2D)              (None, 16, 16, 16)        448       \n",
      "_________________________________________________________________\n",
      "batch_normalization (BatchNo (None, 16, 16, 16)        64        \n",
      "_________________________________________________________________\n",
      "activation (Activation)      (None, 16, 16, 16)        0         \n",
      "_________________________________________________________________\n",
      "max_pooling2d (MaxPooling2D) (None, 8, 8, 16)          0         \n",
      "_________________________________________________________________\n",
      "dropout (Dropout)            (None, 8, 8, 16)          0         \n",
      "_________________________________________________________________\n",
      "conv2d_1 (Conv2D)            (None, 4, 4, 16)          2320      \n",
      "_________________________________________________________________\n",
      "batch_normalization_1 (Batch (None, 4, 4, 16)          64        \n",
      "_________________________________________________________________\n",
      "activation_1 (Activation)    (None, 4, 4, 16)          0         \n",
      "_________________________________________________________________\n",
      "flatten (Flatten)            (None, 256)               0         \n",
      "_________________________________________________________________\n",
      "dense (Dense)                (None, 512)               131584    \n",
      "_________________________________________________________________\n",
      "batch_normalization_2 (Batch (None, 512)               2048      \n",
      "_________________________________________________________________\n",
      "activation_2 (Activation)    (None, 512)               0         \n",
      "_________________________________________________________________\n",
      "dropout_1 (Dropout)          (None, 512)               0         \n",
      "_________________________________________________________________\n",
      "dense_1 (Dense)              (None, 100)               51300     \n",
      "_________________________________________________________________\n",
      "activation_3 (Activation)    (None, 100)               0         \n",
      "=================================================================\n",
      "Total params: 187,828\n",
      "Trainable params: 186,740\n",
      "Non-trainable params: 1,088\n",
      "_________________________________________________________________\n"
     ]
    }
   ],
   "source": [
    "# вывод краткой информации о модели\n",
    "model.summary()"
   ]
  },
  {
   "cell_type": "code",
   "execution_count": 12,
   "metadata": {
    "execution": {
     "iopub.execute_input": "2023-01-25T18:47:06.592903Z",
     "iopub.status.busy": "2023-01-25T18:47:06.592513Z",
     "iopub.status.idle": "2023-01-25T18:47:06.608688Z",
     "shell.execute_reply": "2023-01-25T18:47:06.607660Z",
     "shell.execute_reply.started": "2023-01-25T18:47:06.592866Z"
    }
   },
   "outputs": [],
   "source": [
    "# параметры данной ячейки могут быть изменены для получения более высокой точности\n",
    "model.compile(\n",
    "    optimizer=tf.keras.optimizers.Adam(\n",
    "        learning_rate=tf.keras.optimizers.schedules.ExponentialDecay(initial_learning_rate=LEARNING_RATE, decay_steps=1000, decay_rate=0.5)\n",
    "    ),\n",
    "    loss=tf.keras.losses.CategoricalCrossentropy(),\n",
    "    metrics=['accuracy']\n",
    ")"
   ]
  },
  {
   "cell_type": "code",
   "execution_count": 13,
   "metadata": {
    "execution": {
     "iopub.execute_input": "2023-01-25T18:47:06.610865Z",
     "iopub.status.busy": "2023-01-25T18:47:06.610355Z",
     "iopub.status.idle": "2023-01-25T18:48:22.460693Z",
     "shell.execute_reply": "2023-01-25T18:48:22.459572Z",
     "shell.execute_reply.started": "2023-01-25T18:47:06.610829Z"
    }
   },
   "outputs": [
    {
     "name": "stderr",
     "output_type": "stream",
     "text": [
      "2023-01-25 18:47:07.281941: I tensorflow/compiler/mlir/mlir_graph_optimization_pass.cc:185] None of the MLIR Optimization Passes are enabled (registered 2)\n"
     ]
    },
    {
     "name": "stdout",
     "output_type": "stream",
     "text": [
      "Epoch 1/40\n"
     ]
    },
    {
     "name": "stderr",
     "output_type": "stream",
     "text": [
      "2023-01-25 18:47:08.222974: I tensorflow/stream_executor/cuda/cuda_dnn.cc:369] Loaded cuDNN version 8005\n"
     ]
    },
    {
     "name": "stdout",
     "output_type": "stream",
     "text": [
      "391/391 [==============================] - 4s 6ms/step - loss: 3.6043 - accuracy: 0.1638 - val_loss: 3.2702 - val_accuracy: 0.2303\n",
      "Epoch 2/40\n",
      "391/391 [==============================] - 2s 5ms/step - loss: 3.0195 - accuracy: 0.2554 - val_loss: 2.9336 - val_accuracy: 0.2792\n",
      "Epoch 3/40\n",
      "391/391 [==============================] - 2s 4ms/step - loss: 2.7848 - accuracy: 0.3009 - val_loss: 2.7385 - val_accuracy: 0.3182\n",
      "Epoch 4/40\n",
      "391/391 [==============================] - 2s 5ms/step - loss: 2.6295 - accuracy: 0.3306 - val_loss: 2.6419 - val_accuracy: 0.3414\n",
      "Epoch 5/40\n",
      "391/391 [==============================] - 2s 5ms/step - loss: 2.5016 - accuracy: 0.3576 - val_loss: 2.6016 - val_accuracy: 0.3540\n",
      "Epoch 6/40\n",
      "391/391 [==============================] - 2s 4ms/step - loss: 2.4101 - accuracy: 0.3757 - val_loss: 2.4746 - val_accuracy: 0.3762\n",
      "Epoch 7/40\n",
      "391/391 [==============================] - 2s 5ms/step - loss: 2.3254 - accuracy: 0.3951 - val_loss: 2.4676 - val_accuracy: 0.3771\n",
      "Epoch 8/40\n",
      "391/391 [==============================] - 2s 4ms/step - loss: 2.2800 - accuracy: 0.4030 - val_loss: 2.4258 - val_accuracy: 0.3884\n",
      "Epoch 9/40\n",
      "391/391 [==============================] - 2s 4ms/step - loss: 2.2295 - accuracy: 0.4148 - val_loss: 2.4113 - val_accuracy: 0.3903\n",
      "Epoch 10/40\n",
      "391/391 [==============================] - 2s 4ms/step - loss: 2.1909 - accuracy: 0.4230 - val_loss: 2.3916 - val_accuracy: 0.3994\n",
      "Epoch 11/40\n",
      "391/391 [==============================] - 2s 5ms/step - loss: 2.1663 - accuracy: 0.4288 - val_loss: 2.3826 - val_accuracy: 0.3998\n",
      "Epoch 12/40\n",
      "391/391 [==============================] - 2s 4ms/step - loss: 2.1407 - accuracy: 0.4319 - val_loss: 2.3790 - val_accuracy: 0.4046\n",
      "Epoch 13/40\n",
      "391/391 [==============================] - 2s 4ms/step - loss: 2.1292 - accuracy: 0.4368 - val_loss: 2.3720 - val_accuracy: 0.4035\n",
      "Epoch 14/40\n",
      "391/391 [==============================] - 2s 4ms/step - loss: 2.1125 - accuracy: 0.4378 - val_loss: 2.3713 - val_accuracy: 0.4038\n",
      "Epoch 15/40\n",
      "391/391 [==============================] - 2s 4ms/step - loss: 2.1069 - accuracy: 0.4430 - val_loss: 2.3686 - val_accuracy: 0.4043\n",
      "Epoch 16/40\n",
      "391/391 [==============================] - 2s 4ms/step - loss: 2.0879 - accuracy: 0.4448 - val_loss: 2.3680 - val_accuracy: 0.4040\n",
      "Epoch 17/40\n",
      "391/391 [==============================] - 2s 5ms/step - loss: 2.0948 - accuracy: 0.4423 - val_loss: 2.3686 - val_accuracy: 0.4040\n",
      "Epoch 18/40\n",
      "391/391 [==============================] - 2s 5ms/step - loss: 2.0905 - accuracy: 0.4459 - val_loss: 2.3701 - val_accuracy: 0.4057\n",
      "Epoch 19/40\n",
      "391/391 [==============================] - 2s 5ms/step - loss: 2.0863 - accuracy: 0.4479 - val_loss: 2.3647 - val_accuracy: 0.4063\n",
      "Epoch 20/40\n",
      "391/391 [==============================] - 2s 4ms/step - loss: 2.0811 - accuracy: 0.4447 - val_loss: 2.3661 - val_accuracy: 0.4064\n",
      "Epoch 21/40\n",
      "391/391 [==============================] - 2s 4ms/step - loss: 2.0748 - accuracy: 0.4471 - val_loss: 2.3648 - val_accuracy: 0.4070\n",
      "Epoch 22/40\n",
      "391/391 [==============================] - 2s 4ms/step - loss: 2.0743 - accuracy: 0.4466 - val_loss: 2.3654 - val_accuracy: 0.4062\n",
      "Epoch 23/40\n",
      "391/391 [==============================] - 2s 5ms/step - loss: 2.0732 - accuracy: 0.4489 - val_loss: 2.3649 - val_accuracy: 0.4071\n",
      "Epoch 24/40\n",
      "391/391 [==============================] - 2s 5ms/step - loss: 2.0775 - accuracy: 0.4494 - val_loss: 2.3650 - val_accuracy: 0.4074\n",
      "Epoch 25/40\n",
      "391/391 [==============================] - 2s 4ms/step - loss: 2.0790 - accuracy: 0.4471 - val_loss: 2.3647 - val_accuracy: 0.4074\n",
      "Epoch 26/40\n",
      "391/391 [==============================] - 2s 4ms/step - loss: 2.0714 - accuracy: 0.4509 - val_loss: 2.3648 - val_accuracy: 0.4077\n",
      "Epoch 27/40\n",
      "391/391 [==============================] - 2s 4ms/step - loss: 2.0766 - accuracy: 0.4452 - val_loss: 2.3651 - val_accuracy: 0.4062\n",
      "Epoch 28/40\n",
      "391/391 [==============================] - 2s 4ms/step - loss: 2.0704 - accuracy: 0.4507 - val_loss: 2.3645 - val_accuracy: 0.4073\n",
      "Epoch 29/40\n",
      "391/391 [==============================] - 2s 5ms/step - loss: 2.0772 - accuracy: 0.4479 - val_loss: 2.3640 - val_accuracy: 0.4078\n",
      "Epoch 30/40\n",
      "391/391 [==============================] - 2s 5ms/step - loss: 2.0756 - accuracy: 0.4490 - val_loss: 2.3651 - val_accuracy: 0.4069\n",
      "Epoch 31/40\n",
      "391/391 [==============================] - 2s 5ms/step - loss: 2.0690 - accuracy: 0.4493 - val_loss: 2.3640 - val_accuracy: 0.4071\n",
      "Epoch 32/40\n",
      "391/391 [==============================] - 2s 4ms/step - loss: 2.0735 - accuracy: 0.4474 - val_loss: 2.3650 - val_accuracy: 0.4068\n",
      "Epoch 33/40\n",
      "391/391 [==============================] - 2s 4ms/step - loss: 2.0772 - accuracy: 0.4476 - val_loss: 2.3648 - val_accuracy: 0.4071\n",
      "Epoch 34/40\n",
      "391/391 [==============================] - 2s 4ms/step - loss: 2.0756 - accuracy: 0.4490 - val_loss: 2.3643 - val_accuracy: 0.4069\n",
      "Epoch 35/40\n",
      "391/391 [==============================] - 2s 5ms/step - loss: 2.0771 - accuracy: 0.4474 - val_loss: 2.3644 - val_accuracy: 0.4067\n",
      "Epoch 36/40\n",
      "391/391 [==============================] - 2s 6ms/step - loss: 2.0727 - accuracy: 0.4484 - val_loss: 2.3646 - val_accuracy: 0.4071\n",
      "Epoch 37/40\n",
      "391/391 [==============================] - 2s 5ms/step - loss: 2.0730 - accuracy: 0.4490 - val_loss: 2.3643 - val_accuracy: 0.4078\n",
      "Epoch 38/40\n",
      "391/391 [==============================] - 2s 4ms/step - loss: 2.0717 - accuracy: 0.4496 - val_loss: 2.3646 - val_accuracy: 0.4073\n",
      "Epoch 39/40\n",
      "391/391 [==============================] - 2s 4ms/step - loss: 2.0708 - accuracy: 0.4494 - val_loss: 2.3643 - val_accuracy: 0.4073\n",
      "Epoch 40/40\n",
      "391/391 [==============================] - 2s 5ms/step - loss: 2.0755 - accuracy: 0.4508 - val_loss: 2.3640 - val_accuracy: 0.4074\n"
     ]
    },
    {
     "data": {
      "text/plain": [
       "<keras.callbacks.History at 0x7fdae74d6bd0>"
      ]
     },
     "execution_count": 13,
     "metadata": {},
     "output_type": "execute_result"
    }
   ],
   "source": [
    "# обучения модели\n",
    "model.fit(\n",
    "    x=X_train,\n",
    "    y=y_train,\n",
    "    validation_data=(X_val, y_val),\n",
    "    batch_size=BATCH_SIZE,\n",
    "    callbacks=[\n",
    "        tf.keras.callbacks.ModelCheckpoint(filepath=\"{epoch:02d}-{val_accuracy:.2f}.hdf5\", save_best_only=True),\n",
    "        \n",
    "    ],\n",
    "    use_multiprocessing=True,\n",
    "    workers=8,\n",
    "    epochs=40\n",
    ")"
   ]
  }
 ],
 "metadata": {
  "kernelspec": {
   "display_name": "Python 3 (ipykernel)",
   "language": "python",
   "name": "python3"
  },
  "language_info": {
   "codemirror_mode": {
    "name": "ipython",
    "version": 3
   },
   "file_extension": ".py",
   "mimetype": "text/x-python",
   "name": "python",
   "nbconvert_exporter": "python",
   "pygments_lexer": "ipython3",
   "version": "3.9.12"
  }
 },
 "nbformat": 4,
 "nbformat_minor": 4
}
