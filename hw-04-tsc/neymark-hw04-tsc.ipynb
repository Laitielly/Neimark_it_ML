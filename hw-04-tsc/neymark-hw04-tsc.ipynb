{
 "cells": [
  {
   "cell_type": "code",
   "execution_count": 1,
   "metadata": {
    "_cell_guid": "b1076dfc-b9ad-4769-8c92-a6c4dae69d19",
    "_uuid": "8f2839f25d086af736a60e9eeb907d3b93b6e0e5",
    "execution": {
     "iopub.execute_input": "2023-02-12T15:49:01.916234Z",
     "iopub.status.busy": "2023-02-12T15:49:01.915454Z",
     "iopub.status.idle": "2023-02-12T15:49:03.387804Z",
     "shell.execute_reply": "2023-02-12T15:49:03.386472Z",
     "shell.execute_reply.started": "2023-02-12T15:49:01.916136Z"
    }
   },
   "outputs": [],
   "source": [
    "import pandas as pd\n",
    "import numpy as np\n",
    "import matplotlib.pyplot as plt\n",
    "import seaborn as sns\n",
    "from sklearn.metrics import confusion_matrix"
   ]
  },
  {
   "cell_type": "code",
   "execution_count": 2,
   "metadata": {
    "execution": {
     "iopub.execute_input": "2023-02-12T15:49:17.910832Z",
     "iopub.status.busy": "2023-02-12T15:49:17.910425Z",
     "iopub.status.idle": "2023-02-12T15:49:17.919878Z",
     "shell.execute_reply": "2023-02-12T15:49:17.918177Z",
     "shell.execute_reply.started": "2023-02-12T15:49:17.910799Z"
    }
   },
   "outputs": [],
   "source": [
    "def cm_plot(y_test, y_pred):\n",
    "\n",
    "    cm = confusion_matrix(y_test, y_pred)\n",
    "    # Normalise\n",
    "    cmn = cm.astype('float') / cm.sum(axis=1)[:, np.newaxis]\n",
    "    fig, ax = plt.subplots(figsize=(5,5))\n",
    "    sns.heatmap(cmn, cmap='Blues', annot=True, fmt='.2f')\n",
    "    sns.set(font_scale=1.3)\n",
    "    plt.title(\"Confusion Matrix\")\n",
    "\n",
    "    return plt.show()"
   ]
  },
  {
   "cell_type": "code",
   "execution_count": 197,
   "metadata": {
    "execution": {
     "iopub.execute_input": "2023-02-12T20:12:48.593717Z",
     "iopub.status.busy": "2023-02-12T20:12:48.593264Z",
     "iopub.status.idle": "2023-02-12T20:12:48.628550Z",
     "shell.execute_reply": "2023-02-12T20:12:48.627543Z",
     "shell.execute_reply.started": "2023-02-12T20:12:48.593683Z"
    }
   },
   "outputs": [],
   "source": [
    "X = np.load(\"/kaggle/input/neymark-tsc/train_x.npy\")\n",
    "y = np.load(\"/kaggle/input/neymark-tsc/train_y.npy\")\n",
    "X_test_real = np.load(\"/kaggle/input/neymark-tsc/test_x.npy\")"
   ]
  },
  {
   "cell_type": "code",
   "execution_count": 5,
   "metadata": {
    "execution": {
     "iopub.execute_input": "2023-02-12T15:50:39.272713Z",
     "iopub.status.busy": "2023-02-12T15:50:39.272313Z",
     "iopub.status.idle": "2023-02-12T15:50:39.283021Z",
     "shell.execute_reply": "2023-02-12T15:50:39.282078Z",
     "shell.execute_reply.started": "2023-02-12T15:50:39.272680Z"
    }
   },
   "outputs": [
    {
     "data": {
      "text/plain": [
       "(14667, 187)"
      ]
     },
     "execution_count": 5,
     "metadata": {},
     "output_type": "execute_result"
    }
   ],
   "source": [
    "X_train.shape"
   ]
  },
  {
   "cell_type": "code",
   "execution_count": 6,
   "metadata": {
    "execution": {
     "iopub.execute_input": "2023-02-12T15:50:49.943896Z",
     "iopub.status.busy": "2023-02-12T15:50:49.942846Z",
     "iopub.status.idle": "2023-02-12T15:50:49.951010Z",
     "shell.execute_reply": "2023-02-12T15:50:49.949663Z",
     "shell.execute_reply.started": "2023-02-12T15:50:49.943843Z"
    }
   },
   "outputs": [
    {
     "data": {
      "text/plain": [
       "(7225, 187)"
      ]
     },
     "execution_count": 6,
     "metadata": {},
     "output_type": "execute_result"
    }
   ],
   "source": [
    "X_test_real.shape"
   ]
  },
  {
   "cell_type": "code",
   "execution_count": 7,
   "metadata": {
    "_kg_hide-output": true,
    "collapsed": true,
    "execution": {
     "iopub.execute_input": "2023-02-12T15:51:02.195861Z",
     "iopub.status.busy": "2023-02-12T15:51:02.195405Z",
     "iopub.status.idle": "2023-02-12T15:51:18.608616Z",
     "shell.execute_reply": "2023-02-12T15:51:18.607070Z",
     "shell.execute_reply.started": "2023-02-12T15:51:02.195827Z"
    },
    "jupyter": {
     "outputs_hidden": true
    }
   },
   "outputs": [
    {
     "name": "stdout",
     "output_type": "stream",
     "text": [
      "Collecting sktime\n",
      "  Downloading sktime-0.16.0-py3-none-any.whl (16.0 MB)\n",
      "\u001b[2K     \u001b[90m━━━━━━━━━━━━━━━━━━━━━━━━━━━━━━━━━━━━━━━━\u001b[0m \u001b[32m16.0/16.0 MB\u001b[0m \u001b[31m32.9 MB/s\u001b[0m eta \u001b[36m0:00:00\u001b[0m00:01\u001b[0m00:01\u001b[0m\n",
      "\u001b[?25hRequirement already satisfied: scipy<2.0.0,>=1.2.0 in /opt/conda/lib/python3.7/site-packages (from sktime) (1.7.3)\n",
      "Requirement already satisfied: numpy<1.25,>=1.21.0 in /opt/conda/lib/python3.7/site-packages (from sktime) (1.21.6)\n",
      "Collecting deprecated>=1.2.13\n",
      "  Downloading Deprecated-1.2.13-py2.py3-none-any.whl (9.6 kB)\n",
      "Requirement already satisfied: pandas<1.6.0,>=1.1.0 in /opt/conda/lib/python3.7/site-packages (from sktime) (1.3.5)\n",
      "Requirement already satisfied: numba>=0.55 in /opt/conda/lib/python3.7/site-packages (from sktime) (0.55.2)\n",
      "Requirement already satisfied: scikit-learn<1.3.0,>=0.24.0 in /opt/conda/lib/python3.7/site-packages (from sktime) (1.0.2)\n",
      "Requirement already satisfied: wrapt<2,>=1.10 in /opt/conda/lib/python3.7/site-packages (from deprecated>=1.2.13->sktime) (1.12.1)\n",
      "Requirement already satisfied: llvmlite<0.39,>=0.38.0rc1 in /opt/conda/lib/python3.7/site-packages (from numba>=0.55->sktime) (0.38.1)\n",
      "Requirement already satisfied: setuptools in /opt/conda/lib/python3.7/site-packages (from numba>=0.55->sktime) (59.8.0)\n",
      "Requirement already satisfied: python-dateutil>=2.7.3 in /opt/conda/lib/python3.7/site-packages (from pandas<1.6.0,>=1.1.0->sktime) (2.8.2)\n",
      "Requirement already satisfied: pytz>=2017.3 in /opt/conda/lib/python3.7/site-packages (from pandas<1.6.0,>=1.1.0->sktime) (2022.1)\n",
      "Requirement already satisfied: threadpoolctl>=2.0.0 in /opt/conda/lib/python3.7/site-packages (from scikit-learn<1.3.0,>=0.24.0->sktime) (3.1.0)\n",
      "Requirement already satisfied: joblib>=0.11 in /opt/conda/lib/python3.7/site-packages (from scikit-learn<1.3.0,>=0.24.0->sktime) (1.0.1)\n",
      "Requirement already satisfied: six>=1.5 in /opt/conda/lib/python3.7/site-packages (from python-dateutil>=2.7.3->pandas<1.6.0,>=1.1.0->sktime) (1.15.0)\n",
      "Installing collected packages: deprecated, sktime\n",
      "Successfully installed deprecated-1.2.13 sktime-0.16.0\n",
      "\u001b[33mWARNING: Running pip as the 'root' user can result in broken permissions and conflicting behaviour with the system package manager. It is recommended to use a virtual environment instead: https://pip.pypa.io/warnings/venv\u001b[0m\u001b[33m\n",
      "\u001b[0m"
     ]
    }
   ],
   "source": [
    "!pip install sktime"
   ]
  },
  {
   "cell_type": "code",
   "execution_count": 10,
   "metadata": {
    "execution": {
     "iopub.execute_input": "2023-02-12T15:52:35.829439Z",
     "iopub.status.busy": "2023-02-12T15:52:35.828910Z",
     "iopub.status.idle": "2023-02-12T15:52:35.858388Z",
     "shell.execute_reply": "2023-02-12T15:52:35.856764Z",
     "shell.execute_reply.started": "2023-02-12T15:52:35.829401Z"
    }
   },
   "outputs": [],
   "source": [
    "from sklearn.model_selection import train_test_split\n",
    "X_train, X_val, y_train, y_val = train_test_split(X_train, y_train, test_size=0.3, random_state=1)"
   ]
  },
  {
   "cell_type": "code",
   "execution_count": 11,
   "metadata": {
    "execution": {
     "iopub.execute_input": "2023-02-12T15:54:58.119686Z",
     "iopub.status.busy": "2023-02-12T15:54:58.119274Z",
     "iopub.status.idle": "2023-02-12T16:16:50.572022Z",
     "shell.execute_reply": "2023-02-12T16:16:50.570949Z",
     "shell.execute_reply.started": "2023-02-12T15:54:58.119655Z"
    }
   },
   "outputs": [
    {
     "data": {
      "image/png": "[encoded data removed]",
      "text/plain": [
       "<Figure size 360x360 with 2 Axes>"
      ]
     },
     "metadata": {
      "needs_background": "light"
     },
     "output_type": "display_data"
    }
   ],
   "source": [
    "from sktime.classification.kernel_based import RocketClassifier\n",
    "\n",
    "rocket = RocketClassifier(num_kernels=2500)\n",
    "\n",
    "rocket.fit(X_train, y_train)\n",
    "predictions = rocket.predict(X_val)\n",
    "\n",
    "cm_plot(y_val, predictions)"
   ]
  },
  {
   "cell_type": "code",
   "execution_count": 14,
   "metadata": {
    "execution": {
     "iopub.execute_input": "2023-02-12T16:27:52.749174Z",
     "iopub.status.busy": "2023-02-12T16:27:52.748675Z",
     "iopub.status.idle": "2023-02-12T16:27:52.755727Z",
     "shell.execute_reply": "2023-02-12T16:27:52.754340Z",
     "shell.execute_reply.started": "2023-02-12T16:27:52.749132Z"
    }
   },
   "outputs": [],
   "source": [
    "from sklearn.metrics import f1_score, accuracy_score"
   ]
  },
  {
   "cell_type": "code",
   "execution_count": 16,
   "metadata": {
    "execution": {
     "iopub.execute_input": "2023-02-12T16:28:19.574133Z",
     "iopub.status.busy": "2023-02-12T16:28:19.573602Z",
     "iopub.status.idle": "2023-02-12T16:28:19.586323Z",
     "shell.execute_reply": "2023-02-12T16:28:19.585241Z",
     "shell.execute_reply.started": "2023-02-12T16:28:19.574089Z"
    }
   },
   "outputs": [
    {
     "data": {
      "text/plain": [
       "0.871024990907632"
      ]
     },
     "execution_count": 16,
     "metadata": {},
     "output_type": "execute_result"
    }
   ],
   "source": [
    "f1_score(y_val, predictions, average=\"macro\")"
   ]
  },
  {
   "cell_type": "code",
   "execution_count": 18,
   "metadata": {
    "execution": {
     "iopub.execute_input": "2023-02-12T16:28:49.181602Z",
     "iopub.status.busy": "2023-02-12T16:28:49.181176Z",
     "iopub.status.idle": "2023-02-12T16:28:49.191147Z",
     "shell.execute_reply": "2023-02-12T16:28:49.189533Z",
     "shell.execute_reply.started": "2023-02-12T16:28:49.181565Z"
    }
   },
   "outputs": [
    {
     "data": {
      "text/plain": [
       "0.977050670302204"
      ]
     },
     "execution_count": 18,
     "metadata": {},
     "output_type": "execute_result"
    }
   ],
   "source": [
    "accuracy_score(y_val, predictions)"
   ]
  },
  {
   "cell_type": "code",
   "execution_count": 19,
   "metadata": {
    "execution": {
     "iopub.execute_input": "2023-02-12T16:29:05.301163Z",
     "iopub.status.busy": "2023-02-12T16:29:05.300764Z",
     "iopub.status.idle": "2023-02-12T16:32:11.235496Z",
     "shell.execute_reply": "2023-02-12T16:32:11.233307Z",
     "shell.execute_reply.started": "2023-02-12T16:29:05.301131Z"
    }
   },
   "outputs": [],
   "source": [
    "y_pred = rocket.predict(X_test_real)"
   ]
  },
  {
   "cell_type": "markdown",
   "metadata": {},
   "source": [
    "score = 0.86421"
   ]
  },
  {
   "cell_type": "code",
   "execution_count": 20,
   "metadata": {
    "execution": {
     "iopub.execute_input": "2023-02-12T16:32:11.245444Z",
     "iopub.status.busy": "2023-02-12T16:32:11.244344Z",
     "iopub.status.idle": "2023-02-12T16:32:11.341997Z",
     "shell.execute_reply": "2023-02-12T16:32:11.341157Z",
     "shell.execute_reply.started": "2023-02-12T16:32:11.245374Z"
    }
   },
   "outputs": [
    {
     "data": {
      "text/html": [
       "<div>\n",
       "<style scoped>\n",
       "    .dataframe tbody tr th:only-of-type {\n",
       "        vertical-align: middle;\n",
       "    }\n",
       "\n",
       "    .dataframe tbody tr th {\n",
       "        vertical-align: top;\n",
       "    }\n",
       "\n",
       "    .dataframe thead th {\n",
       "        text-align: right;\n",
       "    }\n",
       "</style>\n",
       "<table border=\"1\" class=\"dataframe\">\n",
       "  <thead>\n",
       "    <tr style=\"text-align: right;\">\n",
       "      <th></th>\n",
       "      <th>ID</th>\n",
       "      <th>Answer</th>\n",
       "    </tr>\n",
       "  </thead>\n",
       "  <tbody>\n",
       "    <tr>\n",
       "      <th>0</th>\n",
       "      <td>0</td>\n",
       "      <td>0</td>\n",
       "    </tr>\n",
       "    <tr>\n",
       "      <th>1</th>\n",
       "      <td>1</td>\n",
       "      <td>0</td>\n",
       "    </tr>\n",
       "    <tr>\n",
       "      <th>2</th>\n",
       "      <td>2</td>\n",
       "      <td>0</td>\n",
       "    </tr>\n",
       "    <tr>\n",
       "      <th>3</th>\n",
       "      <td>3</td>\n",
       "      <td>2</td>\n",
       "    </tr>\n",
       "    <tr>\n",
       "      <th>4</th>\n",
       "      <td>4</td>\n",
       "      <td>0</td>\n",
       "    </tr>\n",
       "    <tr>\n",
       "      <th>...</th>\n",
       "      <td>...</td>\n",
       "      <td>...</td>\n",
       "    </tr>\n",
       "    <tr>\n",
       "      <th>7220</th>\n",
       "      <td>7220</td>\n",
       "      <td>0</td>\n",
       "    </tr>\n",
       "    <tr>\n",
       "      <th>7221</th>\n",
       "      <td>7221</td>\n",
       "      <td>2</td>\n",
       "    </tr>\n",
       "    <tr>\n",
       "      <th>7222</th>\n",
       "      <td>7222</td>\n",
       "      <td>0</td>\n",
       "    </tr>\n",
       "    <tr>\n",
       "      <th>7223</th>\n",
       "      <td>7223</td>\n",
       "      <td>0</td>\n",
       "    </tr>\n",
       "    <tr>\n",
       "      <th>7224</th>\n",
       "      <td>7224</td>\n",
       "      <td>0</td>\n",
       "    </tr>\n",
       "  </tbody>\n",
       "</table>\n",
       "<p>7225 rows × 2 columns</p>\n",
       "</div>"
      ],
      "text/plain": [
       "        ID Answer\n",
       "0        0      0\n",
       "1        1      0\n",
       "2        2      0\n",
       "3        3      2\n",
       "4        4      0\n",
       "...    ...    ...\n",
       "7220  7220      0\n",
       "7221  7221      2\n",
       "7222  7222      0\n",
       "7223  7223      0\n",
       "7224  7224      0\n",
       "\n",
       "[7225 rows x 2 columns]"
      ]
     },
     "execution_count": 20,
     "metadata": {},
     "output_type": "execute_result"
    }
   ],
   "source": [
    "# y_pred_csv = pd.DataFrame(list(range(len(y_pred))), columns=[\"Id\"])\n",
    "y_pred_csv = pd.DataFrame()\n",
    "y_pred_csv[\"ID\"] = np.array(range(len(y_pred))).astype(int).astype(str)\n",
    "y_pred_csv[\"Answer\"] = np.array(y_pred).astype(int).astype(str)\n",
    "y_pred_csv.to_csv(\"testing_submission.csv\", index=False)\n",
    "y_pred_csv"
   ]
  },
  {
   "cell_type": "code",
   "execution_count": 22,
   "metadata": {
    "execution": {
     "iopub.execute_input": "2023-02-12T16:35:45.051174Z",
     "iopub.status.busy": "2023-02-12T16:35:45.049850Z",
     "iopub.status.idle": "2023-02-12T17:11:19.411838Z",
     "shell.execute_reply": "2023-02-12T17:11:19.409833Z",
     "shell.execute_reply.started": "2023-02-12T16:35:45.051115Z"
    }
   },
   "outputs": [],
   "source": [
    "rocket = RocketClassifier(num_kernels=2500, random_state=1)\n",
    "\n",
    "rocket.fit(X, y)\n",
    "y_pred = rocket.predict(X_test_real)"
   ]
  },
  {
   "cell_type": "markdown",
   "metadata": {},
   "source": [
    "score = 0.85973"
   ]
  },
  {
   "cell_type": "code",
   "execution_count": 23,
   "metadata": {
    "execution": {
     "iopub.execute_input": "2023-02-12T17:16:43.987034Z",
     "iopub.status.busy": "2023-02-12T17:16:43.986552Z",
     "iopub.status.idle": "2023-02-12T17:16:44.029572Z",
     "shell.execute_reply": "2023-02-12T17:16:44.028314Z",
     "shell.execute_reply.started": "2023-02-12T17:16:43.986998Z"
    }
   },
   "outputs": [
    {
     "data": {
      "text/html": [
       "<div>\n",
       "<style scoped>\n",
       "    .dataframe tbody tr th:only-of-type {\n",
       "        vertical-align: middle;\n",
       "    }\n",
       "\n",
       "    .dataframe tbody tr th {\n",
       "        vertical-align: top;\n",
       "    }\n",
       "\n",
       "    .dataframe thead th {\n",
       "        text-align: right;\n",
       "    }\n",
       "</style>\n",
       "<table border=\"1\" class=\"dataframe\">\n",
       "  <thead>\n",
       "    <tr style=\"text-align: right;\">\n",
       "      <th></th>\n",
       "      <th>ID</th>\n",
       "      <th>Answer</th>\n",
       "    </tr>\n",
       "  </thead>\n",
       "  <tbody>\n",
       "    <tr>\n",
       "      <th>0</th>\n",
       "      <td>0</td>\n",
       "      <td>0</td>\n",
       "    </tr>\n",
       "    <tr>\n",
       "      <th>1</th>\n",
       "      <td>1</td>\n",
       "      <td>0</td>\n",
       "    </tr>\n",
       "    <tr>\n",
       "      <th>2</th>\n",
       "      <td>2</td>\n",
       "      <td>0</td>\n",
       "    </tr>\n",
       "    <tr>\n",
       "      <th>3</th>\n",
       "      <td>3</td>\n",
       "      <td>2</td>\n",
       "    </tr>\n",
       "    <tr>\n",
       "      <th>4</th>\n",
       "      <td>4</td>\n",
       "      <td>0</td>\n",
       "    </tr>\n",
       "    <tr>\n",
       "      <th>...</th>\n",
       "      <td>...</td>\n",
       "      <td>...</td>\n",
       "    </tr>\n",
       "    <tr>\n",
       "      <th>7220</th>\n",
       "      <td>7220</td>\n",
       "      <td>0</td>\n",
       "    </tr>\n",
       "    <tr>\n",
       "      <th>7221</th>\n",
       "      <td>7221</td>\n",
       "      <td>2</td>\n",
       "    </tr>\n",
       "    <tr>\n",
       "      <th>7222</th>\n",
       "      <td>7222</td>\n",
       "      <td>0</td>\n",
       "    </tr>\n",
       "    <tr>\n",
       "      <th>7223</th>\n",
       "      <td>7223</td>\n",
       "      <td>0</td>\n",
       "    </tr>\n",
       "    <tr>\n",
       "      <th>7224</th>\n",
       "      <td>7224</td>\n",
       "      <td>0</td>\n",
       "    </tr>\n",
       "  </tbody>\n",
       "</table>\n",
       "<p>7225 rows × 2 columns</p>\n",
       "</div>"
      ],
      "text/plain": [
       "        ID Answer\n",
       "0        0      0\n",
       "1        1      0\n",
       "2        2      0\n",
       "3        3      2\n",
       "4        4      0\n",
       "...    ...    ...\n",
       "7220  7220      0\n",
       "7221  7221      2\n",
       "7222  7222      0\n",
       "7223  7223      0\n",
       "7224  7224      0\n",
       "\n",
       "[7225 rows x 2 columns]"
      ]
     },
     "execution_count": 23,
     "metadata": {},
     "output_type": "execute_result"
    }
   ],
   "source": [
    "# y_pred_csv = pd.DataFrame(list(range(len(y_pred))), columns=[\"Id\"])\n",
    "y_pred_csv = pd.DataFrame()\n",
    "y_pred_csv[\"ID\"] = np.array(range(len(y_pred))).astype(int).astype(str)\n",
    "y_pred_csv[\"Answer\"] = np.array(y_pred).astype(int).astype(str)\n",
    "y_pred_csv.to_csv(\"testing_submission.csv\", index=False)\n",
    "y_pred_csv"
   ]
  },
  {
   "cell_type": "code",
   "execution_count": null,
   "metadata": {},
   "outputs": [],
   "source": []
  },
  {
   "cell_type": "code",
   "execution_count": 24,
   "metadata": {
    "execution": {
     "iopub.execute_input": "2023-02-12T17:17:42.551731Z",
     "iopub.status.busy": "2023-02-12T17:17:42.551207Z",
     "iopub.status.idle": "2023-02-12T17:17:44.182032Z",
     "shell.execute_reply": "2023-02-12T17:17:44.180631Z",
     "shell.execute_reply.started": "2023-02-12T17:17:42.551690Z"
    }
   },
   "outputs": [],
   "source": [
    "import torch \n",
    "import torch.nn as nn\n",
    "import torch.nn.functional as F\n",
    "import torch.optim as optim\n",
    "from torch.utils.data import TensorDataset, DataLoader, WeightedRandomSampler\n",
    "from torch.optim.lr_scheduler import StepLR\n",
    "\n",
    "from copy import deepcopy"
   ]
  },
  {
   "cell_type": "code",
   "execution_count": 199,
   "metadata": {
    "execution": {
     "iopub.execute_input": "2023-02-12T20:13:03.581720Z",
     "iopub.status.busy": "2023-02-12T20:13:03.581267Z",
     "iopub.status.idle": "2023-02-12T20:13:03.901807Z",
     "shell.execute_reply": "2023-02-12T20:13:03.900559Z",
     "shell.execute_reply.started": "2023-02-12T20:13:03.581684Z"
    }
   },
   "outputs": [],
   "source": [
    "from imblearn.over_sampling import SMOTE\n",
    "\n",
    "sm = SMOTE(random_state=1)\n",
    "X_res, y_res = sm.fit_resample(X, y)"
   ]
  },
  {
   "cell_type": "code",
   "execution_count": 203,
   "metadata": {
    "execution": {
     "iopub.execute_input": "2023-02-12T20:13:45.032103Z",
     "iopub.status.busy": "2023-02-12T20:13:45.031632Z",
     "iopub.status.idle": "2023-02-12T20:13:45.040244Z",
     "shell.execute_reply": "2023-02-12T20:13:45.039406Z",
     "shell.execute_reply.started": "2023-02-12T20:13:45.032066Z"
    }
   },
   "outputs": [
    {
     "name": "stdout",
     "output_type": "stream",
     "text": [
      "unique values: [0. 1. 2. 3. 4.]\n",
      "counts: [12102 12102 12102 12102 12102]\n"
     ]
    }
   ],
   "source": [
    "unique, counts = np.unique(y_res, return_counts=True)\n",
    "print(f'unique values: {unique}')\n",
    "print(f'counts: {counts}')"
   ]
  },
  {
   "cell_type": "code",
   "execution_count": 204,
   "metadata": {
    "execution": {
     "iopub.execute_input": "2023-02-12T20:13:59.608389Z",
     "iopub.status.busy": "2023-02-12T20:13:59.607935Z",
     "iopub.status.idle": "2023-02-12T20:13:59.617373Z",
     "shell.execute_reply": "2023-02-12T20:13:59.615968Z",
     "shell.execute_reply.started": "2023-02-12T20:13:59.608355Z"
    }
   },
   "outputs": [
    {
     "data": {
      "text/plain": [
       "(60510, 1)"
      ]
     },
     "execution_count": 204,
     "metadata": {},
     "output_type": "execute_result"
    }
   ],
   "source": [
    "y_res = y_res.reshape(-1, 1)\n",
    "y_res.shape"
   ]
  },
  {
   "cell_type": "code",
   "execution_count": 205,
   "metadata": {
    "execution": {
     "iopub.execute_input": "2023-02-12T20:14:13.508489Z",
     "iopub.status.busy": "2023-02-12T20:14:13.508002Z",
     "iopub.status.idle": "2023-02-12T20:14:13.517471Z",
     "shell.execute_reply": "2023-02-12T20:14:13.515758Z",
     "shell.execute_reply.started": "2023-02-12T20:14:13.508453Z"
    }
   },
   "outputs": [
    {
     "data": {
      "text/plain": [
       "(60510, 1, 187)"
      ]
     },
     "execution_count": 205,
     "metadata": {},
     "output_type": "execute_result"
    }
   ],
   "source": [
    "X_res = X_res.reshape(-1, 1, 187)\n",
    "X_res.shape"
   ]
  },
  {
   "cell_type": "code",
   "execution_count": 206,
   "metadata": {
    "execution": {
     "iopub.execute_input": "2023-02-12T20:14:24.227861Z",
     "iopub.status.busy": "2023-02-12T20:14:24.227349Z",
     "iopub.status.idle": "2023-02-12T20:14:24.404446Z",
     "shell.execute_reply": "2023-02-12T20:14:24.403092Z",
     "shell.execute_reply.started": "2023-02-12T20:14:24.227825Z"
    }
   },
   "outputs": [
    {
     "data": {
      "text/plain": [
       "(60510, 1, 187)"
      ]
     },
     "execution_count": 206,
     "metadata": {},
     "output_type": "execute_result"
    }
   ],
   "source": [
    "X_mean = X_res.mean()\n",
    "X_std = X_res.std()\n",
    "\n",
    "X_ss = (X_res - X_mean) / X_std\n",
    "X_ss.shape"
   ]
  },
  {
   "cell_type": "code",
   "execution_count": 207,
   "metadata": {
    "execution": {
     "iopub.execute_input": "2023-02-12T20:14:27.058566Z",
     "iopub.status.busy": "2023-02-12T20:14:27.058152Z",
     "iopub.status.idle": "2023-02-12T20:14:27.805016Z",
     "shell.execute_reply": "2023-02-12T20:14:27.803737Z",
     "shell.execute_reply.started": "2023-02-12T20:14:27.058534Z"
    }
   },
   "outputs": [
    {
     "data": {
      "text/plain": [
       "Text(0, 0.5, 'Амплитуда')"
      ]
     },
     "execution_count": 207,
     "metadata": {},
     "output_type": "execute_result"
    },
    {
     "data": {
      "image/png": "[encoded data removed]",
      "text/plain": [
       "<Figure size 1440x720 with 1 Axes>"
      ]
     },
     "metadata": {},
     "output_type": "display_data"
    }
   ],
   "source": [
    "fig, ax = plt.subplots(1, 1, figsize=(20, 10))\n",
    "ax.hist(X_ss.flatten(), bins=100)\n",
    "ax.set_title(f'Распределение')\n",
    "ax.set_xlabel('Время')\n",
    "ax.set_ylabel('Амплитуда')"
   ]
  },
  {
   "cell_type": "code",
   "execution_count": 208,
   "metadata": {
    "execution": {
     "iopub.execute_input": "2023-02-12T20:14:38.285178Z",
     "iopub.status.busy": "2023-02-12T20:14:38.284735Z",
     "iopub.status.idle": "2023-02-12T20:14:38.293168Z",
     "shell.execute_reply": "2023-02-12T20:14:38.291921Z",
     "shell.execute_reply.started": "2023-02-12T20:14:38.285143Z"
    }
   },
   "outputs": [
    {
     "data": {
      "text/plain": [
       "dtype('int64')"
      ]
     },
     "execution_count": 208,
     "metadata": {},
     "output_type": "execute_result"
    }
   ],
   "source": [
    "y_res = y_res.astype('int')\n",
    "y_res.dtype"
   ]
  },
  {
   "cell_type": "code",
   "execution_count": 261,
   "metadata": {
    "execution": {
     "iopub.execute_input": "2023-02-12T20:58:10.949441Z",
     "iopub.status.busy": "2023-02-12T20:58:10.948892Z",
     "iopub.status.idle": "2023-02-12T20:58:11.020402Z",
     "shell.execute_reply": "2023-02-12T20:58:11.018965Z",
     "shell.execute_reply.started": "2023-02-12T20:58:10.949401Z"
    }
   },
   "outputs": [],
   "source": [
    "X_train, X_val, y_train, y_val = train_test_split(X_ss, y_res, \n",
    "                                                  test_size=0.2, \n",
    "                                                  shuffle=True)"
   ]
  },
  {
   "cell_type": "code",
   "execution_count": 262,
   "metadata": {
    "execution": {
     "iopub.execute_input": "2023-02-12T20:58:13.320448Z",
     "iopub.status.busy": "2023-02-12T20:58:13.319481Z",
     "iopub.status.idle": "2023-02-12T20:58:13.327628Z",
     "shell.execute_reply": "2023-02-12T20:58:13.326338Z",
     "shell.execute_reply.started": "2023-02-12T20:58:13.320402Z"
    }
   },
   "outputs": [
    {
     "name": "stdout",
     "output_type": "stream",
     "text": [
      "unique values: [0 1 2 3 4]\n",
      "counts: [2458 2447 2395 2366 2436]\n"
     ]
    }
   ],
   "source": [
    "unique, counts = np.unique(y_val, return_counts=True)\n",
    "print(f'unique values: {unique}')\n",
    "print(f'counts: {counts}')"
   ]
  },
  {
   "cell_type": "code",
   "execution_count": 281,
   "metadata": {
    "execution": {
     "iopub.execute_input": "2023-02-12T21:00:43.292533Z",
     "iopub.status.busy": "2023-02-12T21:00:43.292099Z",
     "iopub.status.idle": "2023-02-12T21:00:43.309960Z",
     "shell.execute_reply": "2023-02-12T21:00:43.308654Z",
     "shell.execute_reply.started": "2023-02-12T21:00:43.292500Z"
    }
   },
   "outputs": [],
   "source": [
    "hyper_params = {'batch_size': 1024,\n",
    "                'lr'        : 1e-3,\n",
    "                'lr_decay'  : 0.3,\n",
    "                'epochs'    : 60 }\n",
    "\n",
    "train = torch.utils.data.TensorDataset(torch.from_numpy(X_train).float(), \n",
    "                                          torch.from_numpy(y_train).long())\n",
    "val = torch.utils.data.TensorDataset(torch.from_numpy(X_val).float(), \n",
    "                                        torch.from_numpy(y_val).long())"
   ]
  },
  {
   "cell_type": "code",
   "execution_count": 264,
   "metadata": {
    "execution": {
     "iopub.execute_input": "2023-02-12T20:58:19.246322Z",
     "iopub.status.busy": "2023-02-12T20:58:19.245803Z",
     "iopub.status.idle": "2023-02-12T20:58:19.255016Z",
     "shell.execute_reply": "2023-02-12T20:58:19.253400Z",
     "shell.execute_reply.started": "2023-02-12T20:58:19.246286Z"
    }
   },
   "outputs": [
    {
     "data": {
      "text/plain": [
       "(48408, 12102)"
      ]
     },
     "execution_count": 264,
     "metadata": {},
     "output_type": "execute_result"
    }
   ],
   "source": [
    "len(train), len(val)"
   ]
  },
  {
   "cell_type": "code",
   "execution_count": 282,
   "metadata": {
    "execution": {
     "iopub.execute_input": "2023-02-12T21:00:45.976353Z",
     "iopub.status.busy": "2023-02-12T21:00:45.975927Z",
     "iopub.status.idle": "2023-02-12T21:00:45.988403Z",
     "shell.execute_reply": "2023-02-12T21:00:45.986773Z",
     "shell.execute_reply.started": "2023-02-12T21:00:45.976321Z"
    }
   },
   "outputs": [
    {
     "data": {
      "text/plain": [
       "array([0.20077721, 0.20054846, 0.19947413, 0.19887997, 0.20032023])"
      ]
     },
     "execution_count": 282,
     "metadata": {},
     "output_type": "execute_result"
    }
   ],
   "source": [
    "class_dist = np.unique(y_train, return_counts=True)[1] \n",
    "class_dist = class_dist/np.sum(class_dist)\n",
    "\n",
    "weights = 1/class_dist\n",
    "weights = weights/weights.sum()\n",
    "weights"
   ]
  },
  {
   "cell_type": "code",
   "execution_count": 152,
   "metadata": {
    "execution": {
     "iopub.execute_input": "2023-02-12T19:51:51.913041Z",
     "iopub.status.busy": "2023-02-12T19:51:51.912605Z",
     "iopub.status.idle": "2023-02-12T19:51:51.920798Z",
     "shell.execute_reply": "2023-02-12T19:51:51.919456Z",
     "shell.execute_reply.started": "2023-02-12T19:51:51.912997Z"
    }
   },
   "outputs": [
    {
     "data": {
      "text/plain": [
       "(11733, 1)"
      ]
     },
     "execution_count": 152,
     "metadata": {},
     "output_type": "execute_result"
    }
   ],
   "source": [
    "y_train.shape"
   ]
  },
  {
   "cell_type": "code",
   "execution_count": 283,
   "metadata": {
    "execution": {
     "iopub.execute_input": "2023-02-12T21:00:48.510692Z",
     "iopub.status.busy": "2023-02-12T21:00:48.510284Z",
     "iopub.status.idle": "2023-02-12T21:00:48.545456Z",
     "shell.execute_reply": "2023-02-12T21:00:48.544194Z",
     "shell.execute_reply.started": "2023-02-12T21:00:48.510659Z"
    }
   },
   "outputs": [
    {
     "data": {
      "text/plain": [
       "array([0.20054846, 0.20054846, 0.19887997, 0.19947413, 0.20054846,\n",
       "       0.20054846, 0.20077721, 0.19947413, 0.20077721, 0.19947413])"
      ]
     },
     "execution_count": 283,
     "metadata": {},
     "output_type": "execute_result"
    }
   ],
   "source": [
    "data_weights = np.zeros(y_train.shape[0])\n",
    "\n",
    "for i in range(y_train.shape[0]):\n",
    "    data_weights[i] = weights[y_train[i, 0]]\n",
    "data_weights[:10]"
   ]
  },
  {
   "cell_type": "code",
   "execution_count": 284,
   "metadata": {
    "execution": {
     "iopub.execute_input": "2023-02-12T21:00:50.823859Z",
     "iopub.status.busy": "2023-02-12T21:00:50.823429Z",
     "iopub.status.idle": "2023-02-12T21:00:50.830392Z",
     "shell.execute_reply": "2023-02-12T21:00:50.829148Z",
     "shell.execute_reply.started": "2023-02-12T21:00:50.823824Z"
    }
   },
   "outputs": [],
   "source": [
    "train_dl = DataLoader(train, batch_size=hyper_params['batch_size'], \n",
    "                      sampler=WeightedRandomSampler(weights=data_weights, \n",
    "                                                    num_samples=len(y_train), \n",
    "                                                    replacement=True))\n",
    "val_dl = DataLoader(val, batch_size=hyper_params['batch_size'])"
   ]
  },
  {
   "cell_type": "code",
   "execution_count": 268,
   "metadata": {
    "execution": {
     "iopub.execute_input": "2023-02-12T20:58:29.713576Z",
     "iopub.status.busy": "2023-02-12T20:58:29.712779Z",
     "iopub.status.idle": "2023-02-12T20:58:29.723148Z",
     "shell.execute_reply": "2023-02-12T20:58:29.722086Z",
     "shell.execute_reply.started": "2023-02-12T20:58:29.713536Z"
    }
   },
   "outputs": [],
   "source": [
    "def model():\n",
    "    return nn.Sequential(\n",
    "        nn.Conv1d(1, 64, 11, 4, 0),\n",
    "        nn.BatchNorm1d(64),\n",
    "        nn.GELU(),\n",
    "        nn.Conv1d(64, 64, kernel_size=1), nn.GELU(),\n",
    "        nn.Conv1d(64, 64, kernel_size=1), nn.GELU(),\n",
    "        nn.MaxPool1d(3, stride=2),\n",
    "        \n",
    "        nn.Conv1d(64, 128, 5, 1, 2),\n",
    "        nn.BatchNorm1d(128),\n",
    "        nn.ReLU(),\n",
    "        nn.Conv1d(128, 128, kernel_size=1), nn.GELU(),\n",
    "        nn.Conv1d(128, 128, kernel_size=1), nn.GELU(), \n",
    "        nn.MaxPool1d(3, stride=2),\n",
    "        \n",
    "        nn.Conv1d(128, 64, 3, 1, 1),\n",
    "        nn.BatchNorm1d(64),\n",
    "        nn.GELU(),\n",
    "        nn.Conv1d(64, 64, kernel_size=1), nn.GELU(),\n",
    "        nn.Conv1d(64, 64, kernel_size=1), nn.GELU(),\n",
    "        nn.Dropout(0.4), \n",
    "        \n",
    "        nn.Conv1d(64, 5, 3, 1, 1),\n",
    "        nn.BatchNorm1d(5),\n",
    "        nn.GELU(),\n",
    "        nn.Conv1d(5, 5, kernel_size=1), nn.GELU(),\n",
    "        nn.Conv1d(5, 5, kernel_size=1), nn.GELU(),\n",
    "        \n",
    "        nn.AdaptiveAvgPool1d(1),\n",
    "        nn.Flatten()\n",
    "    )"
   ]
  },
  {
   "cell_type": "code",
   "execution_count": 285,
   "metadata": {
    "execution": {
     "iopub.execute_input": "2023-02-12T21:00:57.294718Z",
     "iopub.status.busy": "2023-02-12T21:00:57.294295Z",
     "iopub.status.idle": "2023-02-12T21:00:57.305929Z",
     "shell.execute_reply": "2023-02-12T21:00:57.304938Z",
     "shell.execute_reply.started": "2023-02-12T21:00:57.294684Z"
    }
   },
   "outputs": [
    {
     "name": "stdout",
     "output_type": "stream",
     "text": [
      "cpu\n"
     ]
    }
   ],
   "source": [
    "cnn_model = model()\n",
    "\n",
    "device = torch.device('cuda' if torch.cuda.is_available() else 'cpu')\n",
    "print(device)\n",
    "\n",
    "cnn_model = cnn_model.to(device)"
   ]
  },
  {
   "cell_type": "code",
   "execution_count": 286,
   "metadata": {
    "execution": {
     "iopub.execute_input": "2023-02-12T21:00:58.998591Z",
     "iopub.status.busy": "2023-02-12T21:00:58.998169Z",
     "iopub.status.idle": "2023-02-12T21:00:59.007577Z",
     "shell.execute_reply": "2023-02-12T21:00:59.005848Z",
     "shell.execute_reply.started": "2023-02-12T21:00:58.998556Z"
    }
   },
   "outputs": [
    {
     "name": "stdout",
     "output_type": "stream",
     "text": [
      "Adjusting learning rate of group 0 to 1.0000e-03.\n"
     ]
    }
   ],
   "source": [
    "criterion = nn.CrossEntropyLoss(weight=torch.tensor([1, 1.1, 2.5, 3, 1], \n",
    "                                                    dtype=torch.float, \n",
    "                                                    device=device)) \n",
    "\n",
    "optimizer = torch.optim.Adam(cnn_model.parameters(), lr=hyper_params['lr'])\n",
    "\n",
    "lr_scheduler = StepLR(optimizer, step_size=10, \n",
    "                      gamma=hyper_params['lr_decay'], verbose=True)"
   ]
  },
  {
   "cell_type": "code",
   "execution_count": 287,
   "metadata": {
    "execution": {
     "iopub.execute_input": "2023-02-12T21:01:03.192766Z",
     "iopub.status.busy": "2023-02-12T21:01:03.192288Z",
     "iopub.status.idle": "2023-02-12T21:01:03.209196Z",
     "shell.execute_reply": "2023-02-12T21:01:03.207256Z",
     "shell.execute_reply.started": "2023-02-12T21:01:03.192733Z"
    }
   },
   "outputs": [],
   "source": [
    "def train(model, criterion, optimizer, train_dl, val_dl, epochs, lr_scheduler: StepLR=None):\n",
    "    \n",
    "    train_losses = []\n",
    "    val_losses = []\n",
    "    \n",
    "    best_model_params = deepcopy(model.state_dict())\n",
    "    best_accuracy = 0.0\n",
    "    \n",
    "    for epoch in range(epochs):\n",
    "        print(f'Epoch {epoch+1}/{epochs}\\n',\n",
    "              f'{\"--------------------\"}')\n",
    "        train_loss = 0\n",
    "        val_loss = 0\n",
    "        model.train()\n",
    "        \n",
    "        for x, y in train_dl:\n",
    "            x = x.to(device)\n",
    "            y = y.to(device)\n",
    "            \n",
    "            optimizer.zero_grad()\n",
    "            output = model(x) \n",
    "            \n",
    "            loss = criterion(output, y.squeeze())\n",
    "            loss.backward()\n",
    "            optimizer.step()\n",
    "            \n",
    "            train_loss += loss.item()*x.size(0)\n",
    "            \n",
    "        train_loss = train_loss/len(train_dl.dataset)\n",
    "        train_losses.append(train_loss)\n",
    "        lr_scheduler.step() \n",
    "        model.eval() \n",
    "        corrects = 0 \n",
    "        \n",
    "        for x, y in val_dl:\n",
    "            x = x.to(device)\n",
    "            y = y.to(device)\n",
    "            output = model(x)\n",
    "            loss = criterion(output, y.squeeze())\n",
    "            val_loss += loss.item()*x.size(0)\n",
    "            \n",
    "            corrects += torch.sum(torch.argmax(output, dim=1) == y.squeeze()).item()\n",
    "        \n",
    "        val_loss = val_loss/len(val_dl.dataset)\n",
    "        accuracy = corrects/len(val_dl.dataset)\n",
    "        val_losses.append(val_loss)\n",
    "        print(f'Train Loss: {train_loss:.4f} \\t Val Loss: {val_loss:.4f} \\t Val Accuracy: {accuracy:.4f}\\n')\n",
    "        \n",
    "        if accuracy > best_accuracy:\n",
    "            best_accuracy = accuracy\n",
    "            best_model_params = deepcopy(model.state_dict())\n",
    "            \n",
    "    print('Finished Training and the best accuracy is: {:.4f}'.format(best_accuracy))\n",
    "    return train_losses, val_losses, best_model_params, best_accuracy"
   ]
  },
  {
   "cell_type": "code",
   "execution_count": 234,
   "metadata": {
    "execution": {
     "iopub.execute_input": "2023-02-12T20:33:30.123893Z",
     "iopub.status.busy": "2023-02-12T20:33:30.123388Z",
     "iopub.status.idle": "2023-02-12T20:52:42.461173Z",
     "shell.execute_reply": "2023-02-12T20:52:42.459826Z",
     "shell.execute_reply.started": "2023-02-12T20:33:30.123855Z"
    }
   },
   "outputs": [
    {
     "name": "stdout",
     "output_type": "stream",
     "text": [
      "Epoch 1/60\n",
      " --------------------\n",
      "Adjusting learning rate of group 0 to 1.0000e-03.\n",
      "Train Loss: 1.5256 \t Val Loss: 1.5866 \t Val Accuracy: 0.3304\n",
      "\n",
      "Epoch 2/60\n",
      " --------------------\n",
      "Adjusting learning rate of group 0 to 1.0000e-03.\n",
      "Train Loss: 1.3620 \t Val Loss: 1.3490 \t Val Accuracy: 0.5687\n",
      "\n",
      "Epoch 3/60\n",
      " --------------------\n",
      "Adjusting learning rate of group 0 to 1.0000e-03.\n",
      "Train Loss: 1.1648 \t Val Loss: 1.0986 \t Val Accuracy: 0.5901\n",
      "\n",
      "Epoch 4/60\n",
      " --------------------\n",
      "Adjusting learning rate of group 0 to 1.0000e-03.\n",
      "Train Loss: 0.9937 \t Val Loss: 0.9297 \t Val Accuracy: 0.5973\n",
      "\n",
      "Epoch 5/60\n",
      " --------------------\n",
      "Adjusting learning rate of group 0 to 1.0000e-03.\n",
      "Train Loss: 0.8099 \t Val Loss: 0.7527 \t Val Accuracy: 0.7113\n",
      "\n",
      "Epoch 6/60\n",
      " --------------------\n",
      "Adjusting learning rate of group 0 to 1.0000e-03.\n",
      "Train Loss: 0.6011 \t Val Loss: 0.5649 \t Val Accuracy: 0.7809\n",
      "\n",
      "Epoch 7/60\n",
      " --------------------\n",
      "Adjusting learning rate of group 0 to 1.0000e-03.\n",
      "Train Loss: 0.4677 \t Val Loss: 0.4597 \t Val Accuracy: 0.8832\n",
      "\n",
      "Epoch 8/60\n",
      " --------------------\n",
      "Adjusting learning rate of group 0 to 1.0000e-03.\n",
      "Train Loss: 0.3727 \t Val Loss: 0.3743 \t Val Accuracy: 0.9569\n",
      "\n",
      "Epoch 9/60\n",
      " --------------------\n",
      "Adjusting learning rate of group 0 to 1.0000e-03.\n",
      "Train Loss: 0.2821 \t Val Loss: 0.2903 \t Val Accuracy: 0.9610\n",
      "\n",
      "Epoch 10/60\n",
      " --------------------\n",
      "Adjusting learning rate of group 0 to 3.0000e-04.\n",
      "Train Loss: 0.2004 \t Val Loss: 0.2141 \t Val Accuracy: 0.9562\n",
      "\n",
      "Epoch 11/60\n",
      " --------------------\n",
      "Adjusting learning rate of group 0 to 3.0000e-04.\n",
      "Train Loss: 0.1527 \t Val Loss: 0.1871 \t Val Accuracy: 0.9712\n",
      "\n",
      "Epoch 12/60\n",
      " --------------------\n",
      "Adjusting learning rate of group 0 to 3.0000e-04.\n",
      "Train Loss: 0.1366 \t Val Loss: 0.1663 \t Val Accuracy: 0.9764\n",
      "\n",
      "Epoch 13/60\n",
      " --------------------\n",
      "Adjusting learning rate of group 0 to 3.0000e-04.\n",
      "Train Loss: 0.1242 \t Val Loss: 0.1565 \t Val Accuracy: 0.9754\n",
      "\n",
      "Epoch 14/60\n",
      " --------------------\n",
      "Adjusting learning rate of group 0 to 3.0000e-04.\n",
      "Train Loss: 0.1119 \t Val Loss: 0.1480 \t Val Accuracy: 0.9751\n",
      "\n",
      "Epoch 15/60\n",
      " --------------------\n",
      "Adjusting learning rate of group 0 to 3.0000e-04.\n",
      "Train Loss: 0.1021 \t Val Loss: 0.1330 \t Val Accuracy: 0.9798\n",
      "\n",
      "Epoch 16/60\n",
      " --------------------\n",
      "Adjusting learning rate of group 0 to 3.0000e-04.\n",
      "Train Loss: 0.0914 \t Val Loss: 0.1239 \t Val Accuracy: 0.9827\n",
      "\n",
      "Epoch 17/60\n",
      " --------------------\n",
      "Adjusting learning rate of group 0 to 3.0000e-04.\n",
      "Train Loss: 0.0830 \t Val Loss: 0.1143 \t Val Accuracy: 0.9817\n",
      "\n",
      "Epoch 18/60\n",
      " --------------------\n",
      "Adjusting learning rate of group 0 to 3.0000e-04.\n",
      "Train Loss: 0.0751 \t Val Loss: 0.1065 \t Val Accuracy: 0.9847\n",
      "\n",
      "Epoch 19/60\n",
      " --------------------\n",
      "Adjusting learning rate of group 0 to 3.0000e-04.\n",
      "Train Loss: 0.0675 \t Val Loss: 0.1003 \t Val Accuracy: 0.9827\n",
      "\n",
      "Epoch 20/60\n",
      " --------------------\n",
      "Adjusting learning rate of group 0 to 9.0000e-05.\n",
      "Train Loss: 0.0620 \t Val Loss: 0.0943 \t Val Accuracy: 0.9834\n",
      "\n",
      "Epoch 21/60\n",
      " --------------------\n",
      "Adjusting learning rate of group 0 to 9.0000e-05.\n",
      "Train Loss: 0.0576 \t Val Loss: 0.0898 \t Val Accuracy: 0.9835\n",
      "\n",
      "Epoch 22/60\n",
      " --------------------\n",
      "Adjusting learning rate of group 0 to 9.0000e-05.\n",
      "Train Loss: 0.0562 \t Val Loss: 0.0888 \t Val Accuracy: 0.9848\n",
      "\n",
      "Epoch 23/60\n",
      " --------------------\n",
      "Adjusting learning rate of group 0 to 9.0000e-05.\n",
      "Train Loss: 0.0538 \t Val Loss: 0.0865 \t Val Accuracy: 0.9848\n",
      "\n",
      "Epoch 24/60\n",
      " --------------------\n",
      "Adjusting learning rate of group 0 to 9.0000e-05.\n",
      "Train Loss: 0.0527 \t Val Loss: 0.0848 \t Val Accuracy: 0.9839\n",
      "\n",
      "Epoch 25/60\n",
      " --------------------\n",
      "Adjusting learning rate of group 0 to 9.0000e-05.\n",
      "Train Loss: 0.0512 \t Val Loss: 0.0840 \t Val Accuracy: 0.9848\n",
      "\n",
      "Epoch 26/60\n",
      " --------------------\n",
      "Adjusting learning rate of group 0 to 9.0000e-05.\n",
      "Train Loss: 0.0502 \t Val Loss: 0.0825 \t Val Accuracy: 0.9846\n",
      "\n",
      "Epoch 27/60\n",
      " --------------------\n",
      "Adjusting learning rate of group 0 to 9.0000e-05.\n",
      "Train Loss: 0.0484 \t Val Loss: 0.0803 \t Val Accuracy: 0.9850\n",
      "\n",
      "Epoch 28/60\n",
      " --------------------\n",
      "Adjusting learning rate of group 0 to 9.0000e-05.\n",
      "Train Loss: 0.0469 \t Val Loss: 0.0822 \t Val Accuracy: 0.9834\n",
      "\n",
      "Epoch 29/60\n",
      " --------------------\n",
      "Adjusting learning rate of group 0 to 9.0000e-05.\n",
      "Train Loss: 0.0453 \t Val Loss: 0.0785 \t Val Accuracy: 0.9838\n",
      "\n",
      "Epoch 30/60\n",
      " --------------------\n",
      "Adjusting learning rate of group 0 to 2.7000e-05.\n",
      "Train Loss: 0.0440 \t Val Loss: 0.0756 \t Val Accuracy: 0.9850\n",
      "\n",
      "Epoch 31/60\n",
      " --------------------\n",
      "Adjusting learning rate of group 0 to 2.7000e-05.\n",
      "Train Loss: 0.0431 \t Val Loss: 0.0758 \t Val Accuracy: 0.9850\n",
      "\n",
      "Epoch 32/60\n",
      " --------------------\n",
      "Adjusting learning rate of group 0 to 2.7000e-05.\n",
      "Train Loss: 0.0425 \t Val Loss: 0.0752 \t Val Accuracy: 0.9849\n",
      "\n",
      "Epoch 33/60\n",
      " --------------------\n",
      "Adjusting learning rate of group 0 to 2.7000e-05.\n",
      "Train Loss: 0.0424 \t Val Loss: 0.0754 \t Val Accuracy: 0.9846\n",
      "\n",
      "Epoch 34/60\n",
      " --------------------\n",
      "Adjusting learning rate of group 0 to 2.7000e-05.\n",
      "Train Loss: 0.0416 \t Val Loss: 0.0750 \t Val Accuracy: 0.9855\n",
      "\n",
      "Epoch 35/60\n",
      " --------------------\n",
      "Adjusting learning rate of group 0 to 2.7000e-05.\n",
      "Train Loss: 0.0412 \t Val Loss: 0.0741 \t Val Accuracy: 0.9855\n",
      "\n",
      "Epoch 36/60\n",
      " --------------------\n",
      "Adjusting learning rate of group 0 to 2.7000e-05.\n",
      "Train Loss: 0.0410 \t Val Loss: 0.0737 \t Val Accuracy: 0.9853\n",
      "\n",
      "Epoch 37/60\n",
      " --------------------\n",
      "Adjusting learning rate of group 0 to 2.7000e-05.\n",
      "Train Loss: 0.0407 \t Val Loss: 0.0729 \t Val Accuracy: 0.9850\n",
      "\n",
      "Epoch 38/60\n",
      " --------------------\n",
      "Adjusting learning rate of group 0 to 2.7000e-05.\n",
      "Train Loss: 0.0403 \t Val Loss: 0.0731 \t Val Accuracy: 0.9850\n",
      "\n",
      "Epoch 39/60\n",
      " --------------------\n",
      "Adjusting learning rate of group 0 to 2.7000e-05.\n",
      "Train Loss: 0.0399 \t Val Loss: 0.0723 \t Val Accuracy: 0.9852\n",
      "\n",
      "Epoch 40/60\n",
      " --------------------\n",
      "Adjusting learning rate of group 0 to 8.1000e-06.\n",
      "Train Loss: 0.0394 \t Val Loss: 0.0723 \t Val Accuracy: 0.9851\n",
      "\n",
      "Epoch 41/60\n",
      " --------------------\n",
      "Adjusting learning rate of group 0 to 8.1000e-06.\n",
      "Train Loss: 0.0392 \t Val Loss: 0.0721 \t Val Accuracy: 0.9852\n",
      "\n",
      "Epoch 42/60\n",
      " --------------------\n",
      "Adjusting learning rate of group 0 to 8.1000e-06.\n",
      "Train Loss: 0.0389 \t Val Loss: 0.0718 \t Val Accuracy: 0.9850\n",
      "\n",
      "Epoch 43/60\n",
      " --------------------\n",
      "Adjusting learning rate of group 0 to 8.1000e-06.\n",
      "Train Loss: 0.0389 \t Val Loss: 0.0716 \t Val Accuracy: 0.9856\n",
      "\n",
      "Epoch 44/60\n",
      " --------------------\n",
      "Adjusting learning rate of group 0 to 8.1000e-06.\n",
      "Train Loss: 0.0386 \t Val Loss: 0.0716 \t Val Accuracy: 0.9851\n",
      "\n",
      "Epoch 45/60\n",
      " --------------------\n",
      "Adjusting learning rate of group 0 to 8.1000e-06.\n",
      "Train Loss: 0.0386 \t Val Loss: 0.0710 \t Val Accuracy: 0.9852\n",
      "\n",
      "Epoch 46/60\n",
      " --------------------\n",
      "Adjusting learning rate of group 0 to 8.1000e-06.\n",
      "Train Loss: 0.0388 \t Val Loss: 0.0707 \t Val Accuracy: 0.9855\n",
      "\n",
      "Epoch 47/60\n",
      " --------------------\n",
      "Adjusting learning rate of group 0 to 8.1000e-06.\n",
      "Train Loss: 0.0382 \t Val Loss: 0.0714 \t Val Accuracy: 0.9848\n",
      "\n",
      "Epoch 48/60\n",
      " --------------------\n",
      "Adjusting learning rate of group 0 to 8.1000e-06.\n",
      "Train Loss: 0.0382 \t Val Loss: 0.0709 \t Val Accuracy: 0.9850\n",
      "\n",
      "Epoch 49/60\n",
      " --------------------\n",
      "Adjusting learning rate of group 0 to 8.1000e-06.\n",
      "Train Loss: 0.0381 \t Val Loss: 0.0709 \t Val Accuracy: 0.9855\n",
      "\n",
      "Epoch 50/60\n",
      " --------------------\n",
      "Adjusting learning rate of group 0 to 2.4300e-06.\n",
      "Train Loss: 0.0379 \t Val Loss: 0.0710 \t Val Accuracy: 0.9858\n",
      "\n",
      "Epoch 51/60\n",
      " --------------------\n",
      "Adjusting learning rate of group 0 to 2.4300e-06.\n",
      "Train Loss: 0.0374 \t Val Loss: 0.0704 \t Val Accuracy: 0.9860\n",
      "\n",
      "Epoch 52/60\n",
      " --------------------\n",
      "Adjusting learning rate of group 0 to 2.4300e-06.\n",
      "Train Loss: 0.0375 \t Val Loss: 0.0707 \t Val Accuracy: 0.9848\n",
      "\n",
      "Epoch 53/60\n",
      " --------------------\n",
      "Adjusting learning rate of group 0 to 2.4300e-06.\n",
      "Train Loss: 0.0379 \t Val Loss: 0.0712 \t Val Accuracy: 0.9859\n",
      "\n",
      "Epoch 54/60\n",
      " --------------------\n",
      "Adjusting learning rate of group 0 to 2.4300e-06.\n",
      "Train Loss: 0.0381 \t Val Loss: 0.0707 \t Val Accuracy: 0.9855\n",
      "\n",
      "Epoch 55/60\n",
      " --------------------\n",
      "Adjusting learning rate of group 0 to 2.4300e-06.\n",
      "Train Loss: 0.0377 \t Val Loss: 0.0706 \t Val Accuracy: 0.9851\n",
      "\n",
      "Epoch 56/60\n",
      " --------------------\n",
      "Adjusting learning rate of group 0 to 2.4300e-06.\n",
      "Train Loss: 0.0377 \t Val Loss: 0.0703 \t Val Accuracy: 0.9853\n",
      "\n",
      "Epoch 57/60\n",
      " --------------------\n",
      "Adjusting learning rate of group 0 to 2.4300e-06.\n",
      "Train Loss: 0.0378 \t Val Loss: 0.0704 \t Val Accuracy: 0.9853\n",
      "\n",
      "Epoch 58/60\n",
      " --------------------\n",
      "Adjusting learning rate of group 0 to 2.4300e-06.\n",
      "Train Loss: 0.0377 \t Val Loss: 0.0701 \t Val Accuracy: 0.9852\n",
      "\n",
      "Epoch 59/60\n",
      " --------------------\n",
      "Adjusting learning rate of group 0 to 2.4300e-06.\n",
      "Train Loss: 0.0378 \t Val Loss: 0.0707 \t Val Accuracy: 0.9846\n",
      "\n",
      "Epoch 60/60\n",
      " --------------------\n",
      "Adjusting learning rate of group 0 to 7.2900e-07.\n",
      "Train Loss: 0.0375 \t Val Loss: 0.0699 \t Val Accuracy: 0.9852\n",
      "\n",
      "Finished Training and the best accuracy is: 0.9860\n"
     ]
    }
   ],
   "source": [
    "train_losses, val_losses, best_model_params, best_accuracy = train(cnn_model, \n",
    "                                         criterion, \n",
    "                                         optimizer, \n",
    "                                         train_dl, \n",
    "                                         val_dl, \n",
    "                                         hyper_params['epochs'], \n",
    "                                         lr_scheduler)"
   ]
  },
  {
   "cell_type": "code",
   "execution_count": 235,
   "metadata": {
    "execution": {
     "iopub.execute_input": "2023-02-12T20:52:42.464836Z",
     "iopub.status.busy": "2023-02-12T20:52:42.464016Z",
     "iopub.status.idle": "2023-02-12T20:52:42.731682Z",
     "shell.execute_reply": "2023-02-12T20:52:42.730500Z",
     "shell.execute_reply.started": "2023-02-12T20:52:42.464788Z"
    }
   },
   "outputs": [
    {
     "data": {
      "image/png": "[encoded data removed]",
      "text/plain": [
       "<Figure size 432x288 with 1 Axes>"
      ]
     },
     "metadata": {},
     "output_type": "display_data"
    }
   ],
   "source": [
    "plt.plot(np.convolve(train_losses, np.ones(3)/3, mode='valid'), label='train')\n",
    "plt.plot(np.convolve(val_losses, np.ones(3)/3, mode='valid'), label='val')\n",
    "plt.legend()\n",
    "plt.xlabel('Epochs')\n",
    "plt.ylabel('Loss')\n",
    "plt.show()"
   ]
  },
  {
   "cell_type": "code",
   "execution_count": 289,
   "metadata": {
    "execution": {
     "iopub.execute_input": "2023-02-12T21:20:09.158151Z",
     "iopub.status.busy": "2023-02-12T21:20:09.157309Z",
     "iopub.status.idle": "2023-02-12T21:20:09.171202Z",
     "shell.execute_reply": "2023-02-12T21:20:09.169819Z",
     "shell.execute_reply.started": "2023-02-12T21:20:09.158098Z"
    }
   },
   "outputs": [],
   "source": [
    "cnn_model.load_state_dict(best_model_params)\n",
    "torch.save(cnn_model.state_dict(), f'best_model{best_accuracy:.2f}.pt')"
   ]
  },
  {
   "cell_type": "code",
   "execution_count": 237,
   "metadata": {
    "execution": {
     "iopub.execute_input": "2023-02-12T20:52:42.753924Z",
     "iopub.status.busy": "2023-02-12T20:52:42.753562Z",
     "iopub.status.idle": "2023-02-12T20:52:44.246931Z",
     "shell.execute_reply": "2023-02-12T20:52:44.246017Z",
     "shell.execute_reply.started": "2023-02-12T20:52:42.753891Z"
    }
   },
   "outputs": [],
   "source": [
    "y_pred = []\n",
    "for x, y in val_dl:\n",
    "    x = x.to(device)\n",
    "    y = y.to(device)\n",
    "    output = cnn_model(x) \n",
    "    y_pred.extend(torch.argmax(output, dim=1).cpu().numpy())"
   ]
  },
  {
   "cell_type": "code",
   "execution_count": 238,
   "metadata": {
    "execution": {
     "iopub.execute_input": "2023-02-12T20:52:44.249651Z",
     "iopub.status.busy": "2023-02-12T20:52:44.248438Z",
     "iopub.status.idle": "2023-02-12T20:52:44.580201Z",
     "shell.execute_reply": "2023-02-12T20:52:44.579038Z",
     "shell.execute_reply.started": "2023-02-12T20:52:44.249600Z"
    }
   },
   "outputs": [
    {
     "data": {
      "image/png": "[encoded data removed]",
      "text/plain": [
       "<Figure size 360x360 with 2 Axes>"
      ]
     },
     "metadata": {},
     "output_type": "display_data"
    }
   ],
   "source": [
    "cm_plot(y_val, y_pred)"
   ]
  },
  {
   "cell_type": "code",
   "execution_count": 239,
   "metadata": {
    "execution": {
     "iopub.execute_input": "2023-02-12T20:52:44.582862Z",
     "iopub.status.busy": "2023-02-12T20:52:44.581759Z",
     "iopub.status.idle": "2023-02-12T20:52:44.590588Z",
     "shell.execute_reply": "2023-02-12T20:52:44.589708Z",
     "shell.execute_reply.started": "2023-02-12T20:52:44.582826Z"
    }
   },
   "outputs": [
    {
     "data": {
      "text/plain": [
       "(7225, 187)"
      ]
     },
     "execution_count": 239,
     "metadata": {},
     "output_type": "execute_result"
    }
   ],
   "source": [
    "X_test_real.shape"
   ]
  },
  {
   "cell_type": "code",
   "execution_count": 290,
   "metadata": {
    "execution": {
     "iopub.execute_input": "2023-02-12T21:20:09.173493Z",
     "iopub.status.busy": "2023-02-12T21:20:09.173055Z",
     "iopub.status.idle": "2023-02-12T21:20:09.183930Z",
     "shell.execute_reply": "2023-02-12T21:20:09.182604Z",
     "shell.execute_reply.started": "2023-02-12T21:20:09.173455Z"
    }
   },
   "outputs": [
    {
     "data": {
      "text/plain": [
       "(7225, 1, 187)"
      ]
     },
     "execution_count": 290,
     "metadata": {},
     "output_type": "execute_result"
    }
   ],
   "source": [
    "X_test = np.reshape(X_test_real, (X_test_real.shape[0], 1, X_test_real.shape[1]))\n",
    "X_test.shape"
   ]
  },
  {
   "cell_type": "code",
   "execution_count": 291,
   "metadata": {
    "execution": {
     "iopub.execute_input": "2023-02-12T21:20:09.188794Z",
     "iopub.status.busy": "2023-02-12T21:20:09.187841Z",
     "iopub.status.idle": "2023-02-12T21:20:09.210947Z",
     "shell.execute_reply": "2023-02-12T21:20:09.209595Z",
     "shell.execute_reply.started": "2023-02-12T21:20:09.188739Z"
    }
   },
   "outputs": [],
   "source": [
    "X_test = (X_test - X_test.mean())/X_test.std()"
   ]
  },
  {
   "cell_type": "code",
   "execution_count": 292,
   "metadata": {
    "execution": {
     "iopub.execute_input": "2023-02-12T21:20:09.214285Z",
     "iopub.status.busy": "2023-02-12T21:20:09.213790Z",
     "iopub.status.idle": "2023-02-12T21:20:09.221169Z",
     "shell.execute_reply": "2023-02-12T21:20:09.220145Z",
     "shell.execute_reply.started": "2023-02-12T21:20:09.214239Z"
    }
   },
   "outputs": [],
   "source": [
    "test_ds = torch.utils.data.TensorDataset(torch.from_numpy(X_test).float())\n",
    "test_dl = DataLoader(test_ds, batch_size=hyper_params['batch_size'], shuffle=False)"
   ]
  },
  {
   "cell_type": "code",
   "execution_count": 293,
   "metadata": {
    "execution": {
     "iopub.execute_input": "2023-02-12T21:20:09.223706Z",
     "iopub.status.busy": "2023-02-12T21:20:09.222573Z",
     "iopub.status.idle": "2023-02-12T21:20:10.039957Z",
     "shell.execute_reply": "2023-02-12T21:20:10.038620Z",
     "shell.execute_reply.started": "2023-02-12T21:20:09.223662Z"
    }
   },
   "outputs": [],
   "source": [
    "y_pred = []\n",
    "for x in test_dl:\n",
    "    x = x[0].to(device)\n",
    "    output = cnn_model(x) \n",
    "    y_pred.extend(torch.argmax(output, dim=1).cpu().numpy())"
   ]
  },
  {
   "cell_type": "code",
   "execution_count": 294,
   "metadata": {
    "execution": {
     "iopub.execute_input": "2023-02-12T21:20:10.042694Z",
     "iopub.status.busy": "2023-02-12T21:20:10.041785Z",
     "iopub.status.idle": "2023-02-12T21:20:10.048379Z",
     "shell.execute_reply": "2023-02-12T21:20:10.047292Z",
     "shell.execute_reply.started": "2023-02-12T21:20:10.042656Z"
    }
   },
   "outputs": [],
   "source": [
    "pred = y_pred.copy()\n",
    "y_pred = np.array(y_pred)"
   ]
  },
  {
   "cell_type": "code",
   "execution_count": 295,
   "metadata": {
    "execution": {
     "iopub.execute_input": "2023-02-12T21:20:10.050403Z",
     "iopub.status.busy": "2023-02-12T21:20:10.050057Z",
     "iopub.status.idle": "2023-02-12T21:20:10.099415Z",
     "shell.execute_reply": "2023-02-12T21:20:10.097943Z",
     "shell.execute_reply.started": "2023-02-12T21:20:10.050371Z"
    }
   },
   "outputs": [
    {
     "data": {
      "text/html": [
       "<div>\n",
       "<style scoped>\n",
       "    .dataframe tbody tr th:only-of-type {\n",
       "        vertical-align: middle;\n",
       "    }\n",
       "\n",
       "    .dataframe tbody tr th {\n",
       "        vertical-align: top;\n",
       "    }\n",
       "\n",
       "    .dataframe thead th {\n",
       "        text-align: right;\n",
       "    }\n",
       "</style>\n",
       "<table border=\"1\" class=\"dataframe\">\n",
       "  <thead>\n",
       "    <tr style=\"text-align: right;\">\n",
       "      <th></th>\n",
       "      <th>ID</th>\n",
       "      <th>Answer</th>\n",
       "    </tr>\n",
       "  </thead>\n",
       "  <tbody>\n",
       "    <tr>\n",
       "      <th>0</th>\n",
       "      <td>0</td>\n",
       "      <td>1</td>\n",
       "    </tr>\n",
       "    <tr>\n",
       "      <th>1</th>\n",
       "      <td>1</td>\n",
       "      <td>1</td>\n",
       "    </tr>\n",
       "    <tr>\n",
       "      <th>2</th>\n",
       "      <td>2</td>\n",
       "      <td>1</td>\n",
       "    </tr>\n",
       "    <tr>\n",
       "      <th>3</th>\n",
       "      <td>3</td>\n",
       "      <td>2</td>\n",
       "    </tr>\n",
       "    <tr>\n",
       "      <th>4</th>\n",
       "      <td>4</td>\n",
       "      <td>1</td>\n",
       "    </tr>\n",
       "    <tr>\n",
       "      <th>...</th>\n",
       "      <td>...</td>\n",
       "      <td>...</td>\n",
       "    </tr>\n",
       "    <tr>\n",
       "      <th>7220</th>\n",
       "      <td>7220</td>\n",
       "      <td>1</td>\n",
       "    </tr>\n",
       "    <tr>\n",
       "      <th>7221</th>\n",
       "      <td>7221</td>\n",
       "      <td>2</td>\n",
       "    </tr>\n",
       "    <tr>\n",
       "      <th>7222</th>\n",
       "      <td>7222</td>\n",
       "      <td>1</td>\n",
       "    </tr>\n",
       "    <tr>\n",
       "      <th>7223</th>\n",
       "      <td>7223</td>\n",
       "      <td>1</td>\n",
       "    </tr>\n",
       "    <tr>\n",
       "      <th>7224</th>\n",
       "      <td>7224</td>\n",
       "      <td>1</td>\n",
       "    </tr>\n",
       "  </tbody>\n",
       "</table>\n",
       "<p>7225 rows × 2 columns</p>\n",
       "</div>"
      ],
      "text/plain": [
       "        ID Answer\n",
       "0        0      1\n",
       "1        1      1\n",
       "2        2      1\n",
       "3        3      2\n",
       "4        4      1\n",
       "...    ...    ...\n",
       "7220  7220      1\n",
       "7221  7221      2\n",
       "7222  7222      1\n",
       "7223  7223      1\n",
       "7224  7224      1\n",
       "\n",
       "[7225 rows x 2 columns]"
      ]
     },
     "execution_count": 295,
     "metadata": {},
     "output_type": "execute_result"
    }
   ],
   "source": [
    "y_pred_csv = pd.DataFrame()\n",
    "y_pred_csv[\"ID\"] = np.array(range(len(y_pred))).astype(int).astype(str)\n",
    "y_pred_csv[\"Answer\"] = np.array(y_pred).astype(int).astype(str)\n",
    "y_pred_csv.to_csv(\"testing_submission.csv\", index=False)\n",
    "y_pred_csv"
   ]
  },
  {
   "cell_type": "markdown",
   "metadata": {},
   "source": [
    "score = 0.8"
   ]
  },
  {
   "cell_type": "code",
   "execution_count": 3,
   "metadata": {},
   "outputs": [],
   "source": [
    "X = np.load(\"train_x.npy\")\n",
    "y = np.load(\"train_y.npy\")\n",
    "X_test_real = np.load(\"test_x.npy\")"
   ]
  },
  {
   "cell_type": "code",
   "execution_count": 4,
   "metadata": {},
   "outputs": [],
   "source": [
    "X = pd.DataFrame(X)\n",
    "y = pd.DataFrame(y, columns=['class'])\n",
    "\n",
    "X_test_real = pd.DataFrame(X_test_real)"
   ]
  },
  {
   "cell_type": "code",
   "execution_count": 5,
   "metadata": {},
   "outputs": [],
   "source": [
    "from imblearn.over_sampling import RandomOverSampler\n",
    "\n",
    "X_balanced, y_balanced = RandomOverSampler().fit_resample(X, y)"
   ]
  },
  {
   "cell_type": "code",
   "execution_count": 6,
   "metadata": {},
   "outputs": [],
   "source": [
    "from sklearn.metrics import f1_score, accuracy_score\n",
    "from sklearn.ensemble import ExtraTreesClassifier\n",
    "from sklearn.model_selection import train_test_split\n",
    "\n",
    "X_train, X_test, y_train, y_test = train_test_split(X_balanced, y_balanced, test_size=0.3, random_state=1)"
   ]
  },
  {
   "cell_type": "code",
   "execution_count": 7,
   "metadata": {},
   "outputs": [
    {
     "name": "stderr",
     "output_type": "stream",
     "text": [
      "/var/folders/94/hvx_67xd46x5khdml3kckt080000gn/T/ipykernel_65384/123547918.py:2: DataConversionWarning: A column-vector y was passed when a 1d array was expected. Please change the shape of y to (n_samples,), for example using ravel().\n",
      "  clf.fit(X_train, y_train)\n"
     ]
    },
    {
     "data": {
      "image/png": "[encoded data removed]",
      "text/plain": [
       "<Figure size 360x360 with 2 Axes>"
      ]
     },
     "metadata": {
      "needs_background": "light"
     },
     "output_type": "display_data"
    }
   ],
   "source": [
    "clf = ExtraTreesClassifier(n_estimators=200, random_state=0)\n",
    "clf.fit(X_train, y_train)\n",
    "pred = clf.predict(X_test)\n",
    "\n",
    "cm_plot(y_test, pred)"
   ]
  },
  {
   "cell_type": "code",
   "execution_count": 8,
   "metadata": {},
   "outputs": [
    {
     "name": "stderr",
     "output_type": "stream",
     "text": [
      "/Users/annasidorova/opt/anaconda3/lib/python3.9/site-packages/sklearn/model_selection/_validation.py:680: DataConversionWarning: A column-vector y was passed when a 1d array was expected. Please change the shape of y to (n_samples,), for example using ravel().\n",
      "  estimator.fit(X_train, y_train, **fit_params)\n",
      "/Users/annasidorova/opt/anaconda3/lib/python3.9/site-packages/sklearn/model_selection/_validation.py:680: DataConversionWarning: A column-vector y was passed when a 1d array was expected. Please change the shape of y to (n_samples,), for example using ravel().\n",
      "  estimator.fit(X_train, y_train, **fit_params)\n",
      "/Users/annasidorova/opt/anaconda3/lib/python3.9/site-packages/sklearn/model_selection/_validation.py:680: DataConversionWarning: A column-vector y was passed when a 1d array was expected. Please change the shape of y to (n_samples,), for example using ravel().\n",
      "  estimator.fit(X_train, y_train, **fit_params)\n",
      "/Users/annasidorova/opt/anaconda3/lib/python3.9/site-packages/sklearn/model_selection/_validation.py:680: DataConversionWarning: A column-vector y was passed when a 1d array was expected. Please change the shape of y to (n_samples,), for example using ravel().\n",
      "  estimator.fit(X_train, y_train, **fit_params)\n",
      "/Users/annasidorova/opt/anaconda3/lib/python3.9/site-packages/sklearn/model_selection/_validation.py:680: DataConversionWarning: A column-vector y was passed when a 1d array was expected. Please change the shape of y to (n_samples,), for example using ravel().\n",
      "  estimator.fit(X_train, y_train, **fit_params)\n"
     ]
    },
    {
     "data": {
      "text/plain": [
       "(0.9994097732094691, {'max_depth': 50, 'n_estimators': 250})"
      ]
     },
     "execution_count": 8,
     "metadata": {},
     "output_type": "execute_result"
    }
   ],
   "source": [
    "from sklearn.model_selection import KFold\n",
    "from sklearn.model_selection import GridSearchCV\n",
    "\n",
    "import warnings\n",
    "warnings.filterwarnings('ignore')\n",
    "\n",
    "model = ExtraTreesClassifier(random_state=0)\n",
    "kfold = KFold(n_splits=5, random_state=10, shuffle=True)\n",
    "\n",
    "parameters = {\n",
    "              'n_estimators'     : [200, 250, 300],\n",
    "              'max_depth'        : [45, 50, 52, 55]\n",
    "             }\n",
    "\n",
    "model = GridSearchCV(model, parameters, scoring='accuracy', cv=kfold, n_jobs=-1)\n",
    "model.fit(X_train, y_train)\n",
    "\n",
    "model.best_score_, model.best_params_"
   ]
  },
  {
   "cell_type": "code",
   "execution_count": 9,
   "metadata": {},
   "outputs": [
    {
     "data": {
      "image/png": "[encoded data removed]",
      "text/plain": [
       "<Figure size 360x360 with 2 Axes>"
      ]
     },
     "metadata": {},
     "output_type": "display_data"
    }
   ],
   "source": [
    "model = ExtraTreesClassifier(random_state=0, **model.best_params_)\n",
    "\n",
    "model.fit(X_train, y_train)\n",
    "pred = model.predict(X_test)\n",
    "\n",
    "cm_plot(y_test, pred)"
   ]
  },
  {
   "cell_type": "code",
   "execution_count": 11,
   "metadata": {},
   "outputs": [],
   "source": [
    "y_pred = model.predict(X_test_real)"
   ]
  },
  {
   "cell_type": "code",
   "execution_count": 12,
   "metadata": {},
   "outputs": [
    {
     "data": {
      "text/html": [
       "<div>\n",
       "<style scoped>\n",
       "    .dataframe tbody tr th:only-of-type {\n",
       "        vertical-align: middle;\n",
       "    }\n",
       "\n",
       "    .dataframe tbody tr th {\n",
       "        vertical-align: top;\n",
       "    }\n",
       "\n",
       "    .dataframe thead th {\n",
       "        text-align: right;\n",
       "    }\n",
       "</style>\n",
       "<table border=\"1\" class=\"dataframe\">\n",
       "  <thead>\n",
       "    <tr style=\"text-align: right;\">\n",
       "      <th></th>\n",
       "      <th>ID</th>\n",
       "      <th>Answer</th>\n",
       "    </tr>\n",
       "  </thead>\n",
       "  <tbody>\n",
       "    <tr>\n",
       "      <th>0</th>\n",
       "      <td>0</td>\n",
       "      <td>0</td>\n",
       "    </tr>\n",
       "    <tr>\n",
       "      <th>1</th>\n",
       "      <td>1</td>\n",
       "      <td>0</td>\n",
       "    </tr>\n",
       "    <tr>\n",
       "      <th>2</th>\n",
       "      <td>2</td>\n",
       "      <td>0</td>\n",
       "    </tr>\n",
       "    <tr>\n",
       "      <th>3</th>\n",
       "      <td>3</td>\n",
       "      <td>2</td>\n",
       "    </tr>\n",
       "    <tr>\n",
       "      <th>4</th>\n",
       "      <td>4</td>\n",
       "      <td>0</td>\n",
       "    </tr>\n",
       "    <tr>\n",
       "      <th>...</th>\n",
       "      <td>...</td>\n",
       "      <td>...</td>\n",
       "    </tr>\n",
       "    <tr>\n",
       "      <th>7220</th>\n",
       "      <td>7220</td>\n",
       "      <td>0</td>\n",
       "    </tr>\n",
       "    <tr>\n",
       "      <th>7221</th>\n",
       "      <td>7221</td>\n",
       "      <td>2</td>\n",
       "    </tr>\n",
       "    <tr>\n",
       "      <th>7222</th>\n",
       "      <td>7222</td>\n",
       "      <td>0</td>\n",
       "    </tr>\n",
       "    <tr>\n",
       "      <th>7223</th>\n",
       "      <td>7223</td>\n",
       "      <td>0</td>\n",
       "    </tr>\n",
       "    <tr>\n",
       "      <th>7224</th>\n",
       "      <td>7224</td>\n",
       "      <td>0</td>\n",
       "    </tr>\n",
       "  </tbody>\n",
       "</table>\n",
       "<p>7225 rows × 2 columns</p>\n",
       "</div>"
      ],
      "text/plain": [
       "        ID Answer\n",
       "0        0      0\n",
       "1        1      0\n",
       "2        2      0\n",
       "3        3      2\n",
       "4        4      0\n",
       "...    ...    ...\n",
       "7220  7220      0\n",
       "7221  7221      2\n",
       "7222  7222      0\n",
       "7223  7223      0\n",
       "7224  7224      0\n",
       "\n",
       "[7225 rows x 2 columns]"
      ]
     },
     "execution_count": 12,
     "metadata": {},
     "output_type": "execute_result"
    }
   ],
   "source": [
    "y_pred_csv = pd.DataFrame()\n",
    "y_pred_csv[\"ID\"] = np.array(range(len(y_pred))).astype(int).astype(str)\n",
    "y_pred_csv[\"Answer\"] = np.array(y_pred).astype(int).astype(str)\n",
    "y_pred_csv.to_csv(\"testing_submission.csv\", index=False)\n",
    "y_pred_csv"
   ]
  }
 ],
 "metadata": {
  "kernelspec": {
   "display_name": "Python 3 (ipykernel)",
   "language": "python",
   "name": "python3"
  },
  "language_info": {
   "codemirror_mode": {
    "name": "ipython",
    "version": 3
   },
   "file_extension": ".py",
   "mimetype": "text/x-python",
   "name": "python",
   "nbconvert_exporter": "python",
   "pygments_lexer": "ipython3",
   "version": "3.9.12"
  }
 },
 "nbformat": 4,
 "nbformat_minor": 4
}
