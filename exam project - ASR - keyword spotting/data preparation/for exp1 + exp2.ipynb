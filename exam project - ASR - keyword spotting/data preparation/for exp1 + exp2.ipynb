{
  "nbformat": 4,
  "nbformat_minor": 0,
  "metadata": {
    "colab": {
      "provenance": [],
      "collapsed_sections": [
        "p1-4UMpkxUQB",
        "Cda4OMzn2JIV",
        "_WnXXbAT1_Dj"
      ]
    },
    "kernelspec": {
      "name": "python3",
      "display_name": "Python 3"
    },
    "language_info": {
      "name": "python"
    },
    "widgets": {
      "application/vnd.jupyter.widget-state+json": {
        "ec0635b00cb743bfaccaefde0deb3489": {
          "model_module": "@jupyter-widgets/controls",
          "model_name": "HBoxModel",
          "model_module_version": "1.5.0",
          "state": {
            "_dom_classes": [],
            "_model_module": "@jupyter-widgets/controls",
            "_model_module_version": "1.5.0",
            "_model_name": "HBoxModel",
            "_view_count": null,
            "_view_module": "@jupyter-widgets/controls",
            "_view_module_version": "1.5.0",
            "_view_name": "HBoxView",
            "box_style": "",
            "children": [
              "IPY_MODEL_30552a7b3451415093280691e73d9725",
              "IPY_MODEL_0684cf86965d48ffa9a9032d8d90e8c6",
              "IPY_MODEL_b7308d484113434ba19cb1db3d60bed1"
            ],
            "layout": "IPY_MODEL_b33421e5d0d3481eb99c0044642c2646"
          }
        },
        "30552a7b3451415093280691e73d9725": {
          "model_module": "@jupyter-widgets/controls",
          "model_name": "HTMLModel",
          "model_module_version": "1.5.0",
          "state": {
            "_dom_classes": [],
            "_model_module": "@jupyter-widgets/controls",
            "_model_module_version": "1.5.0",
            "_model_name": "HTMLModel",
            "_view_count": null,
            "_view_module": "@jupyter-widgets/controls",
            "_view_module_version": "1.5.0",
            "_view_name": "HTMLView",
            "description": "",
            "description_tooltip": null,
            "layout": "IPY_MODEL_e0ae1b588a8d45019d5679625dd993d2",
            "placeholder": "​",
            "style": "IPY_MODEL_b0815c8ac7734a1f8b36c09befc13423",
            "value": "100%"
          }
        },
        "0684cf86965d48ffa9a9032d8d90e8c6": {
          "model_module": "@jupyter-widgets/controls",
          "model_name": "FloatProgressModel",
          "model_module_version": "1.5.0",
          "state": {
            "_dom_classes": [],
            "_model_module": "@jupyter-widgets/controls",
            "_model_module_version": "1.5.0",
            "_model_name": "FloatProgressModel",
            "_view_count": null,
            "_view_module": "@jupyter-widgets/controls",
            "_view_module_version": "1.5.0",
            "_view_name": "ProgressView",
            "bar_style": "success",
            "description": "",
            "description_tooltip": null,
            "layout": "IPY_MODEL_d2a1e3c5670b4a699e28859d8758815c",
            "max": 80044,
            "min": 0,
            "orientation": "horizontal",
            "style": "IPY_MODEL_4002d777a86f40daaf3c6cd38104fa3d",
            "value": 80044
          }
        },
        "b7308d484113434ba19cb1db3d60bed1": {
          "model_module": "@jupyter-widgets/controls",
          "model_name": "HTMLModel",
          "model_module_version": "1.5.0",
          "state": {
            "_dom_classes": [],
            "_model_module": "@jupyter-widgets/controls",
            "_model_module_version": "1.5.0",
            "_model_name": "HTMLModel",
            "_view_count": null,
            "_view_module": "@jupyter-widgets/controls",
            "_view_module_version": "1.5.0",
            "_view_name": "HTMLView",
            "description": "",
            "description_tooltip": null,
            "layout": "IPY_MODEL_c1e41df3624d41d7ac363590451ce375",
            "placeholder": "​",
            "style": "IPY_MODEL_1574e25626b84320b4d4e21a9f8f1be9",
            "value": " 78.2k/78.2k [00:00&lt;00:00, 1.83MB/s]"
          }
        },
        "b33421e5d0d3481eb99c0044642c2646": {
          "model_module": "@jupyter-widgets/base",
          "model_name": "LayoutModel",
          "model_module_version": "1.2.0",
          "state": {
            "_model_module": "@jupyter-widgets/base",
            "_model_module_version": "1.2.0",
            "_model_name": "LayoutModel",
            "_view_count": null,
            "_view_module": "@jupyter-widgets/base",
            "_view_module_version": "1.2.0",
            "_view_name": "LayoutView",
            "align_content": null,
            "align_items": null,
            "align_self": null,
            "border": null,
            "bottom": null,
            "display": null,
            "flex": null,
            "flex_flow": null,
            "grid_area": null,
            "grid_auto_columns": null,
            "grid_auto_flow": null,
            "grid_auto_rows": null,
            "grid_column": null,
            "grid_gap": null,
            "grid_row": null,
            "grid_template_areas": null,
            "grid_template_columns": null,
            "grid_template_rows": null,
            "height": null,
            "justify_content": null,
            "justify_items": null,
            "left": null,
            "margin": null,
            "max_height": null,
            "max_width": null,
            "min_height": null,
            "min_width": null,
            "object_fit": null,
            "object_position": null,
            "order": null,
            "overflow": null,
            "overflow_x": null,
            "overflow_y": null,
            "padding": null,
            "right": null,
            "top": null,
            "visibility": null,
            "width": null
          }
        },
        "e0ae1b588a8d45019d5679625dd993d2": {
          "model_module": "@jupyter-widgets/base",
          "model_name": "LayoutModel",
          "model_module_version": "1.2.0",
          "state": {
            "_model_module": "@jupyter-widgets/base",
            "_model_module_version": "1.2.0",
            "_model_name": "LayoutModel",
            "_view_count": null,
            "_view_module": "@jupyter-widgets/base",
            "_view_module_version": "1.2.0",
            "_view_name": "LayoutView",
            "align_content": null,
            "align_items": null,
            "align_self": null,
            "border": null,
            "bottom": null,
            "display": null,
            "flex": null,
            "flex_flow": null,
            "grid_area": null,
            "grid_auto_columns": null,
            "grid_auto_flow": null,
            "grid_auto_rows": null,
            "grid_column": null,
            "grid_gap": null,
            "grid_row": null,
            "grid_template_areas": null,
            "grid_template_columns": null,
            "grid_template_rows": null,
            "height": null,
            "justify_content": null,
            "justify_items": null,
            "left": null,
            "margin": null,
            "max_height": null,
            "max_width": null,
            "min_height": null,
            "min_width": null,
            "object_fit": null,
            "object_position": null,
            "order": null,
            "overflow": null,
            "overflow_x": null,
            "overflow_y": null,
            "padding": null,
            "right": null,
            "top": null,
            "visibility": null,
            "width": null
          }
        },
        "b0815c8ac7734a1f8b36c09befc13423": {
          "model_module": "@jupyter-widgets/controls",
          "model_name": "DescriptionStyleModel",
          "model_module_version": "1.5.0",
          "state": {
            "_model_module": "@jupyter-widgets/controls",
            "_model_module_version": "1.5.0",
            "_model_name": "DescriptionStyleModel",
            "_view_count": null,
            "_view_module": "@jupyter-widgets/base",
            "_view_module_version": "1.2.0",
            "_view_name": "StyleView",
            "description_width": ""
          }
        },
        "d2a1e3c5670b4a699e28859d8758815c": {
          "model_module": "@jupyter-widgets/base",
          "model_name": "LayoutModel",
          "model_module_version": "1.2.0",
          "state": {
            "_model_module": "@jupyter-widgets/base",
            "_model_module_version": "1.2.0",
            "_model_name": "LayoutModel",
            "_view_count": null,
            "_view_module": "@jupyter-widgets/base",
            "_view_module_version": "1.2.0",
            "_view_name": "LayoutView",
            "align_content": null,
            "align_items": null,
            "align_self": null,
            "border": null,
            "bottom": null,
            "display": null,
            "flex": null,
            "flex_flow": null,
            "grid_area": null,
            "grid_auto_columns": null,
            "grid_auto_flow": null,
            "grid_auto_rows": null,
            "grid_column": null,
            "grid_gap": null,
            "grid_row": null,
            "grid_template_areas": null,
            "grid_template_columns": null,
            "grid_template_rows": null,
            "height": null,
            "justify_content": null,
            "justify_items": null,
            "left": null,
            "margin": null,
            "max_height": null,
            "max_width": null,
            "min_height": null,
            "min_width": null,
            "object_fit": null,
            "object_position": null,
            "order": null,
            "overflow": null,
            "overflow_x": null,
            "overflow_y": null,
            "padding": null,
            "right": null,
            "top": null,
            "visibility": null,
            "width": null
          }
        },
        "4002d777a86f40daaf3c6cd38104fa3d": {
          "model_module": "@jupyter-widgets/controls",
          "model_name": "ProgressStyleModel",
          "model_module_version": "1.5.0",
          "state": {
            "_model_module": "@jupyter-widgets/controls",
            "_model_module_version": "1.5.0",
            "_model_name": "ProgressStyleModel",
            "_view_count": null,
            "_view_module": "@jupyter-widgets/base",
            "_view_module_version": "1.2.0",
            "_view_name": "StyleView",
            "bar_color": null,
            "description_width": ""
          }
        },
        "c1e41df3624d41d7ac363590451ce375": {
          "model_module": "@jupyter-widgets/base",
          "model_name": "LayoutModel",
          "model_module_version": "1.2.0",
          "state": {
            "_model_module": "@jupyter-widgets/base",
            "_model_module_version": "1.2.0",
            "_model_name": "LayoutModel",
            "_view_count": null,
            "_view_module": "@jupyter-widgets/base",
            "_view_module_version": "1.2.0",
            "_view_name": "LayoutView",
            "align_content": null,
            "align_items": null,
            "align_self": null,
            "border": null,
            "bottom": null,
            "display": null,
            "flex": null,
            "flex_flow": null,
            "grid_area": null,
            "grid_auto_columns": null,
            "grid_auto_flow": null,
            "grid_auto_rows": null,
            "grid_column": null,
            "grid_gap": null,
            "grid_row": null,
            "grid_template_areas": null,
            "grid_template_columns": null,
            "grid_template_rows": null,
            "height": null,
            "justify_content": null,
            "justify_items": null,
            "left": null,
            "margin": null,
            "max_height": null,
            "max_width": null,
            "min_height": null,
            "min_width": null,
            "object_fit": null,
            "object_position": null,
            "order": null,
            "overflow": null,
            "overflow_x": null,
            "overflow_y": null,
            "padding": null,
            "right": null,
            "top": null,
            "visibility": null,
            "width": null
          }
        },
        "1574e25626b84320b4d4e21a9f8f1be9": {
          "model_module": "@jupyter-widgets/controls",
          "model_name": "DescriptionStyleModel",
          "model_module_version": "1.5.0",
          "state": {
            "_model_module": "@jupyter-widgets/controls",
            "_model_module_version": "1.5.0",
            "_model_name": "DescriptionStyleModel",
            "_view_count": null,
            "_view_module": "@jupyter-widgets/base",
            "_view_module_version": "1.2.0",
            "_view_name": "StyleView",
            "description_width": ""
          }
        },
        "6102450257db41d98280e8cdc71a2c0b": {
          "model_module": "@jupyter-widgets/controls",
          "model_name": "HBoxModel",
          "model_module_version": "1.5.0",
          "state": {
            "_dom_classes": [],
            "_model_module": "@jupyter-widgets/controls",
            "_model_module_version": "1.5.0",
            "_model_name": "HBoxModel",
            "_view_count": null,
            "_view_module": "@jupyter-widgets/controls",
            "_view_module_version": "1.5.0",
            "_view_name": "HBoxView",
            "box_style": "",
            "children": [
              "IPY_MODEL_caecf791c2eb40c6a4735a0ec62f15f7",
              "IPY_MODEL_f62061ab0ee94e1faa0978403cfa74d5",
              "IPY_MODEL_874e4a017cdd4cbc94fd72abafe377ea"
            ],
            "layout": "IPY_MODEL_4ee574a5ea174bac9cde40044c055b12"
          }
        },
        "caecf791c2eb40c6a4735a0ec62f15f7": {
          "model_module": "@jupyter-widgets/controls",
          "model_name": "HTMLModel",
          "model_module_version": "1.5.0",
          "state": {
            "_dom_classes": [],
            "_model_module": "@jupyter-widgets/controls",
            "_model_module_version": "1.5.0",
            "_model_name": "HTMLModel",
            "_view_count": null,
            "_view_module": "@jupyter-widgets/controls",
            "_view_module_version": "1.5.0",
            "_view_name": "HTMLView",
            "description": "",
            "description_tooltip": null,
            "layout": "IPY_MODEL_f0aba5c8f50f40eb8d7d8d17294ce87f",
            "placeholder": "​",
            "style": "IPY_MODEL_60e80b91f2144b058c5d29caa5127153",
            "value": "100%"
          }
        },
        "f62061ab0ee94e1faa0978403cfa74d5": {
          "model_module": "@jupyter-widgets/controls",
          "model_name": "FloatProgressModel",
          "model_module_version": "1.5.0",
          "state": {
            "_dom_classes": [],
            "_model_module": "@jupyter-widgets/controls",
            "_model_module_version": "1.5.0",
            "_model_name": "FloatProgressModel",
            "_view_count": null,
            "_view_module": "@jupyter-widgets/controls",
            "_view_module_version": "1.5.0",
            "_view_name": "ProgressView",
            "bar_style": "success",
            "description": "",
            "description_tooltip": null,
            "layout": "IPY_MODEL_bc5cfaea0ade4dc395a72bd238c747e8",
            "max": 32044,
            "min": 0,
            "orientation": "horizontal",
            "style": "IPY_MODEL_8001c55d793f4466b78c6767702856f6",
            "value": 32044
          }
        },
        "874e4a017cdd4cbc94fd72abafe377ea": {
          "model_module": "@jupyter-widgets/controls",
          "model_name": "HTMLModel",
          "model_module_version": "1.5.0",
          "state": {
            "_dom_classes": [],
            "_model_module": "@jupyter-widgets/controls",
            "_model_module_version": "1.5.0",
            "_model_name": "HTMLModel",
            "_view_count": null,
            "_view_module": "@jupyter-widgets/controls",
            "_view_module_version": "1.5.0",
            "_view_name": "HTMLView",
            "description": "",
            "description_tooltip": null,
            "layout": "IPY_MODEL_6f6473f555e9400e91ef4625b84756d9",
            "placeholder": "​",
            "style": "IPY_MODEL_5203eea5532e4d6882b00b7428f478b4",
            "value": " 31.3k/31.3k [00:00&lt;00:00, 1.06MB/s]"
          }
        },
        "4ee574a5ea174bac9cde40044c055b12": {
          "model_module": "@jupyter-widgets/base",
          "model_name": "LayoutModel",
          "model_module_version": "1.2.0",
          "state": {
            "_model_module": "@jupyter-widgets/base",
            "_model_module_version": "1.2.0",
            "_model_name": "LayoutModel",
            "_view_count": null,
            "_view_module": "@jupyter-widgets/base",
            "_view_module_version": "1.2.0",
            "_view_name": "LayoutView",
            "align_content": null,
            "align_items": null,
            "align_self": null,
            "border": null,
            "bottom": null,
            "display": null,
            "flex": null,
            "flex_flow": null,
            "grid_area": null,
            "grid_auto_columns": null,
            "grid_auto_flow": null,
            "grid_auto_rows": null,
            "grid_column": null,
            "grid_gap": null,
            "grid_row": null,
            "grid_template_areas": null,
            "grid_template_columns": null,
            "grid_template_rows": null,
            "height": null,
            "justify_content": null,
            "justify_items": null,
            "left": null,
            "margin": null,
            "max_height": null,
            "max_width": null,
            "min_height": null,
            "min_width": null,
            "object_fit": null,
            "object_position": null,
            "order": null,
            "overflow": null,
            "overflow_x": null,
            "overflow_y": null,
            "padding": null,
            "right": null,
            "top": null,
            "visibility": null,
            "width": null
          }
        },
        "f0aba5c8f50f40eb8d7d8d17294ce87f": {
          "model_module": "@jupyter-widgets/base",
          "model_name": "LayoutModel",
          "model_module_version": "1.2.0",
          "state": {
            "_model_module": "@jupyter-widgets/base",
            "_model_module_version": "1.2.0",
            "_model_name": "LayoutModel",
            "_view_count": null,
            "_view_module": "@jupyter-widgets/base",
            "_view_module_version": "1.2.0",
            "_view_name": "LayoutView",
            "align_content": null,
            "align_items": null,
            "align_self": null,
            "border": null,
            "bottom": null,
            "display": null,
            "flex": null,
            "flex_flow": null,
            "grid_area": null,
            "grid_auto_columns": null,
            "grid_auto_flow": null,
            "grid_auto_rows": null,
            "grid_column": null,
            "grid_gap": null,
            "grid_row": null,
            "grid_template_areas": null,
            "grid_template_columns": null,
            "grid_template_rows": null,
            "height": null,
            "justify_content": null,
            "justify_items": null,
            "left": null,
            "margin": null,
            "max_height": null,
            "max_width": null,
            "min_height": null,
            "min_width": null,
            "object_fit": null,
            "object_position": null,
            "order": null,
            "overflow": null,
            "overflow_x": null,
            "overflow_y": null,
            "padding": null,
            "right": null,
            "top": null,
            "visibility": null,
            "width": null
          }
        },
        "60e80b91f2144b058c5d29caa5127153": {
          "model_module": "@jupyter-widgets/controls",
          "model_name": "DescriptionStyleModel",
          "model_module_version": "1.5.0",
          "state": {
            "_model_module": "@jupyter-widgets/controls",
            "_model_module_version": "1.5.0",
            "_model_name": "DescriptionStyleModel",
            "_view_count": null,
            "_view_module": "@jupyter-widgets/base",
            "_view_module_version": "1.2.0",
            "_view_name": "StyleView",
            "description_width": ""
          }
        },
        "bc5cfaea0ade4dc395a72bd238c747e8": {
          "model_module": "@jupyter-widgets/base",
          "model_name": "LayoutModel",
          "model_module_version": "1.2.0",
          "state": {
            "_model_module": "@jupyter-widgets/base",
            "_model_module_version": "1.2.0",
            "_model_name": "LayoutModel",
            "_view_count": null,
            "_view_module": "@jupyter-widgets/base",
            "_view_module_version": "1.2.0",
            "_view_name": "LayoutView",
            "align_content": null,
            "align_items": null,
            "align_self": null,
            "border": null,
            "bottom": null,
            "display": null,
            "flex": null,
            "flex_flow": null,
            "grid_area": null,
            "grid_auto_columns": null,
            "grid_auto_flow": null,
            "grid_auto_rows": null,
            "grid_column": null,
            "grid_gap": null,
            "grid_row": null,
            "grid_template_areas": null,
            "grid_template_columns": null,
            "grid_template_rows": null,
            "height": null,
            "justify_content": null,
            "justify_items": null,
            "left": null,
            "margin": null,
            "max_height": null,
            "max_width": null,
            "min_height": null,
            "min_width": null,
            "object_fit": null,
            "object_position": null,
            "order": null,
            "overflow": null,
            "overflow_x": null,
            "overflow_y": null,
            "padding": null,
            "right": null,
            "top": null,
            "visibility": null,
            "width": null
          }
        },
        "8001c55d793f4466b78c6767702856f6": {
          "model_module": "@jupyter-widgets/controls",
          "model_name": "ProgressStyleModel",
          "model_module_version": "1.5.0",
          "state": {
            "_model_module": "@jupyter-widgets/controls",
            "_model_module_version": "1.5.0",
            "_model_name": "ProgressStyleModel",
            "_view_count": null,
            "_view_module": "@jupyter-widgets/base",
            "_view_module_version": "1.2.0",
            "_view_name": "StyleView",
            "bar_color": null,
            "description_width": ""
          }
        },
        "6f6473f555e9400e91ef4625b84756d9": {
          "model_module": "@jupyter-widgets/base",
          "model_name": "LayoutModel",
          "model_module_version": "1.2.0",
          "state": {
            "_model_module": "@jupyter-widgets/base",
            "_model_module_version": "1.2.0",
            "_model_name": "LayoutModel",
            "_view_count": null,
            "_view_module": "@jupyter-widgets/base",
            "_view_module_version": "1.2.0",
            "_view_name": "LayoutView",
            "align_content": null,
            "align_items": null,
            "align_self": null,
            "border": null,
            "bottom": null,
            "display": null,
            "flex": null,
            "flex_flow": null,
            "grid_area": null,
            "grid_auto_columns": null,
            "grid_auto_flow": null,
            "grid_auto_rows": null,
            "grid_column": null,
            "grid_gap": null,
            "grid_row": null,
            "grid_template_areas": null,
            "grid_template_columns": null,
            "grid_template_rows": null,
            "height": null,
            "justify_content": null,
            "justify_items": null,
            "left": null,
            "margin": null,
            "max_height": null,
            "max_width": null,
            "min_height": null,
            "min_width": null,
            "object_fit": null,
            "object_position": null,
            "order": null,
            "overflow": null,
            "overflow_x": null,
            "overflow_y": null,
            "padding": null,
            "right": null,
            "top": null,
            "visibility": null,
            "width": null
          }
        },
        "5203eea5532e4d6882b00b7428f478b4": {
          "model_module": "@jupyter-widgets/controls",
          "model_name": "DescriptionStyleModel",
          "model_module_version": "1.5.0",
          "state": {
            "_model_module": "@jupyter-widgets/controls",
            "_model_module_version": "1.5.0",
            "_model_name": "DescriptionStyleModel",
            "_view_count": null,
            "_view_module": "@jupyter-widgets/base",
            "_view_module_version": "1.2.0",
            "_view_name": "StyleView",
            "description_width": ""
          }
        }
      }
    }
  },
  "cells": [
    {
      "cell_type": "markdown",
      "source": [
        "# Импорт модулей\n",
        "\n",
        "Датасет взят с [Hugging face](https://huggingface.co/datasets/speech_commands)"
      ],
      "metadata": {
        "id": "s_dDjR62m46T"
      }
    },
    {
      "cell_type": "code",
      "source": [
        "!pip install pydub"
      ],
      "metadata": {
        "colab": {
          "base_uri": "https://localhost:8080/"
        },
        "id": "sR_DCq06ylQ9",
        "outputId": "ad82cee9-f581-4279-cb9b-3b3fdfed0310"
      },
      "execution_count": null,
      "outputs": [
        {
          "output_type": "stream",
          "name": "stdout",
          "text": [
            "Looking in indexes: https://pypi.org/simple, https://us-python.pkg.dev/colab-wheels/public/simple/\n",
            "Collecting pydub\n",
            "  Downloading pydub-0.25.1-py2.py3-none-any.whl (32 kB)\n",
            "Installing collected packages: pydub\n",
            "Successfully installed pydub-0.25.1\n"
          ]
        }
      ]
    },
    {
      "cell_type": "code",
      "execution_count": null,
      "metadata": {
        "id": "Xs5X5U0IdR1P"
      },
      "outputs": [],
      "source": [
        "import os\n",
        "import json\n",
        "from google.colab import drive\n",
        "\n",
        "import wave\n",
        "import torch\n",
        "import librosa\n",
        "import torchaudio\n",
        "import librosa.display\n",
        "import soundfile as sf\n",
        "from scipy import signal\n",
        "import IPython.display as ipd\n",
        "from pydub import AudioSegment\n",
        "import torchaudio.functional as F \n",
        "from torchaudio.utils import download_asset\n",
        "\n",
        "import numpy as np\n",
        "import pandas as pd\n",
        "\n",
        "import plotly.express as px\n",
        "import matplotlib.pyplot as plt\n",
        "\n",
        "import shutil\n",
        "from google.colab import files"
      ]
    },
    {
      "cell_type": "markdown",
      "source": [
        "# Функции"
      ],
      "metadata": {
        "id": "p1-4UMpkxUQB"
      }
    },
    {
      "cell_type": "code",
      "source": [
        "def get_mean(file_path): #получаю среднее длины аудио\n",
        "    sum_lenght = []\n",
        "    too_big = []\n",
        "    too_low = []\n",
        "\n",
        "    for root, dirs, files in os.walk(file_path):\n",
        "        for i in dirs:\n",
        "            for root2, dirs2, files2 in os.walk(file_path+i):\n",
        "                for j in files2:\n",
        "                    path = file_path + i + '/' + j\n",
        "\n",
        "                    with wave.open(path) as mywav:\n",
        "                        duration_seconds = mywav.getnframes() / mywav.getframerate()\n",
        "\n",
        "                    if (duration_seconds < 1.0): \n",
        "                        too_low.append((path, duration_seconds))\n",
        "\n",
        "                    if (duration_seconds > 1.0): \n",
        "                        too_big.append(path)\n",
        "\n",
        "                    sum_lenght.append(duration_seconds)\n",
        "    \n",
        "    sum_lenght = np.array(sum_lenght)\n",
        "    \n",
        "    return np.mean(sum_lenght), sum_lenght, too_big, too_low"
      ],
      "metadata": {
        "id": "c6LU806Qxsnd"
      },
      "execution_count": null,
      "outputs": []
    },
    {
      "cell_type": "code",
      "source": [
        "def get_silence(data, sr, path_to_write): # получаю ролики по секунде из длинных\n",
        "    for i in range(0, int(len(data) / sr) - 1):\n",
        "        dur = data[i * sr:sr * (i + 1)]\n",
        "        if(len(dur) < sr): continue\n",
        "\n",
        "        sf.write(f'{path_to_write}{i}.wav', dur, sr)"
      ],
      "metadata": {
        "id": "y7VwC36IxqBg"
      },
      "execution_count": null,
      "outputs": []
    },
    {
      "cell_type": "code",
      "source": [
        "def augented_data(file_path, sr, samples, mu, sigma, sounds, SAMPLE_RIR):\n",
        "\n",
        "    effects = [\n",
        "        [\"lowpass\", \"-1\", \"100\"],\n",
        "        [\"speed\", \"1.2\"],\n",
        "        [\"rate\", f\"{sr}\"],\n",
        "    ]\n",
        "\n",
        "    effects2 = [\n",
        "        [\"lowpass\", \"-1\", \"100\"],\n",
        "        [\"speed\", \"0.9\"],\n",
        "        [\"rate\", f\"{sr}\"],\n",
        "    ]\n",
        "\n",
        "    eff_samples = int(1/12 * samples)\n",
        "    rir_samples = int(1/6 * samples)  + eff_samples\n",
        "    noise_samples = int(1/6 * samples) + rir_samples\n",
        "\n",
        "    rir_raw, sample_rate = librosa.load(SAMPLE_RIR, sr=sr)\n",
        "    rir_raw = torch.Tensor([rir_raw])\n",
        "\n",
        "    sounds_lenght = len(sounds)\n",
        "\n",
        "    for root, dirs, files in os.walk(file_path):\n",
        "        lenght = len(files)\n",
        "        for i in range(samples):\n",
        "            iter = i % lenght\n",
        "\n",
        "            path = file_path + files[iter]\n",
        "            path_write = path.split('.')[0]\n",
        "\n",
        "            data, sr = librosa.load(path, sr=sr)\n",
        "            data = torch.Tensor([data])\n",
        "            \n",
        "            if i < eff_samples:\n",
        "                data2, sr2 = torchaudio.sox_effects.apply_effects_tensor(data, sr, effects)\n",
        "                sf.write(f'{path_write}_effects_down_{i}.wav', data2[0], sr2)\n",
        "\n",
        "            elif i < eff_samples * 2:\n",
        "                data2, sr2 = torchaudio.sox_effects.apply_effects_tensor(data, sr, effects2)\n",
        "                sf.write(f'{path_write}_effects_up_{i}.wav', data2[0], sr2)\n",
        "\n",
        "            elif i < rir_samples:\n",
        "                rir = rir_raw[:, int(sr * 1.01) : int(sr * 1.3)]\n",
        "                rir = rir / torch.norm(rir, p=2)\n",
        "\n",
        "                augmented = signal.fftconvolve(data, rir)\n",
        "                sf.write(f'{path_write}_reverb_{i}.wav', augmented[0], sr)\n",
        "\n",
        "            elif i < noise_samples:\n",
        "                noise2 = np.random.normal(mu, sigma, [1,data.shape[1]])\n",
        "                sf.write(f'{path_write}_noise_{i}.wav', (data + noise2)[0], sr)\n",
        "\n",
        "            else:\n",
        "                iter_sound = i % sounds_lenght\n",
        "\n",
        "                data = AudioSegment.from_file(path, format=\"wav\")\n",
        "                noise = AudioSegment.from_file(sounds[iter_sound], format=\"wav\") - 25\n",
        "\n",
        "                overlay = data.overlay(noise, position=0)\n",
        "\n",
        "                overlay.export(f'{path_write}_back_{i}.wav', format=\"wav\")\n",
        "\n",
        "        break"
      ],
      "metadata": {
        "id": "OIJlYpg6hk5B"
      },
      "execution_count": null,
      "outputs": []
    },
    {
      "cell_type": "markdown",
      "source": [
        "# Загрузка данных"
      ],
      "metadata": {
        "id": "hGvAyCJqx4fD"
      }
    },
    {
      "cell_type": "code",
      "source": [
        "f = open('/content/dataset_infos.json')\n",
        "data = json.load(f)\n",
        "f.close()"
      ],
      "metadata": {
        "id": "4kVh_JdpkRvk"
      },
      "execution_count": null,
      "outputs": []
    },
    {
      "cell_type": "code",
      "source": [
        "data['v0.02']['download_checksums']"
      ],
      "metadata": {
        "colab": {
          "base_uri": "https://localhost:8080/"
        },
        "id": "NuxvMy0Fkp1O",
        "outputId": "f9d38b2b-ee83-4071-f2a5-7e0e9d139c76"
      },
      "execution_count": null,
      "outputs": [
        {
          "output_type": "execute_result",
          "data": {
            "text/plain": [
              "{'https://s3.amazonaws.com/datasets.huggingface.co/SpeechCommands/v0.02/v0.02_train.tar.gz': {'num_bytes': 1944462432,\n",
              "  'checksum': 'acfc1a9e5f020ef5d20f13bb5c1035dcc19a3cc6d5fd1fe775d99814ce840399'},\n",
              " 'https://s3.amazonaws.com/datasets.huggingface.co/SpeechCommands/v0.02/v0.02_validation.tar.gz': {'num_bytes': 229117586,\n",
              "  'checksum': '868bdecd3dc12276ee55d2aeca5b1f02d913d6f17875181c1bf9d465fa2f7be1'},\n",
              " 'https://s3.amazonaws.com/datasets.huggingface.co/SpeechCommands/v0.02/v0.02_test.tar.gz': {'num_bytes': 112395851,\n",
              "  'checksum': '45aedb39cb2c9f03e098a8d5c98350d6d8473c432ad4558fce26c6feb478a812'}}"
            ]
          },
          "metadata": {},
          "execution_count": 3
        }
      ]
    },
    {
      "cell_type": "code",
      "source": [
        "drive.mount(\"/content/gdrive/\")"
      ],
      "metadata": {
        "colab": {
          "base_uri": "https://localhost:8080/"
        },
        "id": "rwWnNqe35V3n",
        "outputId": "ad1cb71e-d062-4b52-f010-2fc719a33622"
      },
      "execution_count": null,
      "outputs": [
        {
          "output_type": "stream",
          "name": "stdout",
          "text": [
            "Mounted at /content/gdrive/\n"
          ]
        }
      ]
    },
    {
      "cell_type": "code",
      "source": [
        "!mkdir '/content/train'\n",
        "!mkdir '/content/test'\n",
        "!mkdir '/content/dev'"
      ],
      "metadata": {
        "id": "tjWHD7xju1pq"
      },
      "execution_count": null,
      "outputs": []
    },
    {
      "cell_type": "code",
      "source": [
        "!unzip '/content/gdrive/MyDrive/Colab Notebooks/neymark/sounds to neymark.zip'"
      ],
      "metadata": {
        "colab": {
          "base_uri": "https://localhost:8080/"
        },
        "id": "6vFrDDDZi8NC",
        "outputId": "62d5f241-36b0-462e-ee73-1876a96371f4"
      },
      "execution_count": null,
      "outputs": [
        {
          "output_type": "stream",
          "name": "stdout",
          "text": [
            "Archive:  /content/gdrive/MyDrive/Colab Notebooks/neymark/sounds to neymark.zip\n",
            "   creating: sounds to neymark/\n",
            "  inflating: sounds to neymark/ELG2ANV-aggressive.mp3  \n",
            "  inflating: __MACOSX/sounds to neymark/._ELG2ANV-aggressive.mp3  \n",
            "  inflating: sounds to neymark/VUGND8F-mellow-background.mp3  \n",
            "  inflating: __MACOSX/sounds to neymark/._VUGND8F-mellow-background.mp3  \n",
            "  inflating: sounds to neymark/DogsBarkingCUandDistInfuriated PEHD014302.wav  \n",
            "  inflating: __MACOSX/sounds to neymark/._DogsBarkingCUandDistInfuriated PEHD014302.wav  \n",
            "  inflating: sounds to neymark/CarTiresOnGravelEn PE856402.wav  \n",
            "  inflating: __MACOSX/sounds to neymark/._CarTiresOnGravelEn PE856402.wav  \n",
            "  inflating: sounds to neymark/mixkit-sleepy-cat-135.mp3  \n",
            "  inflating: __MACOSX/sounds to neymark/._mixkit-sleepy-cat-135.mp3  \n",
            "  inflating: sounds to neymark/mixkit-tech-house-vibes-130.mp3  \n",
            "  inflating: __MACOSX/sounds to neymark/._mixkit-tech-house-vibes-130.mp3  \n"
          ]
        }
      ]
    },
    {
      "cell_type": "code",
      "source": [
        "!tar -xvf '/content/gdrive/MyDrive/Colab Notebooks/neymark/v0.02_train.tar' -C '/content/train'\n",
        "!tar -xvf '/content/gdrive/MyDrive/Colab Notebooks/neymark/v0.02_validation.tar' -C '/content/dev'\n",
        "!tar -xvf '/content/gdrive/MyDrive/Colab Notebooks/neymark/v0.02_test.tar' -C '/content/test'"
      ],
      "metadata": {
        "id": "E9OYBbWv5o04"
      },
      "execution_count": null,
      "outputs": []
    },
    {
      "cell_type": "markdown",
      "source": [
        "# Обработка бэков для аугментации"
      ],
      "metadata": {
        "id": "4WLkPETSqD9a"
      }
    },
    {
      "cell_type": "code",
      "source": [
        "SAMPLE_NOISE = download_asset(\"tutorial-assets/Lab41-SRI-VOiCES-rm1-babb-mc01-stu-clo-8000hz.wav\")\n",
        "SAMPLE_RIR = download_asset(\"tutorial-assets/Lab41-SRI-VOiCES-rm1-impulse-mc01-stu-clo-8000hz.wav\")\n",
        "\n",
        "!mv '/content/sounds to neymark' '/content/sounds'"
      ],
      "metadata": {
        "colab": {
          "base_uri": "https://localhost:8080/",
          "height": 81,
          "referenced_widgets": [
            "ec0635b00cb743bfaccaefde0deb3489",
            "30552a7b3451415093280691e73d9725",
            "0684cf86965d48ffa9a9032d8d90e8c6",
            "b7308d484113434ba19cb1db3d60bed1",
            "b33421e5d0d3481eb99c0044642c2646",
            "e0ae1b588a8d45019d5679625dd993d2",
            "b0815c8ac7734a1f8b36c09befc13423",
            "d2a1e3c5670b4a699e28859d8758815c",
            "4002d777a86f40daaf3c6cd38104fa3d",
            "c1e41df3624d41d7ac363590451ce375",
            "1574e25626b84320b4d4e21a9f8f1be9",
            "6102450257db41d98280e8cdc71a2c0b",
            "caecf791c2eb40c6a4735a0ec62f15f7",
            "f62061ab0ee94e1faa0978403cfa74d5",
            "874e4a017cdd4cbc94fd72abafe377ea",
            "4ee574a5ea174bac9cde40044c055b12",
            "f0aba5c8f50f40eb8d7d8d17294ce87f",
            "60e80b91f2144b058c5d29caa5127153",
            "bc5cfaea0ade4dc395a72bd238c747e8",
            "8001c55d793f4466b78c6767702856f6",
            "6f6473f555e9400e91ef4625b84756d9",
            "5203eea5532e4d6882b00b7428f478b4"
          ]
        },
        "id": "xac8e9DrqPeo",
        "outputId": "6f20c697-65ee-40a2-d3ed-1733db7ade77"
      },
      "execution_count": null,
      "outputs": [
        {
          "output_type": "display_data",
          "data": {
            "text/plain": [
              "  0%|          | 0.00/78.2k [00:00<?, ?B/s]"
            ],
            "application/vnd.jupyter.widget-view+json": {
              "version_major": 2,
              "version_minor": 0,
              "model_id": "ec0635b00cb743bfaccaefde0deb3489"
            }
          },
          "metadata": {}
        },
        {
          "output_type": "display_data",
          "data": {
            "text/plain": [
              "  0%|          | 0.00/31.3k [00:00<?, ?B/s]"
            ],
            "application/vnd.jupyter.widget-view+json": {
              "version_major": 2,
              "version_minor": 0,
              "model_id": "6102450257db41d98280e8cdc71a2c0b"
            }
          },
          "metadata": {}
        }
      ]
    },
    {
      "cell_type": "code",
      "source": [
        "sr = 22050\n",
        "data, sr = librosa.load('/content/sounds/CarTiresOnGravelEn PE856402.wav', sr=sr)\n",
        "data = data[:80000]\n",
        "sf.write(f'/content/sounds/cars.wav', data, sr)\n",
        "\n",
        "!rm '/content/sounds/CarTiresOnGravelEn PE856402.wav'\n",
        "!mv '/content/sounds/DogsBarkingCUandDistInfuriated PEHD014302.wav' '/content/sounds/DogsBarking.wav'"
      ],
      "metadata": {
        "id": "fubb1NKDqfKQ"
      },
      "execution_count": null,
      "outputs": []
    },
    {
      "cell_type": "code",
      "source": [
        "dops_sounds = []\n",
        "\n",
        "file_path = '/content/sounds'\n",
        "\n",
        "for root, dirs, files in os.walk(file_path):\n",
        "    dops_sounds = files\n",
        "    break\n",
        "\n",
        "dops_sounds"
      ],
      "metadata": {
        "colab": {
          "base_uri": "https://localhost:8080/"
        },
        "id": "6_U9UykMqx61",
        "outputId": "b51d72b9-922d-4836-e7d1-090fdb9b3fd8"
      },
      "execution_count": null,
      "outputs": [
        {
          "output_type": "execute_result",
          "data": {
            "text/plain": [
              "['DogsBarking.wav',\n",
              " 'mixkit-sleepy-cat-135.mp3',\n",
              " 'ELG2ANV-aggressive.mp3',\n",
              " 'mixkit-tech-house-vibes-130.mp3',\n",
              " 'cars.wav',\n",
              " 'VUGND8F-mellow-background.mp3']"
            ]
          },
          "metadata": {},
          "execution_count": 12
        }
      ]
    },
    {
      "cell_type": "code",
      "source": [
        "file_path = '/content/sounds/'\n",
        "\n",
        "for root, dirs, files in os.walk(file_path):\n",
        "    for iter, i in enumerate(files):\n",
        "        path = file_path + i\n",
        "        data, sr = librosa.load(path, sr=22050)\n",
        "\n",
        "        get_silence(data, sr, '/content/sounds/' + str(iter) + '_')\n",
        "    break\n",
        "    \n",
        "for root, dirs, files in os.walk(file_path):\n",
        "    print(len(files))"
      ],
      "metadata": {
        "colab": {
          "base_uri": "https://localhost:8080/"
        },
        "id": "8BSVhY5dq6kb",
        "outputId": "cbe7bbfe-a4cb-4eab-be6e-7d2eb9db0154"
      },
      "execution_count": null,
      "outputs": [
        {
          "output_type": "stream",
          "name": "stdout",
          "text": [
            "1072\n"
          ]
        }
      ]
    },
    {
      "cell_type": "code",
      "source": [
        "file_path = SAMPLE_NOISE\n",
        "\n",
        "data, sr = librosa.load(SAMPLE_NOISE, sr=22050)\n",
        "get_silence(data, sr, '/content/sounds/' + str(6) + '_')\n",
        "\n",
        "file_path = '/content/sounds/'\n",
        "\n",
        "for root, dirs, files in os.walk(file_path):\n",
        "    print(len(files))\n",
        "    break"
      ],
      "metadata": {
        "colab": {
          "base_uri": "https://localhost:8080/"
        },
        "id": "c2X8Q8PZrCkI",
        "outputId": "ad74fc25-2583-430f-a8ec-1ea0e8f525c7"
      },
      "execution_count": null,
      "outputs": [
        {
          "output_type": "stream",
          "name": "stdout",
          "text": [
            "1076\n"
          ]
        }
      ]
    },
    {
      "cell_type": "code",
      "source": [
        "for i in dops_sounds:\n",
        "    path = '/content/sounds/' + i\n",
        "    !rm $path\n",
        "\n",
        "file_path = '/content/sounds/'\n",
        "sounds = []\n",
        "\n",
        "for root, dirs, files in os.walk(file_path):\n",
        "    for i in files:\n",
        "        path = file_path + i\n",
        "        sounds.append(path)\n",
        "    print(len(files))\n",
        "    break"
      ],
      "metadata": {
        "colab": {
          "base_uri": "https://localhost:8080/"
        },
        "id": "_Gyh2qqvrLqt",
        "outputId": "47207c33-7ec3-41a3-e1dc-0ee932197065"
      },
      "execution_count": null,
      "outputs": [
        {
          "output_type": "stream",
          "name": "stdout",
          "text": [
            "1070\n"
          ]
        }
      ]
    },
    {
      "cell_type": "markdown",
      "source": [
        "# Анализ датасета"
      ],
      "metadata": {
        "id": "pnbW2Wdhv7dg"
      }
    },
    {
      "cell_type": "markdown",
      "source": [
        "## Обучающая выборка"
      ],
      "metadata": {
        "id": "GjX6zArW4cJx"
      }
    },
    {
      "cell_type": "code",
      "source": [
        "mean_dur_train, dur_train, big_data_train, small_data_train = get_mean('/content/train/')"
      ],
      "metadata": {
        "id": "C2F9v-i14ggK"
      },
      "execution_count": null,
      "outputs": []
    },
    {
      "cell_type": "code",
      "source": [
        "mean_dur_train"
      ],
      "metadata": {
        "colab": {
          "base_uri": "https://localhost:8080/"
        },
        "id": "L9zV6DIC5M9f",
        "outputId": "f6f20629-8335-4ba1-84ae-ed0187006472"
      },
      "execution_count": null,
      "outputs": [
        {
          "output_type": "execute_result",
          "data": {
            "text/plain": [
              "0.9846442049311708"
            ]
          },
          "metadata": {},
          "execution_count": 17
        }
      ]
    },
    {
      "cell_type": "code",
      "source": [
        "fig = px.histogram(pd.DataFrame(dur_train[dur_train > 1.0]), nbins=3)\n",
        "fig.show()"
      ],
      "metadata": {
        "colab": {
          "base_uri": "https://localhost:8080/",
          "height": 562
        },
        "id": "0WCY-twT5szH",
        "outputId": "72b072f0-7a8d-4ef5-87f7-b2e175097bf9"
      },
      "execution_count": null,
      "outputs": [
        {
          "output_type": "display_data",
          "data": {
            "text/html": [
              "<html>\n",
              "<head><meta charset=\"utf-8\" /></head>\n",
              "<body>\n",
              "    <div>            <script src=\"https://cdnjs.cloudflare.com/ajax/libs/mathjax/2.7.5/MathJax.js?config=TeX-AMS-MML_SVG\"></script><script type=\"text/javascript\">if (window.MathJax && window.MathJax.Hub && window.MathJax.Hub.Config) {window.MathJax.Hub.Config({SVG: {font: \"STIX-Web\"}});}</script>                <script type=\"text/javascript\">window.PlotlyConfig = {MathJaxConfig: 'local'};</script>\n",
              "        <script src=\"https://cdn.plot.ly/plotly-2.18.2.min.js\"></script>                <div id=\"c7789e88-dd73-4b57-a5c6-8b8195d06104\" class=\"plotly-graph-div\" style=\"height:525px; width:100%;\"></div>            <script type=\"text/javascript\">                                    window.PLOTLYENV=window.PLOTLYENV || {};                                    if (document.getElementById(\"c7789e88-dd73-4b57-a5c6-8b8195d06104\")) {                    Plotly.newPlot(                        \"c7789e88-dd73-4b57-a5c6-8b8195d06104\",                        [{\"alignmentgroup\":\"True\",\"bingroup\":\"x\",\"hovertemplate\":\"variable=0<br>value=%{x}<br>count=%{y}<extra></extra>\",\"legendgroup\":\"0\",\"marker\":{\"color\":\"#636efa\",\"pattern\":{\"shape\":\"\"}},\"name\":\"0\",\"nbinsx\":3,\"offsetgroup\":\"0\",\"orientation\":\"v\",\"showlegend\":true,\"x\":[60.0,61.253875,61.8056875,60.0,95.183125],\"xaxis\":\"x\",\"yaxis\":\"y\",\"type\":\"histogram\"}],                        {\"template\":{\"data\":{\"histogram2dcontour\":[{\"type\":\"histogram2dcontour\",\"colorbar\":{\"outlinewidth\":0,\"ticks\":\"\"},\"colorscale\":[[0.0,\"#0d0887\"],[0.1111111111111111,\"#46039f\"],[0.2222222222222222,\"#7201a8\"],[0.3333333333333333,\"#9c179e\"],[0.4444444444444444,\"#bd3786\"],[0.5555555555555556,\"#d8576b\"],[0.6666666666666666,\"#ed7953\"],[0.7777777777777778,\"#fb9f3a\"],[0.8888888888888888,\"#fdca26\"],[1.0,\"#f0f921\"]]}],\"choropleth\":[{\"type\":\"choropleth\",\"colorbar\":{\"outlinewidth\":0,\"ticks\":\"\"}}],\"histogram2d\":[{\"type\":\"histogram2d\",\"colorbar\":{\"outlinewidth\":0,\"ticks\":\"\"},\"colorscale\":[[0.0,\"#0d0887\"],[0.1111111111111111,\"#46039f\"],[0.2222222222222222,\"#7201a8\"],[0.3333333333333333,\"#9c179e\"],[0.4444444444444444,\"#bd3786\"],[0.5555555555555556,\"#d8576b\"],[0.6666666666666666,\"#ed7953\"],[0.7777777777777778,\"#fb9f3a\"],[0.8888888888888888,\"#fdca26\"],[1.0,\"#f0f921\"]]}],\"heatmap\":[{\"type\":\"heatmap\",\"colorbar\":{\"outlinewidth\":0,\"ticks\":\"\"},\"colorscale\":[[0.0,\"#0d0887\"],[0.1111111111111111,\"#46039f\"],[0.2222222222222222,\"#7201a8\"],[0.3333333333333333,\"#9c179e\"],[0.4444444444444444,\"#bd3786\"],[0.5555555555555556,\"#d8576b\"],[0.6666666666666666,\"#ed7953\"],[0.7777777777777778,\"#fb9f3a\"],[0.8888888888888888,\"#fdca26\"],[1.0,\"#f0f921\"]]}],\"heatmapgl\":[{\"type\":\"heatmapgl\",\"colorbar\":{\"outlinewidth\":0,\"ticks\":\"\"},\"colorscale\":[[0.0,\"#0d0887\"],[0.1111111111111111,\"#46039f\"],[0.2222222222222222,\"#7201a8\"],[0.3333333333333333,\"#9c179e\"],[0.4444444444444444,\"#bd3786\"],[0.5555555555555556,\"#d8576b\"],[0.6666666666666666,\"#ed7953\"],[0.7777777777777778,\"#fb9f3a\"],[0.8888888888888888,\"#fdca26\"],[1.0,\"#f0f921\"]]}],\"contourcarpet\":[{\"type\":\"contourcarpet\",\"colorbar\":{\"outlinewidth\":0,\"ticks\":\"\"}}],\"contour\":[{\"type\":\"contour\",\"colorbar\":{\"outlinewidth\":0,\"ticks\":\"\"},\"colorscale\":[[0.0,\"#0d0887\"],[0.1111111111111111,\"#46039f\"],[0.2222222222222222,\"#7201a8\"],[0.3333333333333333,\"#9c179e\"],[0.4444444444444444,\"#bd3786\"],[0.5555555555555556,\"#d8576b\"],[0.6666666666666666,\"#ed7953\"],[0.7777777777777778,\"#fb9f3a\"],[0.8888888888888888,\"#fdca26\"],[1.0,\"#f0f921\"]]}],\"surface\":[{\"type\":\"surface\",\"colorbar\":{\"outlinewidth\":0,\"ticks\":\"\"},\"colorscale\":[[0.0,\"#0d0887\"],[0.1111111111111111,\"#46039f\"],[0.2222222222222222,\"#7201a8\"],[0.3333333333333333,\"#9c179e\"],[0.4444444444444444,\"#bd3786\"],[0.5555555555555556,\"#d8576b\"],[0.6666666666666666,\"#ed7953\"],[0.7777777777777778,\"#fb9f3a\"],[0.8888888888888888,\"#fdca26\"],[1.0,\"#f0f921\"]]}],\"mesh3d\":[{\"type\":\"mesh3d\",\"colorbar\":{\"outlinewidth\":0,\"ticks\":\"\"}}],\"scatter\":[{\"fillpattern\":{\"fillmode\":\"overlay\",\"size\":10,\"solidity\":0.2},\"type\":\"scatter\"}],\"parcoords\":[{\"type\":\"parcoords\",\"line\":{\"colorbar\":{\"outlinewidth\":0,\"ticks\":\"\"}}}],\"scatterpolargl\":[{\"type\":\"scatterpolargl\",\"marker\":{\"colorbar\":{\"outlinewidth\":0,\"ticks\":\"\"}}}],\"bar\":[{\"error_x\":{\"color\":\"#2a3f5f\"},\"error_y\":{\"color\":\"#2a3f5f\"},\"marker\":{\"line\":{\"color\":\"#E5ECF6\",\"width\":0.5},\"pattern\":{\"fillmode\":\"overlay\",\"size\":10,\"solidity\":0.2}},\"type\":\"bar\"}],\"scattergeo\":[{\"type\":\"scattergeo\",\"marker\":{\"colorbar\":{\"outlinewidth\":0,\"ticks\":\"\"}}}],\"scatterpolar\":[{\"type\":\"scatterpolar\",\"marker\":{\"colorbar\":{\"outlinewidth\":0,\"ticks\":\"\"}}}],\"histogram\":[{\"marker\":{\"pattern\":{\"fillmode\":\"overlay\",\"size\":10,\"solidity\":0.2}},\"type\":\"histogram\"}],\"scattergl\":[{\"type\":\"scattergl\",\"marker\":{\"colorbar\":{\"outlinewidth\":0,\"ticks\":\"\"}}}],\"scatter3d\":[{\"type\":\"scatter3d\",\"line\":{\"colorbar\":{\"outlinewidth\":0,\"ticks\":\"\"}},\"marker\":{\"colorbar\":{\"outlinewidth\":0,\"ticks\":\"\"}}}],\"scattermapbox\":[{\"type\":\"scattermapbox\",\"marker\":{\"colorbar\":{\"outlinewidth\":0,\"ticks\":\"\"}}}],\"scatterternary\":[{\"type\":\"scatterternary\",\"marker\":{\"colorbar\":{\"outlinewidth\":0,\"ticks\":\"\"}}}],\"scattercarpet\":[{\"type\":\"scattercarpet\",\"marker\":{\"colorbar\":{\"outlinewidth\":0,\"ticks\":\"\"}}}],\"carpet\":[{\"aaxis\":{\"endlinecolor\":\"#2a3f5f\",\"gridcolor\":\"white\",\"linecolor\":\"white\",\"minorgridcolor\":\"white\",\"startlinecolor\":\"#2a3f5f\"},\"baxis\":{\"endlinecolor\":\"#2a3f5f\",\"gridcolor\":\"white\",\"linecolor\":\"white\",\"minorgridcolor\":\"white\",\"startlinecolor\":\"#2a3f5f\"},\"type\":\"carpet\"}],\"table\":[{\"cells\":{\"fill\":{\"color\":\"#EBF0F8\"},\"line\":{\"color\":\"white\"}},\"header\":{\"fill\":{\"color\":\"#C8D4E3\"},\"line\":{\"color\":\"white\"}},\"type\":\"table\"}],\"barpolar\":[{\"marker\":{\"line\":{\"color\":\"#E5ECF6\",\"width\":0.5},\"pattern\":{\"fillmode\":\"overlay\",\"size\":10,\"solidity\":0.2}},\"type\":\"barpolar\"}],\"pie\":[{\"automargin\":true,\"type\":\"pie\"}]},\"layout\":{\"autotypenumbers\":\"strict\",\"colorway\":[\"#636efa\",\"#EF553B\",\"#00cc96\",\"#ab63fa\",\"#FFA15A\",\"#19d3f3\",\"#FF6692\",\"#B6E880\",\"#FF97FF\",\"#FECB52\"],\"font\":{\"color\":\"#2a3f5f\"},\"hovermode\":\"closest\",\"hoverlabel\":{\"align\":\"left\"},\"paper_bgcolor\":\"white\",\"plot_bgcolor\":\"#E5ECF6\",\"polar\":{\"bgcolor\":\"#E5ECF6\",\"angularaxis\":{\"gridcolor\":\"white\",\"linecolor\":\"white\",\"ticks\":\"\"},\"radialaxis\":{\"gridcolor\":\"white\",\"linecolor\":\"white\",\"ticks\":\"\"}},\"ternary\":{\"bgcolor\":\"#E5ECF6\",\"aaxis\":{\"gridcolor\":\"white\",\"linecolor\":\"white\",\"ticks\":\"\"},\"baxis\":{\"gridcolor\":\"white\",\"linecolor\":\"white\",\"ticks\":\"\"},\"caxis\":{\"gridcolor\":\"white\",\"linecolor\":\"white\",\"ticks\":\"\"}},\"coloraxis\":{\"colorbar\":{\"outlinewidth\":0,\"ticks\":\"\"}},\"colorscale\":{\"sequential\":[[0.0,\"#0d0887\"],[0.1111111111111111,\"#46039f\"],[0.2222222222222222,\"#7201a8\"],[0.3333333333333333,\"#9c179e\"],[0.4444444444444444,\"#bd3786\"],[0.5555555555555556,\"#d8576b\"],[0.6666666666666666,\"#ed7953\"],[0.7777777777777778,\"#fb9f3a\"],[0.8888888888888888,\"#fdca26\"],[1.0,\"#f0f921\"]],\"sequentialminus\":[[0.0,\"#0d0887\"],[0.1111111111111111,\"#46039f\"],[0.2222222222222222,\"#7201a8\"],[0.3333333333333333,\"#9c179e\"],[0.4444444444444444,\"#bd3786\"],[0.5555555555555556,\"#d8576b\"],[0.6666666666666666,\"#ed7953\"],[0.7777777777777778,\"#fb9f3a\"],[0.8888888888888888,\"#fdca26\"],[1.0,\"#f0f921\"]],\"diverging\":[[0,\"#8e0152\"],[0.1,\"#c51b7d\"],[0.2,\"#de77ae\"],[0.3,\"#f1b6da\"],[0.4,\"#fde0ef\"],[0.5,\"#f7f7f7\"],[0.6,\"#e6f5d0\"],[0.7,\"#b8e186\"],[0.8,\"#7fbc41\"],[0.9,\"#4d9221\"],[1,\"#276419\"]]},\"xaxis\":{\"gridcolor\":\"white\",\"linecolor\":\"white\",\"ticks\":\"\",\"title\":{\"standoff\":15},\"zerolinecolor\":\"white\",\"automargin\":true,\"zerolinewidth\":2},\"yaxis\":{\"gridcolor\":\"white\",\"linecolor\":\"white\",\"ticks\":\"\",\"title\":{\"standoff\":15},\"zerolinecolor\":\"white\",\"automargin\":true,\"zerolinewidth\":2},\"scene\":{\"xaxis\":{\"backgroundcolor\":\"#E5ECF6\",\"gridcolor\":\"white\",\"linecolor\":\"white\",\"showbackground\":true,\"ticks\":\"\",\"zerolinecolor\":\"white\",\"gridwidth\":2},\"yaxis\":{\"backgroundcolor\":\"#E5ECF6\",\"gridcolor\":\"white\",\"linecolor\":\"white\",\"showbackground\":true,\"ticks\":\"\",\"zerolinecolor\":\"white\",\"gridwidth\":2},\"zaxis\":{\"backgroundcolor\":\"#E5ECF6\",\"gridcolor\":\"white\",\"linecolor\":\"white\",\"showbackground\":true,\"ticks\":\"\",\"zerolinecolor\":\"white\",\"gridwidth\":2}},\"shapedefaults\":{\"line\":{\"color\":\"#2a3f5f\"}},\"annotationdefaults\":{\"arrowcolor\":\"#2a3f5f\",\"arrowhead\":0,\"arrowwidth\":1},\"geo\":{\"bgcolor\":\"white\",\"landcolor\":\"#E5ECF6\",\"subunitcolor\":\"white\",\"showland\":true,\"showlakes\":true,\"lakecolor\":\"white\"},\"title\":{\"x\":0.05},\"mapbox\":{\"style\":\"light\"}}},\"xaxis\":{\"anchor\":\"y\",\"domain\":[0.0,1.0],\"title\":{\"text\":\"value\"}},\"yaxis\":{\"anchor\":\"x\",\"domain\":[0.0,1.0],\"title\":{\"text\":\"count\"}},\"legend\":{\"title\":{\"text\":\"variable\"},\"tracegroupgap\":0},\"margin\":{\"t\":60},\"barmode\":\"relative\"},                        {\"responsive\": true}                    ).then(function(){\n",
              "                            \n",
              "var gd = document.getElementById('c7789e88-dd73-4b57-a5c6-8b8195d06104');\n",
              "var x = new MutationObserver(function (mutations, observer) {{\n",
              "        var display = window.getComputedStyle(gd).display;\n",
              "        if (!display || display === 'none') {{\n",
              "            console.log([gd, 'removed!']);\n",
              "            Plotly.purge(gd);\n",
              "            observer.disconnect();\n",
              "        }}\n",
              "}});\n",
              "\n",
              "// Listen for the removal of the full notebook cells\n",
              "var notebookContainer = gd.closest('#notebook-container');\n",
              "if (notebookContainer) {{\n",
              "    x.observe(notebookContainer, {childList: true});\n",
              "}}\n",
              "\n",
              "// Listen for the clearing of the current output cell\n",
              "var outputEl = gd.closest('.output');\n",
              "if (outputEl) {{\n",
              "    x.observe(outputEl, {childList: true});\n",
              "}}\n",
              "\n",
              "                        })                };                            </script>        </div>\n",
              "</body>\n",
              "</html>"
            ]
          },
          "metadata": {}
        }
      ]
    },
    {
      "cell_type": "code",
      "source": [
        "fig = px.histogram(pd.DataFrame(dur_train[dur_train < 1.0]), nbins=10)\n",
        "fig.show()"
      ],
      "metadata": {
        "colab": {
          "base_uri": "https://localhost:8080/",
          "height": 562
        },
        "id": "1fv_95LX6NH0",
        "outputId": "07dd7420-149b-4e6e-8152-39a62773c261"
      },
      "execution_count": null,
      "outputs": [
        {
          "output_type": "display_data",
          "data": {
            "text/html": [
              "<html>\n",
              "<head><meta charset=\"utf-8\" /></head>\n",
              "<body>\n",
              "    <div>            <script src=\"https://cdnjs.cloudflare.com/ajax/libs/mathjax/2.7.5/MathJax.js?config=TeX-AMS-MML_SVG\"></script><script type=\"text/javascript\">if (window.MathJax && window.MathJax.Hub && window.MathJax.Hub.Config) {window.MathJax.Hub.Config({SVG: {font: \"STIX-Web\"}});}</script>                <script type=\"text/javascript\">window.PlotlyConfig = {MathJaxConfig: 'local'};</script>\n",
              "        <script src=\"https://cdn.plot.ly/plotly-2.18.2.min.js\"></script>                <div id=\"023822b2-f4cb-4c56-a1da-b46c870716d4\" class=\"plotly-graph-div\" style=\"height:525px; width:100%;\"></div>            <script type=\"text/javascript\">                                    window.PLOTLYENV=window.PLOTLYENV || {};                                    if (document.getElementById(\"023822b2-f4cb-4c56-a1da-b46c870716d4\")) {                    Plotly.newPlot(                        \"023822b2-f4cb-4c56-a1da-b46c870716d4\",                        [{\"alignmentgroup\":\"True\",\"bingroup\":\"x\",\"hovertemplate\":\"variable=0<br>value=%{x}<br>count=%{y}<extra></extra>\",\"legendgroup\":\"0\",\"marker\":{\"color\":\"#636efa\",\"pattern\":{\"shape\":\"\"}},\"name\":\"0\",\"nbinsx\":10,\"offsetgroup\":\"0\",\"orientation\":\"v\",\"showlegend\":true,\"x\":[0.882375,0.97525,0.7253125,0.64,0.743,0.810625,0.938625,0.7535,0.938625,0.55725,0.5973125,0.75325,0.7535,0.882375,0.682625,0.464375,0.882375,0.8533125,0.7253125,0.8533125,0.768,0.6036875,0.464375,0.64,0.7535,0.682625,0.384,0.9288125,0.554625,0.7894375,0.7253125,0.882375,0.512,0.96325,0.4693125,0.896,0.554625,0.682625,0.743,0.97525,0.97525,0.5973125,0.938625,0.768,0.896,0.97525,0.8359375,0.896,0.7585,0.7535,0.810625,0.650125,0.768,0.512,0.810625,0.5973125,0.5973125,0.682625,0.682625,0.97525,0.3715,0.768,0.938625,0.7894375,0.650125,0.6036875,0.8359375,0.4693125,0.8533125,0.7535,0.554625,0.4693125,0.7585,0.7535,0.6965625,0.75825,0.743,0.6036875,0.7535,0.4693125,0.9813125,0.7253125,0.6965625,0.7535,0.682625,0.7535,0.7894375,0.7535,0.8359375,0.8213125,0.7253125,0.810625,0.7585,0.7535,0.7894375,0.97525,0.7785,0.896,0.9813125,0.4693125,0.9813125,0.768,0.810625,0.5973125,0.682625,0.7535,0.426625,0.512,0.882375,0.8533125,0.8533125,0.6036875,0.5973125,0.768,0.810625,0.64,0.5108125,0.810625,0.64,0.810625,0.810625,0.896,0.4906875,0.682625,0.650125,0.7585,0.8426875,0.55725,0.682625,0.9386875,0.7535,0.853375,0.896,0.981375,0.9386875,0.853375,0.853375,0.725375,0.7535,0.696625,0.853375,0.554625,0.8106875,0.896,0.7430625,0.60375,0.7535,0.7430625,0.7585,0.650125,0.512,0.896,0.512,0.97525,0.6826875,0.97525,0.4644375,0.9288125,0.981375,0.8,0.7895,0.9386875,0.768,0.7253125,0.896,0.9288125,0.6613125,0.97525,0.7894375,0.554625,0.981375,0.7535,0.9288125,0.768,0.7585,0.7895,0.882375,0.554625,0.9386875,0.7585,0.768,0.882375,0.768,0.882375,0.682625,0.8359375,0.6965625,0.768,0.97525,0.682625,0.55725,0.682625,0.7585,0.8359375,0.97525,0.8106875,0.981375,0.5973125,0.6501875,0.8106875,0.7535,0.938625,0.8106875,0.882375,0.426625,0.8533125,0.853375,0.725375,0.384,0.7895,0.8359375,0.64,0.64,0.8359375,0.768,0.882375,0.8533125,0.882375,0.8359375,0.981375,0.9288125,0.938625,0.7430625,0.7585,0.882375,0.7430625,0.7585,0.7535,0.810625,0.810625,0.768,0.97525,0.896,0.5973125,0.97525,0.7430625,0.80325,0.725375,0.9288125,0.743,0.64,0.6965625,0.682625,0.6501875,0.6826875,0.7535,0.882375,0.882375,0.9386875,0.810625,0.7894375,0.981375,0.896,0.8359375,0.6965625,0.512,0.64,0.75325,0.7535,0.896,0.896,0.743,0.9288125,0.981375,0.896,0.896,0.7535,0.8359375,0.7535,0.97525,0.853375,0.768,0.9288125,0.64,0.6965625,0.7535,0.853375,0.9813125,0.810625,0.9288125,0.8106875,0.5973125,0.7895,0.5973125,0.7430625,0.7253125,0.8359375,0.97525,0.8106875,0.882375,0.882375,0.7535,0.8359375,0.7535,0.6036875,0.7535,0.9386875,0.768,0.853375,0.768,0.75325,0.9173125,0.9386875,0.8106875,0.768,0.896,0.9066875,0.597375,0.9386875,0.7466875,0.9386875,0.896,0.97525,0.7585,0.55725,0.8106875,0.97525,0.938625,0.8106875,0.7895,0.97525,0.650125,0.7895,0.9288125,0.64,0.981375,0.7535,0.512,0.426625,0.9386875,0.938625,0.981375,0.510875,0.810625,0.8533125,0.8106875,0.426625,0.9288125,0.882375,0.696625,0.682625,0.512,0.896,0.9386875,0.896,0.7535,0.5973125,0.9288125,0.512,0.97525,0.5546875,0.768,0.853375,0.896,0.8533125,0.9386875,0.7585,0.9386875,0.9813125,0.853375,0.725375,0.597375,0.8359375,0.768,0.8359375,0.9386875,0.5546875,0.882375,0.97525,0.743,0.7535,0.5973125,0.64,0.6826875,0.938625,0.682625,0.8533125,0.896,0.853375,0.5973125,0.7894375,0.7535,0.9288125,0.832,0.768,0.853375,0.7430625,0.9813125,0.6965625,0.853375,0.853375,0.768,0.7735,0.8106875,0.6965625,0.768,0.8106875,0.7585,0.9288125,0.8106875,0.882375,0.6965625,0.8533125,0.725375,0.97525,0.981375,0.8359375,0.7535,0.384,0.7430625,0.8106875,0.768,0.9288125,0.768,0.896,0.4693125,0.97525,0.64,0.9813125,0.896,0.9173125,0.554625,0.896,0.7535,0.6501875,0.938625,0.7895,0.8359375,0.725375,0.6501875,0.6501875,0.5546875,0.64,0.97525,0.7585,0.853375,0.938625,0.896,0.853375,0.8359375,0.97525,0.8359375,0.418,0.7430625,0.6036875,0.810625,0.938625,0.981375,0.8106875,0.8359375,0.8533125,0.7253125,0.7535,0.882375,0.6501875,0.9813125,0.896,0.7895,0.682625,0.853375,0.8106875,0.426625,0.882375,0.882375,0.9288125,0.9386875,0.882375,0.9288125,0.7635,0.9386875,0.64,0.725375,0.981375,0.9386875,0.8533125,0.696625,0.882375,0.853375,0.8359375,0.7895,0.768,0.97525,0.7535,0.725375,0.981375,0.882375,0.882375,0.554625,0.9813125,0.896,0.682625,0.7253125,0.882375,0.7786875,0.810625,0.97525,0.8533125,0.6036875,0.597375,0.9386875,0.8359375,0.725375,0.97525,0.8106875,0.8106875,0.6826875,0.8359375,0.768,0.882375,0.6826875,0.8106875,0.8533125,0.896,0.75325,0.696625,0.7535,0.896,0.682625,0.882375,0.7430625,0.9386875,0.853375,0.97525,0.7585,0.7895,0.5108125,0.896,0.9386875,0.853375,0.6826875,0.9288125,0.554625,0.97525,0.7535,0.6826875,0.882375,0.981375,0.882375,0.64,0.882375,0.7894375,0.5573125,0.650125,0.8359375,0.9288125,0.7535,0.5108125,0.7535,0.853375,0.768,0.832,0.64,0.768,0.882375,0.6826875,0.64,0.9288125,0.8106875,0.7585,0.4644375,0.743,0.97525,0.7535,0.64,0.6965625,0.8359375,0.97525,0.565375,0.64,0.7885,0.810625,0.7895,0.510875,0.8359375,0.896,0.682625,0.896,0.896,0.7253125,0.7895,0.8359375,0.9813125,0.7430625,0.9813125,0.7895,0.5546875,0.7535,0.6826875,0.8359375,0.5573125,0.9386875,0.75825,0.981375,0.97525,0.768,0.896,0.896,0.97525,0.9386875,0.97525,0.8533125,0.743,0.7535,0.938625,0.9288125,0.853375,0.768,0.9386875,0.896,0.896,0.9386875,0.8359375,0.8359375,0.981375,0.981375,0.896,0.882375,0.9288125,0.853375,0.853375,0.938625,0.696625,0.8106875,0.64,0.768,0.9386875,0.981375,0.97525,0.7895,0.981375,0.9288125,0.9386875,0.64,0.6826875,0.7253125,0.3626875,0.9288125,0.6965625,0.7585,0.7535,0.9813125,0.9288125,0.882375,0.743,0.882375,0.97525,0.743,0.6501875,0.938625,0.7253125,0.650125,0.6826875,0.810625,0.7430625,0.853375,0.7735,0.9288125,0.55725,0.768,0.981375,0.896,0.981375,0.6501875,0.9386875,0.97525,0.597375,0.7253125,0.981375,0.9386875,0.9288125,0.696625,0.9288125,0.882375,0.9288125,0.512,0.768,0.64,0.853375,0.9386875,0.896,0.896,0.768,0.97525,0.5973125,0.853375,0.882375,0.97525,0.9288125,0.9386875,0.981375,0.810625,0.882375,0.896,0.981375,0.8106875,0.6501875,0.97525,0.3413125,0.6501875,0.512,0.554625,0.981375,0.7895,0.7585,0.696625,0.9288125,0.8106875,0.981375,0.981375,0.7894375,0.8533125,0.7895,0.725375,0.9386875,0.9288125,0.810625,0.7485,0.5573125,0.60375,0.9386875,0.512,0.97525,0.810625,0.7253125,0.938625,0.7253125,0.8106875,0.896,0.7895,0.97525,0.8359375,0.8359375,0.7585,0.9386875,0.4693125,0.8359375,0.6826875,0.768,0.597375,0.853375,0.938625,0.8533125,0.743,0.8106875,0.882375,0.896,0.650125,0.896,0.9813125,0.7535,0.9288125,0.682625,0.768,0.810625,0.64,0.554625,0.97525,0.9386875,0.7895,0.853375,0.7895,0.896,0.97525,0.64,0.896,0.682625,0.896,0.64,0.7485,0.97525,0.6826875,0.981375,0.9813125,0.882375,0.743,0.882375,0.97525,0.981375,0.9813125,0.9386875,0.75325,0.8533125,0.7535,0.882375,0.64,0.882375,0.7585,0.8359375,0.60375,0.60375,0.97525,0.9288125,0.7535,0.9288125,0.6826875,0.8359375,0.981375,0.9386875,0.7895,0.278625,0.9288125,0.7253125,0.7894375,0.743,0.64,0.7535,0.743,0.896,0.8533125,0.384,0.97525,0.6965625,0.7585,0.853375,0.9288125,0.853375,0.7466875,0.981375,0.9386875,0.696625,0.981375,0.981375,0.7430625,0.7253125,0.97525,0.7893125,0.5546875,0.981375,0.8,0.7895,0.97525,0.8533125,0.896,0.981375,0.9288125,0.9288125,0.7585,0.981375,0.9386875,0.650125,0.7430625,0.8359375,0.7430625,0.7535,0.8359375,0.64,0.882375,0.7735,0.981375,0.464375,0.8533125,0.64,0.768,0.768,0.9386875,0.97525,0.512,0.6826875,0.554625,0.7895,0.7535,0.882375,0.5546875,0.7895,0.7895,0.981375,0.75325,0.6826875,0.981375,0.981375,0.7253125,0.743,0.9386875,0.8106875,0.97525,0.6826875,0.981375,0.8359375,0.6826875,0.5973125,0.565375,0.981375,0.9386875,0.896,0.5973125,0.981375,0.853375,0.5973125,0.981375,0.8359375,0.853375,0.64,0.7895,0.896,0.8533125,0.853375,0.882375,0.810625,0.5973125,0.4586875,0.768,0.6965625,0.97525,0.8106875,0.7485,0.882375,0.7146875,0.810625,0.7573125,0.97525,0.8359375,0.60375,0.768,0.96,0.9288125,0.938625,0.938625,0.650125,0.9288125,0.896,0.9386875,0.7535,0.882375,0.768,0.5108125,0.9288125,0.8106875,0.896,0.882375,0.9386875,0.896,0.78,0.981375,0.882375,0.981375,0.5973125,0.97525,0.7535,0.64,0.8359375,0.7535,0.896,0.9386875,0.768,0.5973125,0.5973125,0.981375,0.896,0.9813125,0.896,0.981375,0.7535,0.981375,0.896,0.7895,0.7430625,0.7895,0.512,0.853375,0.682625,0.5973125,0.896,0.7585,0.896,0.853375,0.768,0.6501875,0.9386875,0.97525,0.9813125,0.9288125,0.725375,0.9813125,0.6826875,0.6826875,0.882375,0.9288125,0.4693125,0.6501875,0.8359375,0.76825,0.725375,0.6826875,0.768,0.512,0.981375,0.768,0.981375,0.7535,0.5973125,0.9288125,0.7430625,0.8359375,0.938625,0.9288125,0.7430625,0.981375,0.9288125,0.97525,0.6501875,0.896,0.696625,0.64,0.896,0.682625,0.6826875,0.981375,0.8533125,0.725375,0.64,0.8359375,0.981375,0.882375,0.981375,0.6965625,0.7430625,0.725375,0.8106875,0.7535,0.938625,0.853375,0.9288125,0.7535,0.682625,0.6826875,0.9288125,0.896,0.896,0.9288125,0.8359375,0.8533125,0.75325,0.768,0.682625,0.7466875,0.9813125,0.97525,0.6036875,0.896,0.512,0.810625,0.981375,0.696625,0.682625,0.597375,0.7535,0.97525,0.8359375,0.97525,0.743,0.97525,0.9386875,0.64,0.75325,0.696625,0.938625,0.9813125,0.7535,0.8359375,0.9386875,0.882375,0.97525,0.896,0.882375,0.853375,0.97525,0.7535,0.510875,0.768,0.9386875,0.7895,0.725375,0.9288125,0.8359375,0.696625,0.7535,0.7585,0.96,0.7895,0.9288125,0.896,0.5973125,0.7895,0.97525,0.5573125,0.510875,0.464375,0.810625,0.6501875,0.882375,0.97525,0.97525,0.882375,0.597375,0.7585,0.97525,0.512,0.7785,0.97525,0.7535,0.768,0.4179375,0.75825,0.8533125,0.9386875,0.97525,0.853375,0.9813125,0.9288125,0.75825,0.882375,0.8533125,0.725375,0.981375,0.768,0.853375,0.7535,0.7535,0.7535,0.8533125,0.896,0.981375,0.8359375,0.7585,0.9288125,0.938625,0.8106875,0.896,0.6965625,0.896,0.8359375,0.981375,0.5866875,0.9288125,0.7535,0.896,0.9386875,0.4693125,0.725375,0.882375,0.896,0.7535,0.8106875,0.8359375,0.97525,0.9813125,0.9813125,0.75825,0.7535,0.8359375,0.5546875,0.981375,0.743,0.7253125,0.981375,0.896,0.853375,0.8106875,0.882375,0.810625,0.882375,0.810625,0.896,0.8359375,0.501375,0.696625,0.896,0.5108125,0.8106875,0.7430625,0.853375,0.938625,0.64,0.554625,0.7430625,0.8106875,0.682625,0.7430625,0.882375,0.853375,0.7895,0.7786875,0.9288125,0.8359375,0.384,0.7535,0.9288125,0.9173125,0.810625,0.882375,0.9288125,0.696625,0.97525,0.8359375,0.810625,0.8359375,0.725375,0.882375,0.9288125,0.938625,0.9288125,0.9813125,0.464375,0.8106875,0.853375,0.810625,0.7430625,0.9386875,0.7895,0.4693125,0.7585,0.6036875,0.725375,0.725375,0.9288125,0.768,0.882375,0.682625,0.882375,0.682625,0.9288125,0.682625,0.64,0.9386875,0.981375,0.810625,0.981375,0.768,0.9386875,0.768,0.981375,0.8359375,0.8359375,0.5973125,0.9386875,0.97525,0.64,0.9288125,0.882375,0.7585,0.853375,0.768,0.896,0.9288125,0.768,0.8359375,0.554625,0.896,0.810625,0.8106875,0.7253125,0.743,0.9386875,0.768,0.882375,0.725375,0.981375,0.896,0.554625,0.9288125,0.9288125,0.64,0.981375,0.60375,0.8533125,0.768,0.725375,0.8533125,0.4693125,0.882375,0.696625,0.696625,0.853375,0.896,0.696625,0.853375,0.8853125,0.8359375,0.650125,0.981375,0.682625,0.7430625,0.768,0.725375,0.853375,0.8533125,0.8359375,0.743,0.725375,0.64,0.882375,0.97525,0.882375,0.896,0.725375,0.896,0.7535,0.97525,0.8746875,0.896,0.896,0.8533125,0.696625,0.896,0.981375,0.384,0.853375,0.682625,0.704,0.5973125,0.7894375,0.864,0.9386875,0.7253125,0.8359375,0.810625,0.9386875,0.7895,0.8106875,0.97525,0.896,0.7430625,0.97525,0.768,0.5546875,0.597375,0.882375,0.7430625,0.981375,0.981375,0.810625,0.981375,0.7894375,0.97525,0.938625,0.896,0.682625,0.885375,0.7894375,0.5973125,0.8533125,0.7535,0.64,0.896,0.981375,0.725375,0.8359375,0.7535,0.853375,0.981375,0.8359375,0.7895,0.7430625,0.981375,0.97525,0.682625,0.8106875,0.97525,0.853375,0.97525,0.55725,0.9386875,0.8106875,0.9288125,0.768,0.896,0.743,0.882375,0.882375,0.6965625,0.981375,0.882375,0.981375,0.736,0.938625,0.981375,0.896,0.9386875,0.576,0.9386875,0.736,0.64,0.896,0.9386875,0.9386875,0.743,0.981375,0.9288125,0.768,0.650125,0.882375,0.6501875,0.8359375,0.725375,0.768,0.60375,0.5973125,0.8533125,0.554625,0.8359375,0.8359375,0.768,0.981375,0.9813125,0.9386875,0.896,0.8359375,0.853375,0.97525,0.9288125,0.725375,0.9288125,0.9386875,0.7253125,0.938625,0.896,0.9288125,0.981375,0.5546875,0.853375,0.9288125,0.981375,0.853375,0.7430625,0.8106875,0.8359375,0.821375,0.743,0.981375,0.981375,0.9386875,0.882375,0.64,0.5546875,0.725375,0.896,0.8533125,0.7895,0.896,0.768,0.9288125,0.7253125,0.8359375,0.810625,0.9288125,0.9066875,0.896,0.97525,0.97525,0.9813125,0.5573125,0.8359375,0.597375,0.7253125,0.7535,0.896,0.512,0.7785,0.853375,0.64,0.981375,0.7535,0.882375,0.725375,0.97525,0.896,0.882375,0.696625,0.9386875,0.743,0.7585,0.7894375,0.510875,0.97525,0.981375,0.6826875,0.8106875,0.853375,0.8359375,0.97525,0.97525,0.810625,0.938625,0.7535,0.9386875,0.896,0.896,0.9386875,0.696625,0.512,0.510875,0.938625,0.8106875,0.60375,0.7635,0.9813125,0.5546875,0.5546875,0.981375,0.882375,0.554625,0.682625,0.853375,0.97525,0.725375,0.8106875,0.512,0.7535,0.7535,0.725375,0.7485,0.278625,0.725375,0.896,0.4693125,0.682625,0.5573125,0.7585,0.554625,0.76325,0.512,0.97525,0.8106875,0.426625,0.9386875,0.981375,0.725375,0.5108125,0.7585,0.7895,0.8106875,0.882375,0.9386875,0.981375,0.9386875,0.6965625,0.97525,0.896,0.8106875,0.768,0.7585,0.97525,0.9386875,0.9288125,0.7535,0.821375,0.554625,0.55725,0.6036875,0.9386875,0.696625,0.8533125,0.725375,0.426625,0.5546875,0.7635,0.7535,0.9386875,0.7535,0.725375,0.853375,0.743,0.8533125,0.8359375,0.7894375,0.64,0.81275,0.9386875,0.8106875,0.9386875,0.7535,0.981375,0.8359375,0.97525,0.821375,0.6965625,0.882375,0.768,0.853375,0.7894375,0.7253125,0.9386875,0.981375,0.75325,0.9813125,0.7535,0.96,0.725375,0.8359375,0.8106875,0.6036875,0.7585,0.896,0.853375,0.853375,0.8359375,0.853375,0.97525,0.7585,0.725375,0.8359375,0.725375,0.882375,0.882375,0.6965625,0.8359375,0.4693125,0.896,0.9288125,0.5573125,0.5108125,0.5973125,0.7430625,0.853375,0.8533125,0.7535,0.896,0.7485,0.743,0.6826875,0.768,0.853375,0.768,0.810625,0.9288125,0.9288125,0.896,0.981375,0.9386875,0.7430625,0.882375,0.75325,0.9813125,0.9288125,0.725375,0.896,0.97525,0.9288125,0.64,0.896,0.896,0.981375,0.7535,0.576,0.7895,0.9813125,0.97525,0.789375,0.9288125,0.60375,0.7535,0.97525,0.7535,0.554625,0.981375,0.938625,0.5108125,0.682625,0.7535,0.97525,0.597375,0.8533125,0.7585,0.9813125,0.64,0.8359375,0.97525,0.554625,0.6965625,0.9288125,0.896,0.9386875,0.9813125,0.7585,0.97525,0.853375,0.768,0.64,0.64,0.9288125,0.75325,0.8106875,0.682625,0.853375,0.810625,0.768,0.9386875,0.853375,0.981375,0.981375,0.9288125,0.7535,0.896,0.9813125,0.810625,0.768,0.768,0.7895,0.896,0.9288125,0.7430625,0.7585,0.597375,0.7895,0.917375,0.768,0.938625,0.64,0.7535,0.896,0.768,0.7535,0.682625,0.882375,0.9386875,0.981375,0.6826875,0.8106875,0.696625,0.576,0.97525,0.7895,0.7253125,0.7535,0.682625,0.7535,0.7535,0.97525,0.768,0.768,0.8746875,0.896,0.7430625,0.9386875,0.981375,0.896,0.97525,0.9813125,0.97525,0.7894375,0.64,0.938625,0.8533125,0.6826875,0.7535,0.896,0.9288125,0.981375,0.7535,0.9288125,0.650125,0.8106875,0.7895,0.97525,0.6501875,0.743,0.6965625,0.75325,0.7535,0.8359375,0.554625,0.8106875,0.853375,0.97525,0.853375,0.682625,0.64,0.7430625,0.768,0.9386875,0.9386875,0.7585,0.8106875,0.7535,0.8359375,0.7430625,0.981375,0.7585,0.64,0.6826875,0.9288125,0.853375,0.853375,0.938625,0.9288125,0.981375,0.743,0.9813125,0.8359375,0.5108125,0.8359375,0.6826875,0.7535,0.768,0.864,0.64,0.9386875,0.3413125,0.9386875,0.8533125,0.97525,0.8533125,0.725375,0.981375,0.9386875,0.7585,0.810625,0.810625,0.8359375,0.949375,0.7535,0.725375,0.512,0.9386875,0.661375,0.8533125,0.8106875,0.97525,0.896,0.768,0.8533125,0.97525,0.853375,0.7585,0.7430625,0.5973125,0.981375,0.7895,0.981375,0.981375,0.8359375,0.9288125,0.96,0.75325,0.597375,0.7585,0.882375,0.7253125,0.8106875,0.682625,0.8359375,0.6826875,0.7535,0.9985,0.97525,0.981375,0.768,0.7430625,0.768,0.9706875,0.696625,0.981375,0.4266875,0.725375,0.9813125,0.80325,0.8359375,0.7535,0.5973125,0.682625,0.97525,0.55725,0.64,0.725375,0.7535,0.9288125,0.7430625,0.7535,0.9386875,0.60375,0.9386875,0.8106875,0.9288125,0.7535,0.97525,0.896,0.97525,0.981375,0.768,0.853375,0.882375,0.882375,0.7895,0.7535,0.896,0.882375,0.97525,0.768,0.6036875,0.6965625,0.9386875,0.882375,0.7535,0.97525,0.7485,0.9386875,0.832,0.8533125,0.853375,0.9288125,0.981375,0.97525,0.75825,0.696625,0.8533125,0.853375,0.8106875,0.7535,0.7535,0.768,0.9386875,0.7894375,0.7535,0.7585,0.9813125,0.7430625,0.8359375,0.7895,0.9386875,0.9288125,0.768,0.9288125,0.6826875,0.896,0.981375,0.7785,0.882375,0.896,0.896,0.554625,0.981375,0.682625,0.7535,0.853375,0.682625,0.7430625,0.60375,0.896,0.682625,0.896,0.75325,0.75325,0.7535,0.8106875,0.384,0.597375,0.9386875,0.7430625,0.981375,0.554625,0.768,0.981375,0.9288125,0.896,0.981375,0.853375,0.981375,0.9288125,0.853375,0.9288125,0.7253125,0.7535,0.9813125,0.64,0.981375,0.938625,0.97525,0.768,0.768,0.768,0.882375,0.896,0.882375,0.5573125,0.512,0.7895,0.64,0.8359375,0.896,0.896,0.7894375,0.8359375,0.882375,0.768,0.97525,0.97525,0.981375,0.6826875,0.8533125,0.853375,0.7430625,0.981375,0.768,0.64,0.725375,0.5108125,0.7535,0.9386875,0.597375,0.853375,0.9386875,0.55725,0.64,0.9813125,0.768,0.768,0.696625,0.8359375,0.97525,0.7895,0.512,0.8359375,0.853375,0.6826875,0.650125,0.4644375,0.992,0.9288125,0.757375,0.938625,0.97525,0.9288125,0.9386875,0.64,0.981375,0.7894375,0.768,0.981375,0.7430625,0.60375,0.853375,0.882375,0.4693125,0.896,0.981375,0.896,0.9386875,0.97525,0.64,0.696625,0.9288125,0.8106875,0.938625,0.768,0.853375,0.8106875,0.7895,0.97525,0.896,0.9288125,0.8359375,0.554625,0.97525,0.743,0.725375,0.512,0.853375,0.682625,0.7430625,0.896,0.853375,0.5973125,0.853375,0.853375,0.554625,0.810625,0.7894375,0.9288125,0.981375,0.3946875,0.9386875,0.743,0.896,0.9288125,0.853375,0.9288125,0.9386875,0.882375,0.7430625,0.9813125,0.97525,0.96,0.64,0.981375,0.882375,0.696625,0.9288125,0.8533125,0.298625,0.597375,0.882375,0.810625,0.512,0.8359375,0.768,0.743,0.896,0.882375,0.896,0.9386875,0.8106875,0.938625,0.725375,0.6965625,0.882375,0.5546875,0.5973125,0.9813125,0.7894375,0.896,0.9386875,0.696625,0.981375,0.7895,0.9386875,0.64,0.9288125,0.9386875,0.8106875,0.853375,0.882375,0.768,0.696625,0.8359375,0.426625,0.768,0.8359375,0.981375,0.464375,0.896,0.768,0.853375,0.8359375,0.743,0.853375,0.768,0.8106875,0.882375,0.97525,0.896,0.8106875,0.853375,0.928,0.696625,0.8106875,0.8106875,0.896,0.9288125,0.8106875,0.736,0.597375,0.981375,0.981375,0.938625,0.896,0.6965625,0.882375,0.8359375,0.8106875,0.8359375,0.981375,0.97525,0.608,0.981375,0.554625,0.938625,0.6501875,0.981375,0.7253125,0.896,0.853375,0.9288125,0.60375,0.8533125,0.938625,0.981375,0.696625,0.768,0.97525,0.7430625,0.768,0.9288125,0.9386875,0.4266875,0.554625,0.9386875,0.981375,0.7253125,0.981375,0.9386875,0.9288125,0.97525,0.853375,0.8359375,0.725375,0.853375,0.882375,0.7430625,0.6186875,0.9288125,0.853375,0.8359375,0.7894375,0.9386875,0.882375,0.768,0.9288125,0.8359375,0.853375,0.6826875,0.896,0.981375,0.853375,0.896,0.938625,0.8106875,0.6933125,0.768,0.8106875,0.7893125,0.896,0.928,0.7895,0.9386875,0.6965625,0.7894375,0.882375,0.60375,0.7894375,0.896,0.554625,0.853375,0.938625,0.426625,0.64,0.981375,0.853375,0.9288125,0.9288125,0.510875,0.8359375,0.981375,0.696625,0.6501875,0.7894375,0.8106875,0.9288125,0.725375,0.60375,0.981375,0.6826875,0.9288125,0.7430625,0.7253125,0.9288125,0.8106875,0.768,0.743,0.9386875,0.981375,0.938625,0.6826875,0.896,0.8106875,0.696625,0.448,0.97525,0.5973125,0.896,0.9288125,0.64,0.9288125,0.7430625,0.7535,0.853375,0.5573125,0.97525,0.7253125,0.384,0.8359375,0.426625,0.8106875,0.682625,0.512,0.8106875,0.725375,0.9386875,0.882375,0.97525,0.882375,0.64,0.97525,0.7895,0.882375,0.6826875,0.6036875,0.853375,0.6501875,0.725375,0.896,0.768,0.725375,0.682625,0.8106875,0.8359375,0.768,0.64,0.64,0.725375,0.981375,0.853375,0.9288125,0.64,0.981375,0.512,0.853375,0.97525,0.7253125,0.7895,0.8106875,0.938625,0.7535,0.896,0.896,0.810625,0.853375,0.882375,0.882375,0.882375,0.6826875,0.9813125,0.554625,0.7466875,0.938625,0.938625,0.938625,0.896,0.7894375,0.882375,0.3250625,0.64,0.9386875,0.9288125,0.64,0.810625,0.9813125,0.9288125,0.9288125,0.882375,0.768,0.64,0.6036875,0.896,0.725375,0.9386875,0.981375,0.9813125,0.9386875,0.896,0.6036875,0.97525,0.5973125,0.853375,0.853375,0.8106875,0.725375,0.97525,0.882375,0.8106875,0.7430625,0.896,0.7895,0.896,0.8359375,0.682625,0.5973125,0.882375,0.97525,0.682625,0.97525,0.6036875,0.97525,0.7253125,0.8359375,0.5973125,0.9386875,0.981375,0.743,0.8106875,0.725375,0.853375,0.7253125,0.981375,0.5108125,0.7895,0.9386875,0.768,0.853375,0.97525,0.97525,0.8359375,0.725375,0.981375,0.9386875,0.768,0.9386875,0.7895,0.97525,0.597375,0.981375,0.8106875,0.882375,0.7895,0.9288125,0.882375,0.882375,0.6965625,0.7535,0.725375,0.554625,0.7253125,0.682625,0.896,0.896,0.896,0.810625,0.97525,0.981375,0.5973125,0.938625,0.7253125,0.9288125,0.8533125,0.768,0.512,0.60375,0.512,0.853375,0.853375,0.7253125,0.896,0.9386875,0.810625,0.9386875,0.981375,0.8106875,0.743,0.9813125,0.981375,0.768,0.6965625,0.981375,0.9386875,0.896,0.768,0.8359375,0.8106875,0.981375,0.768,0.5973125,0.7895,0.8359375,0.426625,0.3715,0.981375,0.8359375,0.896,0.97525,0.7253125,0.9386875,0.97525,0.768,0.97525,0.9813125,0.882375,0.7535,0.9288125,0.810625,0.832,0.97525,0.97525,0.882375,0.9386875,0.743,0.896,0.418,0.896,0.8359375,0.7535,0.882375,0.743,0.682625,0.8106875,0.853375,0.6826875,0.7585,0.512,0.7895,0.896,0.8359375,0.97525,0.696625,0.9386875,0.981375,0.896,0.554625,0.896,0.7535,0.7535,0.5573125,0.725375,0.832,0.882375,0.9386875,0.896,0.938625,0.896,0.7253125,0.5973125,0.981375,0.8533125,0.5973125,0.97525,0.896,0.725375,0.9386875,0.6613125,0.5973125,0.7535,0.7585,0.882375,0.981375,0.7895,0.8359375,0.5973125,0.768,0.9813125,0.981375,0.8359375,0.7535,0.8106875,0.9066875,0.6826875,0.896,0.882375,0.9386875,0.9386875,0.6826875,0.7535,0.512,0.650125,0.938625,0.853375,0.554625,0.9386875,0.682625,0.8533125,0.7895,0.9288125,0.7535,0.9386875,0.7895,0.512,0.650125,0.64,0.696625,0.554625,0.6826875,0.853375,0.768,0.3413125,0.7430625,0.97525,0.768,0.896,0.9288125,0.743,0.896,0.64,0.256,0.882375,0.7895,0.9386875,0.981375,0.768,0.6965625,0.768,0.8106875,0.64,0.768,0.7430625,0.6826875,0.682625,0.882375,0.7894375,0.981375,0.981375,0.938625,0.97525,0.97525,0.7535,0.725375,0.64,0.64,0.5973125,0.896,0.8106875,0.6501875,0.8359375,0.896,0.8359375,0.75825,0.725375,0.9288125,0.768,0.981375,0.768,0.682625,0.9386875,0.882375,0.64,0.981375,0.896,0.64,0.981375,0.882375,0.768,0.8533125,0.896,0.7895,0.8106875,0.725375,0.650125,0.682625,0.6826875,0.981375,0.725375,0.8533125,0.882375,0.64,0.75825,0.7895,0.7535,0.9386875,0.743,0.696625,0.6501875,0.8106875,0.9288125,0.682625,0.7535,0.6501875,0.9288125,0.7535,0.981375,0.8359375,0.768,0.896,0.768,0.768,0.8106875,0.768,0.9386875,0.882375,0.9288125,0.853375,0.7585,0.896,0.725375,0.9813125,0.7253125,0.6501875,0.97525,0.768,0.696625,0.75325,0.6501875,0.7253125,0.8533125,0.743,0.7535,0.64,0.882375,0.7535,0.743,0.7535,0.981375,0.5973125,0.8106875,0.9386875,0.97525,0.8533125,0.896,0.9813125,0.9288125,0.7895,0.981375,0.75325,0.6186875,0.9386875,0.9386875,0.8746875,0.810625,0.9386875,0.554625,0.8106875,0.768,0.6965625,0.768,0.97525,0.8359375,0.6826875,0.8359375,0.882375,0.8359375,0.882375,0.97525,0.512,0.7535,0.426625,0.938625,0.7585,0.725375,0.9386875,0.60375,0.896,0.4644375,0.682625,0.8533125,0.7535,0.981375,0.512,0.768,0.853375,0.882375,0.9386875,0.554625,0.981375,0.981375,0.981375,0.896,0.882375,0.9288125,0.882375,0.7585,0.9386875,0.9813125,0.882375,0.8359375,0.725375,0.650125,0.8533125,0.55725,0.853375,0.7253125,0.9288125,0.97525,0.9386875,0.8106875,0.7430625,0.853375,0.981375,0.9813125,0.9288125,0.7535,0.853375,0.75825,0.853375,0.981375,0.9386875,0.810625,0.882375,0.9386875,0.4693125,0.9813125,0.8359375,0.7535,0.8533125,0.7893125,0.9813125,0.9288125,0.97525,0.853375,0.725375,0.896,0.60375,0.768,0.938625,0.7895,0.8106875,0.8106875,0.7535,0.8106875,0.810625,0.55725,0.896,0.896,0.9386875,0.8106875,0.981375,0.97525,0.882375,0.64,0.7535,0.7535,0.64,0.768,0.768,0.97525,0.8533125,0.8106875,0.896,0.97525,0.9288125,0.7253125,0.8533125,0.9288125,0.853375,0.55725,0.8,0.9386875,0.896,0.725375,0.9386875,0.8359375,0.9288125,0.7430625,0.9386875,0.7895,0.7430625,0.4693125,0.981375,0.882375,0.7535,0.928,0.768,0.9813125,0.9288125,0.981375,0.6965625,0.7430625,0.3715625,0.725375,0.896,0.8359375,0.882375,0.981375,0.7485,0.7535,0.9288125,0.8106875,0.7895,0.882375,0.9386875,0.554625,0.97525,0.743,0.9813125,0.8533125,0.682625,0.853375,0.5973125,0.7430625,0.64,0.7895,0.981375,0.981375,0.938625,0.757375,0.882375,0.853375,0.8359375,0.938625,0.9288125,0.9288125,0.853375,0.896,0.8533125,0.9813125,0.7535,0.768,0.768,0.938625,0.8106875,0.981375,0.9288125,0.8106875,0.768,0.76325,0.725375,0.597375,0.768,0.7585,0.896,0.384,0.696625,0.7253125,0.6965625,0.810625,0.7253125,0.981375,0.682625,0.7585,0.768,0.9386875,0.9288125,0.981375,0.981375,0.5973125,0.75825,0.896,0.9813125,0.981375,0.8359375,0.7253125,0.9288125,0.9288125,0.768,0.768,0.7535,0.981375,0.6826875,0.853375,0.981375,0.9288125,0.97525,0.75325,0.6826875,0.7430625,0.7895,0.7895,0.8359375,0.853375,0.97525,0.8359375,0.60375,0.75325,0.7253125,0.810625,0.9288125,0.9288125,0.7585,0.882375,0.5973125,0.7885,0.650125,0.896,0.882375,0.981375,0.8106875,0.8106875,0.7430625,0.8106875,0.981375,0.992,0.896,0.5866875,0.8106875,0.9288125,0.8106875,0.8359375,0.810625,0.8106875,0.9386875,0.7535,0.6965625,0.896,0.981375,0.7895,0.7895,0.853375,0.7895,0.882375,0.512,0.8106875,0.7535,0.768,0.896,0.8533125,0.896,0.6826875,0.6826875,0.7430625,0.896,0.7585,0.8359375,0.981375,0.97525,0.9386875,0.75825,0.9386875,0.8106875,0.7895,0.896,0.981375,0.597375,0.426625,0.8106875,0.768,0.853375,0.896,0.981375,0.768,0.810625,0.6036875,0.9386875,0.768,0.8106875,0.6826875,0.896,0.7895,0.97525,0.9386875,0.896,0.60375,0.896,0.896,0.8359375,0.97525,0.696625,0.6826875,0.8533125,0.8106875,0.743,0.6965625,0.853375,0.7895,0.981375,0.8533125,0.7253125,0.981375,0.9386875,0.9386875,0.896,0.682625,0.896,0.512,0.9813125,0.8106875,0.512,0.650125,0.7585,0.9386875,0.9706875,0.8533125,0.981375,0.896,0.97525,0.768,0.8359375,0.8359375,0.682625,0.896,0.9288125,0.896,0.7785,0.9386875,0.7894375,0.5973125,0.650125,0.4693125,0.896,0.650125,0.9813125,0.696625,0.7895,0.7894375,0.8359375,0.7535,0.97525,0.97525,0.97525,0.768,0.97525,0.672,0.9288125,0.9386875,0.768,0.8359375,0.853375,0.6036875,0.9288125,0.9386875,0.8106875,0.512,0.5546875,0.725375,0.696625,0.97525,0.7585,0.9386875,0.96,0.882375,0.5973125,0.418,0.725375,0.8359375,0.9813125,0.743,0.810625,0.8,0.6501875,0.9288125,0.768,0.696625,0.6826875,0.9386875,0.938625,0.725375,0.554625,0.768,0.6501875,0.896,0.768,0.928,0.9386875,0.768,0.7894375,0.882375,0.9288125,0.938625,0.9386875,0.9386875,0.554625,0.8359375,0.981375,0.8359375,0.981375,0.650125,0.8359375,0.9386875,0.7894375,0.7535,0.853375,0.882375,0.896,0.981375,0.810625,0.8359375,0.882375,0.981375,0.9386875,0.810625,0.9386875,0.981375,0.8533125,0.682625,0.981375,0.3413125,0.9288125,0.426625,0.9288125,0.3715,0.64,0.597375,0.9386875,0.8359375,0.8359375,0.938625,0.5108125,0.896,0.768,0.6965625,0.938625,0.8106875,0.426625,0.75325,0.9706875,0.9288125,0.9288125,0.696625,0.9386875,0.97525,0.7535,0.9288125,0.8359375,0.981375,0.725375,0.896,0.896,0.97525,0.9288125,0.7535,0.6501875,0.725375,0.75825,0.7894375,0.97525,0.8359375,0.7835,0.853375,0.981375,0.64,0.6501875,0.464375,0.938625,0.650125,0.882375,0.597375,0.682625,0.64,0.7535,0.853375,0.768,0.9386875,0.682625,0.7430625,0.5973125,0.597375,0.97525,0.97525,0.672,0.97525,0.7535,0.810625,0.981375,0.64,0.60375,0.981375,0.7585,0.9288125,0.896,0.7430625,0.8359375,0.882375,0.882375,0.60375,0.7535,0.97525,0.5866875,0.896,0.7785,0.5973125,0.682625,0.9288125,0.554625,0.853375,0.7895,0.768,0.510875,0.896,0.9386875,0.554625,0.882375,0.882375,0.75825,0.9813125,0.75825,0.97525,0.4693125,0.6826875,0.7253125,0.853375,0.896,0.76325,0.9386875,0.981375,0.896,0.896,0.7430625,0.6036875,0.9813125,0.6965625,0.853375,0.9386875,0.9386875,0.9288125,0.64,0.882375,0.9386875,0.7895,0.64,0.981375,0.882375,0.8359375,0.6501875,0.9386875,0.7535,0.743,0.682625,0.7253125,0.9985,0.97525,0.8106875,0.896,0.853375,0.981375,0.8359375,0.4693125,0.938625,0.554625,0.9813125,0.7585,0.7585,0.7786875,0.896,0.97525,0.8359375,0.981375,0.7895,0.7430625,0.64,0.97525,0.9288125,0.743,0.9813125,0.8359375,0.853375,0.7894375,0.8106875,0.9386875,0.9386875,0.696625,0.7895,0.554625,0.6036875,0.597375,0.7430625,0.896,0.8106875,0.896,0.917375,0.682625,0.9386875,0.9386875,0.810625,0.8359375,0.853375,0.9386875,0.743,0.97525,0.981375,0.9813125,0.7430625,0.7430625,0.60375,0.981375,0.512,0.9288125,0.981375,0.896,0.949375,0.9386875,0.882375,0.6965625,0.882375,0.9288125,0.60375,0.8106875,0.8106875,0.650125,0.8533125,0.7895,0.8359375,0.64,0.8533125,0.9288125,0.981375,0.9288125,0.96,0.7895,0.768,0.384,0.682625,0.696625,0.8533125,0.725375,0.810625,0.8533125,0.896,0.981375,0.768,0.8359375,0.682625,0.917375,0.97525,0.8106875,0.981375,0.9288125,0.896,0.8359375,0.97525,0.8533125,0.981375,0.8359375,0.7535,0.992,0.7253125,0.97525,0.9288125,0.7895,0.8533125,0.7895,0.97525,0.97525,0.696625,0.9386875,0.8359375,0.896,0.981375,0.97525,0.853375,0.896,0.554625,0.7430625,0.7430625,0.743,0.682625,0.7253125,0.554625,0.64,0.9386875,0.6826875,0.501375,0.743,0.7430625,0.8533125,0.981375,0.896,0.7430625,0.9066875,0.7894375,0.7253125,0.9813125,0.768,0.9386875,0.4693125,0.97525,0.8359375,0.8106875,0.981375,0.896,0.853375,0.97525,0.981375,0.882375,0.882375,0.981375,0.8533125,0.97525,0.8106875,0.696625,0.885375,0.882375,0.6965625,0.597375,0.853375,0.7253125,0.7894375,0.981375,0.9386875,0.9706875,0.896,0.55725,0.7895,0.743,0.768,0.768,0.7253125,0.768,0.981375,0.6826875,0.768,0.821375,0.696625,0.5866875,0.938625,0.853375,0.5573125,0.682625,0.981375,0.9288125,0.97525,0.896,0.938625,0.64,0.7253125,0.597375,0.696625,0.682625,0.853375,0.9386875,0.8106875,0.768,0.981375,0.938625,0.9813125,0.981375,0.810625,0.882375,0.896,0.9288125,0.9386875,0.9288125,0.97525,0.8533125,0.882375,0.9288125,0.8106875,0.97525,0.8359375,0.853375,0.533375,0.896,0.97525,0.6036875,0.853375,0.9813125,0.9288125,0.810625,0.696625,0.725375,0.938625,0.981375,0.8106875,0.896,0.97525,0.768,0.682625,0.810625,0.48,0.743,0.9813125,0.896,0.597375,0.4179375,0.6501875,0.938625,0.882375,0.8359375,0.8533125,0.8533125,0.725375,0.8359375,0.896,0.55725,0.5973125,0.6501875,0.8359375,0.8359375,0.5973125,0.97525,0.853375,0.7895,0.9386875,0.696625,0.882375,0.9288125,0.696625,0.8359375,0.384,0.3250625,0.8106875,0.6501875,0.97525,0.5973125,0.882375,0.768,0.8359375,0.8359375,0.6036875,0.8359375,0.696625,0.8359375,0.696625,0.7253125,0.5546875,0.7895,0.7895,0.882375,0.896,0.725375,0.981375,0.7894375,0.576,0.882375,0.882375,0.682625,0.8533125,0.6826875,0.7430625,0.7895,0.97525,0.9386875,0.5973125,0.768,0.6501875,0.853375,0.4693125,0.5973125,0.8359375,0.8533125,0.6826875,0.8106875,0.8359375,0.55725,0.64,0.7253125,0.4693125,0.882375,0.97525,0.696625,0.896,0.885375,0.8359375,0.9288125,0.7430625,0.8533125,0.682625,0.7253125,0.725375,0.9706875,0.810625,0.768,0.853375,0.6965625,0.9288125,0.896,0.7895,0.882375,0.9386875,0.9386875,0.768,0.97525,0.896,0.981375,0.9386875,0.9288125,0.7894375,0.882375,0.7430625,0.768,0.384,0.6826875,0.853375,0.8359375,0.981375,0.896,0.981375,0.8359375,0.7253125,0.4693125,0.810625,0.981375,0.8359375,0.464375,0.597375,0.725375,0.5973125,0.4906875,0.8106875,0.9288125,0.853375,0.9288125,0.896,0.597375,0.981375,0.810625,0.853375,0.554625,0.97525,0.97525,0.7535,0.5573125,0.9288125,0.725375,0.981375,0.7253125,0.5973125,0.696625,0.9386875,0.6965625,0.6826875,0.9386875,0.896,0.882375,0.853375,0.9288125,0.8533125,0.7430625,0.8359375,0.512,0.810625,0.6501875,0.7253125,0.7895,0.8359375,0.8359375,0.64,0.743,0.882375,0.896,0.736,0.853375,0.97525,0.6965625,0.512,0.768,0.554625,0.7253125,0.725375,0.5973125,0.6826875,0.9386875,0.9813125,0.8106875,0.9288125,0.64,0.8359375,0.8359375,0.882375,0.736,0.4693125,0.810625,0.97525,0.64,0.512,0.9386875,0.9386875,0.64,0.682625,0.9386875,0.7430625,0.9288125,0.9288125,0.768,0.9386875,0.5546875,0.7430625,0.9288125,0.6826875,0.981375,0.981375,0.981375,0.981375,0.882375,0.768,0.882375,0.9813125,0.8533125,0.9288125,0.743,0.9288125,0.9386875,0.7430625,0.5546875,0.9288125,0.8359375,0.597375,0.8359375,0.512,0.882375,0.9288125,0.64,0.896,0.768,0.981375,0.810625,0.97525,0.8106875,0.981375,0.8106875,0.7253125,0.8359375,0.9288125,0.810625,0.6293125,0.8533125,0.6036875,0.9288125,0.981375,0.743,0.9288125,0.9288125,0.882375,0.9288125,0.853375,0.8533125,0.8106875,0.7785,0.853375,0.6826875,0.7535,0.896,0.6965625,0.981375,0.8106875,0.97525,0.6501875,0.7535,0.7535,0.4179375,0.882375,0.6826875,0.97525,0.64,0.97525,0.4644375,0.981375,0.8746875,0.938625,0.8533125,0.7253125,0.7895,0.9288125,0.6036875,0.8533125,0.9288125,0.97525,0.8533125,0.8106875,0.7895,0.7535,0.6826875,0.896,0.882375,0.882375,0.9386875,0.576,0.96,0.97525,0.6036875,0.554625,0.768,0.981375,0.6826875,0.9288125,0.5973125,0.512,0.554625,0.7535,0.896,0.83325,0.981375,0.853375,0.9386875,0.5546875,0.4693125,0.882375,0.9813125,0.7253125,0.981375,0.426625,0.512,0.853375,0.464375,0.75325,0.7585,0.64,0.696625,0.9386875,0.97525,0.896,0.6826875,0.8359375,0.938625,0.64,0.7894375,0.9288125,0.8533125,0.9288125,0.768,0.9288125,0.7535,0.8359375,0.9386875,0.7535,0.650125,0.9386875,0.981375,0.94325,0.64,0.7585,0.8426875,0.8359375,0.682625,0.97525,0.464375,0.8106875,0.8106875,0.9288125,0.938625,0.650125,0.725375,0.64,0.8533125,0.75325,0.7535,0.981375,0.9288125,0.8533125,0.7535,0.882375,0.7895,0.97525,0.981375,0.7535,0.696625,0.97525,0.7430625,0.768,0.97525,0.5973125,0.896,0.696625,0.7535,0.725375,0.75325,0.725375,0.97525,0.882375,0.554625,0.8359375,0.97525,0.896,0.882375,0.650125,0.8533125,0.9813125,0.8533125,0.768,0.9813125,0.6965625,0.7535,0.896,0.9288125,0.7535,0.981375,0.9386875,0.8,0.55725,0.7895,0.597375,0.9386875,0.725375,0.97525,0.9173125,0.64,0.768,0.896,0.8359375,0.97525,0.8106875,0.725375,0.7585,0.9288125,0.8359375,0.8106875,0.9288125,0.7535,0.512,0.768,0.7785,0.554625,0.97525,0.384,0.768,0.7895,0.938625,0.9386875,0.682625,0.8533125,0.6826875,0.768,0.97525,0.7895,0.882375,0.9288125,0.696625,0.7535,0.810625,0.554625,0.7430625,0.97525,0.9288125,0.9386875,0.554625,0.7253125,0.8106875,0.938625,0.743,0.981375,0.7535,0.9813125,0.725375,0.9386875,0.9386875,0.97525,0.8359375,0.981375,0.4179375,0.97525,0.882375,0.97525,0.9386875,0.7585,0.882375,0.882375,0.6965625,0.682625,0.6965625,0.9288125,0.7535,0.64,0.6826875,0.9288125,0.97525,0.8106875,0.96,0.768,0.768,0.9386875,0.9288125,0.981375,0.298625,0.896,0.6036875,0.7585,0.97525,0.7535,0.6501875,0.8213125,0.8213125,0.97525,0.7895,0.896,0.97525,0.696625,0.64,0.55725,0.9386875,0.9813125,0.8359375,0.7735,0.6826875,0.3250625,0.938625,0.9386875,0.8106875,0.7535,0.6036875,0.768,0.896,0.7895,0.554625,0.4179375,0.882375,0.896,0.8359375,0.6826875,0.896,0.9288125,0.768,0.4693125,0.981375,0.97525,0.8533125,0.97525,0.896,0.896,0.853375,0.5573125,0.9288125,0.8359375,0.9288125,0.6501875,0.853375,0.981375,0.6826875,0.7585,0.981375,0.9386875,0.9288125,0.896,0.882375,0.7895,0.97525,0.5333125,0.981375,0.512,0.896,0.55725,0.682625,0.64,0.882375,0.9288125,0.682625,0.9288125,0.896,0.882375,0.725375,0.4693125,0.743,0.882375,0.64,0.981375,0.7430625,0.8106875,0.97525,0.896,0.7430625,0.768,0.64,0.768,0.7894375,0.853375,0.696625,0.853375,0.8359375,0.8533125,0.6826875,0.7895,0.853375,0.810625,0.896,0.7535,0.5108125,0.9386875,0.896,0.97525,0.7895,0.7585,0.7786875,0.9386875,0.981375,0.8533125,0.8106875,0.981375,0.97525,0.384,0.8746875,0.97525,0.896,0.9288125,0.743,0.8533125,0.6036875,0.768,0.64,0.97525,0.743,0.97525,0.9706875,0.6965625,0.8359375,0.6826875,0.64,0.6036875,0.8359375,0.768,0.9386875,0.5973125,0.7535,0.7253125,0.896,0.810625,0.8359375,0.9386875,0.5973125,0.7585,0.6965625,0.9386875,0.8359375,0.768,0.9386875,0.9386875,0.981375,0.7430625,0.512,0.97525,0.97525,0.75325,0.853375,0.853375,0.9288125,0.8533125,0.9288125,0.981375,0.896,0.768,0.7535,0.853375,0.768,0.7253125,0.696625,0.8106875,0.7895,0.464375,0.682625,0.97525,0.6965625,0.9288125,0.9288125,0.810625,0.554625,0.768,0.696625,0.7535,0.6036875,0.6826875,0.8213125,0.9386875,0.696625,0.896,0.6036875,0.75325,0.6501875,0.672,0.757375,0.60375,0.810625,0.6826875,0.9288125,0.7253125,0.896,0.896,0.981375,0.7895,0.8106875,0.7895,0.97525,0.97525,0.60375,0.512,0.97525,0.7685,0.882375,0.6826875,0.853375,0.810625,0.853375,0.9813125,0.896,0.6501875,0.7253125,0.682625,0.853375,0.768,0.7894375,0.882375,0.810625,0.9386875,0.76325,0.7535,0.768,0.8106875,0.7430625,0.554625,0.896,0.75825,0.981375,0.7253125,0.9288125,0.853375,0.8106875,0.9386875,0.896,0.8359375,0.9288125,0.9386875,0.7253125,0.743,0.7894375,0.9813125,0.938625,0.981375,0.896,0.896,0.9386875,0.896,0.896,0.9288125,0.810625,0.882375,0.97525,0.981375,0.853375,0.696625,0.6826875,0.768,0.8106875,0.882375,0.5973125,0.981375,0.9386875,0.896,0.9520625,0.8106875,0.981375,0.981375,0.9288125,0.696625,0.650125,0.853375,0.554625,0.512,0.9386875,0.6036875,0.7535,0.7535,0.9813125,0.9386875,0.7894375,0.981375,0.6826875,0.917375,0.9288125,0.6501875,0.9288125,0.810625,0.768,0.97525,0.9386875,0.725375,0.896,0.7535,0.9288125,0.938625,0.8106875,0.882375,0.938625,0.5573125,0.97525,0.938625,0.8359375,0.7430625,0.7535,0.64,0.725375,0.8359375,0.8359375,0.597375,0.9386875,0.97525,0.896,0.6965625,0.7253125,0.7585,0.896,0.7430625,0.7895,0.64,0.882375,0.896,0.554625,0.981375,0.6826875,0.6826875,0.8359375,0.981375,0.64,0.97525,0.768,0.853375,0.6965625,0.853375,0.9288125,0.853375,0.7894375,0.810625,0.7535,0.896,0.99825,0.896,0.682625,0.8106875,0.9386875,0.810625,0.5973125,0.9288125,0.426625,0.8533125,0.9386875,0.725375,0.7895,0.8746875,0.9386875,0.97525,0.64,0.9386875,0.8359375,0.768,0.7895,0.896,0.9386875,0.9288125,0.882375,0.768,0.9288125,0.7535,0.938625,0.8106875,0.7535,0.938625,0.7894375,0.981375,0.8359375,0.7430625,0.8106875,0.938625,0.298625,0.64,0.981375,0.882375,0.6965625,0.768,0.97525,0.7430625,0.8106875,0.97525,0.853375,0.9288125,0.97525,0.464375,0.853375,0.8106875,0.8106875,0.5973125,0.75325,0.7535,0.97525,0.7253125,0.882375,0.9288125,0.7894375,0.882375,0.8359375,0.7535,0.9386875,0.9288125,0.7430625,0.896,0.8533125,0.97525,0.8106875,0.853375,0.97525,0.7585,0.896,0.853375,0.9386875,0.7895,0.7785,0.896,0.7895,0.64,0.9288125,0.882375,0.696625,0.6036875,0.768,0.7253125,0.896,0.8533125,0.7535,0.896,0.8533125,0.7535,0.896,0.9288125,0.64,0.5973125,0.6036875,0.9813125,0.75325,0.981375,0.8359375,0.7895,0.6826875,0.6933125,0.8359375,0.696625,0.768,0.7585,0.8106875,0.7585,0.97525,0.7253125,0.682625,0.9386875,0.5573125,0.4644375,0.9386875,0.64,0.9386875,0.7895,0.938625,0.7535,0.8106875,0.512,0.8359375,0.768,0.5973125,0.810625,0.853375,0.97525,0.8533125,0.981375,0.7585,0.981375,0.9386875,0.8106875,0.9386875,0.8359375,0.882375,0.981375,0.981375,0.9386875,0.9288125,0.853375,0.938625,0.7430625,0.97525,0.7535,0.554625,0.938625,0.7894375,0.896,0.853375,0.768,0.853375,0.9386875,0.9386875,0.64,0.5546875,0.8533125,0.64,0.7585,0.8,0.8533125,0.8853125,0.97525,0.97525,0.97525,0.7430625,0.8359375,0.97525,0.6965625,0.938625,0.64,0.9386875,0.8359375,0.8533125,0.7685,0.853375,0.9386875,0.981375,0.768,0.981375,0.896,0.7535,0.6826875,0.9288125,0.853375,0.7430625,0.97525,0.981375,0.5573125,0.7894375,0.7585,0.9288125,0.9288125,0.97525,0.597375,0.768,0.97525,0.896,0.853375,0.9706875,0.725375,0.64,0.896,0.981375,0.981375,0.938625,0.9288125,0.768,0.9386875,0.810625,0.6501875,0.4266875,0.8359375,0.682625,0.8106875,0.8359375,0.896,0.882375,0.5546875,0.7895,0.7535,0.768,0.60375,0.9288125,0.7894375,0.5546875,0.896,0.882375,0.896,0.810625,0.882375,0.810625,0.896,0.905625,0.5573125,0.8106875,0.810625,0.7253125,0.7535,0.7253125,0.597375,0.882375,0.60375,0.64,0.6501875,0.682625,0.9288125,0.9386875,0.882375,0.5546875,0.7430625,0.7535,0.896,0.384,0.97525,0.981375,0.725375,0.9288125,0.64,0.768,0.896,0.6965625,0.7895,0.882375,0.9386875,0.882375,0.882375,0.7585,0.9813125,0.696625,0.7535,0.896,0.9813125,0.768,0.896,0.6501875,0.743,0.768,0.896,0.92325,0.981375,0.64,0.5573125,0.7535,0.8106875,0.6501875,0.64,0.981375,0.882375,0.9288125,0.650125,0.64,0.981375,0.882375,0.882375,0.6826875,0.981375,0.9288125,0.7430625,0.8359375,0.97525,0.810625,0.981375,0.5973125,0.9288125,0.94325,0.9288125,0.896,0.7535,0.9288125,0.7895,0.8359375,0.8106875,0.8359375,0.7535,0.4644375,0.6036875,0.882375,0.9386875,0.725375,0.981375,0.981375,0.597375,0.650125,0.882375,0.7585,0.9288125,0.9386875,0.725375,0.9288125,0.597375,0.8359375,0.9386875,0.8359375,0.8106875,0.650125,0.7430625,0.9386875,0.853375,0.882375,0.696625,0.896,0.60375,0.7253125,0.7430625,0.992,0.5573125,0.464375,0.938625,0.981375,0.7735,0.7535,0.8106875,0.9386875,0.9288125,0.896,0.853375,0.9386875,0.696625,0.981375,0.6826875,0.9813125,0.7894375,0.981375,0.97525,0.696625,0.896,0.9386875,0.768,0.6826875,0.9386875,0.9386875,0.853375,0.7535,0.853375,0.938625,0.938625,0.882375,0.8359375,0.9288125,0.768,0.6501875,0.882375,0.5226875,0.7785,0.9288125,0.512,0.981375,0.682625,0.97525,0.7535,0.810625,0.810625,0.682625,0.981375,0.853375,0.810625,0.882375,0.896,0.9386875,0.981375,0.76325,0.7535,0.7895,0.5973125,0.8359375,0.6501875,0.882375,0.9813125,0.981375,0.725375,0.64,0.9386875,0.9386875,0.981375,0.696625,0.97525,0.7895,0.882375,0.7535,0.9813125,0.768,0.8106875,0.9288125,0.7895,0.725375,0.7895,0.7430625,0.981375,0.896,0.60375,0.882375,0.7430625,0.9386875,0.981375,0.7535,0.9288125,0.7253125,0.768,0.832,0.6501875,0.75825,0.882375,0.981375,0.743,0.896,0.882375,0.9386875,0.853375,0.7535,0.768,0.75825,0.5973125,0.882375,0.64,0.9288125,0.8106875,0.96,0.9386875,0.97525,0.938625,0.896,0.853375,0.896,0.554625,0.882375,0.7585,0.896,0.5973125,0.9288125,0.7894375,0.896,0.97525,0.896,0.768,0.7835,0.6036875,0.810625,0.7535,0.8359375,0.64,0.7535,0.8533125,0.810625,0.9813125,0.938625,0.8359375,0.743,0.576,0.8533125,0.554625,0.7585,0.810625,0.6186875,0.650125,0.7253125,0.7894375,0.8533125,0.768,0.64,0.810625,0.8533125,0.554625,0.64,0.682625,0.882375,0.7786875,0.9813125,0.97525,0.650125,0.650125,0.7535,0.810625,0.810625,0.882375,0.8533125,0.896,0.426625,0.768,0.938625,0.7894375,0.9288125,0.7253125,0.5108125,0.554625,0.7535,0.810625,0.882375,0.8533125,0.6965625,0.8533125,0.896,0.7253125,0.7535,0.743,0.7253125,0.682625,0.810625,0.7253125,0.6965625,0.7894375,0.7535,0.650125,0.928,0.75325,0.96,0.810625,0.6613125,0.7735,0.7253125,0.7253125,0.768,0.810625,0.7253125,0.9813125,0.75825,0.75825,0.97525,0.8533125,0.743,0.8533125,0.810625,0.8533125,0.938625,0.768,0.938625,0.48,0.743,0.8213125,0.7253125,0.768,0.7535,0.6826875,0.4644375,0.682625,0.938625,0.981375,0.896,0.97525,0.97525,0.7935,0.768,0.882375,0.882375,0.4179375,0.810625,0.597375,0.7535,0.882375,0.8106875,0.743,0.696625,0.981375,0.853375,0.9386875,0.696625,0.96,0.7535,0.55725,0.7535,0.426625,0.882375,0.853375,0.7535,0.7535,0.9288125,0.554625,0.64,0.510875,0.8106875,0.981375,0.8,0.981375,0.8359375,0.97525,0.682625,0.704,0.7485,0.743,0.8106875,0.938625,0.7535,0.5973125,0.768,0.768,0.6501875,0.8533125,0.8106875,0.981375,0.6826875,0.696625,0.97525,0.7585,0.981375,0.896,0.853375,0.853375,0.853375,0.9288125,0.743,0.9288125,0.810625,0.768,0.896,0.882375,0.9288125,0.8359375,0.810625,0.768,0.928,0.7894375,0.464375,0.554625,0.8359375,0.7430625,0.9386875,0.768,0.4693125,0.896,0.8359375,0.853375,0.554625,0.981375,0.938625,0.853375,0.896,0.7253125,0.882375,0.97525,0.853375,0.97525,0.8359375,0.7535,0.981375,0.768,0.853375,0.882375,0.725375,0.981375,0.896,0.597375,0.97525,0.64,0.9288125,0.768,0.9288125,0.7894375,0.882375,0.810625,0.896,0.8359375,0.8106875,0.7535,0.896,0.7430625,0.9288125,0.9288125,0.97525,0.97525,0.7535,0.938625,0.882375,0.9386875,0.8106875,0.696625,0.97525,0.7535,0.8106875,0.896,0.896,0.981375,0.7894375,0.9813125,0.7894375,0.9386875,0.981375,0.6965625,0.75825,0.853375,0.7585,0.7535,0.704,0.5973125,0.8106875,0.981375,0.8106875,0.9386875,0.896,0.743,0.5973125,0.9386875,0.882375,0.64,0.9288125,0.882375,0.725375,0.8359375,0.7535,0.7895,0.8359375,0.6826875,0.97525,0.650125,0.8359375,0.896,0.64,0.853375,0.384,0.75325,0.9288125,0.9813125,0.7535,0.8106875,0.64,0.882375,0.5973125,0.7535,0.6501875,0.6501875,0.8359375,0.696625,0.9288125,0.725375,0.896,0.8359375,0.7535,0.9386875,0.8359375,0.8106875,0.7535,0.882375,0.512,0.554625,0.9386875,0.7895,0.8359375,0.8359375,0.696625,0.74825,0.6501875,0.9386875,0.810625,0.768,0.882375,0.7895,0.7535,0.725375,0.5973125,0.60375,0.512,0.981375,0.7535,0.896,0.7535,0.512,0.853375,0.853375,0.426625,0.896,0.7430625,0.5973125,0.7253125,0.9386875,0.9288125,0.8106875,0.882375,0.7253125,0.7585,0.810625,0.7430625,0.8746875,0.7895,0.696625,0.7535,0.7535,0.64,0.7585,0.597375,0.4693125,0.6826875,0.696625,0.4644375,0.981375,0.97525,0.8359375,0.882375,0.853375,0.8106875,0.981375,0.7535,0.768,0.7895,0.554625,0.7895,0.8359375,0.64,0.981375,0.8359375,0.6826875,0.8106875,0.896,0.554625,0.853375,0.853375,0.8106875,0.8359375,0.743,0.743,0.938625,0.5973125,0.97525,0.9288125,0.9288125,0.938625,0.8359375,0.7585,0.97525,0.8106875,0.853375,0.8106875,0.8533125,0.60375,0.789375,0.6036875,0.6965625,0.7895,0.981375,0.55725,0.75825,0.9386875,0.7535,0.9288125,0.896,0.6501875,0.981375,0.853375,0.853375,0.8106875,0.97525,0.896,0.9386875,0.8533125,0.5973125,0.7535,0.981375,0.7535,0.981375,0.9386875,0.8106875,0.97525,0.7253125,0.9813125,0.64,0.6826875,0.9288125,0.7535,0.853375,0.882375,0.768,0.55725,0.682625,0.7894375,0.8359375,0.9386875,0.8359375,0.60375,0.9288125,0.7485,0.7430625,0.8359375,0.682625,0.6826875,0.6826875,0.55725,0.60375,0.8359375,0.768,0.882375,0.896,0.682625,0.7430625,0.896,0.7253125,0.5973125,0.7894375,0.8533125,0.743,0.896,0.938625,0.896,0.97525,0.9813125,0.9386875,0.8106875,0.7895,0.8359375,0.512,0.8106875,0.981375,0.97525,0.882375,0.8746875,0.8359375,0.768,0.60375,0.97525,0.97525,0.882375,0.981375,0.426625,0.7430625,0.6965625,0.882375,0.5108125,0.981375,0.768,0.510875,0.810625,0.882375,0.9386875,0.97525,0.8106875,0.8106875,0.4693125,0.7253125,0.60375,0.97525,0.896,0.5573125,0.4693125,0.896,0.97525,0.6826875,0.981375,0.9386875,0.896,0.4693125,0.9386875,0.96,0.64,0.9386875,0.9706875,0.810625,0.768,0.8106875,0.7894375,0.981375,0.696625,0.97525,0.9288125,0.896,0.8106875,0.512,0.768,0.981375,0.853375,0.882375,0.9386875,0.853375,0.9066875,0.696625,0.9173125,0.9386875,0.768,0.64,0.3715,0.882375,0.6036875,0.882375,0.97525,0.768,0.4693125,0.7894375,0.5973125,0.7895,0.896,0.8359375,0.9288125,0.9288125,0.8359375,0.896,0.8106875,0.896,0.696625,0.9288125,0.9386875,0.8106875,0.743,0.8359375,0.97525,0.938625,0.97525,0.60375,0.7430625,0.60375,0.810625,0.882375,0.7894375,0.6965625,0.853375,0.853375,0.853375,0.97525,0.97525,0.810625,0.97525,0.853375,0.981375,0.9813125,0.8359375,0.8426875,0.6826875,0.9288125,0.597375,0.810625,0.9386875,0.981375,0.7430625,0.743,0.7430625,0.6965625,0.7430625,0.9288125,0.8106875,0.97525,0.743,0.64,0.9288125,0.565375,0.9386875,0.725375,0.938625,0.5573125,0.7253125,0.9386875,0.8359375,0.896,0.554625,0.7895,0.6826875,0.9386875,0.981375,0.9288125,0.682625,0.981375,0.853375,0.7253125,0.938625,0.9813125,0.725375,0.97525,0.882375,0.725375,0.725375,0.896,0.768,0.882375,0.981375,0.882375,0.5108125,0.743,0.7430625,0.853375,0.743,0.9386875,0.882375,0.9386875,0.64,0.9520625,0.7253125,0.768,0.768,0.896,0.768,0.896,0.55725,0.9386875,0.768,0.9288125,0.696625,0.6965625,0.725375,0.9386875,0.917375,0.60375,0.981375,0.810625,0.8359375,0.7895,0.896,0.9386875,0.97525,0.853375,0.7735,0.981375,0.55725,0.7430625,0.768,0.7535,0.9386875,0.5973125,0.9386875,0.597375,0.8106875,0.8106875,0.7585,0.725375,0.97525,0.768,0.9386875,0.853375,0.8106875,0.981375,0.696625,0.9288125,0.896,0.6501875,0.6501875,0.7535,0.743,0.7895,0.426625,0.5573125,0.896,0.7485,0.7535,0.8359375,0.5573125,0.896,0.768,0.882375,0.810625,0.743,0.7535,0.8106875,0.743,0.9386875,0.938625,0.7535,0.97525,0.768,0.7535,0.7253125,0.9288125,0.768,0.9386875,0.768,0.853375,0.64,0.853375,0.768,0.938625,0.60375,0.7585,0.768,0.949375,0.8106875,0.725375,0.7895,0.9288125,0.9386875,0.5973125,0.9288125,0.696625,0.981375,0.768,0.4693125,0.981375,0.9386875,0.896,0.882375,0.512,0.7535,0.7535,0.7535,0.768,0.938625,0.75825,0.8106875,0.8533125,0.882375,0.853375,0.882375,0.882375,0.64,0.60375,0.725375,0.97525,0.298625,0.7535,0.512,0.8106875,0.4693125,0.8359375,0.8106875,0.8359375,0.725375,0.810625,0.8,0.4179375,0.7895,0.7894375,0.743,0.7535,0.9386875,0.853375,0.696625,0.743,0.7253125,0.9386875,0.64,0.743,0.9386875,0.743,0.725375,0.8106875,0.7430625,0.7573125,0.9386875,0.8359375,0.882375,0.9386875,0.7894375,0.853375,0.7895,0.696625,0.768,0.896,0.7585,0.810625,0.9386875,0.981375,0.896,0.7485,0.7535,0.981375,0.7430625,0.8533125,0.7535,0.743,0.75325,0.9386875,0.8359375,0.882375,0.896,0.75325,0.896,0.512,0.597375,0.7535,0.7535,0.949375,0.9386875,0.9813125,0.7430625,0.853375,0.981375,0.64,0.7894375,0.7895,0.7253125,0.810625,0.5973125,0.9386875,0.7585,0.896,0.9386875,0.882375,0.97525,0.7786875,0.768,0.8106875,0.696625,0.743,0.917375,0.981375,0.7253125,0.853375,0.896,0.896,0.75325,0.97525,0.9813125,0.7535,0.9386875,0.6826875,0.8359375,0.896,0.5973125,0.7430625,0.97525,0.896,0.696625,0.7585,0.981375,0.6501875,0.7895,0.97525,0.853375,0.7535,0.981375,0.75325,0.882375,0.981375,0.882375,0.853375,0.7895,0.7535,0.5973125,0.696625,0.64,0.8359375,0.7895,0.896,0.8359375,0.6036875,0.9386875,0.97525,0.853375,0.5973125,0.853375,0.7735,0.7535,0.981375,0.97525,0.8106875,0.554625,0.853375,0.882375,0.469375,0.75325,0.981375,0.597375,0.981375,0.7535,0.704,0.5546875,0.8106875,0.7485,0.9386875,0.7535,0.6501875,0.8106875,0.896,0.832,0.981375,0.853375,0.7535,0.7535,0.9386875,0.696625,0.7430625,0.8359375,0.768,0.510875,0.896,0.512,0.7485,0.853375,0.810625,0.7253125,0.7585,0.725375,0.9288125,0.9813125,0.7535,0.810625,0.768,0.853375,0.7535,0.853375,0.896,0.743,0.981375,0.981375,0.696625,0.9813125,0.9386875,0.7253125,0.75825,0.76325,0.7535,0.8359375,0.768,0.6826875,0.9288125,0.853375,0.96,0.75325,0.8106875,0.6826875,0.981375,0.725375,0.7895,0.7535,0.981375,0.97525,0.8359375,0.8106875,0.938625,0.882375,0.981375,0.8106875,0.725375,0.6826875,0.7535,0.981375,0.768,0.810625,0.9288125,0.6501875,0.682625,0.696625,0.7535,0.97525,0.7535,0.938625,0.8359375,0.4693125,0.6826875,0.8533125,0.7535,0.981375,0.75325,0.768,0.8359375,0.8106875,0.981375,0.64,0.725375,0.981375,0.64,0.9386875,0.8533125,0.8359375,0.4693125,0.9288125,0.7430625,0.5973125,0.7535,0.725375,0.7535,0.7585,0.882375,0.7535,0.97525,0.896,0.9493125,0.9386875,0.9386875,0.9288125,0.7894375,0.8533125,0.554625,0.8359375,0.7785,0.97525,0.6036875,0.8106875,0.768,0.853375,0.981375,0.8359375,0.97525,0.7535,0.5546875,0.882375,0.725375,0.896,0.97525,0.896,0.64,0.97525,0.768,0.768,0.896,0.768,0.7585,0.9386875,0.97525,0.882375,0.768,0.725375,0.9386875,0.7535,0.981375,0.896,0.97525,0.8106875,0.896,0.6826875,0.9386875,0.7585,0.981375,0.6826875,0.64,0.938625,0.810625,0.7585,0.882375,0.7253125,0.981375,0.512,0.9386875,0.8533125,0.896,0.7253125,0.981375,0.882375,0.981375,0.7535,0.853375,0.853375,0.426625,0.981375,0.853375,0.9813125,0.882375,0.8359375,0.743,0.9288125,0.682625,0.64,0.7535,0.9288125,0.7585,0.981375,0.97525,0.696625,0.9386875,0.75325,0.8533125,0.7585,0.853375,0.896,0.896,0.7535,0.7430625,0.882375,0.768,0.554625,0.6036875,0.597375,0.9386875,0.853375,0.768,0.832,0.743,0.725375,0.5973125,0.75325,0.810625,0.6826875,0.8359375,0.7685,0.882375,0.7894375,0.8106875,0.6826875,0.7585,0.7535,0.853375,0.768,0.981375,0.882375,0.7535,0.896,0.7895,0.896,0.8359375,0.97525,0.7894375,0.9288125,0.9386875,0.7585,0.882375,0.7835,0.9288125,0.7535,0.8106875,0.8106875,0.8213125,0.853375,0.8359375,0.9386875,0.882375,0.882375,0.896,0.7466875,0.64,0.938625,0.725375,0.7585,0.8533125,0.9706875,0.896,0.896,0.7535,0.981375,0.938625,0.7430625,0.853375,0.882375,0.696625,0.6186875,0.7785,0.9288125,0.853375,0.768,0.512,0.725375,0.6501875,0.97525,0.810625,0.810625,0.8106875,0.981375,0.896,0.7535,0.426625,0.7895,0.75325,0.768,0.725375,0.696625,0.682625,0.938625,0.8746875,0.725375,0.882375,0.981375,0.882375,0.8106875,0.7485,0.981375,0.882375,0.554625,0.7635,0.7895,0.6826875,0.501375,0.9288125,0.8359375,0.810625,0.8359375,0.896,0.97525,0.810625,0.882375,0.9386875,0.9386875,0.8359375,0.896,0.9813125,0.9813125,0.768,0.650125,0.7585,0.97525,0.7535,0.8359375,0.9386875,0.853375,0.8359375,0.981375,0.810625,0.8533125,0.97525,0.981375,0.9813125,0.64,0.896,0.853375,0.8359375,0.9386875,0.9288125,0.7430625,0.8359375,0.9288125,0.97525,0.650125,0.725375,0.7894375,0.7430625,0.9288125,0.981375,0.9288125,0.810625,0.981375,0.768,0.938625,0.682625,0.8106875,0.768,0.981375,0.9386875,0.896,0.4906875,0.938625,0.9288125,0.97525,0.981375,0.9813125,0.510875,0.97525,0.5973125,0.512,0.8359375,0.97525,0.7253125,0.9386875,0.9813125,0.7430625,0.768,0.9813125,0.9386875,0.810625,0.554625,0.64,0.882375,0.9386875,0.64,0.810625,0.8533125,0.725375,0.64,0.981375,0.5973125,0.768,0.8359375,0.97525,0.853375,0.5973125,0.981375,0.8106875,0.9386875,0.938625,0.512,0.853375,0.981375,0.9288125,0.882375,0.938625,0.426625,0.97525,0.9813125,0.9288125,0.8359375,0.981375,0.896,0.64,0.896,0.9288125,0.8746875,0.768,0.8359375,0.981375,0.682625,0.9813125,0.725375,0.896,0.8359375,0.9288125,0.9288125,0.882375,0.9288125,0.882375,0.725375,0.5973125,0.97525,0.853375,0.9386875,0.882375,0.882375,0.938625,0.97525,0.981375,0.810625,0.8106875,0.9288125,0.725375,0.896,0.8106875,0.97525,0.938625,0.8106875,0.853375,0.9386875,0.981375,0.7253125,0.981375,0.7253125,0.9813125,0.9386875,0.64,0.743,0.464375,0.8359375,0.725375,0.7894375,0.853375,0.6965625,0.7895,0.853375,0.9386875,0.832,0.882375,0.6965625,0.938625,0.938625,0.768,0.896,0.938625,0.9706875,0.8106875,0.8106875,0.9288125,0.6501875,0.650125,0.9288125,0.9288125,0.9288125,0.8359375,0.97525,0.9288125,0.97525,0.682625,0.896,0.64,0.981375,0.7895,0.8533125,0.682625,0.5973125,0.9386875,0.9813125,0.9813125,0.9288125,0.7253125,0.938625,0.5546875,0.7430625,0.9386875,0.554625,0.768,0.7895,0.938625,0.882375,0.896,0.650125,0.9813125,0.97525,0.9386875,0.9288125,0.896,0.8359375,0.981375,0.7430625,0.8359375,0.6826875,0.8359375,0.9386875,0.9288125,0.554625,0.8359375,0.981375,0.8533125,0.7430625,0.64,0.768,0.768,0.810625,0.554625,0.768,0.7894375,0.97525,0.725375,0.510875,0.938625,0.64,0.97525,0.9288125,0.896,0.896,0.896,0.981375,0.882375,0.7585,0.6036875,0.981375,0.97525,0.8106875,0.896,0.882375,0.6501875,0.882375,0.7535,0.512,0.7535,0.853375,0.7895,0.7894375,0.8106875,0.9386875,0.8359375,0.55725,0.7535,0.7585,0.7895,0.9288125,0.696625,0.896,0.512,0.5546875,0.853375,0.7895,0.882375,0.7585,0.64,0.8533125,0.8533125,0.882375,0.981375,0.5546875,0.64,0.938625,0.725375,0.981375,0.7430625,0.8106875,0.5546875,0.8359375,0.8359375,0.5573125,0.696625,0.9386875,0.768,0.725375,0.981375,0.9288125,0.75825,0.554625,0.768,0.981375,0.8533125,0.97525,0.8106875,0.97525,0.7894375,0.97525,0.7585,0.97525,0.882375,0.8533125,0.896,0.9288125,0.8106875,0.882375,0.853375,0.7894375,0.9386875,0.7895,0.8533125,0.7535,0.9386875,0.9386875,0.7535,0.768,0.882375,0.981375,0.9288125,0.6965625,0.7895,0.725375,0.682625,0.75325,0.7253125,0.7585,0.736,0.4693125,0.853375,0.8359375,0.981375,0.682625,0.6965625,0.768,0.981375,0.6826875,0.512,0.554625,0.810625,0.4179375,0.768,0.768,0.6826875,0.905625,0.882375,0.8359375,0.8533125,0.743,0.9386875,0.896,0.768,0.9386875,0.512,0.8106875,0.75325,0.7253125,0.7585,0.7253125,0.7535,0.6826875,0.7535,0.896,0.7253125,0.9386875,0.9288125,0.853375,0.7430625,0.743,0.9288125,0.7585,0.650125,0.75825,0.64,0.696625,0.896,0.384,0.853375,0.9813125,0.554625,0.853375,0.7895,0.5573125,0.6036875,0.896,0.75325,0.8359375,0.768,0.853375,0.97525,0.7535,0.682625,0.64,0.7535,0.7535,0.7430625,0.9386875,0.9288125,0.6826875,0.9386875,0.8359375,0.7253125,0.682625,0.896,0.768,0.97525,0.853375,0.7535,0.7895,0.97525,0.938625,0.60375,0.896,0.8359375,0.7895,0.7430625,0.853375,0.7535,0.64,0.9813125,0.938625,0.7253125,0.5973125,0.97525,0.696625,0.896,0.853375,0.682625,0.97525,0.8533125,0.7430625,0.938625,0.8533125,0.7535,0.938625,0.725375,0.4693125,0.768,0.60375,0.97525,0.981375,0.75325,0.981375,0.7894375,0.882375,0.768,0.6036875,0.5973125,0.768,0.8106875,0.55725,0.8106875,0.97525,0.9386875,0.9386875,0.9288125,0.8106875,0.768,0.896,0.725375,0.9386875,0.97525,0.8359375,0.917375,0.97525,0.8533125,0.6036875,0.768,0.5573125,0.5973125,0.981375,0.7663125,0.853375,0.896,0.9386875,0.7253125,0.938625,0.682625,0.512,0.5226875,0.7535,0.9493125,0.810625,0.97525,0.8359375,0.4644375,0.682625,0.8533125,0.8359375,0.981375,0.7253125,0.896,0.97525,0.650125,0.896,0.725375,0.554625,0.8106875,0.981375,0.64,0.725375,0.97525,0.97525,0.9288125,0.682625,0.8359375,0.768,0.882375,0.768,0.650125,0.8106875,0.810625,0.9288125,0.743,0.736,0.8359375,0.8359375,0.9813125,0.512,0.810625,0.896,0.9288125,0.7895,0.64,0.597375,0.810625,0.882375,0.981375,0.5333125,0.9386875,0.554625,0.8533125,0.7895,0.853375,0.768,0.7253125,0.8359375,0.512,0.9288125,0.97525,0.8106875,0.981375,0.650125,0.882375,0.60375,0.6826875,0.8106875,0.7895,0.682625,0.9386875,0.426625,0.882375,0.8533125,0.981375,0.8106875,0.55725,0.7894375,0.896,0.7430625,0.981375,0.64,0.6186875,0.7253125,0.725375,0.682625,0.853375,0.882375,0.9288125,0.512,0.9288125,0.810625,0.7535,0.882375,0.853375,0.938625,0.9386875,0.882375,0.8359375,0.9386875,0.7430625,0.9386875,0.853375,0.8533125,0.4693125,0.6826875,0.8426875,0.682625,0.650125,0.682625,0.5973125,0.882375,0.882375,0.682625,0.768,0.64,0.7663125,0.896,0.981375,0.8533125,0.512,0.97525,0.853375,0.725375,0.650125,0.896,0.768,0.938625,0.768,0.768,0.9386875,0.8106875,0.650125,0.981375,0.981375,0.5973125,0.7895,0.682625,0.725375,0.6826875,0.7895,0.992,0.882375,0.8106875,0.768,0.743,0.9386875,0.938625,0.7894375,0.7430625,0.981375,0.682625,0.8359375,0.9813125,0.7895,0.64,0.7430625,0.7894375,0.882375,0.8359375,0.7253125,0.96,0.896,0.981375,0.725375,0.7253125,0.882375,0.5973125,0.6826875,0.853375,0.853375,0.9288125,0.853375,0.768,0.7253125,0.981375,0.896,0.682625,0.725375,0.9386875,0.8106875,0.882375,0.97525,0.7895,0.5108125,0.981375,0.7585,0.882375,0.97525,0.682625,0.896,0.8106875,0.64,0.896,0.9386875,0.981375,0.7253125,0.882375,0.8359375,0.7430625,0.810625,0.882375,0.682625,0.8533125,0.9386875,0.8533125,0.512,0.97525,0.7253125,0.8106875,0.882375,0.896,0.981375,0.5108125,0.981375,0.882375,0.650125,0.938625,0.896,0.97525,0.6036875,0.725375,0.810625,0.8106875,0.768,0.97525,0.882375,0.64,0.7895,0.6826875,0.768,0.882375,0.64,0.768,0.9386875,0.725375,0.97525,0.64,0.9288125,0.768,0.7253125,0.9520625,0.597375,0.853375,0.981375,0.8359375,0.981375,0.7895,0.938625,0.5973125,0.4586875,0.64,0.97525,0.896,0.9066875,0.882375,0.981375,0.6965625,0.6826875,0.789375,0.6501875,0.8533125,0.682625,0.650125,0.896,0.8533125,0.882375,0.97525,0.7535,0.9386875,0.882375,0.9386875,0.7894375,0.768,0.9288125,0.4693125,0.896,0.768,0.9386875,0.853375,0.853375,0.7430625,0.5973125,0.9288125,0.5546875,0.8106875,0.9386875,0.8106875,0.8106875,0.821375,0.896,0.696625,0.9386875,0.7253125,0.768,0.9386875,0.882375,0.4693125,0.8106875,0.882375,0.64,0.97525,0.6501875,0.9288125,0.938625,0.9386875,0.853375,0.696625,0.853375,0.6613125,0.8106875,0.4693125,0.8106875,0.8359375,0.9386875,0.725375,0.8106875,0.97525,0.981375,0.8359375,0.96,0.896,0.9066875,0.8106875,0.768,0.7430625,0.9288125,0.853375,0.5973125,0.696625,0.768,0.882375,0.5973125,0.9386875,0.5973125,0.512,0.9288125,0.992,0.6965625,0.9386875,0.7430625,0.7894375,0.938625,0.64,0.8106875,0.8106875,0.768,0.7894375,0.981375,0.981375,0.981375,0.853375,0.97525,0.9288125,0.97525,0.981375,0.6036875,0.981375,0.8359375,0.7253125,0.7585,0.97525,0.8106875,0.981375,0.9386875,0.7894375,0.896,0.9386875,0.3250625,0.8359375,0.896,0.9813125,0.554625,0.704,0.7253125,0.7895,0.64,0.4179375,0.810625,0.5546875,0.6826875,0.896,0.7430625,0.6965625,0.650125,0.9813125,0.9386875,0.882375,0.725375,0.7894375,0.9813125,0.896,0.981375,0.9288125,0.981375,0.810625,0.8746875,0.512,0.8533125,0.9288125,0.7535,0.981375,0.882375,0.9288125,0.8106875,0.981375,0.9288125,0.8106875,0.97525,0.882375,0.882375,0.7430625,0.9386875,0.896,0.882375,0.5108125,0.981375,0.8359375,0.882375,0.981375,0.896,0.810625,0.8359375,0.9813125,0.512,0.7894375,0.64,0.7895,0.896,0.64,0.882375,0.8359375,0.5973125,0.512,0.9288125,0.853375,0.8106875,0.64,0.882375,0.8359375,0.9288125,0.853375,0.426625,0.512,0.768,0.896,0.725375,0.810625,0.97525,0.7466875,0.682625,0.8359375,0.64,0.8106875,0.853375,0.6965625,0.882375,0.896,0.7895,0.7894375,0.896,0.7895,0.64,0.9288125,0.896,0.7895,0.9288125,0.896,0.682625,0.8106875,0.696625,0.7895,0.554625,0.938625,0.4693125,0.682625,0.9813125,0.97525,0.6501875,0.981375,0.981375,0.938625,0.9386875,0.8106875,0.853375,0.9288125,0.7895,0.7894375,0.981375,0.9288125,0.97525,0.810625,0.97525,0.8106875,0.9386875,0.97525,0.8106875,0.768,0.682625,0.9288125,0.981375,0.7430625,0.882375,0.7430625,0.64,0.896,0.60375,0.7253125,0.853375,0.97525,0.905625,0.853375,0.896,0.981375,0.9386875,0.6826875,0.8106875,0.896,0.3413125,0.768,0.981375,0.7253125,0.768,0.9493125,0.896,0.7893125,0.8359375,0.7253125,0.882375,0.882375,0.512,0.882375,0.7535,0.5108125,0.7253125,0.8359375,0.7894375,0.768,0.64,0.9288125,0.9813125,0.682625,0.768,0.96,0.810625,0.97525,0.8359375,0.743,0.650125,0.64,0.8533125,0.896,0.97525,0.9813125,0.810625,0.882375,0.810625,0.682625,0.743,0.5973125,0.810625,0.384,0.8533125,0.8533125,0.743,0.9813125,0.7535,0.810625,0.9288125,0.810625,0.8359375,0.928,0.8533125,0.768,0.810625,0.464375,0.8533125,0.9288125,0.6036875,0.97525,0.7894375,0.9288125,0.938625,0.5973125,0.97525,0.64,0.8533125,0.882375,0.7535,0.896,0.75825,0.97525,0.512,0.7894375,0.768,0.810625,0.8359375,0.64,0.768,0.9288125,0.8533125,0.5973125,0.8533125,0.9288125,0.75825,0.7466875,0.810625,0.743,0.8359375,0.7535,0.426625,0.896,0.9813125,0.4693125,0.768,0.554625,0.682625,0.9288125,0.882375,0.76325,0.4179375,0.768,0.8359375,0.768,0.768,0.896,0.554625,0.896,0.682625,0.650125,0.9288125,0.7894375,0.981375,0.8106875,0.97525,0.810625,0.6965625,0.7253125,0.597375,0.768,0.9288125,0.7894375,0.8533125,0.97525,0.7535,0.981375,0.9288125,0.8533125,0.55725,0.8106875,0.981375,0.7535,0.8106875,0.6965625,0.725375,0.9386875,0.9386875,0.7895,0.97525,0.7535,0.97525,0.7535,0.5973125,0.896,0.7585,0.6826875,0.6826875,0.9386875,0.6826875,0.97525,0.7535,0.882375,0.469375,0.6826875,0.64,0.554625,0.768,0.810625,0.64,0.9288125,0.768,0.882375,0.8106875,0.650125,0.7895,0.7535,0.9288125,0.9288125,0.853375,0.5573125,0.7430625,0.554625,0.896,0.597375,0.7895,0.896,0.6826875,0.882375,0.7535,0.768,0.725375,0.896,0.7430625,0.896,0.853375,0.9288125,0.597375,0.9288125,0.6965625,0.64,0.5108125,0.8359375,0.7253125,0.60375,0.60375,0.64,0.97525,0.882375,0.8533125,0.7585,0.9386875,0.853375,0.9288125,0.94825,0.768,0.9386875,0.8359375,0.97525,0.7253125,0.60375,0.7253125,0.9386875,0.75325,0.7585,0.682625,0.725375,0.384,0.896,0.696625,0.896,0.853375,0.882375,0.882375,0.7535,0.7895,0.8359375,0.896,0.9386875,0.64,0.597375,0.8359375,0.725375,0.768,0.6501875,0.981375,0.7535,0.8106875,0.7895,0.97525,0.810625,0.981375,0.768,0.7253125,0.896,0.981375,0.7535,0.853375,0.512,0.7535,0.789375,0.512,0.7430625,0.8533125,0.5546875,0.7894375,0.682625,0.8533125,0.97525,0.512,0.597375,0.7535,0.627,0.981375,0.696625,0.896,0.853375,0.9288125,0.896,0.882375,0.8106875,0.7894375,0.725375,0.810625,0.810625,0.882375,0.5573125,0.7253125,0.7535,0.743,0.853375,0.7535,0.896,0.7895,0.882375,0.853375,0.7535,0.882375,0.8359375,0.7585,0.6501875,0.768,0.725375,0.8106875,0.882375,0.554625,0.8359375,0.97525,0.5108125,0.7535,0.725375,0.75825,0.7535,0.725375,0.9386875,0.7430625,0.981375,0.8359375,0.5973125,0.696625,0.9288125,0.6965625,0.981375,0.464375,0.8533125,0.97525,0.97525,0.7535,0.97525,0.8106875,0.896,0.7535,0.9288125,0.7585,0.896,0.9288125,0.853375,0.853375,0.8106875,0.7430625,0.97525,0.97525,0.464375,0.896,0.75325,0.7253125,0.725375,0.768,0.981375,0.629375,0.5546875,0.938625,0.853375,0.981375,0.55725,0.853375,0.7535,0.6965625,0.6826875,0.97525,0.6826875,0.5573125,0.4586875,0.64,0.896,0.7535,0.810625,0.981375,0.9386875,0.981375,0.97525,0.896,0.853375,0.7430625,0.810625,0.5973125,0.853375,0.554625,0.7535,0.9288125,0.9386875,0.810625,0.9386875,0.981375,0.75325,0.75825,0.981375,0.7535,0.9386875,0.5546875,0.60375,0.853375,0.882375,0.981375,0.75825,0.853375,0.725375,0.882375,0.9813125,0.810625,0.8106875,0.9386875,0.853375,0.768,0.9288125,0.853375,0.7253125,0.8359375,0.696625,0.55725,0.6501875,0.97525,0.896,0.97525,0.64,0.6826875,0.7895,0.9386875,0.696625,0.693375,0.5108125,0.9386875,0.768,0.981375,0.725375,0.9288125,0.75325,0.896,0.97525,0.725375,0.768,0.981375,0.64,0.696625,0.9288125,0.8106875,0.7430625,0.810625,0.981375,0.981375,0.6501875,0.7894375,0.8533125,0.7535,0.882375,0.896,0.768,0.7430625,0.896,0.896,0.8359375,0.938625,0.8359375,0.7535,0.882375,0.7253125,0.6036875,0.7535,0.882375,0.7585,0.896,0.97525,0.896,0.6965625,0.9813125,0.576,0.768,0.97525,0.448,0.8533125,0.682625,0.896,0.743,0.7253125,0.97525,0.4693125,0.554625,0.7253125,0.896,0.7894375,0.7253125,0.896,0.6965625,0.810625,0.7253125,0.8359375,0.464375,0.64,0.682625,0.6036875,0.810625,0.810625,0.5973125,0.4693125,0.7894375,0.810625,0.768,0.938625,0.7894375,0.650125,0.682625,0.938625,0.512,0.882375,0.938625,0.8533125,0.97525,0.768,0.8359375,0.8359375,0.64,0.768,0.5108125,0.64,0.8533125,0.896,0.97525,0.7253125,0.768,0.938625,0.5973125,0.96825,0.64,0.7894375,0.8533125,0.9288125,0.8533125,0.768,0.7253125,0.743,0.810625,0.9288125,0.9288125,0.9813125,0.8426875,0.896,0.7253125,0.4179375,0.7835,0.97525,0.810625,0.768,0.7253125,0.810625,0.9813125,0.7466875,0.9813125,0.554625,0.8359375,0.6965625,0.64,0.682625,0.8359375,0.554625,0.9288125,0.938625,0.554625,0.743,0.682625,0.768,0.7894375,0.6965625,0.896,0.882375,0.9813125,0.8533125,0.64,0.810625,0.650125,0.8359375,0.6036875,0.768,0.938625,0.7894375,0.650125,0.682625,0.768,0.8533125,0.64,0.682625,0.896,0.7535,0.896,0.5973125,0.7253125,0.8359375,0.768,0.64,0.7535,0.9288125,0.682625,0.9288125,0.810625,0.938625,0.8359375,0.768,0.7885,0.512,0.938625,0.896,0.7253125,0.512,0.64,0.64,0.650125,0.682625,0.6036875,0.768,0.75825,0.97525,0.64,0.7894375,0.938625,0.97525,0.5973125,0.384,0.8533125,0.682625,0.8106875,0.9288125,0.9288125,0.7535,0.7430625,0.650125,0.8533125,0.9288125,0.7835,0.9386875,0.9288125,0.650125,0.7253125,0.768,0.97525,0.981375,0.725375,0.7585,0.7895,0.981375,0.7430625,0.853375,0.8106875,0.8359375,0.8359375,0.7430625,0.9288125,0.7894375,0.9386875,0.7535,0.743,0.75325,0.4693125,0.7535,0.7535,0.64,0.6826875,0.97525,0.7894375,0.510875,0.6036875,0.7146875,0.9288125,0.981375,0.768,0.981375,0.768,0.896,0.7535,0.64,0.882375,0.7253125,0.8106875,0.7895,0.8106875,0.512,0.97525,0.7535,0.853375,0.896,0.768,0.896,0.448,0.938625,0.9288125,0.512,0.97525,0.8106875,0.725375,0.938625,0.896,0.7895,0.55725,0.4693125,0.97525,0.8359375,0.696625,0.725375,0.9386875,0.60375,0.853375,0.8359375,0.725375,0.981375,0.682625,0.512,0.9288125,0.6826875,0.512,0.896,0.64,0.8359375,0.896,0.882375,0.696625,0.6965625,0.75325,0.6036875,0.7535,0.853375,0.882375,0.512,0.97525,0.981375,0.882375,0.882375,0.7430625,0.9386875,0.853375,0.9288125,0.97525,0.9813125,0.896,0.7535,0.9813125,0.882375,0.7535,0.757375,0.7895,0.7253125,0.6501875,0.896,0.97525,0.8106875,0.7253125,0.5973125,0.3250625,0.7535,0.7535,0.9386875,0.882375,0.757375,0.768,0.882375,0.7895,0.554625,0.7895,0.696625,0.6036875,0.896,0.6965625,0.8359375,0.3250625,0.64,0.7253125,0.597375,0.9386875,0.7585,0.597375,0.896,0.7895,0.981375,0.9288125,0.6965625,0.8359375,0.7430625,0.8359375,0.882375,0.3413125,0.8359375,0.8533125,0.981375,0.89825,0.853375,0.882375,0.7253125,0.7535,0.8359375,0.9288125,0.743,0.97525,0.6826875,0.7535,0.8106875,0.7430625,0.725375,0.8106875,0.7430625,0.810625,0.725375,0.853375,0.8359375,0.8359375,0.7485,0.75325,0.938625,0.9386875,0.882375,0.7535,0.981375,0.554625,0.981375,0.8533125,0.853375,0.696625,0.554625,0.97525,0.7430625,0.696625,0.743,0.75825,0.896,0.853375,0.9288125,0.6036875,0.725375,0.5973125,0.512,0.7585,0.7535,0.882375,0.981375,0.64,0.8106875,0.981375,0.9386875,0.60375,0.75325,0.6826875,0.853375,0.821375,0.6501875,0.597375,0.8106875,0.696625,0.7253125,0.896,0.9288125,0.7635,0.853375,0.97525,0.7895,0.882375,0.725375,0.882375,0.97525,0.7895,0.6501875,0.768,0.768,0.597375,0.981375,0.7785,0.97525,0.853375,0.8533125,0.5973125,0.896,0.7535,0.9386875,0.64,0.981375,0.7253125,0.76325,0.9288125,0.981375,0.896,0.97525,0.853375,0.76325,0.7535,0.768,0.882375,0.8359375,0.554625,0.5546875,0.8359375,0.8533125,0.9386875,0.981375,0.75825,0.6826875,0.9288125,0.981375,0.9386875,0.7253125,0.8359375,0.554625,0.9386875,0.9288125,0.896,0.4179375,0.853375,0.9386875,0.7430625,0.7895,0.9386875,0.8359375,0.426625,0.7430625,0.7895,0.896,0.7635,0.60375,0.9288125,0.853375,0.981375,0.917375,0.725375,0.426625,0.650125,0.725375,0.981375,0.896,0.7894375,0.981375,0.75825,0.97525,0.554625,0.981375,0.9386875,0.7430625,0.882375,0.8106875,0.7430625,0.8533125,0.5546875,0.6826875,0.682625,0.810625,0.64,0.7535,0.981375,0.97525,0.7535,0.9386875,0.7895,0.896,0.7894375,0.8533125,0.882375,0.9288125,0.696625,0.810625,0.8359375,0.9288125,0.7535,0.896,0.896,0.896,0.6965625,0.64,0.7894375,0.981375,0.9386875,0.896,0.9386875,0.725375,0.97525,0.5573125,0.9288125,0.853375,0.682625,0.882375,0.7535,0.7430625,0.882375,0.7535,0.882375,0.725375,0.981375,0.9386875,0.8359375,0.7895,0.7895,0.8106875,0.6965625,0.853375,0.768,0.7535,0.896,0.882375,0.9386875,0.9288125,0.7430625,0.938625,0.696625,0.896,0.8106875,0.7585,0.97525,0.896,0.768,0.9386875,0.6826875,0.97525,0.696625,0.9386875,0.896,0.810625,0.8533125,0.510875,0.853375,0.882375,0.9386875,0.7895,0.8533125,0.8106875,0.768,0.97525,0.64,0.97525,0.6826875,0.981375,0.64,0.725375,0.7430625,0.896,0.75325,0.7535,0.896,0.7895,0.896,0.554625,0.64,0.9288125,0.896,0.9288125,0.725375,0.97525,0.810625,0.725375,0.7535,0.8359375,0.981375,0.696625,0.896,0.9813125,0.8106875,0.981375,0.9813125,0.7535,0.7535,0.8533125,0.5546875,0.9288125,0.9386875,0.768,0.743,0.768,0.981375,0.91825,0.981375,0.7535,0.768,0.853375,0.743,0.97525,0.97525,0.768,0.8359375,0.7535,0.9288125,0.743,0.7430625,0.9288125,0.9386875,0.768,0.64,0.896,0.5108125,0.7430625,0.7535,0.981375,0.75325,0.7535,0.8106875,0.9386875,0.696625,0.896,0.9288125,0.8359375,0.7735,0.7895,0.853375,0.7895,0.938625,0.75325,0.97525,0.9386875,0.7253125,0.650125,0.97525,0.7535,0.8106875,0.7535,0.650125,0.7535,0.7430625,0.9288125,0.97525,0.896,0.6933125,0.981375,0.55725,0.97525,0.981375,0.882375,0.882375,0.75325,0.64,0.6506875,0.882375,0.8106875,0.97525,0.97525,0.8106875,0.9386875,0.9386875,0.8533125,0.7535,0.60375,0.9813125,0.97525,0.7895,0.9288125,0.97525,0.882375,0.8359375,0.7585,0.565375,0.768,0.7535,0.6965625,0.7253125,0.7430625,0.882375,0.9386875,0.768,0.5973125,0.896,0.981375,0.8359375,0.97525,0.5973125,0.7535,0.7895,0.5546875,0.696625,0.9386875,0.4693125,0.9386875,0.882375,0.896,0.896,0.938625,0.7253125,0.853375,0.8106875,0.8106875,0.9386875,0.8359375,0.75325,0.6965625,0.8106875,0.7894375,0.981375,0.9386875,0.9386875,0.9386875,0.7585,0.882375,0.7466875,0.8533125,0.896,0.8533125,0.74825,0.896,0.7585,0.882375,0.6826875,0.768,0.8359375,0.9386875,0.8106875,0.981375,0.9288125,0.768,0.9813125,0.725375,0.938625,0.3946875,0.97525,0.7585,0.7535,0.938625,0.8359375,0.9288125,0.917375,0.7253125,0.97525,0.9288125,0.981375,0.743,0.768,0.725375,0.896,0.6965625,0.60375,0.7430625,0.64,0.7585,0.9813125,0.8106875,0.5573125,0.853375,0.9288125,0.9813125,0.682625,0.896,0.682625,0.9288125,0.64,0.512,0.9386875,0.8106875,0.6501875,0.882375,0.8359375,0.7430625,0.938625,0.896,0.981375,0.768,0.896,0.8106875,0.8359375,0.725375,0.9813125,0.981375,0.9288125,0.6965625,0.9288125,0.810625,0.8359375,0.725375,0.9386875,0.9288125,0.64,0.810625,0.882375,0.64,0.8359375,0.853375,0.725375,0.8359375,0.426625,0.97525,0.9288125,0.682625,0.768,0.981375,0.97525,0.8359375,0.6186875,0.7253125,0.7430625,0.9386875,0.981375,0.725375,0.9386875,0.682625,0.743,0.384,0.981375,0.882375,0.810625,0.981375,0.9288125,0.981375,0.7535,0.992,0.938625,0.9813125,0.810625,0.768,0.981375,0.882375,0.512,0.810625,0.882375,0.64,0.9813125,0.768,0.6826875,0.7430625,0.882375,0.768,0.810625,0.9288125,0.938625,0.6826875,0.896,0.8359375,0.938625,0.9288125,0.9288125,0.5108125,0.650125,0.768,0.896,0.9813125,0.9386875,0.682625,0.853375,0.97525,0.810625,0.853375,0.7894375,0.4693125,0.810625,0.7430625,0.8359375,0.9288125,0.853375,0.768,0.8106875,0.8106875,0.64,0.9288125,0.650125,0.696625,0.8359375,0.896,0.9288125,0.9288125,0.882375,0.7894375,0.554625,0.64,0.743,0.768,0.981375,0.896,0.9386875,0.768,0.9288125,0.75325,0.768,0.64,0.768,0.853375,0.7895,0.7253125,0.896,0.981375,0.7894375,0.6036875,0.882375,0.768,0.7430625,0.8106875,0.8359375,0.9386875,0.896,0.896,0.810625,0.9386875,0.97525,0.97525,0.7895,0.696625,0.981375,0.8533125,0.9386875,0.896,0.9288125,0.882375,0.64,0.696625,0.917375,0.981375,0.882375,0.981375,0.882375,0.7895,0.768,0.896,0.981375,0.9813125,0.896,0.882375,0.8106875,0.64,0.9386875,0.882375,0.7894375,0.8359375,0.60375,0.896,0.6501875,0.725375,0.8359375,0.650125,0.8106875,0.896,0.97525,0.7663125,0.64,0.8359375,0.853375,0.853375,0.981375,0.810625,0.896,0.896,0.8533125,0.97525,0.7253125,0.6965625,0.8533125,0.9288125,0.8359375],\"xaxis\":\"x\",\"yaxis\":\"y\",\"type\":\"histogram\"}],                        {\"template\":{\"data\":{\"histogram2dcontour\":[{\"type\":\"histogram2dcontour\",\"colorbar\":{\"outlinewidth\":0,\"ticks\":\"\"},\"colorscale\":[[0.0,\"#0d0887\"],[0.1111111111111111,\"#46039f\"],[0.2222222222222222,\"#7201a8\"],[0.3333333333333333,\"#9c179e\"],[0.4444444444444444,\"#bd3786\"],[0.5555555555555556,\"#d8576b\"],[0.6666666666666666,\"#ed7953\"],[0.7777777777777778,\"#fb9f3a\"],[0.8888888888888888,\"#fdca26\"],[1.0,\"#f0f921\"]]}],\"choropleth\":[{\"type\":\"choropleth\",\"colorbar\":{\"outlinewidth\":0,\"ticks\":\"\"}}],\"histogram2d\":[{\"type\":\"histogram2d\",\"colorbar\":{\"outlinewidth\":0,\"ticks\":\"\"},\"colorscale\":[[0.0,\"#0d0887\"],[0.1111111111111111,\"#46039f\"],[0.2222222222222222,\"#7201a8\"],[0.3333333333333333,\"#9c179e\"],[0.4444444444444444,\"#bd3786\"],[0.5555555555555556,\"#d8576b\"],[0.6666666666666666,\"#ed7953\"],[0.7777777777777778,\"#fb9f3a\"],[0.8888888888888888,\"#fdca26\"],[1.0,\"#f0f921\"]]}],\"heatmap\":[{\"type\":\"heatmap\",\"colorbar\":{\"outlinewidth\":0,\"ticks\":\"\"},\"colorscale\":[[0.0,\"#0d0887\"],[0.1111111111111111,\"#46039f\"],[0.2222222222222222,\"#7201a8\"],[0.3333333333333333,\"#9c179e\"],[0.4444444444444444,\"#bd3786\"],[0.5555555555555556,\"#d8576b\"],[0.6666666666666666,\"#ed7953\"],[0.7777777777777778,\"#fb9f3a\"],[0.8888888888888888,\"#fdca26\"],[1.0,\"#f0f921\"]]}],\"heatmapgl\":[{\"type\":\"heatmapgl\",\"colorbar\":{\"outlinewidth\":0,\"ticks\":\"\"},\"colorscale\":[[0.0,\"#0d0887\"],[0.1111111111111111,\"#46039f\"],[0.2222222222222222,\"#7201a8\"],[0.3333333333333333,\"#9c179e\"],[0.4444444444444444,\"#bd3786\"],[0.5555555555555556,\"#d8576b\"],[0.6666666666666666,\"#ed7953\"],[0.7777777777777778,\"#fb9f3a\"],[0.8888888888888888,\"#fdca26\"],[1.0,\"#f0f921\"]]}],\"contourcarpet\":[{\"type\":\"contourcarpet\",\"colorbar\":{\"outlinewidth\":0,\"ticks\":\"\"}}],\"contour\":[{\"type\":\"contour\",\"colorbar\":{\"outlinewidth\":0,\"ticks\":\"\"},\"colorscale\":[[0.0,\"#0d0887\"],[0.1111111111111111,\"#46039f\"],[0.2222222222222222,\"#7201a8\"],[0.3333333333333333,\"#9c179e\"],[0.4444444444444444,\"#bd3786\"],[0.5555555555555556,\"#d8576b\"],[0.6666666666666666,\"#ed7953\"],[0.7777777777777778,\"#fb9f3a\"],[0.8888888888888888,\"#fdca26\"],[1.0,\"#f0f921\"]]}],\"surface\":[{\"type\":\"surface\",\"colorbar\":{\"outlinewidth\":0,\"ticks\":\"\"},\"colorscale\":[[0.0,\"#0d0887\"],[0.1111111111111111,\"#46039f\"],[0.2222222222222222,\"#7201a8\"],[0.3333333333333333,\"#9c179e\"],[0.4444444444444444,\"#bd3786\"],[0.5555555555555556,\"#d8576b\"],[0.6666666666666666,\"#ed7953\"],[0.7777777777777778,\"#fb9f3a\"],[0.8888888888888888,\"#fdca26\"],[1.0,\"#f0f921\"]]}],\"mesh3d\":[{\"type\":\"mesh3d\",\"colorbar\":{\"outlinewidth\":0,\"ticks\":\"\"}}],\"scatter\":[{\"fillpattern\":{\"fillmode\":\"overlay\",\"size\":10,\"solidity\":0.2},\"type\":\"scatter\"}],\"parcoords\":[{\"type\":\"parcoords\",\"line\":{\"colorbar\":{\"outlinewidth\":0,\"ticks\":\"\"}}}],\"scatterpolargl\":[{\"type\":\"scatterpolargl\",\"marker\":{\"colorbar\":{\"outlinewidth\":0,\"ticks\":\"\"}}}],\"bar\":[{\"error_x\":{\"color\":\"#2a3f5f\"},\"error_y\":{\"color\":\"#2a3f5f\"},\"marker\":{\"line\":{\"color\":\"#E5ECF6\",\"width\":0.5},\"pattern\":{\"fillmode\":\"overlay\",\"size\":10,\"solidity\":0.2}},\"type\":\"bar\"}],\"scattergeo\":[{\"type\":\"scattergeo\",\"marker\":{\"colorbar\":{\"outlinewidth\":0,\"ticks\":\"\"}}}],\"scatterpolar\":[{\"type\":\"scatterpolar\",\"marker\":{\"colorbar\":{\"outlinewidth\":0,\"ticks\":\"\"}}}],\"histogram\":[{\"marker\":{\"pattern\":{\"fillmode\":\"overlay\",\"size\":10,\"solidity\":0.2}},\"type\":\"histogram\"}],\"scattergl\":[{\"type\":\"scattergl\",\"marker\":{\"colorbar\":{\"outlinewidth\":0,\"ticks\":\"\"}}}],\"scatter3d\":[{\"type\":\"scatter3d\",\"line\":{\"colorbar\":{\"outlinewidth\":0,\"ticks\":\"\"}},\"marker\":{\"colorbar\":{\"outlinewidth\":0,\"ticks\":\"\"}}}],\"scattermapbox\":[{\"type\":\"scattermapbox\",\"marker\":{\"colorbar\":{\"outlinewidth\":0,\"ticks\":\"\"}}}],\"scatterternary\":[{\"type\":\"scatterternary\",\"marker\":{\"colorbar\":{\"outlinewidth\":0,\"ticks\":\"\"}}}],\"scattercarpet\":[{\"type\":\"scattercarpet\",\"marker\":{\"colorbar\":{\"outlinewidth\":0,\"ticks\":\"\"}}}],\"carpet\":[{\"aaxis\":{\"endlinecolor\":\"#2a3f5f\",\"gridcolor\":\"white\",\"linecolor\":\"white\",\"minorgridcolor\":\"white\",\"startlinecolor\":\"#2a3f5f\"},\"baxis\":{\"endlinecolor\":\"#2a3f5f\",\"gridcolor\":\"white\",\"linecolor\":\"white\",\"minorgridcolor\":\"white\",\"startlinecolor\":\"#2a3f5f\"},\"type\":\"carpet\"}],\"table\":[{\"cells\":{\"fill\":{\"color\":\"#EBF0F8\"},\"line\":{\"color\":\"white\"}},\"header\":{\"fill\":{\"color\":\"#C8D4E3\"},\"line\":{\"color\":\"white\"}},\"type\":\"table\"}],\"barpolar\":[{\"marker\":{\"line\":{\"color\":\"#E5ECF6\",\"width\":0.5},\"pattern\":{\"fillmode\":\"overlay\",\"size\":10,\"solidity\":0.2}},\"type\":\"barpolar\"}],\"pie\":[{\"automargin\":true,\"type\":\"pie\"}]},\"layout\":{\"autotypenumbers\":\"strict\",\"colorway\":[\"#636efa\",\"#EF553B\",\"#00cc96\",\"#ab63fa\",\"#FFA15A\",\"#19d3f3\",\"#FF6692\",\"#B6E880\",\"#FF97FF\",\"#FECB52\"],\"font\":{\"color\":\"#2a3f5f\"},\"hovermode\":\"closest\",\"hoverlabel\":{\"align\":\"left\"},\"paper_bgcolor\":\"white\",\"plot_bgcolor\":\"#E5ECF6\",\"polar\":{\"bgcolor\":\"#E5ECF6\",\"angularaxis\":{\"gridcolor\":\"white\",\"linecolor\":\"white\",\"ticks\":\"\"},\"radialaxis\":{\"gridcolor\":\"white\",\"linecolor\":\"white\",\"ticks\":\"\"}},\"ternary\":{\"bgcolor\":\"#E5ECF6\",\"aaxis\":{\"gridcolor\":\"white\",\"linecolor\":\"white\",\"ticks\":\"\"},\"baxis\":{\"gridcolor\":\"white\",\"linecolor\":\"white\",\"ticks\":\"\"},\"caxis\":{\"gridcolor\":\"white\",\"linecolor\":\"white\",\"ticks\":\"\"}},\"coloraxis\":{\"colorbar\":{\"outlinewidth\":0,\"ticks\":\"\"}},\"colorscale\":{\"sequential\":[[0.0,\"#0d0887\"],[0.1111111111111111,\"#46039f\"],[0.2222222222222222,\"#7201a8\"],[0.3333333333333333,\"#9c179e\"],[0.4444444444444444,\"#bd3786\"],[0.5555555555555556,\"#d8576b\"],[0.6666666666666666,\"#ed7953\"],[0.7777777777777778,\"#fb9f3a\"],[0.8888888888888888,\"#fdca26\"],[1.0,\"#f0f921\"]],\"sequentialminus\":[[0.0,\"#0d0887\"],[0.1111111111111111,\"#46039f\"],[0.2222222222222222,\"#7201a8\"],[0.3333333333333333,\"#9c179e\"],[0.4444444444444444,\"#bd3786\"],[0.5555555555555556,\"#d8576b\"],[0.6666666666666666,\"#ed7953\"],[0.7777777777777778,\"#fb9f3a\"],[0.8888888888888888,\"#fdca26\"],[1.0,\"#f0f921\"]],\"diverging\":[[0,\"#8e0152\"],[0.1,\"#c51b7d\"],[0.2,\"#de77ae\"],[0.3,\"#f1b6da\"],[0.4,\"#fde0ef\"],[0.5,\"#f7f7f7\"],[0.6,\"#e6f5d0\"],[0.7,\"#b8e186\"],[0.8,\"#7fbc41\"],[0.9,\"#4d9221\"],[1,\"#276419\"]]},\"xaxis\":{\"gridcolor\":\"white\",\"linecolor\":\"white\",\"ticks\":\"\",\"title\":{\"standoff\":15},\"zerolinecolor\":\"white\",\"automargin\":true,\"zerolinewidth\":2},\"yaxis\":{\"gridcolor\":\"white\",\"linecolor\":\"white\",\"ticks\":\"\",\"title\":{\"standoff\":15},\"zerolinecolor\":\"white\",\"automargin\":true,\"zerolinewidth\":2},\"scene\":{\"xaxis\":{\"backgroundcolor\":\"#E5ECF6\",\"gridcolor\":\"white\",\"linecolor\":\"white\",\"showbackground\":true,\"ticks\":\"\",\"zerolinecolor\":\"white\",\"gridwidth\":2},\"yaxis\":{\"backgroundcolor\":\"#E5ECF6\",\"gridcolor\":\"white\",\"linecolor\":\"white\",\"showbackground\":true,\"ticks\":\"\",\"zerolinecolor\":\"white\",\"gridwidth\":2},\"zaxis\":{\"backgroundcolor\":\"#E5ECF6\",\"gridcolor\":\"white\",\"linecolor\":\"white\",\"showbackground\":true,\"ticks\":\"\",\"zerolinecolor\":\"white\",\"gridwidth\":2}},\"shapedefaults\":{\"line\":{\"color\":\"#2a3f5f\"}},\"annotationdefaults\":{\"arrowcolor\":\"#2a3f5f\",\"arrowhead\":0,\"arrowwidth\":1},\"geo\":{\"bgcolor\":\"white\",\"landcolor\":\"#E5ECF6\",\"subunitcolor\":\"white\",\"showland\":true,\"showlakes\":true,\"lakecolor\":\"white\"},\"title\":{\"x\":0.05},\"mapbox\":{\"style\":\"light\"}}},\"xaxis\":{\"anchor\":\"y\",\"domain\":[0.0,1.0],\"title\":{\"text\":\"value\"}},\"yaxis\":{\"anchor\":\"x\",\"domain\":[0.0,1.0],\"title\":{\"text\":\"count\"}},\"legend\":{\"title\":{\"text\":\"variable\"},\"tracegroupgap\":0},\"margin\":{\"t\":60},\"barmode\":\"relative\"},                        {\"responsive\": true}                    ).then(function(){\n",
              "                            \n",
              "var gd = document.getElementById('023822b2-f4cb-4c56-a1da-b46c870716d4');\n",
              "var x = new MutationObserver(function (mutations, observer) {{\n",
              "        var display = window.getComputedStyle(gd).display;\n",
              "        if (!display || display === 'none') {{\n",
              "            console.log([gd, 'removed!']);\n",
              "            Plotly.purge(gd);\n",
              "            observer.disconnect();\n",
              "        }}\n",
              "}});\n",
              "\n",
              "// Listen for the removal of the full notebook cells\n",
              "var notebookContainer = gd.closest('#notebook-container');\n",
              "if (notebookContainer) {{\n",
              "    x.observe(notebookContainer, {childList: true});\n",
              "}}\n",
              "\n",
              "// Listen for the clearing of the current output cell\n",
              "var outputEl = gd.closest('.output');\n",
              "if (outputEl) {{\n",
              "    x.observe(outputEl, {childList: true});\n",
              "}}\n",
              "\n",
              "                        })                };                            </script>        </div>\n",
              "</body>\n",
              "</html>"
            ]
          },
          "metadata": {}
        }
      ]
    },
    {
      "cell_type": "code",
      "source": [
        "len(dur_train[dur_train == 1.0])"
      ],
      "metadata": {
        "colab": {
          "base_uri": "https://localhost:8080/"
        },
        "id": "Pf4Rty3_j8y0",
        "outputId": "22259800-b636-4047-c92d-d4a78b0e84e4"
      },
      "execution_count": null,
      "outputs": [
        {
          "output_type": "execute_result",
          "data": {
            "text/plain": [
              "76364"
            ]
          },
          "metadata": {},
          "execution_count": 20
        }
      ]
    },
    {
      "cell_type": "code",
      "source": [
        "len(dur_train)"
      ],
      "metadata": {
        "colab": {
          "base_uri": "https://localhost:8080/"
        },
        "id": "mTbJzPMoBUGc",
        "outputId": "64bfe6a3-4aee-4517-ef12-823f13782524"
      },
      "execution_count": null,
      "outputs": [
        {
          "output_type": "execute_result",
          "data": {
            "text/plain": [
              "84848"
            ]
          },
          "metadata": {},
          "execution_count": 21
        }
      ]
    },
    {
      "cell_type": "markdown",
      "source": [
        "## Валидационная выборка"
      ],
      "metadata": {
        "id": "Cda4OMzn2JIV"
      }
    },
    {
      "cell_type": "code",
      "source": [
        "mean_dur_dev, dur_dev, big_data_dev, small_data_dev = get_mean('/content/dev/')"
      ],
      "metadata": {
        "id": "JZLApEpN-cf3"
      },
      "execution_count": null,
      "outputs": []
    },
    {
      "cell_type": "code",
      "source": [
        "mean_dur_dev"
      ],
      "metadata": {
        "colab": {
          "base_uri": "https://localhost:8080/"
        },
        "id": "FoS0ok9t5IZu",
        "outputId": "b6f6dd1e-27bd-48bb-92b5-0c383bbd1cfa"
      },
      "execution_count": null,
      "outputs": [
        {
          "output_type": "execute_result",
          "data": {
            "text/plain": [
              "0.9866153200761372"
            ]
          },
          "metadata": {},
          "execution_count": 23
        }
      ]
    },
    {
      "cell_type": "code",
      "source": [
        "fig = px.histogram(pd.DataFrame(dur_dev[dur_dev < 1.0]), nbins=10)\n",
        "fig.show()"
      ],
      "metadata": {
        "colab": {
          "base_uri": "https://localhost:8080/",
          "height": 562
        },
        "id": "g7BkhPWpVU4f",
        "outputId": "1ad3550e-bfbb-4e5e-d061-4e81b1b0c3b1"
      },
      "execution_count": null,
      "outputs": [
        {
          "output_type": "display_data",
          "data": {
            "text/html": [
              "<html>\n",
              "<head><meta charset=\"utf-8\" /></head>\n",
              "<body>\n",
              "    <div>            <script src=\"https://cdnjs.cloudflare.com/ajax/libs/mathjax/2.7.5/MathJax.js?config=TeX-AMS-MML_SVG\"></script><script type=\"text/javascript\">if (window.MathJax && window.MathJax.Hub && window.MathJax.Hub.Config) {window.MathJax.Hub.Config({SVG: {font: \"STIX-Web\"}});}</script>                <script type=\"text/javascript\">window.PlotlyConfig = {MathJaxConfig: 'local'};</script>\n",
              "        <script src=\"https://cdn.plot.ly/plotly-2.18.2.min.js\"></script>                <div id=\"786bef45-47f3-4159-8645-f200ad99ff36\" class=\"plotly-graph-div\" style=\"height:525px; width:100%;\"></div>            <script type=\"text/javascript\">                                    window.PLOTLYENV=window.PLOTLYENV || {};                                    if (document.getElementById(\"786bef45-47f3-4159-8645-f200ad99ff36\")) {                    Plotly.newPlot(                        \"786bef45-47f3-4159-8645-f200ad99ff36\",                        [{\"alignmentgroup\":\"True\",\"bingroup\":\"x\",\"hovertemplate\":\"variable=0<br>value=%{x}<br>count=%{y}<extra></extra>\",\"legendgroup\":\"0\",\"marker\":{\"color\":\"#636efa\",\"pattern\":{\"shape\":\"\"}},\"name\":\"0\",\"nbinsx\":10,\"offsetgroup\":\"0\",\"orientation\":\"v\",\"showlegend\":true,\"x\":[0.896,0.768,0.810625,0.8533125,0.4693125,0.938625,0.64,0.682625,0.7253125,0.650125,0.8359375,0.9288125,0.8106875,0.810625,0.9288125,0.938625,0.9288125,0.725375,0.938625,0.7430625,0.55725,0.9813125,0.96,0.7895,0.7253125,0.768,0.682625,0.554625,0.7895,0.650125,0.5973125,0.9813125,0.7430625,0.9386875,0.938625,0.896,0.9288125,0.554625,0.725375,0.9386875,0.981375,0.768,0.8106875,0.512,0.6965625,0.743,0.97525,0.882375,0.981375,0.64,0.9386875,0.682625,0.8106875,0.9813125,0.97525,0.597375,0.768,0.832,0.8359375,0.8533125,0.768,0.9288125,0.882375,0.5546875,0.9386875,0.7253125,0.9288125,0.882375,0.810625,0.882375,0.7895,0.696625,0.768,0.4266875,0.9288125,0.981375,0.97525,0.882375,0.9288125,0.981375,0.64,0.789375,0.981375,0.768,0.8533125,0.7895,0.7895,0.426625,0.7430625,0.853375,0.853375,0.682625,0.981375,0.896,0.882375,0.7895,0.64,0.97525,0.768,0.6826875,0.9288125,0.9386875,0.64,0.768,0.9813125,0.9386875,0.97525,0.768,0.7253125,0.789375,0.8359375,0.9813125,0.55725,0.896,0.882375,0.6826875,0.9288125,0.8359375,0.4693125,0.696625,0.6501875,0.7895,0.554625,0.938625,0.981375,0.7430625,0.9386875,0.896,0.6965625,0.7430625,0.554625,0.768,0.9386875,0.97525,0.6501875,0.896,0.768,0.9813125,0.9386875,0.981375,0.60375,0.810625,0.7894375,0.882375,0.768,0.810625,0.810625,0.650125,0.9288125,0.896,0.810625,0.896,0.6826875,0.8533125,0.768,0.512,0.9386875,0.8106875,0.8533125,0.9288125,0.725375,0.882375,0.4693125,0.512,0.981375,0.9386875,0.8359375,0.882375,0.682625,0.9288125,0.9288125,0.9386875,0.9813125,0.64,0.6826875,0.8106875,0.981375,0.981375,0.768,0.981375,0.8359375,0.725375,0.6036875,0.9288125,0.9386875,0.7430625,0.981375,0.7895,0.981375,0.7430625,0.650125,0.5973125,0.896,0.682625,0.853375,0.650125,0.882375,0.896,0.725375,0.981375,0.9288125,0.650125,0.896,0.981375,0.5108125,0.853375,0.64,0.8106875,0.896,0.5546875,0.9813125,0.8359375,0.853375,0.6826875,0.8359375,0.8359375,0.64,0.725375,0.8359375,0.7895,0.64,0.64,0.9386875,0.810625,0.981375,0.9288125,0.768,0.981375,0.7894375,0.682625,0.853375,0.8359375,0.882375,0.9288125,0.7894375,0.7253125,0.8106875,0.981375,0.650125,0.650125,0.7430625,0.8106875,0.7430625,0.896,0.64,0.97525,0.981375,0.7895,0.938625,0.9288125,0.810625,0.9288125,0.882375,0.554625,0.768,0.810625,0.896,0.743,0.7253125,0.8106875,0.97525,0.682625,0.882375,0.9288125,0.7895,0.9288125,0.810625,0.725375,0.6965625,0.853375,0.9288125,0.7895,0.810625,0.8359375,0.8533125,0.469375,0.9288125,0.8359375,0.896,0.97525,0.768,0.8359375,0.8359375,0.5973125,0.8533125,0.896,0.8359375,0.938625,0.97525,0.650125,0.9288125,0.9386875,0.696625,0.8106875,0.9288125,0.512,0.6965625,0.981375,0.6826875,0.554625,0.810625,0.789375,0.696625,0.768,0.8106875,0.882375,0.981375,0.7253125,0.4693125,0.768,0.696625,0.896,0.896,0.853375,0.853375,0.554625,0.64,0.768,0.981375,0.554625,0.682625,0.768,0.810625,0.896,0.384,0.7895,0.853375,0.597375,0.882375,0.853375,0.9813125,0.896,0.9386875,0.896,0.853375,0.810625,0.8106875,0.9288125,0.682625,0.8106875,0.7895,0.896,0.5973125,0.810625,0.882375,0.9386875,0.650125,0.5973125,0.682625,0.6501875,0.554625,0.75325,0.896,0.9288125,0.8533125,0.9386875,0.97525,0.8106875,0.853375,0.9288125,0.743,0.8359375,0.9288125,0.981375,0.8106875,0.9288125,0.650125,0.9386875,0.55725,0.938625,0.896,0.682625,0.5546875,0.981375,0.8533125,0.9386875,0.882375,0.810625,0.9288125,0.9386875,0.981375,0.725375,0.981375,0.9813125,0.7466875,0.97525,0.9386875,0.853375,0.981375,0.882375,0.650125,0.8359375,0.768,0.9288125,0.7895,0.938625,0.554625,0.5973125,0.8359375,0.981375,0.6965625,0.896,0.9386875,0.426625,0.9813125,0.9813125,0.97525,0.9813125,0.810625,0.682625,0.725375,0.743,0.8359375,0.97525,0.7430625,0.7253125,0.7466875,0.8359375,0.882375,0.8359375,0.981375,0.97525,0.7895,0.938625,0.426625,0.882375,0.981375,0.9288125,0.8359375,0.9813125,0.896,0.4693125,0.810625,0.8359375,0.7895,0.9288125,0.8359375,0.896,0.9288125,0.896,0.97525,0.9813125,0.882375,0.696625,0.97525,0.810625,0.882375,0.426625,0.9386875,0.682625,0.8533125,0.981375,0.896,0.768,0.7894375,0.882375,0.882375,0.981375,0.768,0.9386875,0.650125,0.7895,0.512,0.896,0.9813125,0.64,0.853375,0.7430625,0.896,0.725375,0.8533125,0.8106875,0.768,0.8359375,0.7430625,0.9813125,0.8533125,0.384,0.9386875,0.896,0.896,0.97525,0.9288125,0.768,0.8533125,0.981375,0.882375,0.8533125,0.97525,0.896,0.9386875,0.882375,0.9288125,0.97525,0.896,0.725375,0.7895,0.6036875,0.8106875,0.896,0.9813125,0.7895,0.64,0.768,0.9288125,0.9288125,0.75825,0.7895,0.5973125,0.8533125,0.810625,0.882375,0.768,0.97525,0.9386875,0.9288125,0.97525,0.7894375,0.9386875,0.768,0.896,0.64,0.743,0.9288125,0.743,0.725375,0.981375,0.696625,0.97525,0.64,0.4266875,0.5108125,0.5546875,0.9288125,0.938625,0.55725,0.7895,0.512,0.97525,0.725375,0.938625,0.7895,0.7895,0.97525,0.9386875,0.981375,0.896,0.768,0.7894375,0.7895,0.768,0.8106875,0.896,0.5973125,0.55725,0.6036875,0.8533125,0.743,0.5973125,0.938625,0.938625,0.882375,0.4693125,0.938625,0.768,0.6036875,0.8533125,0.696625,0.64,0.5546875,0.512,0.768,0.55725,0.882375,0.7253125,0.981375,0.97525,0.9386875,0.97525,0.810625,0.7895,0.426625,0.97525,0.981375,0.6501875,0.75825,0.768,0.938625,0.7895,0.650125,0.4693125,0.64,0.9386875,0.650125,0.981375,0.97525,0.97525,0.97525,0.981375,0.6036875,0.8106875,0.7430625,0.9288125,0.725375,0.981375,0.5973125,0.8359375,0.6965625,0.882375,0.9288125,0.8106875,0.7430625,0.8533125,0.725375,0.853375,0.896,0.5973125,0.725375,0.6036875,0.743,0.650125,0.8106875,0.9386875,0.853375,0.981375,0.768,0.9386875,0.743,0.64,0.97525,0.981375,0.384,0.882375,0.9386875,0.682625,0.9813125,0.6036875,0.938625,0.981375,0.896,0.853375,0.9288125,0.7253125,0.9386875,0.5546875,0.882375,0.55725,0.7895,0.9288125,0.725375,0.97525,0.9288125,0.981375,0.768,0.768,0.7895,0.853375,0.6826875,0.789375,0.6036875,0.7253125,0.8106875,0.768,0.9288125,0.7895,0.60375,0.696625,0.7430625,0.8359375,0.9813125,0.8359375,0.8359375,0.810625,0.896,0.696625,0.981375,0.9386875,0.6965625,0.682625,0.853375,0.882375,0.9386875,0.64,0.8359375,0.810625,0.853375,0.896,0.9288125,0.8359375,0.9288125,0.896,0.981375,0.896,0.97525,0.725375,0.512,0.650125,0.896,0.9386875,0.8106875,0.725375,0.9813125,0.725375,0.938625,0.8746875,0.8106875,0.882375,0.97525,0.64,0.97525,0.75825,0.4693125,0.9288125,0.9386875,0.8359375,0.7253125,0.9386875,0.9386875,0.7253125,0.810625,0.896,0.9288125,0.9288125,0.9288125,0.768,0.9813125,0.6036875,0.725375,0.9386875,0.9386875,0.597375,0.853375,0.768,0.853375,0.9813125,0.810625,0.882375,0.8359375,0.896,0.7895,0.9288125,0.5546875,0.896,0.9288125,0.938625,0.512,0.9288125,0.8359375,0.64,0.7253125,0.9386875,0.97525,0.768,0.650125,0.9288125,0.8359375,0.512,0.8533125,0.768,0.64,0.7894375,0.743,0.832,0.981375,0.981375,0.5546875,0.9288125,0.97525,0.8359375,0.832,0.97525,0.55725,0.810625,0.768,0.9386875,0.97525,0.8359375,0.8359375,0.882375,0.7430625,0.97525,0.810625,0.9813125,0.682625,0.896,0.768,0.8533125,0.882375,0.810625,0.5546875,0.8533125,0.650125,0.853375,0.469375,0.882375,0.725375,0.981375,0.8106875,0.97525,0.896,0.5546875,0.7895,0.896,0.882375,0.882375,0.7430625,0.768,0.97525,0.554625,0.97525,0.9386875,0.682625,0.9288125,0.6826875,0.8359375,0.554625,0.7895,0.597375,0.896,0.7430625,0.853375,0.9288125,0.768,0.6826875,0.97525,0.896,0.896,0.9813125,0.9288125,0.853375,0.896,0.97525,0.97525,0.882375,0.8533125,0.9386875,0.7895,0.853375,0.7895,0.5973125,0.9386875,0.725375,0.9288125,0.97525,0.8533125,0.6826875,0.9813125,0.8106875,0.9386875,0.896,0.981375,0.9288125,0.512,0.896,0.896,0.896,0.650125,0.8533125,0.768,0.938625,0.3413125,0.682625,0.5973125,0.512,0.882375,0.768,0.6036875,0.896,0.882375,0.8359375,0.938625,0.981375,0.696625,0.8106875,0.7253125,0.6826875,0.682625,0.9288125,0.97525,0.97525,0.7430625,0.426625,0.8359375,0.725375,0.981375,0.9288125,0.9386875,0.7895,0.896,0.896,0.981375,0.882375,0.3413125,0.9813125,0.725375,0.882375,0.938625,0.853375,0.896,0.882375,0.7430625,0.9386875,0.7253125,0.8106875,0.5973125,0.768,0.896,0.55725,0.810625,0.8533125,0.97525,0.938625,0.938625,0.9813125,0.810625,0.768,0.8359375,0.882375,0.768,0.682625,0.7894375,0.9813125,0.9813125,0.8533125,0.768,0.682625,0.6965625,0.768,0.97525,0.6965625,0.9288125,0.97525,0.97525,0.5973125,0.5973125,0.768,0.896,0.650125,0.512,0.64,0.597375,0.7430625,0.882375,0.8359375,0.7253125,0.97525,0.650125,0.696625,0.4693125,0.882375,0.6036875,0.682625,0.768,0.7895,0.682625,0.597375,0.9386875,0.97525,0.896,0.8359375,0.9813125,0.512,0.682625,0.981375,0.725375,0.7894375,0.743,0.853375,0.896,0.9386875,0.512,0.896,0.682625,0.896,0.981375,0.597375,0.6826875,0.981375,0.882375,0.97525,0.9288125,0.9813125,0.981375,0.97525,0.5973125,0.810625,0.9386875,0.853375,0.8359375,0.896,0.7895,0.981375,0.882375,0.8106875,0.97525,0.64,0.9288125,0.5546875,0.882375,0.789375,0.981375,0.9813125,0.981375,0.853375,0.55725,0.9813125,0.882375,0.896,0.725375,0.9288125,0.597375,0.8533125,0.768,0.7895,0.9288125,0.882375,0.8533125,0.512,0.882375,0.554625,0.896,0.981375,0.7253125,0.97525,0.882375,0.9288125,0.554625,0.97525,0.384,0.97525,0.64,0.8106875,0.6826875,0.9288125],\"xaxis\":\"x\",\"yaxis\":\"y\",\"type\":\"histogram\"}],                        {\"template\":{\"data\":{\"histogram2dcontour\":[{\"type\":\"histogram2dcontour\",\"colorbar\":{\"outlinewidth\":0,\"ticks\":\"\"},\"colorscale\":[[0.0,\"#0d0887\"],[0.1111111111111111,\"#46039f\"],[0.2222222222222222,\"#7201a8\"],[0.3333333333333333,\"#9c179e\"],[0.4444444444444444,\"#bd3786\"],[0.5555555555555556,\"#d8576b\"],[0.6666666666666666,\"#ed7953\"],[0.7777777777777778,\"#fb9f3a\"],[0.8888888888888888,\"#fdca26\"],[1.0,\"#f0f921\"]]}],\"choropleth\":[{\"type\":\"choropleth\",\"colorbar\":{\"outlinewidth\":0,\"ticks\":\"\"}}],\"histogram2d\":[{\"type\":\"histogram2d\",\"colorbar\":{\"outlinewidth\":0,\"ticks\":\"\"},\"colorscale\":[[0.0,\"#0d0887\"],[0.1111111111111111,\"#46039f\"],[0.2222222222222222,\"#7201a8\"],[0.3333333333333333,\"#9c179e\"],[0.4444444444444444,\"#bd3786\"],[0.5555555555555556,\"#d8576b\"],[0.6666666666666666,\"#ed7953\"],[0.7777777777777778,\"#fb9f3a\"],[0.8888888888888888,\"#fdca26\"],[1.0,\"#f0f921\"]]}],\"heatmap\":[{\"type\":\"heatmap\",\"colorbar\":{\"outlinewidth\":0,\"ticks\":\"\"},\"colorscale\":[[0.0,\"#0d0887\"],[0.1111111111111111,\"#46039f\"],[0.2222222222222222,\"#7201a8\"],[0.3333333333333333,\"#9c179e\"],[0.4444444444444444,\"#bd3786\"],[0.5555555555555556,\"#d8576b\"],[0.6666666666666666,\"#ed7953\"],[0.7777777777777778,\"#fb9f3a\"],[0.8888888888888888,\"#fdca26\"],[1.0,\"#f0f921\"]]}],\"heatmapgl\":[{\"type\":\"heatmapgl\",\"colorbar\":{\"outlinewidth\":0,\"ticks\":\"\"},\"colorscale\":[[0.0,\"#0d0887\"],[0.1111111111111111,\"#46039f\"],[0.2222222222222222,\"#7201a8\"],[0.3333333333333333,\"#9c179e\"],[0.4444444444444444,\"#bd3786\"],[0.5555555555555556,\"#d8576b\"],[0.6666666666666666,\"#ed7953\"],[0.7777777777777778,\"#fb9f3a\"],[0.8888888888888888,\"#fdca26\"],[1.0,\"#f0f921\"]]}],\"contourcarpet\":[{\"type\":\"contourcarpet\",\"colorbar\":{\"outlinewidth\":0,\"ticks\":\"\"}}],\"contour\":[{\"type\":\"contour\",\"colorbar\":{\"outlinewidth\":0,\"ticks\":\"\"},\"colorscale\":[[0.0,\"#0d0887\"],[0.1111111111111111,\"#46039f\"],[0.2222222222222222,\"#7201a8\"],[0.3333333333333333,\"#9c179e\"],[0.4444444444444444,\"#bd3786\"],[0.5555555555555556,\"#d8576b\"],[0.6666666666666666,\"#ed7953\"],[0.7777777777777778,\"#fb9f3a\"],[0.8888888888888888,\"#fdca26\"],[1.0,\"#f0f921\"]]}],\"surface\":[{\"type\":\"surface\",\"colorbar\":{\"outlinewidth\":0,\"ticks\":\"\"},\"colorscale\":[[0.0,\"#0d0887\"],[0.1111111111111111,\"#46039f\"],[0.2222222222222222,\"#7201a8\"],[0.3333333333333333,\"#9c179e\"],[0.4444444444444444,\"#bd3786\"],[0.5555555555555556,\"#d8576b\"],[0.6666666666666666,\"#ed7953\"],[0.7777777777777778,\"#fb9f3a\"],[0.8888888888888888,\"#fdca26\"],[1.0,\"#f0f921\"]]}],\"mesh3d\":[{\"type\":\"mesh3d\",\"colorbar\":{\"outlinewidth\":0,\"ticks\":\"\"}}],\"scatter\":[{\"fillpattern\":{\"fillmode\":\"overlay\",\"size\":10,\"solidity\":0.2},\"type\":\"scatter\"}],\"parcoords\":[{\"type\":\"parcoords\",\"line\":{\"colorbar\":{\"outlinewidth\":0,\"ticks\":\"\"}}}],\"scatterpolargl\":[{\"type\":\"scatterpolargl\",\"marker\":{\"colorbar\":{\"outlinewidth\":0,\"ticks\":\"\"}}}],\"bar\":[{\"error_x\":{\"color\":\"#2a3f5f\"},\"error_y\":{\"color\":\"#2a3f5f\"},\"marker\":{\"line\":{\"color\":\"#E5ECF6\",\"width\":0.5},\"pattern\":{\"fillmode\":\"overlay\",\"size\":10,\"solidity\":0.2}},\"type\":\"bar\"}],\"scattergeo\":[{\"type\":\"scattergeo\",\"marker\":{\"colorbar\":{\"outlinewidth\":0,\"ticks\":\"\"}}}],\"scatterpolar\":[{\"type\":\"scatterpolar\",\"marker\":{\"colorbar\":{\"outlinewidth\":0,\"ticks\":\"\"}}}],\"histogram\":[{\"marker\":{\"pattern\":{\"fillmode\":\"overlay\",\"size\":10,\"solidity\":0.2}},\"type\":\"histogram\"}],\"scattergl\":[{\"type\":\"scattergl\",\"marker\":{\"colorbar\":{\"outlinewidth\":0,\"ticks\":\"\"}}}],\"scatter3d\":[{\"type\":\"scatter3d\",\"line\":{\"colorbar\":{\"outlinewidth\":0,\"ticks\":\"\"}},\"marker\":{\"colorbar\":{\"outlinewidth\":0,\"ticks\":\"\"}}}],\"scattermapbox\":[{\"type\":\"scattermapbox\",\"marker\":{\"colorbar\":{\"outlinewidth\":0,\"ticks\":\"\"}}}],\"scatterternary\":[{\"type\":\"scatterternary\",\"marker\":{\"colorbar\":{\"outlinewidth\":0,\"ticks\":\"\"}}}],\"scattercarpet\":[{\"type\":\"scattercarpet\",\"marker\":{\"colorbar\":{\"outlinewidth\":0,\"ticks\":\"\"}}}],\"carpet\":[{\"aaxis\":{\"endlinecolor\":\"#2a3f5f\",\"gridcolor\":\"white\",\"linecolor\":\"white\",\"minorgridcolor\":\"white\",\"startlinecolor\":\"#2a3f5f\"},\"baxis\":{\"endlinecolor\":\"#2a3f5f\",\"gridcolor\":\"white\",\"linecolor\":\"white\",\"minorgridcolor\":\"white\",\"startlinecolor\":\"#2a3f5f\"},\"type\":\"carpet\"}],\"table\":[{\"cells\":{\"fill\":{\"color\":\"#EBF0F8\"},\"line\":{\"color\":\"white\"}},\"header\":{\"fill\":{\"color\":\"#C8D4E3\"},\"line\":{\"color\":\"white\"}},\"type\":\"table\"}],\"barpolar\":[{\"marker\":{\"line\":{\"color\":\"#E5ECF6\",\"width\":0.5},\"pattern\":{\"fillmode\":\"overlay\",\"size\":10,\"solidity\":0.2}},\"type\":\"barpolar\"}],\"pie\":[{\"automargin\":true,\"type\":\"pie\"}]},\"layout\":{\"autotypenumbers\":\"strict\",\"colorway\":[\"#636efa\",\"#EF553B\",\"#00cc96\",\"#ab63fa\",\"#FFA15A\",\"#19d3f3\",\"#FF6692\",\"#B6E880\",\"#FF97FF\",\"#FECB52\"],\"font\":{\"color\":\"#2a3f5f\"},\"hovermode\":\"closest\",\"hoverlabel\":{\"align\":\"left\"},\"paper_bgcolor\":\"white\",\"plot_bgcolor\":\"#E5ECF6\",\"polar\":{\"bgcolor\":\"#E5ECF6\",\"angularaxis\":{\"gridcolor\":\"white\",\"linecolor\":\"white\",\"ticks\":\"\"},\"radialaxis\":{\"gridcolor\":\"white\",\"linecolor\":\"white\",\"ticks\":\"\"}},\"ternary\":{\"bgcolor\":\"#E5ECF6\",\"aaxis\":{\"gridcolor\":\"white\",\"linecolor\":\"white\",\"ticks\":\"\"},\"baxis\":{\"gridcolor\":\"white\",\"linecolor\":\"white\",\"ticks\":\"\"},\"caxis\":{\"gridcolor\":\"white\",\"linecolor\":\"white\",\"ticks\":\"\"}},\"coloraxis\":{\"colorbar\":{\"outlinewidth\":0,\"ticks\":\"\"}},\"colorscale\":{\"sequential\":[[0.0,\"#0d0887\"],[0.1111111111111111,\"#46039f\"],[0.2222222222222222,\"#7201a8\"],[0.3333333333333333,\"#9c179e\"],[0.4444444444444444,\"#bd3786\"],[0.5555555555555556,\"#d8576b\"],[0.6666666666666666,\"#ed7953\"],[0.7777777777777778,\"#fb9f3a\"],[0.8888888888888888,\"#fdca26\"],[1.0,\"#f0f921\"]],\"sequentialminus\":[[0.0,\"#0d0887\"],[0.1111111111111111,\"#46039f\"],[0.2222222222222222,\"#7201a8\"],[0.3333333333333333,\"#9c179e\"],[0.4444444444444444,\"#bd3786\"],[0.5555555555555556,\"#d8576b\"],[0.6666666666666666,\"#ed7953\"],[0.7777777777777778,\"#fb9f3a\"],[0.8888888888888888,\"#fdca26\"],[1.0,\"#f0f921\"]],\"diverging\":[[0,\"#8e0152\"],[0.1,\"#c51b7d\"],[0.2,\"#de77ae\"],[0.3,\"#f1b6da\"],[0.4,\"#fde0ef\"],[0.5,\"#f7f7f7\"],[0.6,\"#e6f5d0\"],[0.7,\"#b8e186\"],[0.8,\"#7fbc41\"],[0.9,\"#4d9221\"],[1,\"#276419\"]]},\"xaxis\":{\"gridcolor\":\"white\",\"linecolor\":\"white\",\"ticks\":\"\",\"title\":{\"standoff\":15},\"zerolinecolor\":\"white\",\"automargin\":true,\"zerolinewidth\":2},\"yaxis\":{\"gridcolor\":\"white\",\"linecolor\":\"white\",\"ticks\":\"\",\"title\":{\"standoff\":15},\"zerolinecolor\":\"white\",\"automargin\":true,\"zerolinewidth\":2},\"scene\":{\"xaxis\":{\"backgroundcolor\":\"#E5ECF6\",\"gridcolor\":\"white\",\"linecolor\":\"white\",\"showbackground\":true,\"ticks\":\"\",\"zerolinecolor\":\"white\",\"gridwidth\":2},\"yaxis\":{\"backgroundcolor\":\"#E5ECF6\",\"gridcolor\":\"white\",\"linecolor\":\"white\",\"showbackground\":true,\"ticks\":\"\",\"zerolinecolor\":\"white\",\"gridwidth\":2},\"zaxis\":{\"backgroundcolor\":\"#E5ECF6\",\"gridcolor\":\"white\",\"linecolor\":\"white\",\"showbackground\":true,\"ticks\":\"\",\"zerolinecolor\":\"white\",\"gridwidth\":2}},\"shapedefaults\":{\"line\":{\"color\":\"#2a3f5f\"}},\"annotationdefaults\":{\"arrowcolor\":\"#2a3f5f\",\"arrowhead\":0,\"arrowwidth\":1},\"geo\":{\"bgcolor\":\"white\",\"landcolor\":\"#E5ECF6\",\"subunitcolor\":\"white\",\"showland\":true,\"showlakes\":true,\"lakecolor\":\"white\"},\"title\":{\"x\":0.05},\"mapbox\":{\"style\":\"light\"}}},\"xaxis\":{\"anchor\":\"y\",\"domain\":[0.0,1.0],\"title\":{\"text\":\"value\"}},\"yaxis\":{\"anchor\":\"x\",\"domain\":[0.0,1.0],\"title\":{\"text\":\"count\"}},\"legend\":{\"title\":{\"text\":\"variable\"},\"tracegroupgap\":0},\"margin\":{\"t\":60},\"barmode\":\"relative\"},                        {\"responsive\": true}                    ).then(function(){\n",
              "                            \n",
              "var gd = document.getElementById('786bef45-47f3-4159-8645-f200ad99ff36');\n",
              "var x = new MutationObserver(function (mutations, observer) {{\n",
              "        var display = window.getComputedStyle(gd).display;\n",
              "        if (!display || display === 'none') {{\n",
              "            console.log([gd, 'removed!']);\n",
              "            Plotly.purge(gd);\n",
              "            observer.disconnect();\n",
              "        }}\n",
              "}});\n",
              "\n",
              "// Listen for the removal of the full notebook cells\n",
              "var notebookContainer = gd.closest('#notebook-container');\n",
              "if (notebookContainer) {{\n",
              "    x.observe(notebookContainer, {childList: true});\n",
              "}}\n",
              "\n",
              "// Listen for the clearing of the current output cell\n",
              "var outputEl = gd.closest('.output');\n",
              "if (outputEl) {{\n",
              "    x.observe(outputEl, {childList: true});\n",
              "}}\n",
              "\n",
              "                        })                };                            </script>        </div>\n",
              "</body>\n",
              "</html>"
            ]
          },
          "metadata": {}
        }
      ]
    },
    {
      "cell_type": "code",
      "source": [
        "len(dur_dev)"
      ],
      "metadata": {
        "colab": {
          "base_uri": "https://localhost:8080/"
        },
        "id": "DEQCTvKrBZ9s",
        "outputId": "1753c241-207c-4c43-b0ff-b4925d2b9a7e"
      },
      "execution_count": null,
      "outputs": [
        {
          "output_type": "execute_result",
          "data": {
            "text/plain": [
              "9982"
            ]
          },
          "metadata": {},
          "execution_count": 25
        }
      ]
    },
    {
      "cell_type": "markdown",
      "source": [
        "## Тестовая"
      ],
      "metadata": {
        "id": "_WnXXbAT1_Dj"
      }
    },
    {
      "cell_type": "code",
      "source": [
        "mean_dur_test, dur_test, big_data_test, small_data_test = get_mean('/content/test/')"
      ],
      "metadata": {
        "id": "b4Tbnj64WgCx"
      },
      "execution_count": null,
      "outputs": []
    },
    {
      "cell_type": "code",
      "source": [
        "mean_dur_test"
      ],
      "metadata": {
        "colab": {
          "base_uri": "https://localhost:8080/"
        },
        "id": "ZH6IZMsK5FbL",
        "outputId": "c2a79419-07ab-4858-edfc-b64e5daefc56"
      },
      "execution_count": null,
      "outputs": [
        {
          "output_type": "execute_result",
          "data": {
            "text/plain": [
              "1.0"
            ]
          },
          "metadata": {},
          "execution_count": 27
        }
      ]
    },
    {
      "cell_type": "code",
      "source": [
        "fig = px.box(pd.DataFrame(dur_test))\n",
        "fig.show()"
      ],
      "metadata": {
        "colab": {
          "base_uri": "https://localhost:8080/",
          "height": 562
        },
        "id": "R1dvHE4I32fW",
        "outputId": "0e35b2c9-4194-490d-e64c-9bd14a27c54f"
      },
      "execution_count": null,
      "outputs": [
        {
          "output_type": "display_data",
          "data": {
            "text/html": [
              "<html>\n",
              "<head><meta charset=\"utf-8\" /></head>\n",
              "<body>\n",
              "    <div>            <script src=\"https://cdnjs.cloudflare.com/ajax/libs/mathjax/2.7.5/MathJax.js?config=TeX-AMS-MML_SVG\"></script><script type=\"text/javascript\">if (window.MathJax && window.MathJax.Hub && window.MathJax.Hub.Config) {window.MathJax.Hub.Config({SVG: {font: \"STIX-Web\"}});}</script>                <script type=\"text/javascript\">window.PlotlyConfig = {MathJaxConfig: 'local'};</script>\n",
              "        <script src=\"https://cdn.plot.ly/plotly-2.18.2.min.js\"></script>                <div id=\"f1f1142b-1385-4bcf-bd0b-c4c155e03411\" class=\"plotly-graph-div\" style=\"height:525px; width:100%;\"></div>            <script type=\"text/javascript\">                                    window.PLOTLYENV=window.PLOTLYENV || {};                                    if (document.getElementById(\"f1f1142b-1385-4bcf-bd0b-c4c155e03411\")) {                    Plotly.newPlot(                        \"f1f1142b-1385-4bcf-bd0b-c4c155e03411\",                        [{\"alignmentgroup\":\"True\",\"hovertemplate\":\"variable=%{x}<br>value=%{y}<extra></extra>\",\"legendgroup\":\"\",\"marker\":{\"color\":\"#636efa\"},\"name\":\"\",\"notched\":false,\"offsetgroup\":\"\",\"orientation\":\"v\",\"showlegend\":false,\"x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x0\":\" \",\"xaxis\":\"x\",\"y\":[1.0,1.0,1.0,1.0,1.0,1.0,1.0,1.0,1.0,1.0,1.0,1.0,1.0,1.0,1.0,1.0,1.0,1.0,1.0,1.0,1.0,1.0,1.0,1.0,1.0,1.0,1.0,1.0,1.0,1.0,1.0,1.0,1.0,1.0,1.0,1.0,1.0,1.0,1.0,1.0,1.0,1.0,1.0,1.0,1.0,1.0,1.0,1.0,1.0,1.0,1.0,1.0,1.0,1.0,1.0,1.0,1.0,1.0,1.0,1.0,1.0,1.0,1.0,1.0,1.0,1.0,1.0,1.0,1.0,1.0,1.0,1.0,1.0,1.0,1.0,1.0,1.0,1.0,1.0,1.0,1.0,1.0,1.0,1.0,1.0,1.0,1.0,1.0,1.0,1.0,1.0,1.0,1.0,1.0,1.0,1.0,1.0,1.0,1.0,1.0,1.0,1.0,1.0,1.0,1.0,1.0,1.0,1.0,1.0,1.0,1.0,1.0,1.0,1.0,1.0,1.0,1.0,1.0,1.0,1.0,1.0,1.0,1.0,1.0,1.0,1.0,1.0,1.0,1.0,1.0,1.0,1.0,1.0,1.0,1.0,1.0,1.0,1.0,1.0,1.0,1.0,1.0,1.0,1.0,1.0,1.0,1.0,1.0,1.0,1.0,1.0,1.0,1.0,1.0,1.0,1.0,1.0,1.0,1.0,1.0,1.0,1.0,1.0,1.0,1.0,1.0,1.0,1.0,1.0,1.0,1.0,1.0,1.0,1.0,1.0,1.0,1.0,1.0,1.0,1.0,1.0,1.0,1.0,1.0,1.0,1.0,1.0,1.0,1.0,1.0,1.0,1.0,1.0,1.0,1.0,1.0,1.0,1.0,1.0,1.0,1.0,1.0,1.0,1.0,1.0,1.0,1.0,1.0,1.0,1.0,1.0,1.0,1.0,1.0,1.0,1.0,1.0,1.0,1.0,1.0,1.0,1.0,1.0,1.0,1.0,1.0,1.0,1.0,1.0,1.0,1.0,1.0,1.0,1.0,1.0,1.0,1.0,1.0,1.0,1.0,1.0,1.0,1.0,1.0,1.0,1.0,1.0,1.0,1.0,1.0,1.0,1.0,1.0,1.0,1.0,1.0,1.0,1.0,1.0,1.0,1.0,1.0,1.0,1.0,1.0,1.0,1.0,1.0,1.0,1.0,1.0,1.0,1.0,1.0,1.0,1.0,1.0,1.0,1.0,1.0,1.0,1.0,1.0,1.0,1.0,1.0,1.0,1.0,1.0,1.0,1.0,1.0,1.0,1.0,1.0,1.0,1.0,1.0,1.0,1.0,1.0,1.0,1.0,1.0,1.0,1.0,1.0,1.0,1.0,1.0,1.0,1.0,1.0,1.0,1.0,1.0,1.0,1.0,1.0,1.0,1.0,1.0,1.0,1.0,1.0,1.0,1.0,1.0,1.0,1.0,1.0,1.0,1.0,1.0,1.0,1.0,1.0,1.0,1.0,1.0,1.0,1.0,1.0,1.0,1.0,1.0,1.0,1.0,1.0,1.0,1.0,1.0,1.0,1.0,1.0,1.0,1.0,1.0,1.0,1.0,1.0,1.0,1.0,1.0,1.0,1.0,1.0,1.0,1.0,1.0,1.0,1.0,1.0,1.0,1.0,1.0,1.0,1.0,1.0,1.0,1.0,1.0,1.0,1.0,1.0,1.0,1.0,1.0,1.0,1.0,1.0,1.0,1.0,1.0,1.0,1.0,1.0,1.0,1.0,1.0,1.0,1.0,1.0,1.0,1.0,1.0,1.0,1.0,1.0,1.0,1.0,1.0,1.0,1.0,1.0,1.0,1.0,1.0,1.0,1.0,1.0,1.0,1.0,1.0,1.0,1.0,1.0,1.0,1.0,1.0,1.0,1.0,1.0,1.0,1.0,1.0,1.0,1.0,1.0,1.0,1.0,1.0,1.0,1.0,1.0,1.0,1.0,1.0,1.0,1.0,1.0,1.0,1.0,1.0,1.0,1.0,1.0,1.0,1.0,1.0,1.0,1.0,1.0,1.0,1.0,1.0,1.0,1.0,1.0,1.0,1.0,1.0,1.0,1.0,1.0,1.0,1.0,1.0,1.0,1.0,1.0,1.0,1.0,1.0,1.0,1.0,1.0,1.0,1.0,1.0,1.0,1.0,1.0,1.0,1.0,1.0,1.0,1.0,1.0,1.0,1.0,1.0,1.0,1.0,1.0,1.0,1.0,1.0,1.0,1.0,1.0,1.0,1.0,1.0,1.0,1.0,1.0,1.0,1.0,1.0,1.0,1.0,1.0,1.0,1.0,1.0,1.0,1.0,1.0,1.0,1.0,1.0,1.0,1.0,1.0,1.0,1.0,1.0,1.0,1.0,1.0,1.0,1.0,1.0,1.0,1.0,1.0,1.0,1.0,1.0,1.0,1.0,1.0,1.0,1.0,1.0,1.0,1.0,1.0,1.0,1.0,1.0,1.0,1.0,1.0,1.0,1.0,1.0,1.0,1.0,1.0,1.0,1.0,1.0,1.0,1.0,1.0,1.0,1.0,1.0,1.0,1.0,1.0,1.0,1.0,1.0,1.0,1.0,1.0,1.0,1.0,1.0,1.0,1.0,1.0,1.0,1.0,1.0,1.0,1.0,1.0,1.0,1.0,1.0,1.0,1.0,1.0,1.0,1.0,1.0,1.0,1.0,1.0,1.0,1.0,1.0,1.0,1.0,1.0,1.0,1.0,1.0,1.0,1.0,1.0,1.0,1.0,1.0,1.0,1.0,1.0,1.0,1.0,1.0,1.0,1.0,1.0,1.0,1.0,1.0,1.0,1.0,1.0,1.0,1.0,1.0,1.0,1.0,1.0,1.0,1.0,1.0,1.0,1.0,1.0,1.0,1.0,1.0,1.0,1.0,1.0,1.0,1.0,1.0,1.0,1.0,1.0,1.0,1.0,1.0,1.0,1.0,1.0,1.0,1.0,1.0,1.0,1.0,1.0,1.0,1.0,1.0,1.0,1.0,1.0,1.0,1.0,1.0,1.0,1.0,1.0,1.0,1.0,1.0,1.0,1.0,1.0,1.0,1.0,1.0,1.0,1.0,1.0,1.0,1.0,1.0,1.0,1.0,1.0,1.0,1.0,1.0,1.0,1.0,1.0,1.0,1.0,1.0,1.0,1.0,1.0,1.0,1.0,1.0,1.0,1.0,1.0,1.0,1.0,1.0,1.0,1.0,1.0,1.0,1.0,1.0,1.0,1.0,1.0,1.0,1.0,1.0,1.0,1.0,1.0,1.0,1.0,1.0,1.0,1.0,1.0,1.0,1.0,1.0,1.0,1.0,1.0,1.0,1.0,1.0,1.0,1.0,1.0,1.0,1.0,1.0,1.0,1.0,1.0,1.0,1.0,1.0,1.0,1.0,1.0,1.0,1.0,1.0,1.0,1.0,1.0,1.0,1.0,1.0,1.0,1.0,1.0,1.0,1.0,1.0,1.0,1.0,1.0,1.0,1.0,1.0,1.0,1.0,1.0,1.0,1.0,1.0,1.0,1.0,1.0,1.0,1.0,1.0,1.0,1.0,1.0,1.0,1.0,1.0,1.0,1.0,1.0,1.0,1.0,1.0,1.0,1.0,1.0,1.0,1.0,1.0,1.0,1.0,1.0,1.0,1.0,1.0,1.0,1.0,1.0,1.0,1.0,1.0,1.0,1.0,1.0,1.0,1.0,1.0,1.0,1.0,1.0,1.0,1.0,1.0,1.0,1.0,1.0,1.0,1.0,1.0,1.0,1.0,1.0,1.0,1.0,1.0,1.0,1.0,1.0,1.0,1.0,1.0,1.0,1.0,1.0,1.0,1.0,1.0,1.0,1.0,1.0,1.0,1.0,1.0,1.0,1.0,1.0,1.0,1.0,1.0,1.0,1.0,1.0,1.0,1.0,1.0,1.0,1.0,1.0,1.0,1.0,1.0,1.0,1.0,1.0,1.0,1.0,1.0,1.0,1.0,1.0,1.0,1.0,1.0,1.0,1.0,1.0,1.0,1.0,1.0,1.0,1.0,1.0,1.0,1.0,1.0,1.0,1.0,1.0,1.0,1.0,1.0,1.0,1.0,1.0,1.0,1.0,1.0,1.0,1.0,1.0,1.0,1.0,1.0,1.0,1.0,1.0,1.0,1.0,1.0,1.0,1.0,1.0,1.0,1.0,1.0,1.0,1.0,1.0,1.0,1.0,1.0,1.0,1.0,1.0,1.0,1.0,1.0,1.0,1.0,1.0,1.0,1.0,1.0,1.0,1.0,1.0,1.0,1.0,1.0,1.0,1.0,1.0,1.0,1.0,1.0,1.0,1.0,1.0,1.0,1.0,1.0,1.0,1.0,1.0,1.0,1.0,1.0,1.0,1.0,1.0,1.0,1.0,1.0,1.0,1.0,1.0,1.0,1.0,1.0,1.0,1.0,1.0,1.0,1.0,1.0,1.0,1.0,1.0,1.0,1.0,1.0,1.0,1.0,1.0,1.0,1.0,1.0,1.0,1.0,1.0,1.0,1.0,1.0,1.0,1.0,1.0,1.0,1.0,1.0,1.0,1.0,1.0,1.0,1.0,1.0,1.0,1.0,1.0,1.0,1.0,1.0,1.0,1.0,1.0,1.0,1.0,1.0,1.0,1.0,1.0,1.0,1.0,1.0,1.0,1.0,1.0,1.0,1.0,1.0,1.0,1.0,1.0,1.0,1.0,1.0,1.0,1.0,1.0,1.0,1.0,1.0,1.0,1.0,1.0,1.0,1.0,1.0,1.0,1.0,1.0,1.0,1.0,1.0,1.0,1.0,1.0,1.0,1.0,1.0,1.0,1.0,1.0,1.0,1.0,1.0,1.0,1.0,1.0,1.0,1.0,1.0,1.0,1.0,1.0,1.0,1.0,1.0,1.0,1.0,1.0,1.0,1.0,1.0,1.0,1.0,1.0,1.0,1.0,1.0,1.0,1.0,1.0,1.0,1.0,1.0,1.0,1.0,1.0,1.0,1.0,1.0,1.0,1.0,1.0,1.0,1.0,1.0,1.0,1.0,1.0,1.0,1.0,1.0,1.0,1.0,1.0,1.0,1.0,1.0,1.0,1.0,1.0,1.0,1.0,1.0,1.0,1.0,1.0,1.0,1.0,1.0,1.0,1.0,1.0,1.0,1.0,1.0,1.0,1.0,1.0,1.0,1.0,1.0,1.0,1.0,1.0,1.0,1.0,1.0,1.0,1.0,1.0,1.0,1.0,1.0,1.0,1.0,1.0,1.0,1.0,1.0,1.0,1.0,1.0,1.0,1.0,1.0,1.0,1.0,1.0,1.0,1.0,1.0,1.0,1.0,1.0,1.0,1.0,1.0,1.0,1.0,1.0,1.0,1.0,1.0,1.0,1.0,1.0,1.0,1.0,1.0,1.0,1.0,1.0,1.0,1.0,1.0,1.0,1.0,1.0,1.0,1.0,1.0,1.0,1.0,1.0,1.0,1.0,1.0,1.0,1.0,1.0,1.0,1.0,1.0,1.0,1.0,1.0,1.0,1.0,1.0,1.0,1.0,1.0,1.0,1.0,1.0,1.0,1.0,1.0,1.0,1.0,1.0,1.0,1.0,1.0,1.0,1.0,1.0,1.0,1.0,1.0,1.0,1.0,1.0,1.0,1.0,1.0,1.0,1.0,1.0,1.0,1.0,1.0,1.0,1.0,1.0,1.0,1.0,1.0,1.0,1.0,1.0,1.0,1.0,1.0,1.0,1.0,1.0,1.0,1.0,1.0,1.0,1.0,1.0,1.0,1.0,1.0,1.0,1.0,1.0,1.0,1.0,1.0,1.0,1.0,1.0,1.0,1.0,1.0,1.0,1.0,1.0,1.0,1.0,1.0,1.0,1.0,1.0,1.0,1.0,1.0,1.0,1.0,1.0,1.0,1.0,1.0,1.0,1.0,1.0,1.0,1.0,1.0,1.0,1.0,1.0,1.0,1.0,1.0,1.0,1.0,1.0,1.0,1.0,1.0,1.0,1.0,1.0,1.0,1.0,1.0,1.0,1.0,1.0,1.0,1.0,1.0,1.0,1.0,1.0,1.0,1.0,1.0,1.0,1.0,1.0,1.0,1.0,1.0,1.0,1.0,1.0,1.0,1.0,1.0,1.0,1.0,1.0,1.0,1.0,1.0,1.0,1.0,1.0,1.0,1.0,1.0,1.0,1.0,1.0,1.0,1.0,1.0,1.0,1.0,1.0,1.0,1.0,1.0,1.0,1.0,1.0,1.0,1.0,1.0,1.0,1.0,1.0,1.0,1.0,1.0,1.0,1.0,1.0,1.0,1.0,1.0,1.0,1.0,1.0,1.0,1.0,1.0,1.0,1.0,1.0,1.0,1.0,1.0,1.0,1.0,1.0,1.0,1.0,1.0,1.0,1.0,1.0,1.0,1.0,1.0,1.0,1.0,1.0,1.0,1.0,1.0,1.0,1.0,1.0,1.0,1.0,1.0,1.0,1.0,1.0,1.0,1.0,1.0,1.0,1.0,1.0,1.0,1.0,1.0,1.0,1.0,1.0,1.0,1.0,1.0,1.0,1.0,1.0,1.0,1.0,1.0,1.0,1.0,1.0,1.0,1.0,1.0,1.0,1.0,1.0,1.0,1.0,1.0,1.0,1.0,1.0,1.0,1.0,1.0,1.0,1.0,1.0,1.0,1.0,1.0,1.0,1.0,1.0,1.0,1.0,1.0,1.0,1.0,1.0,1.0,1.0,1.0,1.0,1.0,1.0,1.0,1.0,1.0,1.0,1.0,1.0,1.0,1.0,1.0,1.0,1.0,1.0,1.0,1.0,1.0,1.0,1.0,1.0,1.0,1.0,1.0,1.0,1.0,1.0,1.0,1.0,1.0,1.0,1.0,1.0,1.0,1.0,1.0,1.0,1.0,1.0,1.0,1.0,1.0,1.0,1.0,1.0,1.0,1.0,1.0,1.0,1.0,1.0,1.0,1.0,1.0,1.0,1.0,1.0,1.0,1.0,1.0,1.0,1.0,1.0,1.0,1.0,1.0,1.0,1.0,1.0,1.0,1.0,1.0,1.0,1.0,1.0,1.0,1.0,1.0,1.0,1.0,1.0,1.0,1.0,1.0,1.0,1.0,1.0,1.0,1.0,1.0,1.0,1.0,1.0,1.0,1.0,1.0,1.0,1.0,1.0,1.0,1.0,1.0,1.0,1.0,1.0,1.0,1.0,1.0,1.0,1.0,1.0,1.0,1.0,1.0,1.0,1.0,1.0,1.0,1.0,1.0,1.0,1.0,1.0,1.0,1.0,1.0,1.0,1.0,1.0,1.0,1.0,1.0,1.0,1.0,1.0,1.0,1.0,1.0,1.0,1.0,1.0,1.0,1.0,1.0,1.0,1.0,1.0,1.0,1.0,1.0,1.0,1.0,1.0,1.0,1.0,1.0,1.0,1.0,1.0,1.0,1.0,1.0,1.0,1.0,1.0,1.0,1.0,1.0,1.0,1.0,1.0,1.0,1.0,1.0,1.0,1.0,1.0,1.0,1.0,1.0,1.0,1.0,1.0,1.0,1.0,1.0,1.0,1.0,1.0,1.0,1.0,1.0,1.0,1.0,1.0,1.0,1.0,1.0,1.0,1.0,1.0,1.0,1.0,1.0,1.0,1.0,1.0,1.0,1.0,1.0,1.0,1.0,1.0,1.0,1.0,1.0,1.0,1.0,1.0,1.0,1.0,1.0,1.0,1.0,1.0,1.0,1.0,1.0,1.0,1.0,1.0,1.0,1.0,1.0,1.0,1.0,1.0,1.0,1.0,1.0,1.0,1.0,1.0,1.0,1.0,1.0,1.0,1.0,1.0,1.0,1.0,1.0,1.0,1.0,1.0,1.0,1.0,1.0,1.0,1.0,1.0,1.0,1.0,1.0,1.0,1.0,1.0,1.0,1.0,1.0,1.0,1.0,1.0,1.0,1.0,1.0,1.0,1.0,1.0,1.0,1.0,1.0,1.0,1.0,1.0,1.0,1.0,1.0,1.0,1.0,1.0,1.0,1.0,1.0,1.0,1.0,1.0,1.0,1.0,1.0,1.0,1.0,1.0,1.0,1.0,1.0,1.0,1.0,1.0,1.0,1.0,1.0,1.0,1.0,1.0,1.0,1.0,1.0,1.0,1.0,1.0,1.0,1.0,1.0,1.0,1.0,1.0,1.0,1.0,1.0,1.0,1.0,1.0,1.0,1.0,1.0,1.0,1.0,1.0,1.0,1.0,1.0,1.0,1.0,1.0,1.0,1.0,1.0,1.0,1.0,1.0,1.0,1.0,1.0,1.0,1.0,1.0,1.0,1.0,1.0,1.0,1.0,1.0,1.0,1.0,1.0,1.0,1.0,1.0,1.0,1.0,1.0,1.0,1.0,1.0,1.0,1.0,1.0,1.0,1.0,1.0,1.0,1.0,1.0,1.0,1.0,1.0,1.0,1.0,1.0,1.0,1.0,1.0,1.0,1.0,1.0,1.0,1.0,1.0,1.0,1.0,1.0,1.0,1.0,1.0,1.0,1.0,1.0,1.0,1.0,1.0,1.0,1.0,1.0,1.0,1.0,1.0,1.0,1.0,1.0,1.0,1.0,1.0,1.0,1.0,1.0,1.0,1.0,1.0,1.0,1.0,1.0,1.0,1.0,1.0,1.0,1.0,1.0,1.0,1.0,1.0,1.0,1.0,1.0,1.0,1.0,1.0,1.0,1.0,1.0,1.0,1.0,1.0,1.0,1.0,1.0,1.0,1.0,1.0,1.0,1.0,1.0,1.0,1.0,1.0,1.0,1.0,1.0,1.0,1.0,1.0,1.0,1.0,1.0,1.0,1.0,1.0,1.0,1.0,1.0,1.0,1.0,1.0,1.0,1.0,1.0,1.0,1.0,1.0,1.0,1.0,1.0,1.0,1.0,1.0,1.0,1.0,1.0,1.0,1.0,1.0,1.0,1.0,1.0,1.0,1.0,1.0,1.0,1.0,1.0,1.0,1.0,1.0,1.0,1.0,1.0,1.0,1.0,1.0,1.0,1.0,1.0,1.0,1.0,1.0,1.0,1.0,1.0,1.0,1.0,1.0,1.0,1.0,1.0,1.0,1.0,1.0,1.0,1.0,1.0,1.0,1.0,1.0,1.0,1.0,1.0,1.0,1.0,1.0,1.0,1.0,1.0,1.0,1.0,1.0,1.0,1.0,1.0,1.0,1.0,1.0,1.0,1.0,1.0,1.0,1.0,1.0,1.0,1.0,1.0,1.0,1.0,1.0,1.0,1.0,1.0,1.0,1.0,1.0,1.0,1.0,1.0,1.0,1.0,1.0,1.0,1.0,1.0,1.0,1.0,1.0,1.0,1.0,1.0,1.0,1.0,1.0,1.0,1.0,1.0,1.0,1.0,1.0,1.0,1.0,1.0,1.0,1.0,1.0,1.0,1.0,1.0,1.0,1.0,1.0,1.0,1.0,1.0,1.0,1.0,1.0,1.0,1.0,1.0,1.0,1.0,1.0,1.0,1.0,1.0,1.0,1.0,1.0,1.0,1.0,1.0,1.0,1.0,1.0,1.0,1.0,1.0,1.0,1.0,1.0,1.0,1.0,1.0,1.0,1.0,1.0,1.0,1.0,1.0,1.0,1.0,1.0,1.0,1.0,1.0,1.0,1.0,1.0,1.0,1.0,1.0,1.0,1.0,1.0,1.0,1.0,1.0,1.0,1.0,1.0,1.0,1.0,1.0,1.0,1.0,1.0,1.0,1.0,1.0,1.0,1.0,1.0,1.0,1.0,1.0,1.0,1.0,1.0,1.0,1.0,1.0,1.0,1.0,1.0,1.0,1.0,1.0,1.0,1.0,1.0,1.0,1.0,1.0,1.0,1.0,1.0,1.0,1.0,1.0,1.0,1.0,1.0,1.0,1.0,1.0,1.0,1.0,1.0,1.0,1.0,1.0,1.0,1.0,1.0,1.0,1.0,1.0,1.0,1.0,1.0,1.0,1.0,1.0,1.0,1.0,1.0,1.0,1.0,1.0,1.0,1.0,1.0,1.0,1.0,1.0,1.0,1.0,1.0,1.0,1.0,1.0,1.0,1.0,1.0,1.0,1.0,1.0,1.0,1.0,1.0,1.0,1.0,1.0,1.0,1.0,1.0,1.0,1.0,1.0,1.0,1.0,1.0,1.0,1.0,1.0,1.0,1.0,1.0,1.0,1.0,1.0,1.0,1.0,1.0,1.0,1.0,1.0,1.0,1.0,1.0,1.0,1.0,1.0,1.0,1.0,1.0,1.0,1.0,1.0,1.0,1.0,1.0,1.0,1.0,1.0,1.0,1.0,1.0,1.0,1.0,1.0,1.0,1.0,1.0,1.0,1.0,1.0,1.0,1.0,1.0,1.0,1.0,1.0,1.0,1.0,1.0,1.0,1.0,1.0,1.0,1.0,1.0,1.0,1.0,1.0,1.0,1.0,1.0,1.0,1.0,1.0,1.0,1.0,1.0,1.0,1.0,1.0,1.0,1.0,1.0,1.0,1.0,1.0,1.0,1.0,1.0,1.0,1.0,1.0,1.0,1.0,1.0,1.0,1.0,1.0,1.0,1.0,1.0,1.0,1.0,1.0,1.0,1.0,1.0,1.0,1.0,1.0,1.0,1.0,1.0,1.0,1.0,1.0,1.0,1.0,1.0,1.0,1.0,1.0,1.0,1.0,1.0,1.0,1.0,1.0,1.0,1.0,1.0,1.0,1.0,1.0,1.0,1.0,1.0,1.0,1.0,1.0,1.0,1.0,1.0,1.0,1.0,1.0,1.0,1.0,1.0,1.0,1.0,1.0,1.0,1.0,1.0,1.0,1.0,1.0,1.0,1.0,1.0,1.0,1.0,1.0,1.0,1.0,1.0,1.0,1.0,1.0,1.0,1.0,1.0,1.0,1.0,1.0,1.0,1.0,1.0,1.0,1.0,1.0,1.0,1.0,1.0,1.0,1.0,1.0,1.0,1.0,1.0,1.0,1.0,1.0,1.0,1.0,1.0,1.0,1.0,1.0,1.0,1.0,1.0,1.0,1.0,1.0,1.0,1.0,1.0,1.0,1.0,1.0,1.0,1.0,1.0,1.0,1.0,1.0,1.0,1.0,1.0,1.0,1.0,1.0,1.0,1.0,1.0,1.0,1.0,1.0,1.0,1.0,1.0,1.0,1.0,1.0,1.0,1.0,1.0,1.0,1.0,1.0,1.0,1.0,1.0,1.0,1.0,1.0,1.0,1.0,1.0,1.0,1.0,1.0,1.0,1.0,1.0,1.0,1.0,1.0,1.0,1.0,1.0,1.0,1.0,1.0,1.0,1.0,1.0,1.0,1.0,1.0,1.0,1.0,1.0,1.0,1.0,1.0,1.0,1.0,1.0,1.0,1.0,1.0,1.0,1.0,1.0,1.0,1.0,1.0,1.0,1.0,1.0,1.0,1.0,1.0,1.0,1.0,1.0,1.0,1.0,1.0,1.0,1.0,1.0,1.0,1.0,1.0,1.0,1.0,1.0,1.0,1.0,1.0,1.0,1.0,1.0,1.0,1.0,1.0,1.0,1.0,1.0,1.0,1.0,1.0,1.0,1.0,1.0,1.0,1.0,1.0,1.0,1.0,1.0,1.0,1.0,1.0,1.0,1.0,1.0,1.0,1.0,1.0,1.0,1.0,1.0,1.0,1.0,1.0,1.0,1.0,1.0,1.0,1.0,1.0,1.0,1.0,1.0,1.0,1.0,1.0,1.0,1.0,1.0,1.0,1.0,1.0,1.0,1.0,1.0,1.0,1.0,1.0,1.0,1.0,1.0,1.0,1.0,1.0,1.0,1.0,1.0,1.0,1.0,1.0,1.0,1.0,1.0,1.0,1.0,1.0,1.0,1.0,1.0,1.0,1.0,1.0,1.0,1.0,1.0,1.0,1.0,1.0,1.0,1.0,1.0,1.0,1.0,1.0,1.0,1.0,1.0,1.0,1.0,1.0,1.0,1.0,1.0,1.0,1.0,1.0,1.0,1.0,1.0,1.0,1.0,1.0,1.0,1.0,1.0,1.0,1.0,1.0,1.0,1.0,1.0,1.0,1.0,1.0,1.0,1.0,1.0,1.0,1.0,1.0,1.0,1.0,1.0,1.0,1.0,1.0,1.0,1.0,1.0,1.0,1.0,1.0,1.0,1.0,1.0,1.0,1.0,1.0,1.0,1.0,1.0,1.0,1.0,1.0,1.0,1.0,1.0,1.0,1.0,1.0,1.0,1.0,1.0,1.0,1.0,1.0,1.0,1.0,1.0,1.0,1.0,1.0,1.0,1.0,1.0,1.0,1.0,1.0,1.0,1.0,1.0,1.0,1.0,1.0,1.0,1.0,1.0,1.0,1.0,1.0,1.0,1.0,1.0,1.0,1.0,1.0,1.0,1.0,1.0,1.0,1.0,1.0,1.0,1.0,1.0,1.0,1.0,1.0,1.0,1.0,1.0,1.0,1.0,1.0,1.0,1.0,1.0,1.0,1.0,1.0,1.0,1.0,1.0,1.0,1.0,1.0,1.0,1.0,1.0,1.0,1.0,1.0,1.0,1.0,1.0,1.0,1.0,1.0,1.0,1.0,1.0,1.0,1.0,1.0,1.0,1.0,1.0,1.0,1.0,1.0,1.0,1.0,1.0,1.0,1.0,1.0,1.0,1.0,1.0,1.0,1.0,1.0,1.0,1.0,1.0,1.0,1.0,1.0,1.0,1.0,1.0,1.0,1.0,1.0,1.0,1.0,1.0,1.0,1.0,1.0,1.0,1.0,1.0,1.0,1.0,1.0,1.0,1.0,1.0,1.0,1.0,1.0,1.0,1.0,1.0,1.0,1.0,1.0,1.0,1.0,1.0,1.0,1.0,1.0,1.0,1.0,1.0,1.0,1.0,1.0,1.0,1.0,1.0,1.0,1.0,1.0,1.0,1.0,1.0,1.0,1.0,1.0,1.0,1.0,1.0,1.0,1.0,1.0,1.0,1.0,1.0,1.0,1.0,1.0,1.0,1.0,1.0,1.0,1.0,1.0,1.0,1.0,1.0,1.0,1.0,1.0,1.0,1.0,1.0,1.0,1.0,1.0,1.0,1.0,1.0,1.0,1.0,1.0,1.0,1.0,1.0,1.0,1.0,1.0,1.0,1.0,1.0,1.0,1.0,1.0,1.0,1.0,1.0,1.0,1.0,1.0,1.0,1.0,1.0,1.0,1.0,1.0,1.0,1.0,1.0,1.0,1.0,1.0,1.0,1.0,1.0,1.0,1.0,1.0,1.0,1.0,1.0,1.0,1.0,1.0,1.0,1.0,1.0,1.0,1.0,1.0,1.0,1.0,1.0,1.0,1.0,1.0,1.0,1.0,1.0,1.0,1.0,1.0,1.0,1.0,1.0,1.0,1.0,1.0,1.0,1.0,1.0,1.0,1.0,1.0,1.0,1.0,1.0,1.0,1.0,1.0,1.0,1.0,1.0,1.0,1.0,1.0,1.0,1.0,1.0,1.0,1.0,1.0,1.0,1.0,1.0,1.0,1.0,1.0,1.0,1.0,1.0,1.0,1.0,1.0,1.0,1.0,1.0,1.0,1.0,1.0,1.0,1.0,1.0,1.0,1.0,1.0,1.0,1.0,1.0,1.0,1.0,1.0,1.0,1.0,1.0,1.0,1.0,1.0,1.0,1.0,1.0,1.0,1.0,1.0,1.0,1.0,1.0,1.0,1.0,1.0,1.0,1.0,1.0,1.0,1.0,1.0,1.0,1.0,1.0,1.0,1.0,1.0,1.0,1.0,1.0,1.0,1.0,1.0,1.0,1.0,1.0,1.0,1.0,1.0,1.0,1.0,1.0,1.0,1.0,1.0,1.0,1.0,1.0,1.0,1.0,1.0,1.0,1.0,1.0,1.0,1.0,1.0,1.0,1.0,1.0,1.0,1.0,1.0,1.0,1.0,1.0,1.0,1.0,1.0,1.0,1.0,1.0,1.0,1.0,1.0,1.0,1.0,1.0,1.0,1.0,1.0,1.0,1.0,1.0,1.0,1.0,1.0,1.0,1.0,1.0,1.0,1.0,1.0,1.0,1.0,1.0,1.0,1.0,1.0,1.0,1.0,1.0,1.0,1.0,1.0,1.0,1.0,1.0,1.0,1.0,1.0,1.0,1.0,1.0,1.0,1.0,1.0,1.0,1.0,1.0,1.0,1.0,1.0,1.0,1.0,1.0,1.0,1.0,1.0,1.0,1.0,1.0,1.0,1.0,1.0,1.0,1.0,1.0,1.0,1.0,1.0,1.0,1.0,1.0,1.0,1.0,1.0,1.0,1.0,1.0,1.0,1.0,1.0,1.0,1.0,1.0,1.0,1.0,1.0,1.0,1.0,1.0,1.0,1.0,1.0,1.0,1.0,1.0,1.0,1.0,1.0,1.0,1.0,1.0,1.0,1.0,1.0,1.0,1.0,1.0,1.0,1.0,1.0,1.0,1.0,1.0,1.0,1.0,1.0,1.0,1.0,1.0,1.0,1.0,1.0,1.0,1.0,1.0,1.0,1.0,1.0,1.0,1.0,1.0,1.0,1.0,1.0,1.0,1.0,1.0,1.0,1.0,1.0,1.0,1.0,1.0,1.0,1.0,1.0,1.0,1.0,1.0,1.0,1.0,1.0,1.0,1.0,1.0,1.0,1.0,1.0,1.0,1.0,1.0,1.0,1.0,1.0,1.0,1.0,1.0,1.0,1.0,1.0,1.0,1.0,1.0,1.0,1.0,1.0,1.0,1.0,1.0,1.0,1.0,1.0,1.0,1.0,1.0,1.0,1.0,1.0,1.0,1.0,1.0,1.0,1.0,1.0,1.0,1.0,1.0,1.0,1.0,1.0,1.0,1.0,1.0,1.0,1.0,1.0,1.0,1.0,1.0,1.0,1.0,1.0,1.0,1.0,1.0,1.0,1.0,1.0,1.0,1.0,1.0,1.0,1.0,1.0,1.0,1.0,1.0,1.0,1.0,1.0,1.0,1.0,1.0,1.0,1.0,1.0,1.0,1.0,1.0,1.0,1.0,1.0,1.0,1.0,1.0,1.0,1.0,1.0,1.0,1.0,1.0,1.0,1.0,1.0,1.0,1.0,1.0,1.0,1.0,1.0,1.0,1.0,1.0,1.0,1.0,1.0,1.0,1.0,1.0,1.0,1.0,1.0,1.0,1.0,1.0,1.0,1.0,1.0,1.0,1.0,1.0,1.0,1.0,1.0,1.0,1.0,1.0,1.0,1.0,1.0,1.0,1.0,1.0,1.0,1.0,1.0,1.0,1.0,1.0,1.0,1.0,1.0,1.0,1.0,1.0,1.0,1.0,1.0,1.0,1.0,1.0,1.0,1.0,1.0,1.0,1.0,1.0,1.0,1.0,1.0,1.0,1.0,1.0,1.0,1.0,1.0,1.0,1.0,1.0,1.0,1.0,1.0,1.0,1.0,1.0,1.0,1.0,1.0,1.0,1.0,1.0,1.0,1.0,1.0,1.0,1.0,1.0,1.0,1.0,1.0,1.0,1.0,1.0,1.0,1.0,1.0,1.0,1.0,1.0,1.0,1.0,1.0,1.0,1.0,1.0,1.0,1.0,1.0,1.0,1.0,1.0,1.0,1.0,1.0,1.0,1.0,1.0,1.0,1.0,1.0,1.0,1.0,1.0,1.0,1.0,1.0,1.0,1.0,1.0,1.0,1.0,1.0,1.0,1.0,1.0,1.0,1.0,1.0,1.0,1.0,1.0,1.0,1.0,1.0,1.0,1.0,1.0,1.0,1.0,1.0,1.0,1.0,1.0,1.0,1.0,1.0,1.0,1.0,1.0,1.0,1.0,1.0,1.0,1.0,1.0,1.0,1.0,1.0,1.0,1.0,1.0,1.0,1.0,1.0,1.0,1.0,1.0,1.0,1.0,1.0,1.0,1.0,1.0,1.0,1.0,1.0,1.0,1.0,1.0,1.0,1.0,1.0,1.0,1.0,1.0,1.0,1.0,1.0,1.0,1.0,1.0,1.0,1.0,1.0,1.0,1.0,1.0,1.0,1.0,1.0,1.0,1.0,1.0,1.0,1.0,1.0,1.0,1.0,1.0,1.0,1.0,1.0,1.0,1.0,1.0,1.0,1.0,1.0,1.0,1.0,1.0,1.0,1.0,1.0,1.0,1.0,1.0,1.0,1.0,1.0,1.0,1.0,1.0,1.0,1.0,1.0,1.0,1.0,1.0,1.0,1.0,1.0,1.0,1.0,1.0,1.0,1.0,1.0,1.0,1.0,1.0,1.0,1.0,1.0,1.0,1.0,1.0,1.0,1.0,1.0,1.0,1.0,1.0,1.0,1.0,1.0,1.0,1.0,1.0,1.0,1.0,1.0,1.0,1.0,1.0,1.0,1.0,1.0,1.0,1.0,1.0,1.0,1.0,1.0,1.0,1.0,1.0,1.0,1.0,1.0,1.0,1.0,1.0,1.0,1.0,1.0,1.0,1.0,1.0,1.0,1.0,1.0,1.0,1.0,1.0,1.0,1.0,1.0,1.0,1.0,1.0,1.0,1.0,1.0,1.0,1.0,1.0,1.0,1.0,1.0,1.0,1.0,1.0,1.0,1.0,1.0,1.0,1.0,1.0,1.0,1.0,1.0,1.0,1.0,1.0,1.0,1.0,1.0,1.0,1.0,1.0,1.0,1.0,1.0,1.0,1.0,1.0,1.0,1.0,1.0,1.0,1.0,1.0,1.0,1.0,1.0,1.0,1.0,1.0,1.0,1.0,1.0,1.0,1.0,1.0,1.0,1.0,1.0,1.0,1.0,1.0,1.0,1.0,1.0,1.0,1.0,1.0,1.0,1.0,1.0,1.0,1.0,1.0,1.0,1.0,1.0,1.0,1.0,1.0,1.0,1.0,1.0,1.0,1.0,1.0,1.0,1.0,1.0,1.0,1.0,1.0,1.0,1.0,1.0,1.0,1.0,1.0,1.0,1.0,1.0,1.0,1.0,1.0,1.0,1.0,1.0,1.0,1.0,1.0,1.0,1.0,1.0,1.0,1.0,1.0,1.0,1.0,1.0,1.0,1.0,1.0,1.0,1.0,1.0,1.0,1.0,1.0,1.0,1.0,1.0,1.0,1.0,1.0,1.0,1.0,1.0,1.0,1.0,1.0,1.0,1.0,1.0,1.0,1.0,1.0,1.0,1.0,1.0,1.0,1.0,1.0,1.0,1.0,1.0,1.0,1.0,1.0,1.0,1.0,1.0,1.0,1.0,1.0,1.0,1.0,1.0,1.0,1.0,1.0,1.0,1.0,1.0,1.0,1.0,1.0,1.0,1.0,1.0,1.0,1.0,1.0,1.0,1.0,1.0,1.0,1.0,1.0,1.0,1.0,1.0,1.0,1.0,1.0,1.0,1.0,1.0,1.0,1.0,1.0,1.0,1.0,1.0,1.0,1.0,1.0,1.0,1.0,1.0,1.0,1.0,1.0,1.0,1.0,1.0,1.0,1.0,1.0,1.0,1.0,1.0,1.0,1.0,1.0,1.0,1.0,1.0,1.0,1.0,1.0,1.0,1.0,1.0,1.0,1.0,1.0,1.0,1.0,1.0,1.0,1.0,1.0,1.0,1.0,1.0,1.0,1.0,1.0,1.0,1.0,1.0,1.0,1.0,1.0,1.0,1.0,1.0,1.0,1.0,1.0,1.0,1.0,1.0,1.0,1.0,1.0,1.0,1.0,1.0,1.0,1.0,1.0,1.0,1.0,1.0,1.0,1.0,1.0,1.0,1.0,1.0,1.0,1.0,1.0,1.0,1.0,1.0,1.0,1.0,1.0,1.0,1.0,1.0,1.0,1.0,1.0,1.0,1.0,1.0,1.0,1.0,1.0,1.0,1.0,1.0,1.0,1.0,1.0,1.0,1.0,1.0,1.0,1.0,1.0,1.0,1.0,1.0,1.0,1.0,1.0,1.0,1.0,1.0,1.0,1.0,1.0,1.0,1.0,1.0,1.0,1.0,1.0,1.0,1.0,1.0,1.0,1.0,1.0,1.0,1.0,1.0,1.0,1.0,1.0,1.0,1.0,1.0,1.0,1.0,1.0,1.0,1.0,1.0,1.0,1.0,1.0,1.0,1.0,1.0,1.0,1.0,1.0,1.0,1.0,1.0,1.0,1.0,1.0,1.0,1.0,1.0,1.0,1.0,1.0,1.0,1.0,1.0,1.0,1.0,1.0,1.0,1.0,1.0,1.0,1.0,1.0,1.0,1.0,1.0,1.0,1.0,1.0,1.0,1.0,1.0,1.0,1.0,1.0,1.0,1.0,1.0,1.0,1.0,1.0,1.0,1.0,1.0,1.0,1.0,1.0,1.0,1.0,1.0,1.0,1.0,1.0,1.0,1.0,1.0,1.0,1.0,1.0,1.0,1.0,1.0,1.0,1.0,1.0,1.0,1.0,1.0,1.0,1.0,1.0,1.0,1.0,1.0,1.0,1.0,1.0,1.0,1.0,1.0,1.0,1.0,1.0,1.0,1.0,1.0,1.0,1.0,1.0,1.0,1.0,1.0,1.0,1.0,1.0,1.0,1.0,1.0,1.0,1.0,1.0,1.0,1.0,1.0,1.0,1.0,1.0,1.0,1.0,1.0,1.0,1.0,1.0,1.0,1.0,1.0,1.0,1.0,1.0,1.0,1.0,1.0,1.0,1.0,1.0,1.0,1.0,1.0,1.0,1.0,1.0,1.0,1.0,1.0,1.0,1.0,1.0,1.0,1.0,1.0,1.0,1.0,1.0,1.0,1.0,1.0,1.0,1.0,1.0,1.0,1.0,1.0,1.0,1.0,1.0,1.0,1.0,1.0,1.0,1.0,1.0,1.0,1.0,1.0,1.0,1.0,1.0,1.0,1.0,1.0,1.0,1.0,1.0,1.0,1.0,1.0,1.0,1.0,1.0,1.0,1.0,1.0,1.0,1.0,1.0,1.0,1.0,1.0,1.0,1.0,1.0,1.0,1.0,1.0,1.0,1.0,1.0,1.0,1.0,1.0,1.0,1.0,1.0,1.0,1.0,1.0,1.0,1.0,1.0,1.0,1.0,1.0,1.0,1.0,1.0,1.0,1.0,1.0,1.0,1.0,1.0,1.0,1.0,1.0,1.0,1.0,1.0,1.0,1.0,1.0,1.0,1.0,1.0,1.0,1.0,1.0,1.0,1.0,1.0,1.0,1.0,1.0,1.0,1.0,1.0,1.0,1.0,1.0,1.0,1.0,1.0,1.0,1.0,1.0,1.0,1.0,1.0,1.0,1.0,1.0,1.0,1.0,1.0,1.0,1.0,1.0,1.0,1.0,1.0,1.0,1.0,1.0,1.0,1.0,1.0,1.0,1.0,1.0,1.0,1.0,1.0,1.0,1.0,1.0,1.0,1.0,1.0,1.0,1.0,1.0,1.0,1.0,1.0,1.0,1.0,1.0,1.0,1.0,1.0,1.0,1.0,1.0,1.0,1.0,1.0,1.0,1.0,1.0,1.0,1.0,1.0,1.0,1.0,1.0,1.0,1.0,1.0,1.0,1.0,1.0,1.0,1.0,1.0,1.0,1.0,1.0,1.0,1.0,1.0,1.0,1.0,1.0,1.0,1.0,1.0,1.0,1.0,1.0,1.0,1.0,1.0,1.0,1.0,1.0,1.0,1.0,1.0,1.0,1.0,1.0,1.0,1.0,1.0,1.0,1.0,1.0,1.0,1.0,1.0,1.0,1.0,1.0,1.0,1.0,1.0,1.0,1.0,1.0,1.0,1.0,1.0,1.0,1.0,1.0,1.0,1.0,1.0,1.0,1.0,1.0,1.0,1.0,1.0,1.0,1.0,1.0,1.0,1.0,1.0,1.0,1.0,1.0,1.0,1.0,1.0,1.0,1.0,1.0,1.0,1.0,1.0,1.0,1.0,1.0,1.0,1.0,1.0,1.0,1.0,1.0,1.0,1.0,1.0,1.0,1.0,1.0,1.0,1.0,1.0,1.0,1.0,1.0,1.0,1.0,1.0,1.0,1.0,1.0,1.0,1.0,1.0,1.0,1.0,1.0,1.0,1.0,1.0,1.0,1.0,1.0,1.0,1.0,1.0,1.0,1.0,1.0,1.0,1.0,1.0,1.0,1.0,1.0,1.0,1.0,1.0,1.0,1.0,1.0,1.0,1.0,1.0,1.0,1.0,1.0,1.0,1.0,1.0,1.0,1.0,1.0,1.0,1.0,1.0,1.0,1.0,1.0,1.0,1.0,1.0,1.0,1.0,1.0,1.0,1.0,1.0,1.0,1.0,1.0,1.0,1.0,1.0,1.0,1.0,1.0,1.0,1.0,1.0,1.0,1.0,1.0,1.0,1.0,1.0,1.0,1.0,1.0,1.0,1.0,1.0,1.0,1.0,1.0,1.0,1.0,1.0,1.0,1.0,1.0,1.0,1.0,1.0,1.0,1.0,1.0,1.0,1.0,1.0,1.0,1.0,1.0,1.0,1.0,1.0,1.0,1.0,1.0,1.0,1.0,1.0,1.0,1.0,1.0,1.0,1.0,1.0,1.0,1.0,1.0,1.0,1.0,1.0,1.0,1.0,1.0,1.0,1.0,1.0,1.0,1.0,1.0,1.0,1.0,1.0,1.0,1.0,1.0,1.0,1.0,1.0,1.0,1.0,1.0,1.0,1.0,1.0,1.0,1.0,1.0,1.0,1.0,1.0,1.0,1.0,1.0,1.0,1.0,1.0,1.0,1.0,1.0,1.0,1.0,1.0,1.0,1.0,1.0,1.0,1.0,1.0,1.0,1.0,1.0,1.0,1.0,1.0,1.0,1.0,1.0,1.0,1.0,1.0,1.0,1.0,1.0,1.0,1.0,1.0,1.0,1.0,1.0,1.0,1.0,1.0,1.0,1.0,1.0,1.0,1.0,1.0,1.0,1.0,1.0,1.0,1.0,1.0,1.0,1.0,1.0,1.0,1.0,1.0,1.0,1.0,1.0,1.0,1.0,1.0,1.0,1.0,1.0,1.0,1.0,1.0,1.0,1.0,1.0,1.0,1.0,1.0,1.0,1.0,1.0,1.0,1.0,1.0,1.0,1.0,1.0,1.0,1.0,1.0,1.0,1.0,1.0,1.0,1.0,1.0,1.0,1.0,1.0,1.0,1.0,1.0,1.0,1.0,1.0,1.0,1.0,1.0,1.0,1.0,1.0,1.0,1.0,1.0,1.0,1.0,1.0,1.0,1.0,1.0,1.0,1.0,1.0,1.0,1.0,1.0,1.0,1.0,1.0,1.0,1.0,1.0,1.0,1.0,1.0,1.0,1.0,1.0,1.0,1.0,1.0,1.0,1.0,1.0,1.0,1.0,1.0,1.0,1.0,1.0,1.0,1.0,1.0,1.0,1.0,1.0,1.0,1.0,1.0,1.0,1.0,1.0,1.0,1.0,1.0,1.0,1.0,1.0,1.0,1.0,1.0,1.0,1.0,1.0,1.0,1.0,1.0,1.0,1.0,1.0,1.0,1.0,1.0,1.0,1.0,1.0,1.0,1.0,1.0,1.0,1.0,1.0,1.0,1.0],\"y0\":\" \",\"yaxis\":\"y\",\"type\":\"box\"}],                        {\"template\":{\"data\":{\"histogram2dcontour\":[{\"type\":\"histogram2dcontour\",\"colorbar\":{\"outlinewidth\":0,\"ticks\":\"\"},\"colorscale\":[[0.0,\"#0d0887\"],[0.1111111111111111,\"#46039f\"],[0.2222222222222222,\"#7201a8\"],[0.3333333333333333,\"#9c179e\"],[0.4444444444444444,\"#bd3786\"],[0.5555555555555556,\"#d8576b\"],[0.6666666666666666,\"#ed7953\"],[0.7777777777777778,\"#fb9f3a\"],[0.8888888888888888,\"#fdca26\"],[1.0,\"#f0f921\"]]}],\"choropleth\":[{\"type\":\"choropleth\",\"colorbar\":{\"outlinewidth\":0,\"ticks\":\"\"}}],\"histogram2d\":[{\"type\":\"histogram2d\",\"colorbar\":{\"outlinewidth\":0,\"ticks\":\"\"},\"colorscale\":[[0.0,\"#0d0887\"],[0.1111111111111111,\"#46039f\"],[0.2222222222222222,\"#7201a8\"],[0.3333333333333333,\"#9c179e\"],[0.4444444444444444,\"#bd3786\"],[0.5555555555555556,\"#d8576b\"],[0.6666666666666666,\"#ed7953\"],[0.7777777777777778,\"#fb9f3a\"],[0.8888888888888888,\"#fdca26\"],[1.0,\"#f0f921\"]]}],\"heatmap\":[{\"type\":\"heatmap\",\"colorbar\":{\"outlinewidth\":0,\"ticks\":\"\"},\"colorscale\":[[0.0,\"#0d0887\"],[0.1111111111111111,\"#46039f\"],[0.2222222222222222,\"#7201a8\"],[0.3333333333333333,\"#9c179e\"],[0.4444444444444444,\"#bd3786\"],[0.5555555555555556,\"#d8576b\"],[0.6666666666666666,\"#ed7953\"],[0.7777777777777778,\"#fb9f3a\"],[0.8888888888888888,\"#fdca26\"],[1.0,\"#f0f921\"]]}],\"heatmapgl\":[{\"type\":\"heatmapgl\",\"colorbar\":{\"outlinewidth\":0,\"ticks\":\"\"},\"colorscale\":[[0.0,\"#0d0887\"],[0.1111111111111111,\"#46039f\"],[0.2222222222222222,\"#7201a8\"],[0.3333333333333333,\"#9c179e\"],[0.4444444444444444,\"#bd3786\"],[0.5555555555555556,\"#d8576b\"],[0.6666666666666666,\"#ed7953\"],[0.7777777777777778,\"#fb9f3a\"],[0.8888888888888888,\"#fdca26\"],[1.0,\"#f0f921\"]]}],\"contourcarpet\":[{\"type\":\"contourcarpet\",\"colorbar\":{\"outlinewidth\":0,\"ticks\":\"\"}}],\"contour\":[{\"type\":\"contour\",\"colorbar\":{\"outlinewidth\":0,\"ticks\":\"\"},\"colorscale\":[[0.0,\"#0d0887\"],[0.1111111111111111,\"#46039f\"],[0.2222222222222222,\"#7201a8\"],[0.3333333333333333,\"#9c179e\"],[0.4444444444444444,\"#bd3786\"],[0.5555555555555556,\"#d8576b\"],[0.6666666666666666,\"#ed7953\"],[0.7777777777777778,\"#fb9f3a\"],[0.8888888888888888,\"#fdca26\"],[1.0,\"#f0f921\"]]}],\"surface\":[{\"type\":\"surface\",\"colorbar\":{\"outlinewidth\":0,\"ticks\":\"\"},\"colorscale\":[[0.0,\"#0d0887\"],[0.1111111111111111,\"#46039f\"],[0.2222222222222222,\"#7201a8\"],[0.3333333333333333,\"#9c179e\"],[0.4444444444444444,\"#bd3786\"],[0.5555555555555556,\"#d8576b\"],[0.6666666666666666,\"#ed7953\"],[0.7777777777777778,\"#fb9f3a\"],[0.8888888888888888,\"#fdca26\"],[1.0,\"#f0f921\"]]}],\"mesh3d\":[{\"type\":\"mesh3d\",\"colorbar\":{\"outlinewidth\":0,\"ticks\":\"\"}}],\"scatter\":[{\"fillpattern\":{\"fillmode\":\"overlay\",\"size\":10,\"solidity\":0.2},\"type\":\"scatter\"}],\"parcoords\":[{\"type\":\"parcoords\",\"line\":{\"colorbar\":{\"outlinewidth\":0,\"ticks\":\"\"}}}],\"scatterpolargl\":[{\"type\":\"scatterpolargl\",\"marker\":{\"colorbar\":{\"outlinewidth\":0,\"ticks\":\"\"}}}],\"bar\":[{\"error_x\":{\"color\":\"#2a3f5f\"},\"error_y\":{\"color\":\"#2a3f5f\"},\"marker\":{\"line\":{\"color\":\"#E5ECF6\",\"width\":0.5},\"pattern\":{\"fillmode\":\"overlay\",\"size\":10,\"solidity\":0.2}},\"type\":\"bar\"}],\"scattergeo\":[{\"type\":\"scattergeo\",\"marker\":{\"colorbar\":{\"outlinewidth\":0,\"ticks\":\"\"}}}],\"scatterpolar\":[{\"type\":\"scatterpolar\",\"marker\":{\"colorbar\":{\"outlinewidth\":0,\"ticks\":\"\"}}}],\"histogram\":[{\"marker\":{\"pattern\":{\"fillmode\":\"overlay\",\"size\":10,\"solidity\":0.2}},\"type\":\"histogram\"}],\"scattergl\":[{\"type\":\"scattergl\",\"marker\":{\"colorbar\":{\"outlinewidth\":0,\"ticks\":\"\"}}}],\"scatter3d\":[{\"type\":\"scatter3d\",\"line\":{\"colorbar\":{\"outlinewidth\":0,\"ticks\":\"\"}},\"marker\":{\"colorbar\":{\"outlinewidth\":0,\"ticks\":\"\"}}}],\"scattermapbox\":[{\"type\":\"scattermapbox\",\"marker\":{\"colorbar\":{\"outlinewidth\":0,\"ticks\":\"\"}}}],\"scatterternary\":[{\"type\":\"scatterternary\",\"marker\":{\"colorbar\":{\"outlinewidth\":0,\"ticks\":\"\"}}}],\"scattercarpet\":[{\"type\":\"scattercarpet\",\"marker\":{\"colorbar\":{\"outlinewidth\":0,\"ticks\":\"\"}}}],\"carpet\":[{\"aaxis\":{\"endlinecolor\":\"#2a3f5f\",\"gridcolor\":\"white\",\"linecolor\":\"white\",\"minorgridcolor\":\"white\",\"startlinecolor\":\"#2a3f5f\"},\"baxis\":{\"endlinecolor\":\"#2a3f5f\",\"gridcolor\":\"white\",\"linecolor\":\"white\",\"minorgridcolor\":\"white\",\"startlinecolor\":\"#2a3f5f\"},\"type\":\"carpet\"}],\"table\":[{\"cells\":{\"fill\":{\"color\":\"#EBF0F8\"},\"line\":{\"color\":\"white\"}},\"header\":{\"fill\":{\"color\":\"#C8D4E3\"},\"line\":{\"color\":\"white\"}},\"type\":\"table\"}],\"barpolar\":[{\"marker\":{\"line\":{\"color\":\"#E5ECF6\",\"width\":0.5},\"pattern\":{\"fillmode\":\"overlay\",\"size\":10,\"solidity\":0.2}},\"type\":\"barpolar\"}],\"pie\":[{\"automargin\":true,\"type\":\"pie\"}]},\"layout\":{\"autotypenumbers\":\"strict\",\"colorway\":[\"#636efa\",\"#EF553B\",\"#00cc96\",\"#ab63fa\",\"#FFA15A\",\"#19d3f3\",\"#FF6692\",\"#B6E880\",\"#FF97FF\",\"#FECB52\"],\"font\":{\"color\":\"#2a3f5f\"},\"hovermode\":\"closest\",\"hoverlabel\":{\"align\":\"left\"},\"paper_bgcolor\":\"white\",\"plot_bgcolor\":\"#E5ECF6\",\"polar\":{\"bgcolor\":\"#E5ECF6\",\"angularaxis\":{\"gridcolor\":\"white\",\"linecolor\":\"white\",\"ticks\":\"\"},\"radialaxis\":{\"gridcolor\":\"white\",\"linecolor\":\"white\",\"ticks\":\"\"}},\"ternary\":{\"bgcolor\":\"#E5ECF6\",\"aaxis\":{\"gridcolor\":\"white\",\"linecolor\":\"white\",\"ticks\":\"\"},\"baxis\":{\"gridcolor\":\"white\",\"linecolor\":\"white\",\"ticks\":\"\"},\"caxis\":{\"gridcolor\":\"white\",\"linecolor\":\"white\",\"ticks\":\"\"}},\"coloraxis\":{\"colorbar\":{\"outlinewidth\":0,\"ticks\":\"\"}},\"colorscale\":{\"sequential\":[[0.0,\"#0d0887\"],[0.1111111111111111,\"#46039f\"],[0.2222222222222222,\"#7201a8\"],[0.3333333333333333,\"#9c179e\"],[0.4444444444444444,\"#bd3786\"],[0.5555555555555556,\"#d8576b\"],[0.6666666666666666,\"#ed7953\"],[0.7777777777777778,\"#fb9f3a\"],[0.8888888888888888,\"#fdca26\"],[1.0,\"#f0f921\"]],\"sequentialminus\":[[0.0,\"#0d0887\"],[0.1111111111111111,\"#46039f\"],[0.2222222222222222,\"#7201a8\"],[0.3333333333333333,\"#9c179e\"],[0.4444444444444444,\"#bd3786\"],[0.5555555555555556,\"#d8576b\"],[0.6666666666666666,\"#ed7953\"],[0.7777777777777778,\"#fb9f3a\"],[0.8888888888888888,\"#fdca26\"],[1.0,\"#f0f921\"]],\"diverging\":[[0,\"#8e0152\"],[0.1,\"#c51b7d\"],[0.2,\"#de77ae\"],[0.3,\"#f1b6da\"],[0.4,\"#fde0ef\"],[0.5,\"#f7f7f7\"],[0.6,\"#e6f5d0\"],[0.7,\"#b8e186\"],[0.8,\"#7fbc41\"],[0.9,\"#4d9221\"],[1,\"#276419\"]]},\"xaxis\":{\"gridcolor\":\"white\",\"linecolor\":\"white\",\"ticks\":\"\",\"title\":{\"standoff\":15},\"zerolinecolor\":\"white\",\"automargin\":true,\"zerolinewidth\":2},\"yaxis\":{\"gridcolor\":\"white\",\"linecolor\":\"white\",\"ticks\":\"\",\"title\":{\"standoff\":15},\"zerolinecolor\":\"white\",\"automargin\":true,\"zerolinewidth\":2},\"scene\":{\"xaxis\":{\"backgroundcolor\":\"#E5ECF6\",\"gridcolor\":\"white\",\"linecolor\":\"white\",\"showbackground\":true,\"ticks\":\"\",\"zerolinecolor\":\"white\",\"gridwidth\":2},\"yaxis\":{\"backgroundcolor\":\"#E5ECF6\",\"gridcolor\":\"white\",\"linecolor\":\"white\",\"showbackground\":true,\"ticks\":\"\",\"zerolinecolor\":\"white\",\"gridwidth\":2},\"zaxis\":{\"backgroundcolor\":\"#E5ECF6\",\"gridcolor\":\"white\",\"linecolor\":\"white\",\"showbackground\":true,\"ticks\":\"\",\"zerolinecolor\":\"white\",\"gridwidth\":2}},\"shapedefaults\":{\"line\":{\"color\":\"#2a3f5f\"}},\"annotationdefaults\":{\"arrowcolor\":\"#2a3f5f\",\"arrowhead\":0,\"arrowwidth\":1},\"geo\":{\"bgcolor\":\"white\",\"landcolor\":\"#E5ECF6\",\"subunitcolor\":\"white\",\"showland\":true,\"showlakes\":true,\"lakecolor\":\"white\"},\"title\":{\"x\":0.05},\"mapbox\":{\"style\":\"light\"}}},\"xaxis\":{\"anchor\":\"y\",\"domain\":[0.0,1.0],\"title\":{\"text\":\"variable\"}},\"yaxis\":{\"anchor\":\"x\",\"domain\":[0.0,1.0],\"title\":{\"text\":\"value\"}},\"legend\":{\"tracegroupgap\":0},\"margin\":{\"t\":60},\"boxmode\":\"group\"},                        {\"responsive\": true}                    ).then(function(){\n",
              "                            \n",
              "var gd = document.getElementById('f1f1142b-1385-4bcf-bd0b-c4c155e03411');\n",
              "var x = new MutationObserver(function (mutations, observer) {{\n",
              "        var display = window.getComputedStyle(gd).display;\n",
              "        if (!display || display === 'none') {{\n",
              "            console.log([gd, 'removed!']);\n",
              "            Plotly.purge(gd);\n",
              "            observer.disconnect();\n",
              "        }}\n",
              "}});\n",
              "\n",
              "// Listen for the removal of the full notebook cells\n",
              "var notebookContainer = gd.closest('#notebook-container');\n",
              "if (notebookContainer) {{\n",
              "    x.observe(notebookContainer, {childList: true});\n",
              "}}\n",
              "\n",
              "// Listen for the clearing of the current output cell\n",
              "var outputEl = gd.closest('.output');\n",
              "if (outputEl) {{\n",
              "    x.observe(outputEl, {childList: true});\n",
              "}}\n",
              "\n",
              "                        })                };                            </script>        </div>\n",
              "</body>\n",
              "</html>"
            ]
          },
          "metadata": {}
        }
      ]
    },
    {
      "cell_type": "code",
      "source": [
        "fig = px.histogram(pd.DataFrame(dur_test), nbins=20)\n",
        "fig.show()"
      ],
      "metadata": {
        "colab": {
          "base_uri": "https://localhost:8080/",
          "height": 562
        },
        "id": "docB91hxW5e5",
        "outputId": "a445f742-9c99-48e1-eca1-56c2ac3d4b3c"
      },
      "execution_count": null,
      "outputs": [
        {
          "output_type": "display_data",
          "data": {
            "text/html": [
              "<html>\n",
              "<head><meta charset=\"utf-8\" /></head>\n",
              "<body>\n",
              "    <div>            <script src=\"https://cdnjs.cloudflare.com/ajax/libs/mathjax/2.7.5/MathJax.js?config=TeX-AMS-MML_SVG\"></script><script type=\"text/javascript\">if (window.MathJax && window.MathJax.Hub && window.MathJax.Hub.Config) {window.MathJax.Hub.Config({SVG: {font: \"STIX-Web\"}});}</script>                <script type=\"text/javascript\">window.PlotlyConfig = {MathJaxConfig: 'local'};</script>\n",
              "        <script src=\"https://cdn.plot.ly/plotly-2.18.2.min.js\"></script>                <div id=\"6360ac37-b6c2-45cb-b52b-bcc36a2539ef\" class=\"plotly-graph-div\" style=\"height:525px; width:100%;\"></div>            <script type=\"text/javascript\">                                    window.PLOTLYENV=window.PLOTLYENV || {};                                    if (document.getElementById(\"6360ac37-b6c2-45cb-b52b-bcc36a2539ef\")) {                    Plotly.newPlot(                        \"6360ac37-b6c2-45cb-b52b-bcc36a2539ef\",                        [{\"alignmentgroup\":\"True\",\"bingroup\":\"x\",\"hovertemplate\":\"variable=0<br>value=%{x}<br>count=%{y}<extra></extra>\",\"legendgroup\":\"0\",\"marker\":{\"color\":\"#636efa\",\"pattern\":{\"shape\":\"\"}},\"name\":\"0\",\"nbinsx\":20,\"offsetgroup\":\"0\",\"orientation\":\"v\",\"showlegend\":true,\"x\":[1.0,1.0,1.0,1.0,1.0,1.0,1.0,1.0,1.0,1.0,1.0,1.0,1.0,1.0,1.0,1.0,1.0,1.0,1.0,1.0,1.0,1.0,1.0,1.0,1.0,1.0,1.0,1.0,1.0,1.0,1.0,1.0,1.0,1.0,1.0,1.0,1.0,1.0,1.0,1.0,1.0,1.0,1.0,1.0,1.0,1.0,1.0,1.0,1.0,1.0,1.0,1.0,1.0,1.0,1.0,1.0,1.0,1.0,1.0,1.0,1.0,1.0,1.0,1.0,1.0,1.0,1.0,1.0,1.0,1.0,1.0,1.0,1.0,1.0,1.0,1.0,1.0,1.0,1.0,1.0,1.0,1.0,1.0,1.0,1.0,1.0,1.0,1.0,1.0,1.0,1.0,1.0,1.0,1.0,1.0,1.0,1.0,1.0,1.0,1.0,1.0,1.0,1.0,1.0,1.0,1.0,1.0,1.0,1.0,1.0,1.0,1.0,1.0,1.0,1.0,1.0,1.0,1.0,1.0,1.0,1.0,1.0,1.0,1.0,1.0,1.0,1.0,1.0,1.0,1.0,1.0,1.0,1.0,1.0,1.0,1.0,1.0,1.0,1.0,1.0,1.0,1.0,1.0,1.0,1.0,1.0,1.0,1.0,1.0,1.0,1.0,1.0,1.0,1.0,1.0,1.0,1.0,1.0,1.0,1.0,1.0,1.0,1.0,1.0,1.0,1.0,1.0,1.0,1.0,1.0,1.0,1.0,1.0,1.0,1.0,1.0,1.0,1.0,1.0,1.0,1.0,1.0,1.0,1.0,1.0,1.0,1.0,1.0,1.0,1.0,1.0,1.0,1.0,1.0,1.0,1.0,1.0,1.0,1.0,1.0,1.0,1.0,1.0,1.0,1.0,1.0,1.0,1.0,1.0,1.0,1.0,1.0,1.0,1.0,1.0,1.0,1.0,1.0,1.0,1.0,1.0,1.0,1.0,1.0,1.0,1.0,1.0,1.0,1.0,1.0,1.0,1.0,1.0,1.0,1.0,1.0,1.0,1.0,1.0,1.0,1.0,1.0,1.0,1.0,1.0,1.0,1.0,1.0,1.0,1.0,1.0,1.0,1.0,1.0,1.0,1.0,1.0,1.0,1.0,1.0,1.0,1.0,1.0,1.0,1.0,1.0,1.0,1.0,1.0,1.0,1.0,1.0,1.0,1.0,1.0,1.0,1.0,1.0,1.0,1.0,1.0,1.0,1.0,1.0,1.0,1.0,1.0,1.0,1.0,1.0,1.0,1.0,1.0,1.0,1.0,1.0,1.0,1.0,1.0,1.0,1.0,1.0,1.0,1.0,1.0,1.0,1.0,1.0,1.0,1.0,1.0,1.0,1.0,1.0,1.0,1.0,1.0,1.0,1.0,1.0,1.0,1.0,1.0,1.0,1.0,1.0,1.0,1.0,1.0,1.0,1.0,1.0,1.0,1.0,1.0,1.0,1.0,1.0,1.0,1.0,1.0,1.0,1.0,1.0,1.0,1.0,1.0,1.0,1.0,1.0,1.0,1.0,1.0,1.0,1.0,1.0,1.0,1.0,1.0,1.0,1.0,1.0,1.0,1.0,1.0,1.0,1.0,1.0,1.0,1.0,1.0,1.0,1.0,1.0,1.0,1.0,1.0,1.0,1.0,1.0,1.0,1.0,1.0,1.0,1.0,1.0,1.0,1.0,1.0,1.0,1.0,1.0,1.0,1.0,1.0,1.0,1.0,1.0,1.0,1.0,1.0,1.0,1.0,1.0,1.0,1.0,1.0,1.0,1.0,1.0,1.0,1.0,1.0,1.0,1.0,1.0,1.0,1.0,1.0,1.0,1.0,1.0,1.0,1.0,1.0,1.0,1.0,1.0,1.0,1.0,1.0,1.0,1.0,1.0,1.0,1.0,1.0,1.0,1.0,1.0,1.0,1.0,1.0,1.0,1.0,1.0,1.0,1.0,1.0,1.0,1.0,1.0,1.0,1.0,1.0,1.0,1.0,1.0,1.0,1.0,1.0,1.0,1.0,1.0,1.0,1.0,1.0,1.0,1.0,1.0,1.0,1.0,1.0,1.0,1.0,1.0,1.0,1.0,1.0,1.0,1.0,1.0,1.0,1.0,1.0,1.0,1.0,1.0,1.0,1.0,1.0,1.0,1.0,1.0,1.0,1.0,1.0,1.0,1.0,1.0,1.0,1.0,1.0,1.0,1.0,1.0,1.0,1.0,1.0,1.0,1.0,1.0,1.0,1.0,1.0,1.0,1.0,1.0,1.0,1.0,1.0,1.0,1.0,1.0,1.0,1.0,1.0,1.0,1.0,1.0,1.0,1.0,1.0,1.0,1.0,1.0,1.0,1.0,1.0,1.0,1.0,1.0,1.0,1.0,1.0,1.0,1.0,1.0,1.0,1.0,1.0,1.0,1.0,1.0,1.0,1.0,1.0,1.0,1.0,1.0,1.0,1.0,1.0,1.0,1.0,1.0,1.0,1.0,1.0,1.0,1.0,1.0,1.0,1.0,1.0,1.0,1.0,1.0,1.0,1.0,1.0,1.0,1.0,1.0,1.0,1.0,1.0,1.0,1.0,1.0,1.0,1.0,1.0,1.0,1.0,1.0,1.0,1.0,1.0,1.0,1.0,1.0,1.0,1.0,1.0,1.0,1.0,1.0,1.0,1.0,1.0,1.0,1.0,1.0,1.0,1.0,1.0,1.0,1.0,1.0,1.0,1.0,1.0,1.0,1.0,1.0,1.0,1.0,1.0,1.0,1.0,1.0,1.0,1.0,1.0,1.0,1.0,1.0,1.0,1.0,1.0,1.0,1.0,1.0,1.0,1.0,1.0,1.0,1.0,1.0,1.0,1.0,1.0,1.0,1.0,1.0,1.0,1.0,1.0,1.0,1.0,1.0,1.0,1.0,1.0,1.0,1.0,1.0,1.0,1.0,1.0,1.0,1.0,1.0,1.0,1.0,1.0,1.0,1.0,1.0,1.0,1.0,1.0,1.0,1.0,1.0,1.0,1.0,1.0,1.0,1.0,1.0,1.0,1.0,1.0,1.0,1.0,1.0,1.0,1.0,1.0,1.0,1.0,1.0,1.0,1.0,1.0,1.0,1.0,1.0,1.0,1.0,1.0,1.0,1.0,1.0,1.0,1.0,1.0,1.0,1.0,1.0,1.0,1.0,1.0,1.0,1.0,1.0,1.0,1.0,1.0,1.0,1.0,1.0,1.0,1.0,1.0,1.0,1.0,1.0,1.0,1.0,1.0,1.0,1.0,1.0,1.0,1.0,1.0,1.0,1.0,1.0,1.0,1.0,1.0,1.0,1.0,1.0,1.0,1.0,1.0,1.0,1.0,1.0,1.0,1.0,1.0,1.0,1.0,1.0,1.0,1.0,1.0,1.0,1.0,1.0,1.0,1.0,1.0,1.0,1.0,1.0,1.0,1.0,1.0,1.0,1.0,1.0,1.0,1.0,1.0,1.0,1.0,1.0,1.0,1.0,1.0,1.0,1.0,1.0,1.0,1.0,1.0,1.0,1.0,1.0,1.0,1.0,1.0,1.0,1.0,1.0,1.0,1.0,1.0,1.0,1.0,1.0,1.0,1.0,1.0,1.0,1.0,1.0,1.0,1.0,1.0,1.0,1.0,1.0,1.0,1.0,1.0,1.0,1.0,1.0,1.0,1.0,1.0,1.0,1.0,1.0,1.0,1.0,1.0,1.0,1.0,1.0,1.0,1.0,1.0,1.0,1.0,1.0,1.0,1.0,1.0,1.0,1.0,1.0,1.0,1.0,1.0,1.0,1.0,1.0,1.0,1.0,1.0,1.0,1.0,1.0,1.0,1.0,1.0,1.0,1.0,1.0,1.0,1.0,1.0,1.0,1.0,1.0,1.0,1.0,1.0,1.0,1.0,1.0,1.0,1.0,1.0,1.0,1.0,1.0,1.0,1.0,1.0,1.0,1.0,1.0,1.0,1.0,1.0,1.0,1.0,1.0,1.0,1.0,1.0,1.0,1.0,1.0,1.0,1.0,1.0,1.0,1.0,1.0,1.0,1.0,1.0,1.0,1.0,1.0,1.0,1.0,1.0,1.0,1.0,1.0,1.0,1.0,1.0,1.0,1.0,1.0,1.0,1.0,1.0,1.0,1.0,1.0,1.0,1.0,1.0,1.0,1.0,1.0,1.0,1.0,1.0,1.0,1.0,1.0,1.0,1.0,1.0,1.0,1.0,1.0,1.0,1.0,1.0,1.0,1.0,1.0,1.0,1.0,1.0,1.0,1.0,1.0,1.0,1.0,1.0,1.0,1.0,1.0,1.0,1.0,1.0,1.0,1.0,1.0,1.0,1.0,1.0,1.0,1.0,1.0,1.0,1.0,1.0,1.0,1.0,1.0,1.0,1.0,1.0,1.0,1.0,1.0,1.0,1.0,1.0,1.0,1.0,1.0,1.0,1.0,1.0,1.0,1.0,1.0,1.0,1.0,1.0,1.0,1.0,1.0,1.0,1.0,1.0,1.0,1.0,1.0,1.0,1.0,1.0,1.0,1.0,1.0,1.0,1.0,1.0,1.0,1.0,1.0,1.0,1.0,1.0,1.0,1.0,1.0,1.0,1.0,1.0,1.0,1.0,1.0,1.0,1.0,1.0,1.0,1.0,1.0,1.0,1.0,1.0,1.0,1.0,1.0,1.0,1.0,1.0,1.0,1.0,1.0,1.0,1.0,1.0,1.0,1.0,1.0,1.0,1.0,1.0,1.0,1.0,1.0,1.0,1.0,1.0,1.0,1.0,1.0,1.0,1.0,1.0,1.0,1.0,1.0,1.0,1.0,1.0,1.0,1.0,1.0,1.0,1.0,1.0,1.0,1.0,1.0,1.0,1.0,1.0,1.0,1.0,1.0,1.0,1.0,1.0,1.0,1.0,1.0,1.0,1.0,1.0,1.0,1.0,1.0,1.0,1.0,1.0,1.0,1.0,1.0,1.0,1.0,1.0,1.0,1.0,1.0,1.0,1.0,1.0,1.0,1.0,1.0,1.0,1.0,1.0,1.0,1.0,1.0,1.0,1.0,1.0,1.0,1.0,1.0,1.0,1.0,1.0,1.0,1.0,1.0,1.0,1.0,1.0,1.0,1.0,1.0,1.0,1.0,1.0,1.0,1.0,1.0,1.0,1.0,1.0,1.0,1.0,1.0,1.0,1.0,1.0,1.0,1.0,1.0,1.0,1.0,1.0,1.0,1.0,1.0,1.0,1.0,1.0,1.0,1.0,1.0,1.0,1.0,1.0,1.0,1.0,1.0,1.0,1.0,1.0,1.0,1.0,1.0,1.0,1.0,1.0,1.0,1.0,1.0,1.0,1.0,1.0,1.0,1.0,1.0,1.0,1.0,1.0,1.0,1.0,1.0,1.0,1.0,1.0,1.0,1.0,1.0,1.0,1.0,1.0,1.0,1.0,1.0,1.0,1.0,1.0,1.0,1.0,1.0,1.0,1.0,1.0,1.0,1.0,1.0,1.0,1.0,1.0,1.0,1.0,1.0,1.0,1.0,1.0,1.0,1.0,1.0,1.0,1.0,1.0,1.0,1.0,1.0,1.0,1.0,1.0,1.0,1.0,1.0,1.0,1.0,1.0,1.0,1.0,1.0,1.0,1.0,1.0,1.0,1.0,1.0,1.0,1.0,1.0,1.0,1.0,1.0,1.0,1.0,1.0,1.0,1.0,1.0,1.0,1.0,1.0,1.0,1.0,1.0,1.0,1.0,1.0,1.0,1.0,1.0,1.0,1.0,1.0,1.0,1.0,1.0,1.0,1.0,1.0,1.0,1.0,1.0,1.0,1.0,1.0,1.0,1.0,1.0,1.0,1.0,1.0,1.0,1.0,1.0,1.0,1.0,1.0,1.0,1.0,1.0,1.0,1.0,1.0,1.0,1.0,1.0,1.0,1.0,1.0,1.0,1.0,1.0,1.0,1.0,1.0,1.0,1.0,1.0,1.0,1.0,1.0,1.0,1.0,1.0,1.0,1.0,1.0,1.0,1.0,1.0,1.0,1.0,1.0,1.0,1.0,1.0,1.0,1.0,1.0,1.0,1.0,1.0,1.0,1.0,1.0,1.0,1.0,1.0,1.0,1.0,1.0,1.0,1.0,1.0,1.0,1.0,1.0,1.0,1.0,1.0,1.0,1.0,1.0,1.0,1.0,1.0,1.0,1.0,1.0,1.0,1.0,1.0,1.0,1.0,1.0,1.0,1.0,1.0,1.0,1.0,1.0,1.0,1.0,1.0,1.0,1.0,1.0,1.0,1.0,1.0,1.0,1.0,1.0,1.0,1.0,1.0,1.0,1.0,1.0,1.0,1.0,1.0,1.0,1.0,1.0,1.0,1.0,1.0,1.0,1.0,1.0,1.0,1.0,1.0,1.0,1.0,1.0,1.0,1.0,1.0,1.0,1.0,1.0,1.0,1.0,1.0,1.0,1.0,1.0,1.0,1.0,1.0,1.0,1.0,1.0,1.0,1.0,1.0,1.0,1.0,1.0,1.0,1.0,1.0,1.0,1.0,1.0,1.0,1.0,1.0,1.0,1.0,1.0,1.0,1.0,1.0,1.0,1.0,1.0,1.0,1.0,1.0,1.0,1.0,1.0,1.0,1.0,1.0,1.0,1.0,1.0,1.0,1.0,1.0,1.0,1.0,1.0,1.0,1.0,1.0,1.0,1.0,1.0,1.0,1.0,1.0,1.0,1.0,1.0,1.0,1.0,1.0,1.0,1.0,1.0,1.0,1.0,1.0,1.0,1.0,1.0,1.0,1.0,1.0,1.0,1.0,1.0,1.0,1.0,1.0,1.0,1.0,1.0,1.0,1.0,1.0,1.0,1.0,1.0,1.0,1.0,1.0,1.0,1.0,1.0,1.0,1.0,1.0,1.0,1.0,1.0,1.0,1.0,1.0,1.0,1.0,1.0,1.0,1.0,1.0,1.0,1.0,1.0,1.0,1.0,1.0,1.0,1.0,1.0,1.0,1.0,1.0,1.0,1.0,1.0,1.0,1.0,1.0,1.0,1.0,1.0,1.0,1.0,1.0,1.0,1.0,1.0,1.0,1.0,1.0,1.0,1.0,1.0,1.0,1.0,1.0,1.0,1.0,1.0,1.0,1.0,1.0,1.0,1.0,1.0,1.0,1.0,1.0,1.0,1.0,1.0,1.0,1.0,1.0,1.0,1.0,1.0,1.0,1.0,1.0,1.0,1.0,1.0,1.0,1.0,1.0,1.0,1.0,1.0,1.0,1.0,1.0,1.0,1.0,1.0,1.0,1.0,1.0,1.0,1.0,1.0,1.0,1.0,1.0,1.0,1.0,1.0,1.0,1.0,1.0,1.0,1.0,1.0,1.0,1.0,1.0,1.0,1.0,1.0,1.0,1.0,1.0,1.0,1.0,1.0,1.0,1.0,1.0,1.0,1.0,1.0,1.0,1.0,1.0,1.0,1.0,1.0,1.0,1.0,1.0,1.0,1.0,1.0,1.0,1.0,1.0,1.0,1.0,1.0,1.0,1.0,1.0,1.0,1.0,1.0,1.0,1.0,1.0,1.0,1.0,1.0,1.0,1.0,1.0,1.0,1.0,1.0,1.0,1.0,1.0,1.0,1.0,1.0,1.0,1.0,1.0,1.0,1.0,1.0,1.0,1.0,1.0,1.0,1.0,1.0,1.0,1.0,1.0,1.0,1.0,1.0,1.0,1.0,1.0,1.0,1.0,1.0,1.0,1.0,1.0,1.0,1.0,1.0,1.0,1.0,1.0,1.0,1.0,1.0,1.0,1.0,1.0,1.0,1.0,1.0,1.0,1.0,1.0,1.0,1.0,1.0,1.0,1.0,1.0,1.0,1.0,1.0,1.0,1.0,1.0,1.0,1.0,1.0,1.0,1.0,1.0,1.0,1.0,1.0,1.0,1.0,1.0,1.0,1.0,1.0,1.0,1.0,1.0,1.0,1.0,1.0,1.0,1.0,1.0,1.0,1.0,1.0,1.0,1.0,1.0,1.0,1.0,1.0,1.0,1.0,1.0,1.0,1.0,1.0,1.0,1.0,1.0,1.0,1.0,1.0,1.0,1.0,1.0,1.0,1.0,1.0,1.0,1.0,1.0,1.0,1.0,1.0,1.0,1.0,1.0,1.0,1.0,1.0,1.0,1.0,1.0,1.0,1.0,1.0,1.0,1.0,1.0,1.0,1.0,1.0,1.0,1.0,1.0,1.0,1.0,1.0,1.0,1.0,1.0,1.0,1.0,1.0,1.0,1.0,1.0,1.0,1.0,1.0,1.0,1.0,1.0,1.0,1.0,1.0,1.0,1.0,1.0,1.0,1.0,1.0,1.0,1.0,1.0,1.0,1.0,1.0,1.0,1.0,1.0,1.0,1.0,1.0,1.0,1.0,1.0,1.0,1.0,1.0,1.0,1.0,1.0,1.0,1.0,1.0,1.0,1.0,1.0,1.0,1.0,1.0,1.0,1.0,1.0,1.0,1.0,1.0,1.0,1.0,1.0,1.0,1.0,1.0,1.0,1.0,1.0,1.0,1.0,1.0,1.0,1.0,1.0,1.0,1.0,1.0,1.0,1.0,1.0,1.0,1.0,1.0,1.0,1.0,1.0,1.0,1.0,1.0,1.0,1.0,1.0,1.0,1.0,1.0,1.0,1.0,1.0,1.0,1.0,1.0,1.0,1.0,1.0,1.0,1.0,1.0,1.0,1.0,1.0,1.0,1.0,1.0,1.0,1.0,1.0,1.0,1.0,1.0,1.0,1.0,1.0,1.0,1.0,1.0,1.0,1.0,1.0,1.0,1.0,1.0,1.0,1.0,1.0,1.0,1.0,1.0,1.0,1.0,1.0,1.0,1.0,1.0,1.0,1.0,1.0,1.0,1.0,1.0,1.0,1.0,1.0,1.0,1.0,1.0,1.0,1.0,1.0,1.0,1.0,1.0,1.0,1.0,1.0,1.0,1.0,1.0,1.0,1.0,1.0,1.0,1.0,1.0,1.0,1.0,1.0,1.0,1.0,1.0,1.0,1.0,1.0,1.0,1.0,1.0,1.0,1.0,1.0,1.0,1.0,1.0,1.0,1.0,1.0,1.0,1.0,1.0,1.0,1.0,1.0,1.0,1.0,1.0,1.0,1.0,1.0,1.0,1.0,1.0,1.0,1.0,1.0,1.0,1.0,1.0,1.0,1.0,1.0,1.0,1.0,1.0,1.0,1.0,1.0,1.0,1.0,1.0,1.0,1.0,1.0,1.0,1.0,1.0,1.0,1.0,1.0,1.0,1.0,1.0,1.0,1.0,1.0,1.0,1.0,1.0,1.0,1.0,1.0,1.0,1.0,1.0,1.0,1.0,1.0,1.0,1.0,1.0,1.0,1.0,1.0,1.0,1.0,1.0,1.0,1.0,1.0,1.0,1.0,1.0,1.0,1.0,1.0,1.0,1.0,1.0,1.0,1.0,1.0,1.0,1.0,1.0,1.0,1.0,1.0,1.0,1.0,1.0,1.0,1.0,1.0,1.0,1.0,1.0,1.0,1.0,1.0,1.0,1.0,1.0,1.0,1.0,1.0,1.0,1.0,1.0,1.0,1.0,1.0,1.0,1.0,1.0,1.0,1.0,1.0,1.0,1.0,1.0,1.0,1.0,1.0,1.0,1.0,1.0,1.0,1.0,1.0,1.0,1.0,1.0,1.0,1.0,1.0,1.0,1.0,1.0,1.0,1.0,1.0,1.0,1.0,1.0,1.0,1.0,1.0,1.0,1.0,1.0,1.0,1.0,1.0,1.0,1.0,1.0,1.0,1.0,1.0,1.0,1.0,1.0,1.0,1.0,1.0,1.0,1.0,1.0,1.0,1.0,1.0,1.0,1.0,1.0,1.0,1.0,1.0,1.0,1.0,1.0,1.0,1.0,1.0,1.0,1.0,1.0,1.0,1.0,1.0,1.0,1.0,1.0,1.0,1.0,1.0,1.0,1.0,1.0,1.0,1.0,1.0,1.0,1.0,1.0,1.0,1.0,1.0,1.0,1.0,1.0,1.0,1.0,1.0,1.0,1.0,1.0,1.0,1.0,1.0,1.0,1.0,1.0,1.0,1.0,1.0,1.0,1.0,1.0,1.0,1.0,1.0,1.0,1.0,1.0,1.0,1.0,1.0,1.0,1.0,1.0,1.0,1.0,1.0,1.0,1.0,1.0,1.0,1.0,1.0,1.0,1.0,1.0,1.0,1.0,1.0,1.0,1.0,1.0,1.0,1.0,1.0,1.0,1.0,1.0,1.0,1.0,1.0,1.0,1.0,1.0,1.0,1.0,1.0,1.0,1.0,1.0,1.0,1.0,1.0,1.0,1.0,1.0,1.0,1.0,1.0,1.0,1.0,1.0,1.0,1.0,1.0,1.0,1.0,1.0,1.0,1.0,1.0,1.0,1.0,1.0,1.0,1.0,1.0,1.0,1.0,1.0,1.0,1.0,1.0,1.0,1.0,1.0,1.0,1.0,1.0,1.0,1.0,1.0,1.0,1.0,1.0,1.0,1.0,1.0,1.0,1.0,1.0,1.0,1.0,1.0,1.0,1.0,1.0,1.0,1.0,1.0,1.0,1.0,1.0,1.0,1.0,1.0,1.0,1.0,1.0,1.0,1.0,1.0,1.0,1.0,1.0,1.0,1.0,1.0,1.0,1.0,1.0,1.0,1.0,1.0,1.0,1.0,1.0,1.0,1.0,1.0,1.0,1.0,1.0,1.0,1.0,1.0,1.0,1.0,1.0,1.0,1.0,1.0,1.0,1.0,1.0,1.0,1.0,1.0,1.0,1.0,1.0,1.0,1.0,1.0,1.0,1.0,1.0,1.0,1.0,1.0,1.0,1.0,1.0,1.0,1.0,1.0,1.0,1.0,1.0,1.0,1.0,1.0,1.0,1.0,1.0,1.0,1.0,1.0,1.0,1.0,1.0,1.0,1.0,1.0,1.0,1.0,1.0,1.0,1.0,1.0,1.0,1.0,1.0,1.0,1.0,1.0,1.0,1.0,1.0,1.0,1.0,1.0,1.0,1.0,1.0,1.0,1.0,1.0,1.0,1.0,1.0,1.0,1.0,1.0,1.0,1.0,1.0,1.0,1.0,1.0,1.0,1.0,1.0,1.0,1.0,1.0,1.0,1.0,1.0,1.0,1.0,1.0,1.0,1.0,1.0,1.0,1.0,1.0,1.0,1.0,1.0,1.0,1.0,1.0,1.0,1.0,1.0,1.0,1.0,1.0,1.0,1.0,1.0,1.0,1.0,1.0,1.0,1.0,1.0,1.0,1.0,1.0,1.0,1.0,1.0,1.0,1.0,1.0,1.0,1.0,1.0,1.0,1.0,1.0,1.0,1.0,1.0,1.0,1.0,1.0,1.0,1.0,1.0,1.0,1.0,1.0,1.0,1.0,1.0,1.0,1.0,1.0,1.0,1.0,1.0,1.0,1.0,1.0,1.0,1.0,1.0,1.0,1.0,1.0,1.0,1.0,1.0,1.0,1.0,1.0,1.0,1.0,1.0,1.0,1.0,1.0,1.0,1.0,1.0,1.0,1.0,1.0,1.0,1.0,1.0,1.0,1.0,1.0,1.0,1.0,1.0,1.0,1.0,1.0,1.0,1.0,1.0,1.0,1.0,1.0,1.0,1.0,1.0,1.0,1.0,1.0,1.0,1.0,1.0,1.0,1.0,1.0,1.0,1.0,1.0,1.0,1.0,1.0,1.0,1.0,1.0,1.0,1.0,1.0,1.0,1.0,1.0,1.0,1.0,1.0,1.0,1.0,1.0,1.0,1.0,1.0,1.0,1.0,1.0,1.0,1.0,1.0,1.0,1.0,1.0,1.0,1.0,1.0,1.0,1.0,1.0,1.0,1.0,1.0,1.0,1.0,1.0,1.0,1.0,1.0,1.0,1.0,1.0,1.0,1.0,1.0,1.0,1.0,1.0,1.0,1.0,1.0,1.0,1.0,1.0,1.0,1.0,1.0,1.0,1.0,1.0,1.0,1.0,1.0,1.0,1.0,1.0,1.0,1.0,1.0,1.0,1.0,1.0,1.0,1.0,1.0,1.0,1.0,1.0,1.0,1.0,1.0,1.0,1.0,1.0,1.0,1.0,1.0,1.0,1.0,1.0,1.0,1.0,1.0,1.0,1.0,1.0,1.0,1.0,1.0,1.0,1.0,1.0,1.0,1.0,1.0,1.0,1.0,1.0,1.0,1.0,1.0,1.0,1.0,1.0,1.0,1.0,1.0,1.0,1.0,1.0,1.0,1.0,1.0,1.0,1.0,1.0,1.0,1.0,1.0,1.0,1.0,1.0,1.0,1.0,1.0,1.0,1.0,1.0,1.0,1.0,1.0,1.0,1.0,1.0,1.0,1.0,1.0,1.0,1.0,1.0,1.0,1.0,1.0,1.0,1.0,1.0,1.0,1.0,1.0,1.0,1.0,1.0,1.0,1.0,1.0,1.0,1.0,1.0,1.0,1.0,1.0,1.0,1.0,1.0,1.0,1.0,1.0,1.0,1.0,1.0,1.0,1.0,1.0,1.0,1.0,1.0,1.0,1.0,1.0,1.0,1.0,1.0,1.0,1.0,1.0,1.0,1.0,1.0,1.0,1.0,1.0,1.0,1.0,1.0,1.0,1.0,1.0,1.0,1.0,1.0,1.0,1.0,1.0,1.0,1.0,1.0,1.0,1.0,1.0,1.0,1.0,1.0,1.0,1.0,1.0,1.0,1.0,1.0,1.0,1.0,1.0,1.0,1.0,1.0,1.0,1.0,1.0,1.0,1.0,1.0,1.0,1.0,1.0,1.0,1.0,1.0,1.0,1.0,1.0,1.0,1.0,1.0,1.0,1.0,1.0,1.0,1.0,1.0,1.0,1.0,1.0,1.0,1.0,1.0,1.0,1.0,1.0,1.0,1.0,1.0,1.0,1.0,1.0,1.0,1.0,1.0,1.0,1.0,1.0,1.0,1.0,1.0,1.0,1.0,1.0,1.0,1.0,1.0,1.0,1.0,1.0,1.0,1.0,1.0,1.0,1.0,1.0,1.0,1.0,1.0,1.0,1.0,1.0,1.0,1.0,1.0,1.0,1.0,1.0,1.0,1.0,1.0,1.0,1.0,1.0,1.0,1.0,1.0,1.0,1.0,1.0,1.0,1.0,1.0,1.0,1.0,1.0,1.0,1.0,1.0,1.0,1.0,1.0,1.0,1.0,1.0,1.0,1.0,1.0,1.0,1.0,1.0,1.0,1.0,1.0,1.0,1.0,1.0,1.0,1.0,1.0,1.0,1.0,1.0,1.0,1.0,1.0,1.0,1.0,1.0,1.0,1.0,1.0,1.0,1.0,1.0,1.0,1.0,1.0,1.0,1.0,1.0,1.0,1.0,1.0,1.0,1.0,1.0,1.0,1.0,1.0,1.0,1.0,1.0,1.0,1.0,1.0,1.0,1.0,1.0,1.0,1.0,1.0,1.0,1.0,1.0,1.0,1.0,1.0,1.0,1.0,1.0,1.0,1.0,1.0,1.0,1.0,1.0,1.0,1.0,1.0,1.0,1.0,1.0,1.0,1.0,1.0,1.0,1.0,1.0,1.0,1.0,1.0,1.0,1.0,1.0,1.0,1.0,1.0,1.0,1.0,1.0,1.0,1.0,1.0,1.0,1.0,1.0,1.0,1.0,1.0,1.0,1.0,1.0,1.0,1.0,1.0,1.0,1.0,1.0,1.0,1.0,1.0,1.0,1.0,1.0,1.0,1.0,1.0,1.0,1.0,1.0,1.0,1.0,1.0,1.0,1.0,1.0,1.0,1.0,1.0,1.0,1.0,1.0,1.0,1.0,1.0,1.0,1.0,1.0,1.0,1.0,1.0,1.0,1.0,1.0,1.0,1.0,1.0,1.0,1.0,1.0,1.0,1.0,1.0,1.0,1.0,1.0,1.0,1.0,1.0,1.0,1.0,1.0,1.0,1.0,1.0,1.0,1.0,1.0,1.0,1.0,1.0,1.0,1.0,1.0,1.0,1.0,1.0,1.0,1.0,1.0,1.0,1.0,1.0,1.0,1.0,1.0,1.0,1.0,1.0,1.0,1.0,1.0,1.0,1.0,1.0,1.0,1.0,1.0,1.0,1.0,1.0,1.0,1.0,1.0,1.0,1.0,1.0,1.0,1.0,1.0,1.0,1.0,1.0,1.0,1.0,1.0,1.0,1.0,1.0,1.0,1.0,1.0,1.0,1.0,1.0,1.0,1.0,1.0,1.0,1.0,1.0,1.0,1.0,1.0,1.0,1.0,1.0,1.0,1.0,1.0,1.0,1.0,1.0,1.0,1.0,1.0,1.0,1.0,1.0,1.0,1.0,1.0,1.0,1.0,1.0,1.0,1.0,1.0,1.0,1.0,1.0,1.0,1.0,1.0,1.0,1.0,1.0,1.0,1.0,1.0,1.0,1.0,1.0,1.0,1.0,1.0,1.0,1.0,1.0,1.0,1.0,1.0,1.0,1.0,1.0,1.0,1.0,1.0,1.0,1.0,1.0,1.0,1.0,1.0,1.0,1.0,1.0,1.0,1.0,1.0,1.0,1.0,1.0,1.0,1.0,1.0,1.0,1.0,1.0,1.0,1.0,1.0,1.0,1.0,1.0,1.0,1.0,1.0,1.0,1.0,1.0,1.0,1.0,1.0,1.0,1.0,1.0,1.0,1.0,1.0,1.0,1.0,1.0,1.0,1.0,1.0,1.0,1.0,1.0,1.0,1.0,1.0,1.0,1.0,1.0,1.0,1.0,1.0,1.0,1.0,1.0,1.0,1.0,1.0,1.0,1.0,1.0,1.0,1.0,1.0,1.0,1.0,1.0,1.0,1.0,1.0,1.0,1.0,1.0,1.0,1.0,1.0,1.0,1.0,1.0,1.0,1.0,1.0,1.0,1.0,1.0,1.0,1.0,1.0,1.0,1.0,1.0,1.0,1.0,1.0,1.0,1.0,1.0,1.0,1.0,1.0,1.0,1.0,1.0,1.0,1.0,1.0,1.0,1.0,1.0,1.0,1.0,1.0,1.0,1.0,1.0,1.0,1.0,1.0,1.0,1.0,1.0,1.0,1.0,1.0,1.0,1.0,1.0,1.0,1.0,1.0,1.0,1.0,1.0,1.0,1.0,1.0,1.0,1.0,1.0,1.0,1.0,1.0,1.0,1.0,1.0,1.0,1.0,1.0,1.0,1.0,1.0,1.0,1.0,1.0,1.0,1.0,1.0,1.0,1.0,1.0,1.0,1.0,1.0,1.0,1.0,1.0,1.0,1.0,1.0,1.0,1.0,1.0,1.0,1.0,1.0,1.0,1.0,1.0,1.0,1.0,1.0,1.0,1.0,1.0,1.0,1.0,1.0,1.0,1.0,1.0,1.0,1.0,1.0,1.0,1.0,1.0,1.0,1.0,1.0,1.0,1.0,1.0,1.0,1.0,1.0,1.0,1.0,1.0,1.0,1.0,1.0,1.0,1.0,1.0,1.0,1.0,1.0,1.0,1.0,1.0,1.0,1.0,1.0,1.0,1.0,1.0,1.0,1.0,1.0,1.0,1.0,1.0,1.0,1.0,1.0,1.0,1.0,1.0,1.0,1.0,1.0,1.0,1.0,1.0,1.0,1.0,1.0,1.0,1.0,1.0,1.0,1.0,1.0,1.0,1.0,1.0,1.0,1.0,1.0,1.0,1.0,1.0,1.0,1.0,1.0,1.0,1.0,1.0,1.0,1.0,1.0,1.0,1.0,1.0,1.0,1.0,1.0,1.0,1.0,1.0,1.0,1.0,1.0,1.0,1.0,1.0,1.0,1.0,1.0,1.0,1.0,1.0,1.0,1.0,1.0,1.0,1.0,1.0,1.0,1.0,1.0,1.0,1.0,1.0,1.0,1.0,1.0,1.0,1.0,1.0,1.0,1.0,1.0,1.0,1.0,1.0,1.0,1.0,1.0,1.0,1.0,1.0,1.0,1.0,1.0,1.0,1.0,1.0,1.0,1.0,1.0,1.0,1.0,1.0,1.0,1.0,1.0,1.0,1.0,1.0,1.0,1.0,1.0,1.0,1.0,1.0,1.0,1.0,1.0,1.0,1.0,1.0,1.0,1.0,1.0,1.0,1.0,1.0,1.0,1.0,1.0,1.0,1.0,1.0,1.0,1.0,1.0,1.0,1.0,1.0,1.0,1.0,1.0,1.0,1.0,1.0,1.0,1.0,1.0,1.0,1.0,1.0,1.0,1.0,1.0,1.0,1.0,1.0,1.0,1.0,1.0,1.0,1.0,1.0,1.0,1.0,1.0,1.0,1.0,1.0,1.0,1.0,1.0,1.0,1.0,1.0,1.0,1.0,1.0,1.0,1.0,1.0,1.0,1.0,1.0,1.0,1.0,1.0,1.0,1.0,1.0,1.0,1.0,1.0,1.0,1.0,1.0,1.0,1.0,1.0,1.0,1.0,1.0,1.0,1.0,1.0,1.0,1.0,1.0,1.0,1.0,1.0,1.0,1.0,1.0,1.0,1.0,1.0,1.0,1.0,1.0,1.0,1.0,1.0,1.0,1.0,1.0,1.0,1.0,1.0,1.0,1.0,1.0,1.0,1.0,1.0,1.0,1.0,1.0,1.0,1.0,1.0,1.0,1.0,1.0,1.0,1.0,1.0,1.0,1.0,1.0,1.0,1.0,1.0,1.0,1.0,1.0,1.0,1.0,1.0,1.0,1.0,1.0,1.0,1.0,1.0,1.0,1.0,1.0,1.0,1.0,1.0,1.0,1.0,1.0,1.0,1.0,1.0,1.0,1.0,1.0,1.0,1.0,1.0,1.0,1.0,1.0,1.0,1.0,1.0,1.0,1.0,1.0,1.0,1.0,1.0,1.0,1.0,1.0,1.0,1.0,1.0,1.0,1.0,1.0,1.0,1.0,1.0,1.0,1.0,1.0,1.0,1.0,1.0,1.0,1.0,1.0,1.0,1.0,1.0,1.0,1.0,1.0,1.0,1.0,1.0,1.0,1.0,1.0,1.0,1.0,1.0,1.0,1.0,1.0,1.0,1.0,1.0,1.0,1.0,1.0,1.0,1.0,1.0,1.0,1.0,1.0,1.0,1.0,1.0,1.0,1.0,1.0,1.0,1.0,1.0,1.0,1.0,1.0,1.0,1.0,1.0,1.0,1.0,1.0,1.0,1.0,1.0,1.0,1.0,1.0,1.0,1.0,1.0,1.0,1.0,1.0,1.0,1.0,1.0,1.0,1.0,1.0,1.0,1.0,1.0,1.0,1.0,1.0,1.0,1.0,1.0,1.0,1.0,1.0,1.0,1.0,1.0,1.0,1.0,1.0,1.0,1.0,1.0,1.0,1.0,1.0,1.0,1.0,1.0,1.0,1.0,1.0,1.0,1.0,1.0,1.0,1.0,1.0,1.0,1.0,1.0,1.0,1.0,1.0,1.0,1.0,1.0,1.0,1.0,1.0,1.0,1.0,1.0,1.0,1.0,1.0,1.0,1.0,1.0,1.0,1.0,1.0,1.0,1.0,1.0,1.0,1.0,1.0,1.0,1.0,1.0,1.0,1.0,1.0,1.0,1.0,1.0,1.0,1.0,1.0,1.0,1.0,1.0,1.0,1.0,1.0,1.0,1.0,1.0,1.0,1.0,1.0,1.0,1.0,1.0,1.0,1.0,1.0,1.0,1.0,1.0,1.0,1.0,1.0,1.0,1.0,1.0,1.0,1.0,1.0,1.0,1.0,1.0,1.0,1.0,1.0,1.0,1.0,1.0,1.0,1.0,1.0,1.0,1.0,1.0,1.0,1.0,1.0,1.0,1.0,1.0,1.0,1.0,1.0,1.0,1.0,1.0,1.0,1.0,1.0,1.0,1.0,1.0,1.0,1.0,1.0,1.0,1.0,1.0,1.0,1.0,1.0,1.0,1.0,1.0,1.0,1.0,1.0,1.0,1.0,1.0,1.0,1.0,1.0,1.0,1.0,1.0,1.0,1.0,1.0,1.0,1.0,1.0,1.0,1.0,1.0,1.0,1.0,1.0,1.0,1.0,1.0,1.0,1.0,1.0,1.0,1.0,1.0,1.0,1.0,1.0,1.0,1.0,1.0,1.0,1.0,1.0,1.0,1.0,1.0,1.0,1.0,1.0,1.0,1.0,1.0,1.0,1.0,1.0,1.0,1.0,1.0,1.0,1.0,1.0,1.0,1.0,1.0,1.0,1.0,1.0,1.0,1.0,1.0,1.0,1.0,1.0,1.0,1.0,1.0,1.0,1.0,1.0,1.0,1.0,1.0,1.0,1.0,1.0,1.0,1.0,1.0,1.0,1.0,1.0,1.0,1.0,1.0,1.0,1.0,1.0,1.0,1.0,1.0,1.0,1.0,1.0,1.0,1.0,1.0,1.0,1.0,1.0,1.0,1.0,1.0,1.0,1.0,1.0,1.0,1.0,1.0,1.0,1.0,1.0,1.0,1.0,1.0,1.0,1.0,1.0,1.0,1.0,1.0,1.0,1.0,1.0,1.0,1.0,1.0,1.0,1.0,1.0,1.0,1.0,1.0,1.0,1.0,1.0,1.0,1.0,1.0,1.0,1.0,1.0,1.0,1.0,1.0,1.0,1.0,1.0,1.0,1.0,1.0,1.0,1.0,1.0,1.0,1.0,1.0,1.0,1.0,1.0,1.0,1.0,1.0,1.0,1.0,1.0,1.0,1.0,1.0,1.0,1.0,1.0,1.0,1.0,1.0,1.0,1.0,1.0,1.0,1.0,1.0,1.0,1.0,1.0,1.0,1.0,1.0,1.0,1.0,1.0,1.0,1.0,1.0,1.0,1.0,1.0,1.0,1.0,1.0,1.0,1.0,1.0,1.0,1.0,1.0,1.0,1.0,1.0,1.0,1.0,1.0,1.0,1.0,1.0,1.0,1.0,1.0,1.0,1.0,1.0,1.0,1.0,1.0,1.0,1.0,1.0,1.0,1.0,1.0,1.0,1.0,1.0,1.0,1.0,1.0,1.0,1.0,1.0,1.0,1.0,1.0,1.0,1.0,1.0,1.0,1.0,1.0,1.0,1.0,1.0,1.0,1.0,1.0,1.0,1.0,1.0,1.0,1.0,1.0,1.0,1.0,1.0,1.0,1.0,1.0,1.0,1.0,1.0,1.0,1.0,1.0,1.0,1.0,1.0,1.0,1.0,1.0,1.0,1.0,1.0,1.0,1.0,1.0,1.0,1.0,1.0,1.0,1.0,1.0,1.0,1.0,1.0,1.0,1.0,1.0,1.0,1.0,1.0,1.0,1.0,1.0,1.0,1.0,1.0,1.0,1.0,1.0,1.0,1.0,1.0,1.0,1.0,1.0,1.0,1.0,1.0,1.0,1.0,1.0,1.0,1.0,1.0,1.0,1.0,1.0,1.0,1.0,1.0,1.0,1.0,1.0,1.0,1.0,1.0,1.0,1.0,1.0,1.0,1.0,1.0,1.0,1.0,1.0,1.0,1.0,1.0,1.0,1.0,1.0,1.0,1.0,1.0,1.0,1.0,1.0,1.0,1.0,1.0,1.0,1.0,1.0,1.0,1.0,1.0,1.0,1.0,1.0,1.0,1.0,1.0,1.0,1.0,1.0,1.0,1.0,1.0,1.0,1.0,1.0,1.0,1.0,1.0,1.0,1.0,1.0,1.0,1.0,1.0,1.0,1.0,1.0,1.0,1.0,1.0,1.0,1.0,1.0,1.0,1.0,1.0,1.0,1.0,1.0,1.0,1.0,1.0,1.0,1.0,1.0,1.0,1.0,1.0,1.0,1.0,1.0,1.0,1.0,1.0,1.0,1.0,1.0,1.0,1.0,1.0,1.0,1.0,1.0,1.0,1.0,1.0,1.0,1.0,1.0,1.0,1.0,1.0,1.0,1.0,1.0,1.0,1.0,1.0,1.0,1.0,1.0,1.0,1.0,1.0,1.0,1.0,1.0,1.0,1.0,1.0,1.0,1.0,1.0,1.0,1.0,1.0,1.0,1.0,1.0,1.0,1.0,1.0,1.0,1.0,1.0,1.0,1.0,1.0,1.0,1.0,1.0,1.0,1.0,1.0,1.0,1.0,1.0,1.0,1.0,1.0,1.0,1.0,1.0,1.0,1.0,1.0,1.0,1.0,1.0,1.0,1.0,1.0,1.0,1.0,1.0,1.0,1.0,1.0,1.0,1.0,1.0,1.0,1.0,1.0,1.0,1.0,1.0,1.0,1.0,1.0,1.0,1.0,1.0,1.0,1.0,1.0,1.0,1.0,1.0,1.0,1.0,1.0,1.0,1.0,1.0,1.0,1.0,1.0,1.0,1.0,1.0,1.0,1.0,1.0,1.0,1.0,1.0,1.0,1.0,1.0,1.0,1.0,1.0,1.0,1.0,1.0,1.0,1.0,1.0,1.0,1.0,1.0,1.0,1.0,1.0,1.0,1.0,1.0,1.0,1.0,1.0,1.0,1.0,1.0,1.0,1.0,1.0,1.0,1.0,1.0,1.0,1.0,1.0,1.0,1.0,1.0,1.0,1.0,1.0,1.0,1.0,1.0,1.0,1.0,1.0,1.0,1.0,1.0,1.0,1.0,1.0,1.0,1.0,1.0,1.0,1.0,1.0,1.0,1.0,1.0,1.0,1.0,1.0,1.0,1.0,1.0,1.0,1.0,1.0,1.0,1.0,1.0,1.0,1.0,1.0,1.0,1.0,1.0,1.0,1.0,1.0,1.0,1.0,1.0,1.0,1.0,1.0,1.0,1.0,1.0,1.0,1.0,1.0,1.0,1.0,1.0,1.0,1.0,1.0,1.0,1.0,1.0,1.0,1.0,1.0,1.0,1.0,1.0,1.0,1.0,1.0,1.0,1.0,1.0,1.0,1.0,1.0,1.0,1.0,1.0,1.0,1.0,1.0,1.0,1.0,1.0,1.0,1.0,1.0,1.0,1.0,1.0,1.0,1.0,1.0,1.0,1.0,1.0,1.0,1.0,1.0,1.0,1.0,1.0,1.0,1.0,1.0,1.0,1.0,1.0,1.0,1.0,1.0,1.0,1.0,1.0,1.0,1.0,1.0,1.0,1.0,1.0,1.0,1.0,1.0,1.0,1.0,1.0,1.0,1.0,1.0,1.0,1.0,1.0,1.0,1.0,1.0,1.0,1.0,1.0,1.0,1.0,1.0,1.0,1.0,1.0,1.0,1.0,1.0,1.0,1.0,1.0,1.0,1.0,1.0,1.0,1.0,1.0,1.0,1.0,1.0,1.0,1.0,1.0,1.0,1.0,1.0,1.0,1.0,1.0,1.0,1.0,1.0,1.0,1.0,1.0,1.0,1.0,1.0,1.0,1.0,1.0,1.0,1.0,1.0,1.0,1.0,1.0,1.0,1.0,1.0,1.0,1.0,1.0,1.0,1.0,1.0,1.0,1.0,1.0,1.0,1.0,1.0,1.0,1.0,1.0,1.0,1.0,1.0,1.0,1.0,1.0,1.0,1.0,1.0,1.0,1.0,1.0,1.0,1.0,1.0,1.0,1.0,1.0,1.0,1.0,1.0,1.0],\"xaxis\":\"x\",\"yaxis\":\"y\",\"type\":\"histogram\"}],                        {\"template\":{\"data\":{\"histogram2dcontour\":[{\"type\":\"histogram2dcontour\",\"colorbar\":{\"outlinewidth\":0,\"ticks\":\"\"},\"colorscale\":[[0.0,\"#0d0887\"],[0.1111111111111111,\"#46039f\"],[0.2222222222222222,\"#7201a8\"],[0.3333333333333333,\"#9c179e\"],[0.4444444444444444,\"#bd3786\"],[0.5555555555555556,\"#d8576b\"],[0.6666666666666666,\"#ed7953\"],[0.7777777777777778,\"#fb9f3a\"],[0.8888888888888888,\"#fdca26\"],[1.0,\"#f0f921\"]]}],\"choropleth\":[{\"type\":\"choropleth\",\"colorbar\":{\"outlinewidth\":0,\"ticks\":\"\"}}],\"histogram2d\":[{\"type\":\"histogram2d\",\"colorbar\":{\"outlinewidth\":0,\"ticks\":\"\"},\"colorscale\":[[0.0,\"#0d0887\"],[0.1111111111111111,\"#46039f\"],[0.2222222222222222,\"#7201a8\"],[0.3333333333333333,\"#9c179e\"],[0.4444444444444444,\"#bd3786\"],[0.5555555555555556,\"#d8576b\"],[0.6666666666666666,\"#ed7953\"],[0.7777777777777778,\"#fb9f3a\"],[0.8888888888888888,\"#fdca26\"],[1.0,\"#f0f921\"]]}],\"heatmap\":[{\"type\":\"heatmap\",\"colorbar\":{\"outlinewidth\":0,\"ticks\":\"\"},\"colorscale\":[[0.0,\"#0d0887\"],[0.1111111111111111,\"#46039f\"],[0.2222222222222222,\"#7201a8\"],[0.3333333333333333,\"#9c179e\"],[0.4444444444444444,\"#bd3786\"],[0.5555555555555556,\"#d8576b\"],[0.6666666666666666,\"#ed7953\"],[0.7777777777777778,\"#fb9f3a\"],[0.8888888888888888,\"#fdca26\"],[1.0,\"#f0f921\"]]}],\"heatmapgl\":[{\"type\":\"heatmapgl\",\"colorbar\":{\"outlinewidth\":0,\"ticks\":\"\"},\"colorscale\":[[0.0,\"#0d0887\"],[0.1111111111111111,\"#46039f\"],[0.2222222222222222,\"#7201a8\"],[0.3333333333333333,\"#9c179e\"],[0.4444444444444444,\"#bd3786\"],[0.5555555555555556,\"#d8576b\"],[0.6666666666666666,\"#ed7953\"],[0.7777777777777778,\"#fb9f3a\"],[0.8888888888888888,\"#fdca26\"],[1.0,\"#f0f921\"]]}],\"contourcarpet\":[{\"type\":\"contourcarpet\",\"colorbar\":{\"outlinewidth\":0,\"ticks\":\"\"}}],\"contour\":[{\"type\":\"contour\",\"colorbar\":{\"outlinewidth\":0,\"ticks\":\"\"},\"colorscale\":[[0.0,\"#0d0887\"],[0.1111111111111111,\"#46039f\"],[0.2222222222222222,\"#7201a8\"],[0.3333333333333333,\"#9c179e\"],[0.4444444444444444,\"#bd3786\"],[0.5555555555555556,\"#d8576b\"],[0.6666666666666666,\"#ed7953\"],[0.7777777777777778,\"#fb9f3a\"],[0.8888888888888888,\"#fdca26\"],[1.0,\"#f0f921\"]]}],\"surface\":[{\"type\":\"surface\",\"colorbar\":{\"outlinewidth\":0,\"ticks\":\"\"},\"colorscale\":[[0.0,\"#0d0887\"],[0.1111111111111111,\"#46039f\"],[0.2222222222222222,\"#7201a8\"],[0.3333333333333333,\"#9c179e\"],[0.4444444444444444,\"#bd3786\"],[0.5555555555555556,\"#d8576b\"],[0.6666666666666666,\"#ed7953\"],[0.7777777777777778,\"#fb9f3a\"],[0.8888888888888888,\"#fdca26\"],[1.0,\"#f0f921\"]]}],\"mesh3d\":[{\"type\":\"mesh3d\",\"colorbar\":{\"outlinewidth\":0,\"ticks\":\"\"}}],\"scatter\":[{\"fillpattern\":{\"fillmode\":\"overlay\",\"size\":10,\"solidity\":0.2},\"type\":\"scatter\"}],\"parcoords\":[{\"type\":\"parcoords\",\"line\":{\"colorbar\":{\"outlinewidth\":0,\"ticks\":\"\"}}}],\"scatterpolargl\":[{\"type\":\"scatterpolargl\",\"marker\":{\"colorbar\":{\"outlinewidth\":0,\"ticks\":\"\"}}}],\"bar\":[{\"error_x\":{\"color\":\"#2a3f5f\"},\"error_y\":{\"color\":\"#2a3f5f\"},\"marker\":{\"line\":{\"color\":\"#E5ECF6\",\"width\":0.5},\"pattern\":{\"fillmode\":\"overlay\",\"size\":10,\"solidity\":0.2}},\"type\":\"bar\"}],\"scattergeo\":[{\"type\":\"scattergeo\",\"marker\":{\"colorbar\":{\"outlinewidth\":0,\"ticks\":\"\"}}}],\"scatterpolar\":[{\"type\":\"scatterpolar\",\"marker\":{\"colorbar\":{\"outlinewidth\":0,\"ticks\":\"\"}}}],\"histogram\":[{\"marker\":{\"pattern\":{\"fillmode\":\"overlay\",\"size\":10,\"solidity\":0.2}},\"type\":\"histogram\"}],\"scattergl\":[{\"type\":\"scattergl\",\"marker\":{\"colorbar\":{\"outlinewidth\":0,\"ticks\":\"\"}}}],\"scatter3d\":[{\"type\":\"scatter3d\",\"line\":{\"colorbar\":{\"outlinewidth\":0,\"ticks\":\"\"}},\"marker\":{\"colorbar\":{\"outlinewidth\":0,\"ticks\":\"\"}}}],\"scattermapbox\":[{\"type\":\"scattermapbox\",\"marker\":{\"colorbar\":{\"outlinewidth\":0,\"ticks\":\"\"}}}],\"scatterternary\":[{\"type\":\"scatterternary\",\"marker\":{\"colorbar\":{\"outlinewidth\":0,\"ticks\":\"\"}}}],\"scattercarpet\":[{\"type\":\"scattercarpet\",\"marker\":{\"colorbar\":{\"outlinewidth\":0,\"ticks\":\"\"}}}],\"carpet\":[{\"aaxis\":{\"endlinecolor\":\"#2a3f5f\",\"gridcolor\":\"white\",\"linecolor\":\"white\",\"minorgridcolor\":\"white\",\"startlinecolor\":\"#2a3f5f\"},\"baxis\":{\"endlinecolor\":\"#2a3f5f\",\"gridcolor\":\"white\",\"linecolor\":\"white\",\"minorgridcolor\":\"white\",\"startlinecolor\":\"#2a3f5f\"},\"type\":\"carpet\"}],\"table\":[{\"cells\":{\"fill\":{\"color\":\"#EBF0F8\"},\"line\":{\"color\":\"white\"}},\"header\":{\"fill\":{\"color\":\"#C8D4E3\"},\"line\":{\"color\":\"white\"}},\"type\":\"table\"}],\"barpolar\":[{\"marker\":{\"line\":{\"color\":\"#E5ECF6\",\"width\":0.5},\"pattern\":{\"fillmode\":\"overlay\",\"size\":10,\"solidity\":0.2}},\"type\":\"barpolar\"}],\"pie\":[{\"automargin\":true,\"type\":\"pie\"}]},\"layout\":{\"autotypenumbers\":\"strict\",\"colorway\":[\"#636efa\",\"#EF553B\",\"#00cc96\",\"#ab63fa\",\"#FFA15A\",\"#19d3f3\",\"#FF6692\",\"#B6E880\",\"#FF97FF\",\"#FECB52\"],\"font\":{\"color\":\"#2a3f5f\"},\"hovermode\":\"closest\",\"hoverlabel\":{\"align\":\"left\"},\"paper_bgcolor\":\"white\",\"plot_bgcolor\":\"#E5ECF6\",\"polar\":{\"bgcolor\":\"#E5ECF6\",\"angularaxis\":{\"gridcolor\":\"white\",\"linecolor\":\"white\",\"ticks\":\"\"},\"radialaxis\":{\"gridcolor\":\"white\",\"linecolor\":\"white\",\"ticks\":\"\"}},\"ternary\":{\"bgcolor\":\"#E5ECF6\",\"aaxis\":{\"gridcolor\":\"white\",\"linecolor\":\"white\",\"ticks\":\"\"},\"baxis\":{\"gridcolor\":\"white\",\"linecolor\":\"white\",\"ticks\":\"\"},\"caxis\":{\"gridcolor\":\"white\",\"linecolor\":\"white\",\"ticks\":\"\"}},\"coloraxis\":{\"colorbar\":{\"outlinewidth\":0,\"ticks\":\"\"}},\"colorscale\":{\"sequential\":[[0.0,\"#0d0887\"],[0.1111111111111111,\"#46039f\"],[0.2222222222222222,\"#7201a8\"],[0.3333333333333333,\"#9c179e\"],[0.4444444444444444,\"#bd3786\"],[0.5555555555555556,\"#d8576b\"],[0.6666666666666666,\"#ed7953\"],[0.7777777777777778,\"#fb9f3a\"],[0.8888888888888888,\"#fdca26\"],[1.0,\"#f0f921\"]],\"sequentialminus\":[[0.0,\"#0d0887\"],[0.1111111111111111,\"#46039f\"],[0.2222222222222222,\"#7201a8\"],[0.3333333333333333,\"#9c179e\"],[0.4444444444444444,\"#bd3786\"],[0.5555555555555556,\"#d8576b\"],[0.6666666666666666,\"#ed7953\"],[0.7777777777777778,\"#fb9f3a\"],[0.8888888888888888,\"#fdca26\"],[1.0,\"#f0f921\"]],\"diverging\":[[0,\"#8e0152\"],[0.1,\"#c51b7d\"],[0.2,\"#de77ae\"],[0.3,\"#f1b6da\"],[0.4,\"#fde0ef\"],[0.5,\"#f7f7f7\"],[0.6,\"#e6f5d0\"],[0.7,\"#b8e186\"],[0.8,\"#7fbc41\"],[0.9,\"#4d9221\"],[1,\"#276419\"]]},\"xaxis\":{\"gridcolor\":\"white\",\"linecolor\":\"white\",\"ticks\":\"\",\"title\":{\"standoff\":15},\"zerolinecolor\":\"white\",\"automargin\":true,\"zerolinewidth\":2},\"yaxis\":{\"gridcolor\":\"white\",\"linecolor\":\"white\",\"ticks\":\"\",\"title\":{\"standoff\":15},\"zerolinecolor\":\"white\",\"automargin\":true,\"zerolinewidth\":2},\"scene\":{\"xaxis\":{\"backgroundcolor\":\"#E5ECF6\",\"gridcolor\":\"white\",\"linecolor\":\"white\",\"showbackground\":true,\"ticks\":\"\",\"zerolinecolor\":\"white\",\"gridwidth\":2},\"yaxis\":{\"backgroundcolor\":\"#E5ECF6\",\"gridcolor\":\"white\",\"linecolor\":\"white\",\"showbackground\":true,\"ticks\":\"\",\"zerolinecolor\":\"white\",\"gridwidth\":2},\"zaxis\":{\"backgroundcolor\":\"#E5ECF6\",\"gridcolor\":\"white\",\"linecolor\":\"white\",\"showbackground\":true,\"ticks\":\"\",\"zerolinecolor\":\"white\",\"gridwidth\":2}},\"shapedefaults\":{\"line\":{\"color\":\"#2a3f5f\"}},\"annotationdefaults\":{\"arrowcolor\":\"#2a3f5f\",\"arrowhead\":0,\"arrowwidth\":1},\"geo\":{\"bgcolor\":\"white\",\"landcolor\":\"#E5ECF6\",\"subunitcolor\":\"white\",\"showland\":true,\"showlakes\":true,\"lakecolor\":\"white\"},\"title\":{\"x\":0.05},\"mapbox\":{\"style\":\"light\"}}},\"xaxis\":{\"anchor\":\"y\",\"domain\":[0.0,1.0],\"title\":{\"text\":\"value\"}},\"yaxis\":{\"anchor\":\"x\",\"domain\":[0.0,1.0],\"title\":{\"text\":\"count\"}},\"legend\":{\"title\":{\"text\":\"variable\"},\"tracegroupgap\":0},\"margin\":{\"t\":60},\"barmode\":\"relative\"},                        {\"responsive\": true}                    ).then(function(){\n",
              "                            \n",
              "var gd = document.getElementById('6360ac37-b6c2-45cb-b52b-bcc36a2539ef');\n",
              "var x = new MutationObserver(function (mutations, observer) {{\n",
              "        var display = window.getComputedStyle(gd).display;\n",
              "        if (!display || display === 'none') {{\n",
              "            console.log([gd, 'removed!']);\n",
              "            Plotly.purge(gd);\n",
              "            observer.disconnect();\n",
              "        }}\n",
              "}});\n",
              "\n",
              "// Listen for the removal of the full notebook cells\n",
              "var notebookContainer = gd.closest('#notebook-container');\n",
              "if (notebookContainer) {{\n",
              "    x.observe(notebookContainer, {childList: true});\n",
              "}}\n",
              "\n",
              "// Listen for the clearing of the current output cell\n",
              "var outputEl = gd.closest('.output');\n",
              "if (outputEl) {{\n",
              "    x.observe(outputEl, {childList: true});\n",
              "}}\n",
              "\n",
              "                        })                };                            </script>        </div>\n",
              "</body>\n",
              "</html>"
            ]
          },
          "metadata": {}
        }
      ]
    },
    {
      "cell_type": "code",
      "source": [
        "len(dur_test)"
      ],
      "metadata": {
        "colab": {
          "base_uri": "https://localhost:8080/"
        },
        "id": "7dfyc6mfBeBe",
        "outputId": "6bcc7a15-6e1c-4e5c-b2fb-75be85b33777"
      },
      "execution_count": null,
      "outputs": [
        {
          "output_type": "execute_result",
          "data": {
            "text/plain": [
              "4890"
            ]
          },
          "metadata": {},
          "execution_count": 30
        }
      ]
    },
    {
      "cell_type": "markdown",
      "source": [
        "# Аугментация и починка"
      ],
      "metadata": {
        "id": "jO5lD0b3jJFY"
      }
    },
    {
      "cell_type": "markdown",
      "source": [
        "## Исследование именных данных"
      ],
      "metadata": {
        "id": "FIxhzXk9oXNE"
      }
    },
    {
      "cell_type": "code",
      "source": [
        "sheila, marvin = 0, 0\n",
        "\n",
        "for root, dirs, files in os.walk('/content/train/sheila'):\n",
        "    sheila = len(files)\n",
        "    print('Sheila: ', sheila)\n",
        "\n",
        "for root, dirs, files in os.walk('/content/train/marvin'):\n",
        "    marvin = len(files)\n",
        "    print('Marvin: ', marvin)\n",
        "\n",
        "common_len = 0\n",
        "for root, dirs, files in os.walk('/content/train/'):\n",
        "    common_len += len(files)\n",
        "    \n",
        "\n",
        "print('Процент класса 1 sheila к 0: ', round(sheila / common_len, 3))\n",
        "print('Процент класса 1 marvin к 0: ', round(marvin / common_len, 3))"
      ],
      "metadata": {
        "colab": {
          "base_uri": "https://localhost:8080/"
        },
        "id": "uqFSKPPGoeGU",
        "outputId": "d5095977-3118-429f-b91b-0086fe6073f0"
      },
      "execution_count": null,
      "outputs": [
        {
          "output_type": "stream",
          "name": "stdout",
          "text": [
            "Sheila:  1606\n",
            "Marvin:  1710\n",
            "Процент класса 1 sheila к 0:  0.019\n",
            "Процент класса 1 marvin к 0:  0.02\n"
          ]
        }
      ]
    },
    {
      "cell_type": "markdown",
      "source": [
        "## Обучающая выборка"
      ],
      "metadata": {
        "id": "vEb6no8-jjAL"
      }
    },
    {
      "cell_type": "markdown",
      "source": [
        "### Разбиенние длинных записей"
      ],
      "metadata": {
        "id": "O1RwMPzjo3T5"
      }
    },
    {
      "cell_type": "code",
      "source": [
        "big_data_train"
      ],
      "metadata": {
        "colab": {
          "base_uri": "https://localhost:8080/"
        },
        "id": "0Lij8KLMRxx2",
        "outputId": "2c55b33a-dac2-474a-c264-fc0a5819a7cc"
      },
      "execution_count": null,
      "outputs": [
        {
          "output_type": "execute_result",
          "data": {
            "text/plain": [
              "['/content/train/_silence_/white_noise.wav',\n",
              " '/content/train/_silence_/exercise_bike.wav',\n",
              " '/content/train/_silence_/dude_miaowing.wav',\n",
              " '/content/train/_silence_/pink_noise.wav',\n",
              " '/content/train/_silence_/doing_the_dishes.wav']"
            ]
          },
          "metadata": {},
          "execution_count": 32
        }
      ]
    },
    {
      "cell_type": "code",
      "source": [
        "for i in big_data_train:\n",
        "    data, sr = librosa.load(i, sr=22050)\n",
        "    get_silence(data, sr, i.split('.')[0])\n",
        "\n",
        "for i in big_data_train:\n",
        "    !rm $i"
      ],
      "metadata": {
        "id": "PoAhuZtGTGXv"
      },
      "execution_count": null,
      "outputs": []
    },
    {
      "cell_type": "code",
      "source": [
        "common_len = 0\n",
        "for root, dirs, files in os.walk('/content/train/'):\n",
        "    common_len += len(files)\n",
        "\n",
        "common_len"
      ],
      "metadata": {
        "colab": {
          "base_uri": "https://localhost:8080/"
        },
        "id": "HoPomQHqCnET",
        "outputId": "8c298206-bcc4-4480-e3e5-2e6bab0b6cc4"
      },
      "execution_count": null,
      "outputs": [
        {
          "output_type": "execute_result",
          "data": {
            "text/plain": [
              "85177"
            ]
          },
          "metadata": {},
          "execution_count": 34
        }
      ]
    },
    {
      "cell_type": "markdown",
      "source": [
        "### Удаление поврежденных данных"
      ],
      "metadata": {
        "id": "2be0GYb6pspN"
      }
    },
    {
      "cell_type": "code",
      "source": [
        "file_path = '/content/train/marvin/'\n",
        "low_data_marvin_train = []\n",
        "\n",
        "for root, dirs, files in os.walk(file_path):\n",
        "    for i in files:\n",
        "        path = file_path + i\n",
        "\n",
        "        with wave.open(path) as mywav:\n",
        "            duration_seconds = mywav.getnframes() / mywav.getframerate()\n",
        "\n",
        "        if (duration_seconds < 1.0): \n",
        "            low_data_marvin_train.append((path, duration_seconds))"
      ],
      "metadata": {
        "id": "KfnLNYYNknvO"
      },
      "execution_count": null,
      "outputs": []
    },
    {
      "cell_type": "code",
      "source": [
        "count = []\n",
        "for i in low_data_marvin_train:\n",
        "    if i[1] < 0.8:\n",
        "        count.append(i[0])"
      ],
      "metadata": {
        "id": "JiuuPmL7tKbJ"
      },
      "execution_count": null,
      "outputs": []
    },
    {
      "cell_type": "code",
      "source": [
        "len(count)"
      ],
      "metadata": {
        "colab": {
          "base_uri": "https://localhost:8080/"
        },
        "id": "joh93ir-CsYs",
        "outputId": "2f5ced79-2f6f-430e-dba1-c4be90909961"
      },
      "execution_count": null,
      "outputs": [
        {
          "output_type": "execute_result",
          "data": {
            "text/plain": [
              "84"
            ]
          },
          "metadata": {},
          "execution_count": 37
        }
      ]
    },
    {
      "cell_type": "code",
      "source": [
        "for i in count:\n",
        "    !rm $i"
      ],
      "metadata": {
        "id": "BHvKDw5utxio"
      },
      "execution_count": null,
      "outputs": []
    },
    {
      "cell_type": "code",
      "source": [
        "!rm '/content/train/marvin/88e85150_nohash_0.wav'\n",
        "!rm '/content/train/marvin/88e85150_nohash_1.wav'"
      ],
      "metadata": {
        "id": "6hTPqJmm0dH3"
      },
      "execution_count": null,
      "outputs": []
    },
    {
      "cell_type": "markdown",
      "source": [
        "### Аугментация"
      ],
      "metadata": {
        "id": "xulyKWbpp0LH"
      }
    },
    {
      "cell_type": "code",
      "source": [
        "file_path = '/content/train/'\n",
        "common = 0\n",
        "\n",
        "for root, dirs, files in os.walk(file_path):\n",
        "    for i in dirs:\n",
        "        for root2, dirs2, files2 in os.walk(file_path + i):\n",
        "            common += len(files2)\n",
        "    # print(len(files))\n",
        "    break\n",
        "\n",
        "marvin = 0\n",
        "file_path = '/content/train/marvin'\n",
        "for root, dirs, files in os.walk(file_path):\n",
        "    marvin = len(files)\n",
        "    # print(len(files))\n",
        "    break\n",
        "\n",
        "samples = common - 2 * marvin\n",
        "print('Сколько надо дозаполнить: ', samples)\n",
        "\n",
        "mu, sigma = 0, 0.015"
      ],
      "metadata": {
        "colab": {
          "base_uri": "https://localhost:8080/"
        },
        "id": "8ySYIMc0EaIc",
        "outputId": "d8e1dbf2-b89f-4378-b9ab-072548a01b42"
      },
      "execution_count": null,
      "outputs": [
        {
          "output_type": "stream",
          "name": "stdout",
          "text": [
            "Сколько надо дозаполнить:  81841\n"
          ]
        }
      ]
    },
    {
      "cell_type": "code",
      "source": [
        "augented_data('/content/train/marvin/', 22050, samples, mu, sigma, sounds, SAMPLE_RIR)"
      ],
      "metadata": {
        "id": "gbzFaqS6sblQ"
      },
      "execution_count": null,
      "outputs": []
    },
    {
      "cell_type": "code",
      "source": [
        "file_path = '/content/train/'\n",
        "lenbgt = 0\n",
        "\n",
        "for root, dirs, files in os.walk(file_path):\n",
        "    for i in dirs:\n",
        "        path = file_path + i\n",
        "\n",
        "        for j, k, l in os.walk(path):\n",
        "            lenbgt += len(l)\n",
        "            break\n",
        "\n",
        "    break\n",
        "\n",
        "lenbgt"
      ],
      "metadata": {
        "colab": {
          "base_uri": "https://localhost:8080/"
        },
        "id": "RWFCFGpeC9ay",
        "outputId": "2df6c1f5-4996-4e16-b28f-5fd62fd9cd5a"
      },
      "execution_count": null,
      "outputs": [
        {
          "output_type": "execute_result",
          "data": {
            "text/plain": [
              "166930"
            ]
          },
          "metadata": {},
          "execution_count": 42
        }
      ]
    },
    {
      "cell_type": "code",
      "source": [
        "marvin = 0\n",
        "file_path = '/content/train/marvin'\n",
        "for root, dirs, files in os.walk(file_path):\n",
        "    marvin = len(files)\n",
        "    # print(len(files))\n",
        "    break\n",
        "\n",
        "marvin"
      ],
      "metadata": {
        "colab": {
          "base_uri": "https://localhost:8080/"
        },
        "id": "Qzabb-IJL2XN",
        "outputId": "dd11f726-dc16-4131-bf83-3fa6227ab24a"
      },
      "execution_count": null,
      "outputs": [
        {
          "output_type": "execute_result",
          "data": {
            "text/plain": [
              "83465"
            ]
          },
          "metadata": {},
          "execution_count": 57
        }
      ]
    },
    {
      "cell_type": "code",
      "source": [
        "166930 / 2"
      ],
      "metadata": {
        "colab": {
          "base_uri": "https://localhost:8080/"
        },
        "id": "9MuR4vYmMMBM",
        "outputId": "f9391ef6-f518-45b8-d315-c68a648e108a"
      },
      "execution_count": null,
      "outputs": [
        {
          "output_type": "execute_result",
          "data": {
            "text/plain": [
              "83465.0"
            ]
          },
          "metadata": {},
          "execution_count": 58
        }
      ]
    },
    {
      "cell_type": "code",
      "source": [
        "shutil.make_archive(\"train\", \"zip\", \"train\")\n",
        "!cp train.zip \"/content/gdrive/MyDrive/Colab Notebooks/neymark\"\n",
        "files.download('/content/train.zip')"
      ],
      "metadata": {
        "colab": {
          "base_uri": "https://localhost:8080/",
          "height": 37
        },
        "id": "IexobFaSD2hL",
        "outputId": "0f42e084-a7a0-4127-e7f9-2b743b5bb6cd"
      },
      "execution_count": null,
      "outputs": [
        {
          "output_type": "execute_result",
          "data": {
            "text/plain": [
              "'/content/train.zip'"
            ],
            "application/vnd.google.colaboratory.intrinsic+json": {
              "type": "string"
            }
          },
          "metadata": {},
          "execution_count": 44
        }
      ]
    },
    {
      "cell_type": "markdown",
      "source": [
        "## Валидационная выборка\n",
        "### Разбиенние длинных записей"
      ],
      "metadata": {
        "id": "TUUw5CNU3mst"
      }
    },
    {
      "cell_type": "code",
      "source": [
        "data, sr = librosa.load('/content/dev/_silence_/running_tap.wav', sr=22050)\n",
        "get_silence(data, sr, '/content/dev/_silence_/silence')\n",
        "!rm '/content/dev/_silence_/running_tap.wav'"
      ],
      "metadata": {
        "id": "KM2doDc53tIN"
      },
      "execution_count": null,
      "outputs": []
    },
    {
      "cell_type": "markdown",
      "source": [
        "### Аугментация"
      ],
      "metadata": {
        "id": "8L4NMt4Y31N5"
      }
    },
    {
      "cell_type": "code",
      "source": [
        "file_path = '/content/dev/'\n",
        "common = 0\n",
        "\n",
        "for root, dirs, files in os.walk(file_path):\n",
        "    for i in dirs:\n",
        "        for root2, dirs2, files2 in os.walk(file_path + i):\n",
        "            common += len(files2)\n",
        "    # print(len(files))\n",
        "    break\n",
        "\n",
        "marvin = 0\n",
        "file_path = '/content/dev/marvin/'\n",
        "for root, dirs, files in os.walk(file_path):\n",
        "    marvin = len(files)\n",
        "    # print(len(files))\n",
        "    break\n",
        "\n",
        "samples = common - 2 * marvin\n",
        "print('Сколько надо дозаполнить: ', samples)\n",
        "\n",
        "mu, sigma = 0, 0.015"
      ],
      "metadata": {
        "colab": {
          "base_uri": "https://localhost:8080/"
        },
        "id": "3Xh32YL45YJm",
        "outputId": "2866358e-c4ec-4209-b9db-09ec78977c5d"
      },
      "execution_count": null,
      "outputs": [
        {
          "output_type": "stream",
          "name": "stdout",
          "text": [
            "Сколько надо дозаполнить:  9651\n"
          ]
        }
      ]
    },
    {
      "cell_type": "code",
      "source": [
        "augented_data('/content/dev/marvin/', 22050, samples, mu, sigma, sounds, SAMPLE_RIR)"
      ],
      "metadata": {
        "id": "-JxCme96LUJt"
      },
      "execution_count": null,
      "outputs": []
    },
    {
      "cell_type": "code",
      "source": [
        "marvin = 0\n",
        "file_path = '/content/dev/marvin'\n",
        "for root, dirs, files in os.walk(file_path):\n",
        "    marvin = len(files)\n",
        "    # print(len(files))\n",
        "    break\n",
        "\n",
        "marvin"
      ],
      "metadata": {
        "colab": {
          "base_uri": "https://localhost:8080/"
        },
        "id": "6CvyrlU3Lsth",
        "outputId": "437769f6-7790-4b90-aae4-8c30bbe1ab6c"
      },
      "execution_count": null,
      "outputs": [
        {
          "output_type": "execute_result",
          "data": {
            "text/plain": [
              "9846"
            ]
          },
          "metadata": {},
          "execution_count": 54
        }
      ]
    },
    {
      "cell_type": "code",
      "source": [
        "file_path = '/content/dev/'\n",
        "lenbgt = 0\n",
        "\n",
        "for root, dirs, files in os.walk(file_path):\n",
        "    for i in dirs:\n",
        "        path = file_path + i\n",
        "\n",
        "        for j, k, l in os.walk(path):\n",
        "            lenbgt += len(l)\n",
        "            break\n",
        "\n",
        "    break\n",
        "\n",
        "lenbgt"
      ],
      "metadata": {
        "colab": {
          "base_uri": "https://localhost:8080/"
        },
        "id": "Buq_NTKdMA2Z",
        "outputId": "0d9a6fff-2b07-44d6-c02a-015bc2e61a5a"
      },
      "execution_count": null,
      "outputs": [
        {
          "output_type": "execute_result",
          "data": {
            "text/plain": [
              "19692"
            ]
          },
          "metadata": {},
          "execution_count": 55
        }
      ]
    },
    {
      "cell_type": "code",
      "source": [
        "19692 / 2"
      ],
      "metadata": {
        "colab": {
          "base_uri": "https://localhost:8080/"
        },
        "id": "4iB5qw7EMGVQ",
        "outputId": "0cf26cea-890f-45d3-bb64-c34ff96c0144"
      },
      "execution_count": null,
      "outputs": [
        {
          "output_type": "execute_result",
          "data": {
            "text/plain": [
              "9846.0"
            ]
          },
          "metadata": {},
          "execution_count": 56
        }
      ]
    },
    {
      "cell_type": "code",
      "source": [
        "shutil.make_archive(\"dev\", \"zip\", \"dev\")\n",
        "!cp dev.zip \"/content/gdrive/MyDrive/Colab Notebooks/neymark\"\n",
        "files.download('/content/dev.zip')"
      ],
      "metadata": {
        "colab": {
          "base_uri": "https://localhost:8080/",
          "height": 37
        },
        "id": "MjJTO1JVMKHN",
        "outputId": "19ebfa07-3db0-4cd3-be32-fe2603e78adb"
      },
      "execution_count": null,
      "outputs": [
        {
          "output_type": "execute_result",
          "data": {
            "text/plain": [
              "'/content/dev.zip'"
            ],
            "application/vnd.google.colaboratory.intrinsic+json": {
              "type": "string"
            }
          },
          "metadata": {},
          "execution_count": 59
        }
      ]
    }
  ]
}