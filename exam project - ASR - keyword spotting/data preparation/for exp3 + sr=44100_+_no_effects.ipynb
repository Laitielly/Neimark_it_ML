{
  "nbformat": 4,
  "nbformat_minor": 0,
  "metadata": {
    "colab": {
      "provenance": [],
      "collapsed_sections": [
        "p1-4UMpkxUQB",
        "Cda4OMzn2JIV",
        "_WnXXbAT1_Dj"
      ]
    },
    "kernelspec": {
      "name": "python3",
      "display_name": "Python 3"
    },
    "language_info": {
      "name": "python"
    }
  },
  "cells": [
    {
      "cell_type": "markdown",
      "source": [
        "# Импорт модулей\n",
        "\n",
        "Датасет взят с [Hugging face](https://huggingface.co/datasets/speech_commands)"
      ],
      "metadata": {
        "id": "s_dDjR62m46T"
      }
    },
    {
      "cell_type": "code",
      "source": [
        "!pip install pydub"
      ],
      "metadata": {
        "colab": {
          "base_uri": "https://localhost:8080/"
        },
        "id": "sR_DCq06ylQ9",
        "outputId": "2b9aaa75-b67a-4a5f-86cc-70bfbf109868"
      },
      "execution_count": null,
      "outputs": [
        {
          "output_type": "stream",
          "name": "stdout",
          "text": [
            "Looking in indexes: https://pypi.org/simple, https://us-python.pkg.dev/colab-wheels/public/simple/\n",
            "Collecting pydub\n",
            "  Downloading pydub-0.25.1-py2.py3-none-any.whl (32 kB)\n",
            "Installing collected packages: pydub\n",
            "Successfully installed pydub-0.25.1\n"
          ]
        }
      ]
    },
    {
      "cell_type": "code",
      "execution_count": null,
      "metadata": {
        "id": "Xs5X5U0IdR1P"
      },
      "outputs": [],
      "source": [
        "import os\n",
        "import json\n",
        "from google.colab import drive\n",
        "\n",
        "import wave\n",
        "import torch\n",
        "import librosa\n",
        "import torchaudio\n",
        "import librosa.display\n",
        "import soundfile as sf\n",
        "from scipy import signal\n",
        "import IPython.display as ipd\n",
        "from pydub import AudioSegment\n",
        "import torchaudio.functional as F \n",
        "from torchaudio.utils import download_asset\n",
        "\n",
        "import numpy as np\n",
        "import pandas as pd\n",
        "\n",
        "import plotly.express as px\n",
        "import matplotlib.pyplot as plt\n",
        "\n",
        "import shutil\n",
        "from google.colab import files"
      ]
    },
    {
      "cell_type": "markdown",
      "source": [
        "# Функции"
      ],
      "metadata": {
        "id": "p1-4UMpkxUQB"
      }
    },
    {
      "cell_type": "code",
      "source": [
        "def get_mean(file_path): #получаю среднее длины аудио\n",
        "    sum_lenght = []\n",
        "    too_big = []\n",
        "    too_low = []\n",
        "\n",
        "    for root, dirs, files in os.walk(file_path):\n",
        "        for i in dirs:\n",
        "            for root2, dirs2, files2 in os.walk(file_path+i):\n",
        "                for j in files2:\n",
        "                    path = file_path + i + '/' + j\n",
        "\n",
        "                    with wave.open(path) as mywav:\n",
        "                        duration_seconds = mywav.getnframes() / mywav.getframerate()\n",
        "\n",
        "                    if (duration_seconds < 1.0): \n",
        "                        too_low.append((path, duration_seconds))\n",
        "\n",
        "                    if (duration_seconds > 1.0): \n",
        "                        too_big.append(path)\n",
        "\n",
        "                    sum_lenght.append(duration_seconds)\n",
        "    \n",
        "    sum_lenght = np.array(sum_lenght)\n",
        "    \n",
        "    return np.mean(sum_lenght), sum_lenght, too_big, too_low"
      ],
      "metadata": {
        "id": "c6LU806Qxsnd"
      },
      "execution_count": null,
      "outputs": []
    },
    {
      "cell_type": "code",
      "source": [
        "def get_silence(data, sr, path_to_write): # получаю ролики по секунде из длинных\n",
        "    for i in range(0, int(len(data) / sr) - 1):\n",
        "        dur = data[i * sr:sr * (i + 1)]\n",
        "        if(len(dur) < sr): continue\n",
        "\n",
        "        sf.write(f'{path_to_write}{i}.wav', dur, sr)"
      ],
      "metadata": {
        "id": "y7VwC36IxqBg"
      },
      "execution_count": null,
      "outputs": []
    },
    {
      "cell_type": "code",
      "source": [
        "def augented_data(file_path, sr, samples, mu, sigma, sounds, SAMPLE_RIR):\n",
        "\n",
        "    rir_samples = int(1/3 * samples)\n",
        "    noise_samples = int(1/3 * samples) + rir_samples\n",
        "\n",
        "    rir_raw, sample_rate = librosa.load(SAMPLE_RIR, sr=sr)\n",
        "    rir_raw = torch.Tensor([rir_raw])\n",
        "\n",
        "    sounds_lenght = len(sounds)\n",
        "\n",
        "    for root, dirs, files in os.walk(file_path):\n",
        "        lenght = len(files)\n",
        "        for i in range(samples):\n",
        "            iter = i % lenght\n",
        "\n",
        "            path = file_path + files[iter]\n",
        "            path_write = path.split('.')[0]\n",
        "\n",
        "            data, sr = librosa.load(path, sr=sr)\n",
        "            data = torch.Tensor([data])\n",
        "\n",
        "            if i < rir_samples:\n",
        "                rir = rir_raw[:, int(sr * 1.01) : int(sr * 1.3)]\n",
        "                rir = rir / torch.norm(rir, p=2)\n",
        "\n",
        "                augmented = signal.fftconvolve(data, rir)\n",
        "                sf.write(f'{path_write}_reverb_{i}.wav', augmented[0], sr)\n",
        "\n",
        "            elif i < noise_samples:\n",
        "                noise2 = np.random.normal(mu, sigma, [1,data.shape[1]])\n",
        "                sf.write(f'{path_write}_noise_{i}.wav', (data + noise2)[0], sr)\n",
        "\n",
        "            else:\n",
        "                iter_sound = i % sounds_lenght\n",
        "\n",
        "                data = AudioSegment.from_file(path, format=\"wav\")\n",
        "                noise = AudioSegment.from_file(sounds[iter_sound], format=\"wav\") - 25\n",
        "\n",
        "                overlay = data.overlay(noise, position=0)\n",
        "\n",
        "                overlay.export(f'{path_write}_back_{i}.wav', format=\"wav\")\n",
        "\n",
        "        break"
      ],
      "metadata": {
        "id": "OIJlYpg6hk5B"
      },
      "execution_count": null,
      "outputs": []
    },
    {
      "cell_type": "markdown",
      "source": [
        "# Загрузка данных"
      ],
      "metadata": {
        "id": "hGvAyCJqx4fD"
      }
    },
    {
      "cell_type": "code",
      "source": [
        "f = open('/content/dataset_infos.json')\n",
        "data = json.load(f)\n",
        "f.close()"
      ],
      "metadata": {
        "id": "4kVh_JdpkRvk"
      },
      "execution_count": null,
      "outputs": []
    },
    {
      "cell_type": "code",
      "source": [
        "data['v0.02']['download_checksums']"
      ],
      "metadata": {
        "colab": {
          "base_uri": "https://localhost:8080/"
        },
        "id": "NuxvMy0Fkp1O",
        "outputId": "f9d38b2b-ee83-4071-f2a5-7e0e9d139c76"
      },
      "execution_count": null,
      "outputs": [
        {
          "output_type": "execute_result",
          "data": {
            "text/plain": [
              "{'https://s3.amazonaws.com/datasets.huggingface.co/SpeechCommands/v0.02/v0.02_train.tar.gz': {'num_bytes': 1944462432,\n",
              "  'checksum': 'acfc1a9e5f020ef5d20f13bb5c1035dcc19a3cc6d5fd1fe775d99814ce840399'},\n",
              " 'https://s3.amazonaws.com/datasets.huggingface.co/SpeechCommands/v0.02/v0.02_validation.tar.gz': {'num_bytes': 229117586,\n",
              "  'checksum': '868bdecd3dc12276ee55d2aeca5b1f02d913d6f17875181c1bf9d465fa2f7be1'},\n",
              " 'https://s3.amazonaws.com/datasets.huggingface.co/SpeechCommands/v0.02/v0.02_test.tar.gz': {'num_bytes': 112395851,\n",
              "  'checksum': '45aedb39cb2c9f03e098a8d5c98350d6d8473c432ad4558fce26c6feb478a812'}}"
            ]
          },
          "metadata": {},
          "execution_count": 3
        }
      ]
    },
    {
      "cell_type": "code",
      "source": [
        "drive.mount(\"/content/gdrive/\")"
      ],
      "metadata": {
        "colab": {
          "base_uri": "https://localhost:8080/"
        },
        "id": "rwWnNqe35V3n",
        "outputId": "f54e043e-3ca0-442b-9496-476fce73d46a"
      },
      "execution_count": null,
      "outputs": [
        {
          "output_type": "stream",
          "name": "stdout",
          "text": [
            "Mounted at /content/gdrive/\n"
          ]
        }
      ]
    },
    {
      "cell_type": "code",
      "source": [
        "!mkdir '/content/train'\n",
        "!mkdir '/content/test'\n",
        "!mkdir '/content/dev'"
      ],
      "metadata": {
        "id": "tjWHD7xju1pq"
      },
      "execution_count": null,
      "outputs": []
    },
    {
      "cell_type": "code",
      "source": [
        "!unzip '/content/gdrive/MyDrive/Colab Notebooks/neymark/sounds to neymark.zip'"
      ],
      "metadata": {
        "id": "6vFrDDDZi8NC"
      },
      "execution_count": null,
      "outputs": []
    },
    {
      "cell_type": "code",
      "source": [
        "!tar -xvf '/content/gdrive/MyDrive/Colab Notebooks/neymark/v0.02_train.tar' -C '/content/train'\n",
        "!tar -xvf '/content/gdrive/MyDrive/Colab Notebooks/neymark/v0.02_validation.tar' -C '/content/dev'"
      ],
      "metadata": {
        "id": "E9OYBbWv5o04"
      },
      "execution_count": null,
      "outputs": []
    },
    {
      "cell_type": "markdown",
      "source": [
        "# Обработка бэков для аугментации"
      ],
      "metadata": {
        "id": "4WLkPETSqD9a"
      }
    },
    {
      "cell_type": "code",
      "source": [
        "SAMPLE_NOISE = download_asset(\"tutorial-assets/Lab41-SRI-VOiCES-rm1-babb-mc01-stu-clo-8000hz.wav\")\n",
        "SAMPLE_RIR = download_asset(\"tutorial-assets/Lab41-SRI-VOiCES-rm1-impulse-mc01-stu-clo-8000hz.wav\")\n",
        "\n",
        "!mv '/content/sounds to neymark' '/content/sounds'"
      ],
      "metadata": {
        "colab": {
          "base_uri": "https://localhost:8080/"
        },
        "id": "xac8e9DrqPeo",
        "outputId": "681c1ff7-e4ce-49b0-b24a-ad7ddd04d51f"
      },
      "execution_count": null,
      "outputs": [
        {
          "output_type": "stream",
          "name": "stderr",
          "text": [
            "100%|██████████| 78.2k/78.2k [00:00<00:00, 154kB/s]\n",
            "100%|██████████| 31.3k/31.3k [00:00<00:00, 156kB/s]"
          ]
        },
        {
          "output_type": "stream",
          "name": "stdout",
          "text": [
            "mv: cannot stat '/content/sounds to neymark': No such file or directory\n"
          ]
        },
        {
          "output_type": "stream",
          "name": "stderr",
          "text": [
            "\n"
          ]
        }
      ]
    },
    {
      "cell_type": "code",
      "source": [
        "sr = 44100\n",
        "data, sr = librosa.load('/content/sounds/CarTiresOnGravelEn PE856402.wav', sr=sr)\n",
        "data = data[:80000]\n",
        "sf.write(f'/content/sounds/cars.wav', data, sr)\n",
        "\n",
        "!rm '/content/sounds/CarTiresOnGravelEn PE856402.wav'\n",
        "!mv '/content/sounds/DogsBarkingCUandDistInfuriated PEHD014302.wav' '/content/sounds/DogsBarking.wav'"
      ],
      "metadata": {
        "id": "fubb1NKDqfKQ"
      },
      "execution_count": null,
      "outputs": []
    },
    {
      "cell_type": "code",
      "source": [
        "dops_sounds = []\n",
        "\n",
        "file_path = '/content/sounds'\n",
        "\n",
        "for root, dirs, files in os.walk(file_path):\n",
        "    dops_sounds = files\n",
        "    break\n",
        "\n",
        "dops_sounds"
      ],
      "metadata": {
        "id": "6_U9UykMqx61"
      },
      "execution_count": null,
      "outputs": []
    },
    {
      "cell_type": "code",
      "source": [
        "file_path = '/content/sounds/'\n",
        "\n",
        "for root, dirs, files in os.walk(file_path):\n",
        "    for iter, i in enumerate(files):\n",
        "        path = file_path + i\n",
        "        data, sr = librosa.load(path, sr=44100)\n",
        "\n",
        "        get_silence(data, sr, '/content/sounds/' + str(iter) + '_')\n",
        "    break\n",
        "    \n",
        "for root, dirs, files in os.walk(file_path):\n",
        "    print(len(files))"
      ],
      "metadata": {
        "id": "8BSVhY5dq6kb"
      },
      "execution_count": null,
      "outputs": []
    },
    {
      "cell_type": "code",
      "source": [
        "file_path = SAMPLE_NOISE\n",
        "\n",
        "data, sr = librosa.load(SAMPLE_NOISE, sr=44100)\n",
        "get_silence(data, sr, '/content/sounds/' + str(6) + '_')\n",
        "\n",
        "file_path = '/content/sounds/'\n",
        "\n",
        "for root, dirs, files in os.walk(file_path):\n",
        "    print(len(files))\n",
        "    break"
      ],
      "metadata": {
        "id": "c2X8Q8PZrCkI"
      },
      "execution_count": null,
      "outputs": []
    },
    {
      "cell_type": "code",
      "source": [
        "for i in dops_sounds:\n",
        "    path = '/content/sounds/' + i\n",
        "    !rm $path\n",
        "\n",
        "file_path = '/content/sounds/'\n",
        "sounds = []\n",
        "\n",
        "for root, dirs, files in os.walk(file_path):\n",
        "    for i in files:\n",
        "        path = file_path + i\n",
        "        sounds.append(path)\n",
        "    print(len(files))\n",
        "    break"
      ],
      "metadata": {
        "id": "_Gyh2qqvrLqt"
      },
      "execution_count": null,
      "outputs": []
    },
    {
      "cell_type": "markdown",
      "source": [
        "# Аугментация и починка"
      ],
      "metadata": {
        "id": "jO5lD0b3jJFY"
      }
    },
    {
      "cell_type": "markdown",
      "source": [
        "## Обучающая выборка"
      ],
      "metadata": {
        "id": "vEb6no8-jjAL"
      }
    },
    {
      "cell_type": "markdown",
      "source": [
        "### Разбиенние длинных записей"
      ],
      "metadata": {
        "id": "O1RwMPzjo3T5"
      }
    },
    {
      "cell_type": "code",
      "source": [
        "mean_dur_train, dur_train, big_data_train, small_data_train = get_mean('/content/train/')"
      ],
      "metadata": {
        "id": "0Lij8KLMRxx2"
      },
      "execution_count": null,
      "outputs": []
    },
    {
      "cell_type": "code",
      "source": [
        "for i in big_data_train:\n",
        "    data, sr = librosa.load(i, sr=44100)\n",
        "    get_silence(data, sr, i.split('.')[0])\n",
        "\n",
        "for i in big_data_train:\n",
        "    !rm $i"
      ],
      "metadata": {
        "id": "PoAhuZtGTGXv"
      },
      "execution_count": null,
      "outputs": []
    },
    {
      "cell_type": "code",
      "source": [
        "common_len = 0\n",
        "for root, dirs, files in os.walk('/content/train/'):\n",
        "    common_len += len(files)\n",
        "\n",
        "common_len"
      ],
      "metadata": {
        "id": "HoPomQHqCnET"
      },
      "execution_count": null,
      "outputs": []
    },
    {
      "cell_type": "markdown",
      "source": [
        "### Удаление поврежденных данных"
      ],
      "metadata": {
        "id": "2be0GYb6pspN"
      }
    },
    {
      "cell_type": "code",
      "source": [
        "file_path = '/content/train/marvin/'\n",
        "low_data_marvin_train = []\n",
        "\n",
        "for root, dirs, files in os.walk(file_path):\n",
        "    for i in files:\n",
        "        path = file_path + i\n",
        "\n",
        "        with wave.open(path) as mywav:\n",
        "            duration_seconds = mywav.getnframes() / mywav.getframerate()\n",
        "\n",
        "        if (duration_seconds < 1.0): \n",
        "            low_data_marvin_train.append((path, duration_seconds))"
      ],
      "metadata": {
        "id": "KfnLNYYNknvO"
      },
      "execution_count": null,
      "outputs": []
    },
    {
      "cell_type": "code",
      "source": [
        "count = []\n",
        "for i in low_data_marvin_train:\n",
        "    if i[1] < 0.8:\n",
        "        count.append(i[0])"
      ],
      "metadata": {
        "id": "JiuuPmL7tKbJ"
      },
      "execution_count": null,
      "outputs": []
    },
    {
      "cell_type": "code",
      "source": [
        "len(count)"
      ],
      "metadata": {
        "id": "joh93ir-CsYs"
      },
      "execution_count": null,
      "outputs": []
    },
    {
      "cell_type": "code",
      "source": [
        "for i in count:\n",
        "    !rm $i"
      ],
      "metadata": {
        "id": "BHvKDw5utxio"
      },
      "execution_count": null,
      "outputs": []
    },
    {
      "cell_type": "code",
      "source": [
        "!rm '/content/train/marvin/88e85150_nohash_0.wav'\n",
        "!rm '/content/train/marvin/88e85150_nohash_1.wav'"
      ],
      "metadata": {
        "id": "6hTPqJmm0dH3"
      },
      "execution_count": null,
      "outputs": []
    },
    {
      "cell_type": "markdown",
      "source": [
        "### Аугментация"
      ],
      "metadata": {
        "id": "xulyKWbpp0LH"
      }
    },
    {
      "cell_type": "code",
      "source": [
        "file_path = '/content/train/'\n",
        "common = 0\n",
        "\n",
        "for root, dirs, files in os.walk(file_path):\n",
        "    for i in dirs:\n",
        "        for root2, dirs2, files2 in os.walk(file_path + i):\n",
        "            common += len(files2)\n",
        "    # print(len(files))\n",
        "    break\n",
        "\n",
        "marvin = 0\n",
        "file_path = '/content/train/marvin'\n",
        "for root, dirs, files in os.walk(file_path):\n",
        "    marvin = len(files)\n",
        "    # print(len(files))\n",
        "    break\n",
        "\n",
        "samples = common - 2 * marvin\n",
        "print('Сколько надо дозаполнить: ', samples)\n",
        "\n",
        "mu, sigma = 0, 0.02"
      ],
      "metadata": {
        "colab": {
          "base_uri": "https://localhost:8080/"
        },
        "id": "8ySYIMc0EaIc",
        "outputId": "426260c0-ba88-4151-a291-8a2fc83ddb2a"
      },
      "execution_count": null,
      "outputs": [
        {
          "output_type": "stream",
          "name": "stdout",
          "text": [
            "Сколько надо дозаполнить:  81841\n"
          ]
        }
      ]
    },
    {
      "cell_type": "code",
      "source": [
        "augented_data('/content/train/marvin/', 44100, samples, mu, sigma, sounds, SAMPLE_RIR)"
      ],
      "metadata": {
        "id": "gbzFaqS6sblQ",
        "colab": {
          "base_uri": "https://localhost:8080/"
        },
        "outputId": "bc80f446-1c76-4a26-c820-77734f5849ac"
      },
      "execution_count": null,
      "outputs": [
        {
          "output_type": "stream",
          "name": "stderr",
          "text": [
            "<ipython-input-5-47502f4e01a8>:7: UserWarning: Creating a tensor from a list of numpy.ndarrays is extremely slow. Please consider converting the list to a single numpy.ndarray with numpy.array() before converting to a tensor. (Triggered internally at ../torch/csrc/utils/tensor_new.cpp:245.)\n",
            "  rir_raw = torch.Tensor([rir_raw])\n"
          ]
        }
      ]
    },
    {
      "cell_type": "code",
      "source": [
        "file_path = '/content/train/'\n",
        "lenbgt = 0\n",
        "\n",
        "for root, dirs, files in os.walk(file_path):\n",
        "    for i in dirs:\n",
        "        path = file_path + i\n",
        "\n",
        "        for j, k, l in os.walk(path):\n",
        "            lenbgt += len(l)\n",
        "            break\n",
        "\n",
        "    break\n",
        "\n",
        "lenbgt"
      ],
      "metadata": {
        "colab": {
          "base_uri": "https://localhost:8080/"
        },
        "id": "RWFCFGpeC9ay",
        "outputId": "f4dc8d66-fc37-4a29-895c-1e3ac9104bff"
      },
      "execution_count": null,
      "outputs": [
        {
          "output_type": "execute_result",
          "data": {
            "text/plain": [
              "166930"
            ]
          },
          "metadata": {},
          "execution_count": 26
        }
      ]
    },
    {
      "cell_type": "code",
      "source": [
        "marvin = 0\n",
        "file_path = '/content/train/marvin'\n",
        "for root, dirs, files in os.walk(file_path):\n",
        "    marvin = len(files)\n",
        "    # print(len(files))\n",
        "    break\n",
        "\n",
        "marvin"
      ],
      "metadata": {
        "colab": {
          "base_uri": "https://localhost:8080/"
        },
        "id": "Qzabb-IJL2XN",
        "outputId": "3dbf4fbd-6a4d-44cf-84bf-1a5062a5e415"
      },
      "execution_count": null,
      "outputs": [
        {
          "output_type": "execute_result",
          "data": {
            "text/plain": [
              "83465"
            ]
          },
          "metadata": {},
          "execution_count": 27
        }
      ]
    },
    {
      "cell_type": "code",
      "source": [
        "166930 / 2"
      ],
      "metadata": {
        "colab": {
          "base_uri": "https://localhost:8080/"
        },
        "id": "9MuR4vYmMMBM",
        "outputId": "f9391ef6-f518-45b8-d315-c68a648e108a"
      },
      "execution_count": null,
      "outputs": [
        {
          "output_type": "execute_result",
          "data": {
            "text/plain": [
              "83465.0"
            ]
          },
          "metadata": {},
          "execution_count": 58
        }
      ]
    },
    {
      "cell_type": "code",
      "source": [
        "shutil.make_archive(\"train_without_effects\", \"zip\", \"train\")\n",
        "!cp train_without_effects.zip \"/content/gdrive/MyDrive/Colab Notebooks/neymark\"\n",
        "files.download('/content/train_without_effects.zip')"
      ],
      "metadata": {
        "colab": {
          "base_uri": "https://localhost:8080/",
          "height": 34
        },
        "id": "IexobFaSD2hL",
        "outputId": "b6f1c065-4542-4bd4-9504-7f346b78fa27"
      },
      "execution_count": null,
      "outputs": [
        {
          "output_type": "display_data",
          "data": {
            "text/plain": [
              "<IPython.core.display.Javascript object>"
            ],
            "application/javascript": [
              "\n",
              "    async function download(id, filename, size) {\n",
              "      if (!google.colab.kernel.accessAllowed) {\n",
              "        return;\n",
              "      }\n",
              "      const div = document.createElement('div');\n",
              "      const label = document.createElement('label');\n",
              "      label.textContent = `Downloading \"${filename}\": `;\n",
              "      div.appendChild(label);\n",
              "      const progress = document.createElement('progress');\n",
              "      progress.max = size;\n",
              "      div.appendChild(progress);\n",
              "      document.body.appendChild(div);\n",
              "\n",
              "      const buffers = [];\n",
              "      let downloaded = 0;\n",
              "\n",
              "      const channel = await google.colab.kernel.comms.open(id);\n",
              "      // Send a message to notify the kernel that we're ready.\n",
              "      channel.send({})\n",
              "\n",
              "      for await (const message of channel.messages) {\n",
              "        // Send a message to notify the kernel that we're ready.\n",
              "        channel.send({})\n",
              "        if (message.buffers) {\n",
              "          for (const buffer of message.buffers) {\n",
              "            buffers.push(buffer);\n",
              "            downloaded += buffer.byteLength;\n",
              "            progress.value = downloaded;\n",
              "          }\n",
              "        }\n",
              "      }\n",
              "      const blob = new Blob(buffers, {type: 'application/binary'});\n",
              "      const a = document.createElement('a');\n",
              "      a.href = window.URL.createObjectURL(blob);\n",
              "      a.download = filename;\n",
              "      div.appendChild(a);\n",
              "      a.click();\n",
              "      div.remove();\n",
              "    }\n",
              "  "
            ]
          },
          "metadata": {}
        },
        {
          "output_type": "display_data",
          "data": {
            "text/plain": [
              "<IPython.core.display.Javascript object>"
            ],
            "application/javascript": [
              "download(\"download_68d4c011-b4d7-42a3-920a-da99799449c4\", \"train_without_effects.zip\", 8240278869)"
            ]
          },
          "metadata": {}
        }
      ]
    },
    {
      "cell_type": "code",
      "source": [
        "!cp train_without_effects.zip \"/content/gdrive/MyDrive/Colab Notebooks/neymark\""
      ],
      "metadata": {
        "id": "KlNa_f4z33l_"
      },
      "execution_count": null,
      "outputs": []
    },
    {
      "cell_type": "markdown",
      "source": [
        "## Валидационная выборка\n",
        "### Разбиенние длинных записей"
      ],
      "metadata": {
        "id": "TUUw5CNU3mst"
      }
    },
    {
      "cell_type": "code",
      "source": [
        "mean_dur_dev, dur_dev, big_data_dev, small_data_dev = get_mean('/content/dev/')"
      ],
      "metadata": {
        "id": "YHb3NWhzbON0"
      },
      "execution_count": null,
      "outputs": []
    },
    {
      "cell_type": "code",
      "source": [
        "data, sr = librosa.load('/content/dev/_silence_/running_tap.wav', sr=44100)\n",
        "get_silence(data, sr, '/content/dev/_silence_/silence')\n",
        "!rm '/content/dev/_silence_/running_tap.wav'"
      ],
      "metadata": {
        "id": "KM2doDc53tIN"
      },
      "execution_count": null,
      "outputs": []
    },
    {
      "cell_type": "markdown",
      "source": [
        "### Аугментация"
      ],
      "metadata": {
        "id": "8L4NMt4Y31N5"
      }
    },
    {
      "cell_type": "code",
      "source": [
        "file_path = '/content/dev/'\n",
        "common = 0\n",
        "\n",
        "for root, dirs, files in os.walk(file_path):\n",
        "    for i in dirs:\n",
        "        for root2, dirs2, files2 in os.walk(file_path + i):\n",
        "            common += len(files2)\n",
        "    # print(len(files))\n",
        "    break\n",
        "\n",
        "marvin = 0\n",
        "file_path = '/content/dev/marvin/'\n",
        "for root, dirs, files in os.walk(file_path):\n",
        "    marvin = len(files)\n",
        "    # print(len(files))\n",
        "    break\n",
        "\n",
        "samples = common - 2 * marvin\n",
        "print('Сколько надо дозаполнить: ', samples)\n",
        "\n",
        "mu, sigma = 0, 0.02"
      ],
      "metadata": {
        "colab": {
          "base_uri": "https://localhost:8080/"
        },
        "id": "3Xh32YL45YJm",
        "outputId": "02f1a381-ffd0-4fef-ac0d-27794b7c6b8f"
      },
      "execution_count": null,
      "outputs": [
        {
          "output_type": "stream",
          "name": "stdout",
          "text": [
            "Сколько надо дозаполнить:  9651\n"
          ]
        }
      ]
    },
    {
      "cell_type": "code",
      "source": [
        "augented_data('/content/dev/marvin/', 44100, samples, mu, sigma, sounds, SAMPLE_RIR)"
      ],
      "metadata": {
        "id": "-JxCme96LUJt"
      },
      "execution_count": null,
      "outputs": []
    },
    {
      "cell_type": "code",
      "source": [
        "marvin = 0\n",
        "file_path = '/content/dev/marvin'\n",
        "for root, dirs, files in os.walk(file_path):\n",
        "    marvin = len(files)\n",
        "    # print(len(files))\n",
        "    break\n",
        "\n",
        "marvin"
      ],
      "metadata": {
        "colab": {
          "base_uri": "https://localhost:8080/"
        },
        "id": "6CvyrlU3Lsth",
        "outputId": "febaa101-620e-48d6-d60e-da7e1879c896"
      },
      "execution_count": null,
      "outputs": [
        {
          "output_type": "execute_result",
          "data": {
            "text/plain": [
              "9846"
            ]
          },
          "metadata": {},
          "execution_count": 33
        }
      ]
    },
    {
      "cell_type": "code",
      "source": [
        "file_path = '/content/dev/'\n",
        "lenbgt = 0\n",
        "\n",
        "for root, dirs, files in os.walk(file_path):\n",
        "    for i in dirs:\n",
        "        path = file_path + i\n",
        "\n",
        "        for j, k, l in os.walk(path):\n",
        "            lenbgt += len(l)\n",
        "            break\n",
        "\n",
        "    break\n",
        "\n",
        "lenbgt"
      ],
      "metadata": {
        "colab": {
          "base_uri": "https://localhost:8080/"
        },
        "id": "Buq_NTKdMA2Z",
        "outputId": "e9451116-ab24-4693-d634-770f660898a0"
      },
      "execution_count": null,
      "outputs": [
        {
          "output_type": "execute_result",
          "data": {
            "text/plain": [
              "19692"
            ]
          },
          "metadata": {},
          "execution_count": 34
        }
      ]
    },
    {
      "cell_type": "code",
      "source": [
        "19692 / 2"
      ],
      "metadata": {
        "colab": {
          "base_uri": "https://localhost:8080/"
        },
        "id": "4iB5qw7EMGVQ",
        "outputId": "0cf26cea-890f-45d3-bb64-c34ff96c0144"
      },
      "execution_count": null,
      "outputs": [
        {
          "output_type": "execute_result",
          "data": {
            "text/plain": [
              "9846.0"
            ]
          },
          "metadata": {},
          "execution_count": 56
        }
      ]
    },
    {
      "cell_type": "code",
      "source": [
        "shutil.make_archive(\"dev_without_effects\", \"zip\", \"dev\")\n",
        "!cp dev_without_effects.zip \"/content/gdrive/MyDrive/Colab Notebooks/neymark\"\n",
        "files.download('dev_without_effects.zip')"
      ],
      "metadata": {
        "colab": {
          "base_uri": "https://localhost:8080/",
          "height": 17
        },
        "id": "MjJTO1JVMKHN",
        "outputId": "ad8ee6b8-cbed-488a-b693-a1525b0bc255"
      },
      "execution_count": null,
      "outputs": [
        {
          "output_type": "display_data",
          "data": {
            "text/plain": [
              "<IPython.core.display.Javascript object>"
            ],
            "application/javascript": [
              "\n",
              "    async function download(id, filename, size) {\n",
              "      if (!google.colab.kernel.accessAllowed) {\n",
              "        return;\n",
              "      }\n",
              "      const div = document.createElement('div');\n",
              "      const label = document.createElement('label');\n",
              "      label.textContent = `Downloading \"${filename}\": `;\n",
              "      div.appendChild(label);\n",
              "      const progress = document.createElement('progress');\n",
              "      progress.max = size;\n",
              "      div.appendChild(progress);\n",
              "      document.body.appendChild(div);\n",
              "\n",
              "      const buffers = [];\n",
              "      let downloaded = 0;\n",
              "\n",
              "      const channel = await google.colab.kernel.comms.open(id);\n",
              "      // Send a message to notify the kernel that we're ready.\n",
              "      channel.send({})\n",
              "\n",
              "      for await (const message of channel.messages) {\n",
              "        // Send a message to notify the kernel that we're ready.\n",
              "        channel.send({})\n",
              "        if (message.buffers) {\n",
              "          for (const buffer of message.buffers) {\n",
              "            buffers.push(buffer);\n",
              "            downloaded += buffer.byteLength;\n",
              "            progress.value = downloaded;\n",
              "          }\n",
              "        }\n",
              "      }\n",
              "      const blob = new Blob(buffers, {type: 'application/binary'});\n",
              "      const a = document.createElement('a');\n",
              "      a.href = window.URL.createObjectURL(blob);\n",
              "      a.download = filename;\n",
              "      div.appendChild(a);\n",
              "      a.click();\n",
              "      div.remove();\n",
              "    }\n",
              "  "
            ]
          },
          "metadata": {}
        },
        {
          "output_type": "display_data",
          "data": {
            "text/plain": [
              "<IPython.core.display.Javascript object>"
            ],
            "application/javascript": [
              "download(\"download_19104f2e-c051-4f92-af6e-10d003f3c4ee\", \"dev_without_effects.zip\", 955877051)"
            ]
          },
          "metadata": {}
        }
      ]
    }
  ]
}