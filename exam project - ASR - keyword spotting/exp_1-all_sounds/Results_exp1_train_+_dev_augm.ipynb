{
  "cells": [
    {
      "cell_type": "markdown",
      "metadata": {
        "id": "rvxdviYtOFjK"
      },
      "source": [
        "# Результаты train, dev, test"
      ]
    },
    {
      "cell_type": "code",
      "execution_count": null,
      "metadata": {
        "colab": {
          "base_uri": "https://localhost:8080/"
        },
        "id": "Vyyw_DwYesLC",
        "outputId": "7975dff8-e94f-43ea-de55-348ada9b519d"
      },
      "outputs": [
        {
          "output_type": "execute_result",
          "data": {
            "text/plain": [
              "22050"
            ]
          },
          "metadata": {},
          "execution_count": 34
        }
      ],
      "source": [
        "config.model.test_ds.sample_rate"
      ]
    },
    {
      "cell_type": "code",
      "execution_count": null,
      "metadata": {
        "id": "WONENJKEhGDX"
      },
      "outputs": [],
      "source": [
        "restored_model = nemo_asr.models.EncDecClassificationModel.load_from_checkpoint('/content/epoch=19-step=26099.ckpt')\n",
        "restored_model.setup_multiple_test_data({'manifest_filepath': os.path.join('/content/test.json'), 'sample_rate': 22050, 'labels': ['marvin', 'unknow'], 'batch_size': 128, 'shuffle': False})\n",
        "restored_model.setup_multiple_validation_data({'manifest_filepath': os.path.join('/content/dev.json'), 'sample_rate': 22050, 'labels': ['marvin', 'unknow'], 'batch_size': 128, 'shuffle': False})\n",
        "restored_model.setup_training_data({'manifest_filepath': os.path.join('/content/train.json'), 'sample_rate': 22050, 'labels': ['marvin', 'unknow'], 'batch_size': 128, 'shuffle': False})"
      ]
    },
    {
      "cell_type": "code",
      "execution_count": null,
      "metadata": {
        "id": "CB0QZCAmM656"
      },
      "outputs": [],
      "source": [
        "test_dl = restored_model._test_dl\n",
        "dev_dl = restored_model._validation_dl\n",
        "train_dl = restored_model._train_dl"
      ]
    },
    {
      "cell_type": "code",
      "source": [
        "cpu_model = restored_model.cpu()\n",
        "cpu_model.eval()"
      ],
      "metadata": {
        "id": "wAae0n632797"
      },
      "execution_count": null,
      "outputs": []
    },
    {
      "cell_type": "code",
      "execution_count": null,
      "metadata": {
        "id": "sBsDOm5ROpQI"
      },
      "outputs": [],
      "source": [
        "@torch.no_grad()\n",
        "def extract_logits(model, dataloader):\n",
        "  logits_buffer = []\n",
        "  label_buffer = []\n",
        "\n",
        "  # Follow the above definition of the test_step\n",
        "  for batch in dataloader:\n",
        "    audio_signal, audio_signal_len, labels, labels_len = batch\n",
        "    logits = model(input_signal=audio_signal, input_signal_length=audio_signal_len)\n",
        "\n",
        "    logits_buffer.append(logits)\n",
        "    label_buffer.append(labels)\n",
        "    print(\".\", end='')\n",
        "  print()\n",
        "  \n",
        "  print(\"Finished extracting logits !\")\n",
        "  logits = torch.cat(logits_buffer, 0)\n",
        "  labels = torch.cat(label_buffer, 0)\n",
        "  return logits, labels\n"
      ]
    },
    {
      "cell_type": "code",
      "source": [
        "def get_labels_logits(model, dl):\n",
        "    logits, labels = extract_logits(model, dl)\n",
        "    print(\"Logits:\", logits.shape, \"Labels :\", labels.shape)\n",
        "\n",
        "    return logits, labels"
      ],
      "metadata": {
        "id": "VM0weaJC20-Q"
      },
      "execution_count": null,
      "outputs": []
    },
    {
      "cell_type": "code",
      "source": [
        "logits_train, labels_train = get_labels_logits(cpu_model, train_dl)"
      ],
      "metadata": {
        "colab": {
          "base_uri": "https://localhost:8080/"
        },
        "id": "259hG73knzvv",
        "outputId": "ef43f838-a408-4b6a-844f-26e60f6dd07c"
      },
      "execution_count": null,
      "outputs": [
        {
          "output_type": "stream",
          "name": "stdout",
          "text": [
            ".........................................................................................................................................................................................................................................................................................................................................................................................................................................................................................................................................................................................................................................................................................................................................................................................................................................................................................................................................................................................................................................................................................................................................................................................................................................................................................................................................................\n",
            "Finished extracting logits !\n",
            "Logits: torch.Size([166930, 2]) Labels : torch.Size([166930])\n"
          ]
        }
      ]
    },
    {
      "cell_type": "code",
      "source": [
        "logits_dev, labels_dev = get_labels_logits(cpu_model, dev_dl)"
      ],
      "metadata": {
        "id": "HMBZZMcF7YMm",
        "colab": {
          "base_uri": "https://localhost:8080/"
        },
        "outputId": "113a360b-8f2b-4b66-be73-4d056fc2c86e"
      },
      "execution_count": null,
      "outputs": [
        {
          "output_type": "stream",
          "name": "stdout",
          "text": [
            "..........................................................................................................................................................\n",
            "Finished extracting logits !\n",
            "Logits: torch.Size([19692, 2]) Labels : torch.Size([19692])\n"
          ]
        }
      ]
    },
    {
      "cell_type": "code",
      "source": [
        "logits_test, labels_test = get_labels_logits(cpu_model, test_dl)"
      ],
      "metadata": {
        "colab": {
          "base_uri": "https://localhost:8080/"
        },
        "id": "j8Q0yK6Gn0OU",
        "outputId": "7e2aeece-d042-4e6f-a0e5-8e97bea454e0"
      },
      "execution_count": null,
      "outputs": [
        {
          "output_type": "stream",
          "name": "stdout",
          "text": [
            ".......................................\n",
            "Finished extracting logits !\n",
            "Logits: torch.Size([4890, 2]) Labels : torch.Size([4890])\n"
          ]
        }
      ]
    },
    {
      "cell_type": "code",
      "source": [
        "# train accuracy\n",
        "acc = cpu_model._accuracy(logits=logits_train, labels=labels_train)\n",
        "print(\"Accuracy : \", float(acc[0]*100))"
      ],
      "metadata": {
        "colab": {
          "base_uri": "https://localhost:8080/"
        },
        "id": "2TqKRkaos0YS",
        "outputId": "e631acdf-b503-4649-8c83-5fc64bb392d7"
      },
      "execution_count": null,
      "outputs": [
        {
          "output_type": "stream",
          "name": "stdout",
          "text": [
            "Accuracy :  99.85322570800781\n"
          ]
        }
      ]
    },
    {
      "cell_type": "code",
      "execution_count": null,
      "metadata": {
        "colab": {
          "base_uri": "https://localhost:8080/"
        },
        "id": "9Wd0ukgNXRBz",
        "outputId": "a07b10f0-1c1c-4f9e-a37d-6b86f51b1aa1"
      },
      "outputs": [
        {
          "output_type": "stream",
          "name": "stdout",
          "text": [
            "Accuracy :  99.61405181884766\n"
          ]
        }
      ],
      "source": [
        "# dev accuracy \n",
        "acc = cpu_model._accuracy(logits=logits_dev, labels=labels_dev)\n",
        "print(\"Accuracy : \", float(acc[0]*100))"
      ]
    },
    {
      "cell_type": "code",
      "source": [
        "# test accuracy \n",
        "acc = cpu_model._accuracy(logits=logits_test, labels=labels_test)\n",
        "print(\"Accuracy : \", float(acc[0]*100))"
      ],
      "metadata": {
        "colab": {
          "base_uri": "https://localhost:8080/"
        },
        "id": "1ND6cCz1W_xX",
        "outputId": "b3c31209-1902-434c-bb79-fc7af7acf91d"
      },
      "execution_count": null,
      "outputs": [
        {
          "output_type": "stream",
          "name": "stdout",
          "text": [
            "Accuracy :  99.8364028930664\n"
          ]
        }
      ]
    },
    {
      "cell_type": "markdown",
      "source": [
        "## Метрики"
      ],
      "metadata": {
        "id": "5MLjzQAw4Cfr"
      }
    },
    {
      "cell_type": "code",
      "source": [
        "from sklearn.metrics import balanced_accuracy_score\n",
        "from sklearn.metrics import f1_score"
      ],
      "metadata": {
        "id": "3hJ1cirJ9Zbw"
      },
      "execution_count": null,
      "outputs": []
    },
    {
      "cell_type": "code",
      "source": [
        "probs_test = torch.softmax(logits_test, dim=-1)\n",
        "probas_test, preds_test = torch.max(probs_test, dim=-1)\n",
        "\n",
        "print(balanced_accuracy_score(labels_test, preds_test))\n",
        "\n",
        "probs_train = torch.softmax(logits_train, dim=-1)\n",
        "probas_train, preds_train = torch.max(probs_train, dim=-1)\n",
        "\n",
        "print(balanced_accuracy_score(labels_train, preds_train))\n",
        "\n",
        "probs_dev = torch.softmax(logits_dev, dim=-1)\n",
        "probas_dev, preds_dev = torch.max(probs_dev, dim=-1)\n",
        "\n",
        "print(balanced_accuracy_score(labels_dev, preds_dev))\n",
        "\n",
        "print(f1_score(labels_test, preds_test))\n",
        "print(f1_score(labels_train, preds_train))\n",
        "print(f1_score(labels_dev, preds_dev))"
      ],
      "metadata": {
        "colab": {
          "base_uri": "https://localhost:8080/"
        },
        "id": "nUStMF7ZXHJP",
        "outputId": "4bffccd5-f1c8-4cf2-caab-c4c9110e2bbf"
      },
      "execution_count": null,
      "outputs": [
        {
          "output_type": "stream",
          "name": "stdout",
          "text": [
            "0.9084760289925282\n",
            "0.998532318936081\n",
            "0.9961405646963234\n",
            "0.9991798236620874\n",
            "0.9985335224790055\n",
            "0.9961526779386453\n"
          ]
        }
      ]
    },
    {
      "cell_type": "markdown",
      "source": [
        "# Посмотрим на неверно классифицированные данные"
      ],
      "metadata": {
        "id": "zo-mGS_U4WRW"
      }
    },
    {
      "cell_type": "code",
      "execution_count": null,
      "metadata": {
        "id": "jZAT9yGAayvR"
      },
      "outputs": [],
      "source": [
        "# для вывода labels\n",
        "class ReverseMapLabel:\n",
        "    def __init__(self, data_loader):\n",
        "        self.label2id = dict(data_loader.dataset.label2id)\n",
        "        self.id2label = dict(data_loader.dataset.id2label)\n",
        "\n",
        "    def __call__(self, pred_idx, label_idx):\n",
        "        return self.id2label[pred_idx], self.id2label[label_idx]"
      ]
    },
    {
      "cell_type": "code",
      "source": [
        "def indices_inc_lables(dl, logits, labels, cpu_model):\n",
        "    sample_idx = 0\n",
        "    incorrect_preds = []\n",
        "    rev_map = ReverseMapLabel(dl)\n",
        "\n",
        "    probs = torch.softmax(logits, dim=-1)\n",
        "    probas, preds = torch.max(probs, dim=-1)\n",
        "\n",
        "    total_count = cpu_model._accuracy.total_counts_k[0]\n",
        "    incorrect_ids = (preds != labels).nonzero()\n",
        "    for idx in incorrect_ids:\n",
        "        proba = float(probas[idx][0])\n",
        "        pred = int(preds[idx][0])\n",
        "        label = int(labels[idx][0])\n",
        "        idx = int(idx[0]) + sample_idx\n",
        "\n",
        "        incorrect_preds.append((idx, *rev_map(pred, label), proba))\n",
        "\n",
        "    print(f\"Num test samples : {total_count.item()}\")\n",
        "    print(f\"Num errors : {len(incorrect_preds)}\")\n",
        "\n",
        "    incorrect_preds = sorted(incorrect_preds, key=lambda x: x[-1], reverse=False)\n",
        "\n",
        "    return incorrect_preds"
      ],
      "metadata": {
        "id": "_dOUE3Sg4kYJ"
      },
      "execution_count": null,
      "outputs": []
    },
    {
      "cell_type": "code",
      "source": [
        "# train тут напутано с Num test samples, должно быть 166930\n",
        "incorrect_preds_train = indices_inc_lables(train_dl, logits_train, labels_train, cpu_model)"
      ],
      "metadata": {
        "colab": {
          "base_uri": "https://localhost:8080/"
        },
        "id": "Iqaqtkj-gNCh",
        "outputId": "f56d7528-ed09-4168-a23f-1df27abe4d12"
      },
      "execution_count": null,
      "outputs": [
        {
          "output_type": "stream",
          "name": "stdout",
          "text": [
            "Num test samples : 4890\n",
            "Num errors : 245\n"
          ]
        }
      ]
    },
    {
      "cell_type": "code",
      "source": [
        "#dev тут напутано с Num test samples, должно быть 19692\n",
        "incorrect_preds_dev = indices_inc_lables(dev_dl, logits_dev, labels_dev, cpu_model)"
      ],
      "metadata": {
        "colab": {
          "base_uri": "https://localhost:8080/"
        },
        "id": "uljjJ7lbCa7W",
        "outputId": "d047af4c-3592-4f33-ffd7-60aca9c0a4e1"
      },
      "execution_count": null,
      "outputs": [
        {
          "output_type": "stream",
          "name": "stdout",
          "text": [
            "Num test samples : 4890\n",
            "Num errors : 76\n"
          ]
        }
      ]
    },
    {
      "cell_type": "code",
      "execution_count": null,
      "metadata": {
        "colab": {
          "base_uri": "https://localhost:8080/"
        },
        "id": "X3GSXvYHa4KJ",
        "outputId": "30bee078-10fe-4199-d0ce-5b7f8ed3017b"
      },
      "outputs": [
        {
          "output_type": "stream",
          "name": "stdout",
          "text": [
            "Num test samples : 4890\n",
            "Num errors : 8\n"
          ]
        }
      ],
      "source": [
        "#test\n",
        "incorrect_preds_test = indices_inc_lables(test_dl, logits_test, labels_test, cpu_model)"
      ]
    },
    {
      "cell_type": "markdown",
      "metadata": {
        "id": "0JgGo71gcDtD"
      },
      "source": [
        "### Списки неверно классифицированных"
      ]
    },
    {
      "cell_type": "code",
      "source": [
        "for incorrect_sample in incorrect_preds_test:\n",
        "    print(str(incorrect_sample))"
      ],
      "metadata": {
        "colab": {
          "base_uri": "https://localhost:8080/"
        },
        "id": "wi4reygIs-FD",
        "outputId": "2b377bb4-b92e-40de-d92e-1c037c2bd9d6"
      },
      "execution_count": null,
      "outputs": [
        {
          "output_type": "stream",
          "name": "stdout",
          "text": [
            "(4208, 'marvin', 'unknow', 0.834339439868927)\n",
            "(3896, 'unknow', 'marvin', 0.847510814666748)\n",
            "(1581, 'marvin', 'unknow', 0.9664788246154785)\n",
            "(1554, 'marvin', 'unknow', 0.9675670266151428)\n",
            "(3899, 'unknow', 'marvin', 0.9837485551834106)\n",
            "(4413, 'marvin', 'unknow', 0.9890121221542358)\n",
            "(1076, 'marvin', 'unknow', 0.9970698356628418)\n",
            "(1098, 'marvin', 'unknow', 0.9992333650588989)\n"
          ]
        }
      ]
    },
    {
      "cell_type": "code",
      "execution_count": null,
      "metadata": {
        "colab": {
          "base_uri": "https://localhost:8080/"
        },
        "id": "x37wNJsNbcw0",
        "outputId": "5c2e2136-722e-4c5a-f417-cecf911f5945"
      },
      "outputs": [
        {
          "output_type": "stream",
          "name": "stdout",
          "text": [
            "(5101, 'unknow', 'marvin', 0.5211857557296753)\n",
            "(10777, 'unknow', 'marvin', 0.5339115262031555)\n",
            "(8243, 'unknow', 'marvin', 0.5707648396492004)\n",
            "(6131, 'unknow', 'marvin', 0.5930638909339905)\n",
            "(6238, 'unknow', 'marvin', 0.5960043668746948)\n",
            "(11784, 'unknow', 'marvin', 0.5960043668746948)\n",
            "(7412, 'unknow', 'marvin', 0.603659987449646)\n",
            "(3842, 'unknow', 'marvin', 0.636572003364563)\n",
            "(9742, 'unknow', 'marvin', 0.6439694166183472)\n",
            "(9484, 'unknow', 'marvin', 0.647192120552063)\n",
            "(17556, 'marvin', 'unknow', 0.6553643941879272)\n",
            "(4914, 'unknow', 'marvin', 0.6633752584457397)\n",
            "(9535, 'unknow', 'marvin', 0.6696017980575562)\n",
            "(12172, 'unknow', 'marvin', 0.6702904105186462)\n",
            "(8812, 'unknow', 'marvin', 0.6907464265823364)\n",
            "(736, 'marvin', 'unknow', 0.7040918469429016)\n",
            "(5295, 'unknow', 'marvin', 0.710063099861145)\n",
            "(4551, 'unknow', 'marvin', 0.7370499968528748)\n",
            "(18315, 'marvin', 'unknow', 0.7713037133216858)\n",
            "(12136, 'unknow', 'marvin', 0.8083779811859131)\n",
            "(11182, 'unknow', 'marvin', 0.8126702904701233)\n",
            "(5258, 'unknow', 'marvin', 0.8238701820373535)\n",
            "(6005, 'unknow', 'marvin', 0.8274741768836975)\n",
            "(3592, 'unknow', 'marvin', 0.8492200970649719)\n",
            "(6722, 'unknow', 'marvin', 0.8730427026748657)\n",
            "(15757, 'marvin', 'unknow', 0.8735358715057373)\n",
            "(5169, 'unknow', 'marvin', 0.8769941926002502)\n",
            "(8327, 'unknow', 'marvin', 0.8796449899673462)\n",
            "(9868, 'unknow', 'marvin', 0.8885326385498047)\n",
            "(6933, 'unknow', 'marvin', 0.8910949230194092)\n",
            "(4234, 'unknow', 'marvin', 0.8955368995666504)\n",
            "(7089, 'unknow', 'marvin', 0.8995916843414307)\n",
            "(19290, 'marvin', 'unknow', 0.9047945141792297)\n",
            "(7299, 'unknow', 'marvin', 0.9141679406166077)\n",
            "(4416, 'unknow', 'marvin', 0.9205520749092102)\n",
            "(6607, 'unknow', 'marvin', 0.9233843684196472)\n",
            "(5135, 'unknow', 'marvin', 0.9288135170936584)\n",
            "(15266, 'marvin', 'unknow', 0.9295375347137451)\n",
            "(9369, 'unknow', 'marvin', 0.9298801422119141)\n",
            "(4079, 'unknow', 'marvin', 0.9347649812698364)\n",
            "(3977, 'unknow', 'marvin', 0.9390179514884949)\n",
            "(8410, 'unknow', 'marvin', 0.9471079707145691)\n",
            "(7515, 'unknow', 'marvin', 0.9484108090400696)\n",
            "(10975, 'unknow', 'marvin', 0.9501500725746155)\n",
            "(8403, 'unknow', 'marvin', 0.9547167420387268)\n",
            "(17570, 'marvin', 'unknow', 0.9548029899597168)\n",
            "(5168, 'unknow', 'marvin', 0.955135703086853)\n",
            "(7048, 'unknow', 'marvin', 0.9558410048484802)\n",
            "(6996, 'unknow', 'marvin', 0.9631509184837341)\n",
            "(10939, 'unknow', 'marvin', 0.9640170931816101)\n",
            "(7481, 'unknow', 'marvin', 0.9666351675987244)\n",
            "(10314, 'unknow', 'marvin', 0.9694018959999084)\n",
            "(3840, 'unknow', 'marvin', 0.9787368774414062)\n",
            "(6790, 'unknow', 'marvin', 0.9807468056678772)\n",
            "(9275, 'unknow', 'marvin', 0.9825442433357239)\n",
            "(10327, 'unknow', 'marvin', 0.9847754836082458)\n",
            "(3927, 'unknow', 'marvin', 0.9862492680549622)\n",
            "(7106, 'unknow', 'marvin', 0.9874786138534546)\n",
            "(3434, 'unknow', 'marvin', 0.9876349568367004)\n",
            "(5554, 'unknow', 'marvin', 0.9879873991012573)\n",
            "(11325, 'unknow', 'marvin', 0.9909653663635254)\n",
            "(7431, 'unknow', 'marvin', 0.9910510778427124)\n",
            "(7500, 'unknow', 'marvin', 0.9913357496261597)\n",
            "(10214, 'unknow', 'marvin', 0.9918702840805054)\n",
            "(11361, 'unknow', 'marvin', 0.9924997687339783)\n",
            "(4396, 'unknow', 'marvin', 0.9945722222328186)\n",
            "(10715, 'unknow', 'marvin', 0.9949265718460083)\n",
            "(6882, 'unknow', 'marvin', 0.9966400861740112)\n",
            "(9347, 'unknow', 'marvin', 0.9978262782096863)\n",
            "(7768, 'unknow', 'marvin', 0.9989367127418518)\n",
            "(18690, 'marvin', 'unknow', 0.9991486072540283)\n",
            "(7910, 'unknow', 'marvin', 0.9992361068725586)\n",
            "(4158, 'unknow', 'marvin', 0.9995114803314209)\n",
            "(8598, 'unknow', 'marvin', 0.9998772144317627)\n",
            "(6579, 'unknow', 'marvin', 0.9999663829803467)\n"
          ]
        }
      ],
      "source": [
        "for incorrect_sample in incorrect_preds_dev:\n",
        "    print(str(incorrect_sample))"
      ]
    },
    {
      "cell_type": "markdown",
      "source": [
        "# FAR per hour"
      ],
      "metadata": {
        "id": "dpFROBxy9TJr"
      }
    },
    {
      "cell_type": "code",
      "source": [
        "restored_model.setup_multiple_test_data({'manifest_filepath': os.path.join('/content/far.json'), 'sample_rate': 22050, 'labels': ['marvin', 'unknow'], 'batch_size': 128, 'shuffle': False})"
      ],
      "metadata": {
        "colab": {
          "base_uri": "https://localhost:8080/"
        },
        "id": "rOvAPLjDiuqQ",
        "outputId": "78921773-8951-4405-f67f-eb00bb944625"
      },
      "execution_count": null,
      "outputs": [
        {
          "output_type": "stream",
          "name": "stdout",
          "text": [
            "[NeMo I 2023-04-17 09:28:32 collections:298] Filtered duration for loading collection is 0.000000.\n",
            "[NeMo I 2023-04-17 09:28:32 collections:301] Dataset loaded with 7198 items, total duration of  2.00 hours.\n",
            "[NeMo I 2023-04-17 09:28:33 collections:303] # 7198 files loaded accounting to # 1 labels\n"
          ]
        }
      ]
    },
    {
      "cell_type": "code",
      "execution_count": null,
      "metadata": {
        "colab": {
          "base_uri": "https://localhost:8080/"
        },
        "id": "mZSdprUlOuoV",
        "outputId": "ae725499-8475-42f8-8334-30b938f49df6"
      },
      "outputs": [
        {
          "output_type": "stream",
          "name": "stdout",
          "text": [
            ".........................................................\n",
            "Finished extracting logits !\n",
            "Logits: torch.Size([7198, 2]) Labels : torch.Size([7198])\n"
          ]
        }
      ],
      "source": [
        "far_dl = restored_model._test_dl\n",
        "logits_far, labels_far = get_labels_logits(cpu_model, far_dl)"
      ]
    },
    {
      "cell_type": "code",
      "source": [
        "# far accuracy \n",
        "acc = cpu_model._accuracy(logits=logits_far, labels=labels_far)\n",
        "print(\"Accuracy : \", float(acc[0]*100))"
      ],
      "metadata": {
        "colab": {
          "base_uri": "https://localhost:8080/"
        },
        "id": "6dW7Jwx7jVs3",
        "outputId": "3e1f1242-daa1-405c-af5a-96b974c9b3b1"
      },
      "execution_count": null,
      "outputs": [
        {
          "output_type": "stream",
          "name": "stdout",
          "text": [
            "Accuracy :  97.74937438964844\n"
          ]
        }
      ]
    },
    {
      "cell_type": "code",
      "source": [
        "#far\n",
        "incorrect_preds_far = indices_inc_lables(far_dl, logits_far, labels_far, cpu_model)"
      ],
      "metadata": {
        "colab": {
          "base_uri": "https://localhost:8080/"
        },
        "id": "bXZciRpajbA2",
        "outputId": "1fd7cbbe-5b36-44fd-c2db-3a2c24bfa4fb"
      },
      "execution_count": null,
      "outputs": [
        {
          "output_type": "stream",
          "name": "stdout",
          "text": [
            "Num test samples : 7198\n",
            "Num errors : 162\n"
          ]
        }
      ]
    },
    {
      "cell_type": "code",
      "source": [
        "162 / 7198 * 60 * 60"
      ],
      "metadata": {
        "id": "JIYAjVehjhLt",
        "outputId": "f5735200-5c93-4f93-86ea-81f0f3fbac01",
        "colab": {
          "base_uri": "https://localhost:8080/"
        }
      },
      "execution_count": null,
      "outputs": [
        {
          "output_type": "execute_result",
          "data": {
            "text/plain": [
              "81.0225062517366"
            ]
          },
          "metadata": {},
          "execution_count": 55
        }
      ]
    }
  ],
  "metadata": {
    "colab": {
      "provenance": [],
      "gpuType": "T4"
    },
    "gpuClass": "standard",
    "kernelspec": {
      "display_name": "Python 3",
      "language": "python",
      "name": "python3"
    },
    "language_info": {
      "codemirror_mode": {
        "name": "ipython",
        "version": 3
      },
      "file_extension": ".py",
      "mimetype": "text/x-python",
      "name": "python",
      "nbconvert_exporter": "python",
      "pygments_lexer": "ipython3",
      "version": "3.7.6"
    }
  },
  "nbformat": 4,
  "nbformat_minor": 0
}