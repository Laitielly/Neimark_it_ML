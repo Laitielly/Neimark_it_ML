{
 "cells": [
  {
   "attachments": {},
   "cell_type": "markdown",
   "metadata": {},
   "source": [
    "# Импорт и установка модулей"
   ]
  },
  {
   "cell_type": "code",
   "execution_count": null,
   "metadata": {},
   "outputs": [],
   "source": [
    "%pip install wave\n",
    "%pip install librosa"
   ]
  },
  {
   "cell_type": "code",
   "execution_count": null,
   "metadata": {},
   "outputs": [],
   "source": [
    "import librosa\n",
    "import os\n",
    "import json\n",
    "import random\n",
    "from pydub import AudioSegment\n",
    "import wave\n",
    "import soundfile as sf"
   ]
  },
  {
   "attachments": {},
   "cell_type": "markdown",
   "metadata": {},
   "source": [
    "# Создание одной аудиозаписи длинной в час"
   ]
  },
  {
   "attachments": {},
   "cell_type": "markdown",
   "metadata": {},
   "source": [
    "## Сохраним пути ко всем записям"
   ]
  },
  {
   "cell_type": "code",
   "execution_count": 25,
   "metadata": {},
   "outputs": [],
   "source": [
    "file_path = './configs/wav/'\n",
    "paths = []\n",
    "\n",
    "for _, dirs, files in os.walk(file_path):\n",
    "    for i in dirs:\n",
    "        new_path = file_path + i + '/'\n",
    "        \n",
    "        for _, dirs2, files2 in os.walk(new_path):\n",
    "            for l in dirs2:\n",
    "                new_path2 = new_path + l + '/'\n",
    "                for _, _, files3 in os.walk(new_path2):\n",
    "                    for j in files3:\n",
    "                        paths.append(new_path2 + j)"
   ]
  },
  {
   "attachments": {},
   "cell_type": "markdown",
   "metadata": {},
   "source": [
    "## Перемешаем их, чтобы попадались разные спикеры"
   ]
  },
  {
   "cell_type": "code",
   "execution_count": 14,
   "metadata": {},
   "outputs": [],
   "source": [
    "random.shuffle(paths)"
   ]
  },
  {
   "attachments": {},
   "cell_type": "markdown",
   "metadata": {},
   "source": [
    "## Создаем длинную аудиозапись"
   ]
  },
  {
   "cell_type": "code",
   "execution_count": 31,
   "metadata": {},
   "outputs": [],
   "source": [
    "common_duration = 0\n",
    "out_audio = []\n",
    "iter = 0\n",
    "\n",
    "while common_duration < 3600.0:\n",
    "    w = wave.open(paths[iter], 'rb')\n",
    "    common_duration += w.getnframes() / w.getframerate()\n",
    "    out_audio.append( [w.getparams(), w.readframes(w.getnframes())] )\n",
    "    w.close()\n",
    "\n",
    "    iter += 1\n"
   ]
  },
  {
   "attachments": {},
   "cell_type": "markdown",
   "metadata": {},
   "source": [
    "Записываем ее и сохраняем"
   ]
  },
  {
   "cell_type": "code",
   "execution_count": 32,
   "metadata": {},
   "outputs": [],
   "source": [
    "output = wave.open('hour_far.wav', 'wb')\n",
    "output.setparams(out_audio[0][0])\n",
    "for i in range(len(out_audio)):\n",
    "    output.writeframes(out_audio[i][1])\n",
    "output.close()"
   ]
  },
  {
   "attachments": {},
   "cell_type": "markdown",
   "metadata": {},
   "source": [
    "# Разбиваем длинную аудиозапись на короткие в 1с со сдвигом окна в 0.5с"
   ]
  },
  {
   "cell_type": "code",
   "execution_count": 33,
   "metadata": {},
   "outputs": [
    {
     "name": "stdout",
     "output_type": "stream",
     "text": [
      "3623.46725\n"
     ]
    }
   ],
   "source": [
    "with wave.open('hour_far.wav') as mywav:\n",
    "    print(mywav.getnframes() / mywav.getframerate())\n"
   ]
  },
  {
   "cell_type": "code",
   "execution_count": 44,
   "metadata": {},
   "outputs": [],
   "source": [
    "data, sr = librosa.load('hour_far.wav', sr=22050)"
   ]
  },
  {
   "cell_type": "code",
   "execution_count": 45,
   "metadata": {},
   "outputs": [
    {
     "data": {
      "text/plain": [
       "3600.0"
      ]
     },
     "execution_count": 45,
     "metadata": {},
     "output_type": "execute_result"
    }
   ],
   "source": [
    "out_data = data[:3600 * 22050]\n",
    "len(out_data)/22050"
   ]
  },
  {
   "cell_type": "code",
   "execution_count": 46,
   "metadata": {},
   "outputs": [],
   "source": [
    "sf.write('hour_far_3600_22050.wav', out_data, 22050)"
   ]
  },
  {
   "cell_type": "code",
   "execution_count": 48,
   "metadata": {},
   "outputs": [],
   "source": [
    "data, sr = librosa.load('hour_far_3600_22050.wav', sr=22050)"
   ]
  },
  {
   "cell_type": "code",
   "execution_count": 50,
   "metadata": {},
   "outputs": [
    {
     "name": "stdout",
     "output_type": "stream",
     "text": [
      "mkdir: /farph: Read-only file system\n"
     ]
    }
   ],
   "source": [
    "%mkdir /farph"
   ]
  },
  {
   "cell_type": "code",
   "execution_count": 56,
   "metadata": {},
   "outputs": [],
   "source": [
    "for i in range(0, len(data) - 22050, 11025):\n",
    "    sf.write(f'./farph/hour_far_{i}.wav', data[i: i + 22050], 22050)"
   ]
  },
  {
   "cell_type": "code",
   "execution_count": 58,
   "metadata": {},
   "outputs": [
    {
     "data": {
      "text/plain": [
       "7198.0"
      ]
     },
     "execution_count": 58,
     "metadata": {},
     "output_type": "execute_result"
    }
   ],
   "source": [
    "file_path = './farph/'\n",
    "lenght = 0\n",
    "\n",
    "for _, dirs, files in os.walk(file_path):\n",
    "    for i in files:\n",
    "        with wave.open(file_path + i , 'rb') as w:\n",
    "            lenght += w.getnframes() / w.getframerate()\n",
    "\n",
    "lenght"
   ]
  }
 ],
 "metadata": {
  "kernelspec": {
   "display_name": "Python 3",
   "language": "python",
   "name": "python3"
  },
  "language_info": {
   "codemirror_mode": {
    "name": "ipython",
    "version": 3
   },
   "file_extension": ".py",
   "mimetype": "text/x-python",
   "name": "python",
   "nbconvert_exporter": "python",
   "pygments_lexer": "ipython3",
   "version": "3.10.4"
  },
  "orig_nbformat": 4
 },
 "nbformat": 4,
 "nbformat_minor": 2
}
